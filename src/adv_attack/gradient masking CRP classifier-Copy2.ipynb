{
 "cells": [
  {
   "cell_type": "markdown",
   "metadata": {},
   "source": [
    "## Siamese"
   ]
  },
  {
   "cell_type": "code",
   "execution_count": 1,
   "metadata": {},
   "outputs": [],
   "source": [
    "import os\n",
    "os.chdir('../../src/')"
   ]
  },
  {
   "cell_type": "code",
   "execution_count": 2,
   "metadata": {},
   "outputs": [],
   "source": [
    "import torch\n",
    "import torch.utils.data as data\n",
    "from PIL import Image, ImageOps\n",
    "import pickle\n",
    "import numpy as np\n",
    "from torchvision import transforms\n",
    "import json\n",
    "from credential_classifier.bit_pytorch.dataloader import HybridLoader\n",
    "from credential_classifier.bit_pytorch.models import KNOWN_MODELS\n",
    "from tqdm import tqdm\n",
    "os.environ[\"CUDA_VISIBLE_DEVICES\"]=\"0\""
   ]
  },
  {
   "cell_type": "markdown",
   "metadata": {},
   "source": [
    "- Define dataloader"
   ]
  },
  {
   "cell_type": "code",
   "execution_count": 3,
   "metadata": {},
   "outputs": [],
   "source": [
    "val_set = HybridLoader(img_folder='../datasets/val_merge_imgs',\n",
    "                         annot_path='../datasets/val_merge_coords.txt')\n",
    "\n",
    "valid_loader = torch.utils.data.DataLoader(\n",
    "  val_set, batch_size=1, shuffle=False, pin_memory=True, drop_last=False)"
   ]
  },
  {
   "cell_type": "code",
   "execution_count": 4,
   "metadata": {},
   "outputs": [
    {
     "data": {
      "text/plain": [
       "3731"
      ]
     },
     "execution_count": 4,
     "metadata": {},
     "output_type": "execute_result"
    }
   ],
   "source": [
    "len(valid_loader)"
   ]
  },
  {
   "cell_type": "markdown",
   "metadata": {},
   "source": [
    "- Accuracy function"
   ]
  },
  {
   "cell_type": "code",
   "execution_count": 15,
   "metadata": {
    "scrolled": true
   },
   "outputs": [],
   "source": [
    "def compute_acc(dataloader, model, device):\n",
    "    correct = 0\n",
    "    total = 0\n",
    "\n",
    "    for b, (x, y) in tqdm(enumerate(dataloader)):\n",
    "        with torch.no_grad():\n",
    "            x = x.to(device, non_blocking=True, dtype=torch.float)\n",
    "            y = y.to(device, non_blocking=True)\n",
    "            logits = model(x)\n",
    "            pred_cls = torch.argmax(logits, dim=1)\n",
    "\n",
    "            correct += torch.sum(torch.eq(pred_cls, y)).item()\n",
    "            total += y.shape[0]\n",
    "            \n",
    "    print('Accuracy after changing relu function: {:.2f}'.format(correct/total))    \n",
    "    return correct/total"
   ]
  },
  {
   "cell_type": "markdown",
   "metadata": {},
   "source": [
    "- Load model (original)"
   ]
  },
  {
   "cell_type": "code",
   "execution_count": 5,
   "metadata": {},
   "outputs": [
    {
     "data": {
      "text/plain": [
       "ResNetV2Coord(\n",
       "  (root): Sequential(\n",
       "    (conv): StdConv2d(8, 64, kernel_size=(7, 7), stride=(2, 2), padding=(3, 3), bias=False)\n",
       "    (pad): ConstantPad2d(padding=(1, 1, 1, 1), value=0)\n",
       "    (pool): MaxPool2d(kernel_size=3, stride=2, padding=0, dilation=1, ceil_mode=False)\n",
       "  )\n",
       "  (body): Sequential(\n",
       "    (block1): Sequential(\n",
       "      (unit01): PreActBottleneck(\n",
       "        (gn1): GroupNorm(32, 64, eps=1e-05, affine=True)\n",
       "        (conv1): StdConv2d(64, 64, kernel_size=(1, 1), stride=(1, 1), bias=False)\n",
       "        (gn2): GroupNorm(32, 64, eps=1e-05, affine=True)\n",
       "        (conv2): StdConv2d(64, 64, kernel_size=(3, 3), stride=(1, 1), padding=(1, 1), bias=False)\n",
       "        (gn3): GroupNorm(32, 64, eps=1e-05, affine=True)\n",
       "        (conv3): StdConv2d(64, 256, kernel_size=(1, 1), stride=(1, 1), bias=False)\n",
       "        (relu): ReLU(inplace=True)\n",
       "        (downsample): StdConv2d(64, 256, kernel_size=(1, 1), stride=(1, 1), bias=False)\n",
       "      )\n",
       "      (unit02): PreActBottleneck(\n",
       "        (gn1): GroupNorm(32, 256, eps=1e-05, affine=True)\n",
       "        (conv1): StdConv2d(256, 64, kernel_size=(1, 1), stride=(1, 1), bias=False)\n",
       "        (gn2): GroupNorm(32, 64, eps=1e-05, affine=True)\n",
       "        (conv2): StdConv2d(64, 64, kernel_size=(3, 3), stride=(1, 1), padding=(1, 1), bias=False)\n",
       "        (gn3): GroupNorm(32, 64, eps=1e-05, affine=True)\n",
       "        (conv3): StdConv2d(64, 256, kernel_size=(1, 1), stride=(1, 1), bias=False)\n",
       "        (relu): ReLU(inplace=True)\n",
       "      )\n",
       "      (unit03): PreActBottleneck(\n",
       "        (gn1): GroupNorm(32, 256, eps=1e-05, affine=True)\n",
       "        (conv1): StdConv2d(256, 64, kernel_size=(1, 1), stride=(1, 1), bias=False)\n",
       "        (gn2): GroupNorm(32, 64, eps=1e-05, affine=True)\n",
       "        (conv2): StdConv2d(64, 64, kernel_size=(3, 3), stride=(1, 1), padding=(1, 1), bias=False)\n",
       "        (gn3): GroupNorm(32, 64, eps=1e-05, affine=True)\n",
       "        (conv3): StdConv2d(64, 256, kernel_size=(1, 1), stride=(1, 1), bias=False)\n",
       "        (relu): ReLU(inplace=True)\n",
       "      )\n",
       "    )\n",
       "    (block2): Sequential(\n",
       "      (unit01): PreActBottleneck(\n",
       "        (gn1): GroupNorm(32, 256, eps=1e-05, affine=True)\n",
       "        (conv1): StdConv2d(256, 128, kernel_size=(1, 1), stride=(1, 1), bias=False)\n",
       "        (gn2): GroupNorm(32, 128, eps=1e-05, affine=True)\n",
       "        (conv2): StdConv2d(128, 128, kernel_size=(3, 3), stride=(2, 2), padding=(1, 1), bias=False)\n",
       "        (gn3): GroupNorm(32, 128, eps=1e-05, affine=True)\n",
       "        (conv3): StdConv2d(128, 512, kernel_size=(1, 1), stride=(1, 1), bias=False)\n",
       "        (relu): ReLU(inplace=True)\n",
       "        (downsample): StdConv2d(256, 512, kernel_size=(1, 1), stride=(2, 2), bias=False)\n",
       "      )\n",
       "      (unit02): PreActBottleneck(\n",
       "        (gn1): GroupNorm(32, 512, eps=1e-05, affine=True)\n",
       "        (conv1): StdConv2d(512, 128, kernel_size=(1, 1), stride=(1, 1), bias=False)\n",
       "        (gn2): GroupNorm(32, 128, eps=1e-05, affine=True)\n",
       "        (conv2): StdConv2d(128, 128, kernel_size=(3, 3), stride=(1, 1), padding=(1, 1), bias=False)\n",
       "        (gn3): GroupNorm(32, 128, eps=1e-05, affine=True)\n",
       "        (conv3): StdConv2d(128, 512, kernel_size=(1, 1), stride=(1, 1), bias=False)\n",
       "        (relu): ReLU(inplace=True)\n",
       "      )\n",
       "      (unit03): PreActBottleneck(\n",
       "        (gn1): GroupNorm(32, 512, eps=1e-05, affine=True)\n",
       "        (conv1): StdConv2d(512, 128, kernel_size=(1, 1), stride=(1, 1), bias=False)\n",
       "        (gn2): GroupNorm(32, 128, eps=1e-05, affine=True)\n",
       "        (conv2): StdConv2d(128, 128, kernel_size=(3, 3), stride=(1, 1), padding=(1, 1), bias=False)\n",
       "        (gn3): GroupNorm(32, 128, eps=1e-05, affine=True)\n",
       "        (conv3): StdConv2d(128, 512, kernel_size=(1, 1), stride=(1, 1), bias=False)\n",
       "        (relu): ReLU(inplace=True)\n",
       "      )\n",
       "      (unit04): PreActBottleneck(\n",
       "        (gn1): GroupNorm(32, 512, eps=1e-05, affine=True)\n",
       "        (conv1): StdConv2d(512, 128, kernel_size=(1, 1), stride=(1, 1), bias=False)\n",
       "        (gn2): GroupNorm(32, 128, eps=1e-05, affine=True)\n",
       "        (conv2): StdConv2d(128, 128, kernel_size=(3, 3), stride=(1, 1), padding=(1, 1), bias=False)\n",
       "        (gn3): GroupNorm(32, 128, eps=1e-05, affine=True)\n",
       "        (conv3): StdConv2d(128, 512, kernel_size=(1, 1), stride=(1, 1), bias=False)\n",
       "        (relu): ReLU(inplace=True)\n",
       "      )\n",
       "    )\n",
       "    (block3): Sequential(\n",
       "      (unit01): PreActBottleneck(\n",
       "        (gn1): GroupNorm(32, 512, eps=1e-05, affine=True)\n",
       "        (conv1): StdConv2d(512, 256, kernel_size=(1, 1), stride=(1, 1), bias=False)\n",
       "        (gn2): GroupNorm(32, 256, eps=1e-05, affine=True)\n",
       "        (conv2): StdConv2d(256, 256, kernel_size=(3, 3), stride=(2, 2), padding=(1, 1), bias=False)\n",
       "        (gn3): GroupNorm(32, 256, eps=1e-05, affine=True)\n",
       "        (conv3): StdConv2d(256, 1024, kernel_size=(1, 1), stride=(1, 1), bias=False)\n",
       "        (relu): ReLU(inplace=True)\n",
       "        (downsample): StdConv2d(512, 1024, kernel_size=(1, 1), stride=(2, 2), bias=False)\n",
       "      )\n",
       "      (unit02): PreActBottleneck(\n",
       "        (gn1): GroupNorm(32, 1024, eps=1e-05, affine=True)\n",
       "        (conv1): StdConv2d(1024, 256, kernel_size=(1, 1), stride=(1, 1), bias=False)\n",
       "        (gn2): GroupNorm(32, 256, eps=1e-05, affine=True)\n",
       "        (conv2): StdConv2d(256, 256, kernel_size=(3, 3), stride=(1, 1), padding=(1, 1), bias=False)\n",
       "        (gn3): GroupNorm(32, 256, eps=1e-05, affine=True)\n",
       "        (conv3): StdConv2d(256, 1024, kernel_size=(1, 1), stride=(1, 1), bias=False)\n",
       "        (relu): ReLU(inplace=True)\n",
       "      )\n",
       "      (unit03): PreActBottleneck(\n",
       "        (gn1): GroupNorm(32, 1024, eps=1e-05, affine=True)\n",
       "        (conv1): StdConv2d(1024, 256, kernel_size=(1, 1), stride=(1, 1), bias=False)\n",
       "        (gn2): GroupNorm(32, 256, eps=1e-05, affine=True)\n",
       "        (conv2): StdConv2d(256, 256, kernel_size=(3, 3), stride=(1, 1), padding=(1, 1), bias=False)\n",
       "        (gn3): GroupNorm(32, 256, eps=1e-05, affine=True)\n",
       "        (conv3): StdConv2d(256, 1024, kernel_size=(1, 1), stride=(1, 1), bias=False)\n",
       "        (relu): ReLU(inplace=True)\n",
       "      )\n",
       "      (unit04): PreActBottleneck(\n",
       "        (gn1): GroupNorm(32, 1024, eps=1e-05, affine=True)\n",
       "        (conv1): StdConv2d(1024, 256, kernel_size=(1, 1), stride=(1, 1), bias=False)\n",
       "        (gn2): GroupNorm(32, 256, eps=1e-05, affine=True)\n",
       "        (conv2): StdConv2d(256, 256, kernel_size=(3, 3), stride=(1, 1), padding=(1, 1), bias=False)\n",
       "        (gn3): GroupNorm(32, 256, eps=1e-05, affine=True)\n",
       "        (conv3): StdConv2d(256, 1024, kernel_size=(1, 1), stride=(1, 1), bias=False)\n",
       "        (relu): ReLU(inplace=True)\n",
       "      )\n",
       "      (unit05): PreActBottleneck(\n",
       "        (gn1): GroupNorm(32, 1024, eps=1e-05, affine=True)\n",
       "        (conv1): StdConv2d(1024, 256, kernel_size=(1, 1), stride=(1, 1), bias=False)\n",
       "        (gn2): GroupNorm(32, 256, eps=1e-05, affine=True)\n",
       "        (conv2): StdConv2d(256, 256, kernel_size=(3, 3), stride=(1, 1), padding=(1, 1), bias=False)\n",
       "        (gn3): GroupNorm(32, 256, eps=1e-05, affine=True)\n",
       "        (conv3): StdConv2d(256, 1024, kernel_size=(1, 1), stride=(1, 1), bias=False)\n",
       "        (relu): ReLU(inplace=True)\n",
       "      )\n",
       "      (unit06): PreActBottleneck(\n",
       "        (gn1): GroupNorm(32, 1024, eps=1e-05, affine=True)\n",
       "        (conv1): StdConv2d(1024, 256, kernel_size=(1, 1), stride=(1, 1), bias=False)\n",
       "        (gn2): GroupNorm(32, 256, eps=1e-05, affine=True)\n",
       "        (conv2): StdConv2d(256, 256, kernel_size=(3, 3), stride=(1, 1), padding=(1, 1), bias=False)\n",
       "        (gn3): GroupNorm(32, 256, eps=1e-05, affine=True)\n",
       "        (conv3): StdConv2d(256, 1024, kernel_size=(1, 1), stride=(1, 1), bias=False)\n",
       "        (relu): ReLU(inplace=True)\n",
       "      )\n",
       "    )\n",
       "    (block4): Sequential(\n",
       "      (unit01): PreActBottleneck(\n",
       "        (gn1): GroupNorm(32, 1024, eps=1e-05, affine=True)\n",
       "        (conv1): StdConv2d(1024, 512, kernel_size=(1, 1), stride=(1, 1), bias=False)\n",
       "        (gn2): GroupNorm(32, 512, eps=1e-05, affine=True)\n",
       "        (conv2): StdConv2d(512, 512, kernel_size=(3, 3), stride=(2, 2), padding=(1, 1), bias=False)\n",
       "        (gn3): GroupNorm(32, 512, eps=1e-05, affine=True)\n",
       "        (conv3): StdConv2d(512, 2048, kernel_size=(1, 1), stride=(1, 1), bias=False)\n",
       "        (relu): ReLU(inplace=True)\n",
       "        (downsample): StdConv2d(1024, 2048, kernel_size=(1, 1), stride=(2, 2), bias=False)\n",
       "      )\n",
       "      (unit02): PreActBottleneck(\n",
       "        (gn1): GroupNorm(32, 2048, eps=1e-05, affine=True)\n",
       "        (conv1): StdConv2d(2048, 512, kernel_size=(1, 1), stride=(1, 1), bias=False)\n",
       "        (gn2): GroupNorm(32, 512, eps=1e-05, affine=True)\n",
       "        (conv2): StdConv2d(512, 512, kernel_size=(3, 3), stride=(1, 1), padding=(1, 1), bias=False)\n",
       "        (gn3): GroupNorm(32, 512, eps=1e-05, affine=True)\n",
       "        (conv3): StdConv2d(512, 2048, kernel_size=(1, 1), stride=(1, 1), bias=False)\n",
       "        (relu): ReLU(inplace=True)\n",
       "      )\n",
       "      (unit03): PreActBottleneck(\n",
       "        (gn1): GroupNorm(32, 2048, eps=1e-05, affine=True)\n",
       "        (conv1): StdConv2d(2048, 512, kernel_size=(1, 1), stride=(1, 1), bias=False)\n",
       "        (gn2): GroupNorm(32, 512, eps=1e-05, affine=True)\n",
       "        (conv2): StdConv2d(512, 512, kernel_size=(3, 3), stride=(1, 1), padding=(1, 1), bias=False)\n",
       "        (gn3): GroupNorm(32, 512, eps=1e-05, affine=True)\n",
       "        (conv3): StdConv2d(512, 2048, kernel_size=(1, 1), stride=(1, 1), bias=False)\n",
       "        (relu): ReLU(inplace=True)\n",
       "      )\n",
       "    )\n",
       "  )\n",
       "  (head): Sequential(\n",
       "    (gn): GroupNorm(32, 2048, eps=1e-05, affine=True)\n",
       "    (relu): ReLU(inplace=True)\n",
       "    (avg): AdaptiveAvgPool2d(output_size=1)\n",
       "    (conv): Conv2d(2048, 2, kernel_size=(1, 1), stride=(1, 1))\n",
       "  )\n",
       ")"
      ]
     },
     "execution_count": 5,
     "metadata": {},
     "output_type": "execute_result"
    }
   ],
   "source": [
    "device = torch.device(\"cuda\" if torch.cuda.is_available() else \"cpu\")\n",
    "# Initialize model\n",
    "model = KNOWN_MODELS[\"BiT-M-R50x1V2\"](head_size=2, zero_head=True)\n",
    "\n",
    "# Load weights\n",
    "checkpoint = torch.load('/home/l/liny/ruofan/PhishIntention/src/credential_classifier/output/hybrid/hybrid_lr0.005/BiT-M-R50x1V2_0.005.pth.tar', \n",
    "                        map_location=\"cpu\")[\"model\"]\n",
    "\n",
    "from collections import OrderedDict\n",
    "new_state_dict = OrderedDict()\n",
    "for k, v in checkpoint.items():\n",
    "    name = k[7:] # remove `module.`\n",
    "    new_state_dict[name] = v\n",
    "\n",
    "model.load_state_dict(new_state_dict)\n",
    "\n",
    "model.to(device)\n",
    "model.eval()"
   ]
  },
  {
   "cell_type": "code",
   "execution_count": 16,
   "metadata": {
    "scrolled": true
   },
   "outputs": [
    {
     "name": "stderr",
     "output_type": "stream",
     "text": [
      "3731it [11:43,  5.31it/s]"
     ]
    },
    {
     "name": "stdout",
     "output_type": "stream",
     "text": [
      "Accuracy after changing relu function: 0.95\n"
     ]
    },
    {
     "name": "stderr",
     "output_type": "stream",
     "text": [
      "\n"
     ]
    },
    {
     "data": {
      "text/plain": [
       "0.9471991423210936"
      ]
     },
     "execution_count": 16,
     "metadata": {},
     "output_type": "execute_result"
    }
   ],
   "source": [
    "compute_acc(valid_loader, model, device)"
   ]
  },
  {
   "cell_type": "markdown",
   "metadata": {},
   "source": [
    "## Load model (change activation function)"
   ]
  },
  {
   "cell_type": "code",
   "execution_count": 8,
   "metadata": {},
   "outputs": [],
   "source": [
    "import torch\n",
    "import torch.nn.functional as F\n",
    "from torch import nn"
   ]
  },
  {
   "cell_type": "code",
   "execution_count": 9,
   "metadata": {},
   "outputs": [],
   "source": [
    "class QuantizeRelu(nn.Module):\n",
    "    def __init__(self, step_size = 0.01):\n",
    "        super().__init__()\n",
    "        self.step_size = step_size\n",
    "\n",
    "    def forward(self, x):\n",
    "        mask = torch.ge(x, 0).bool() # mask for positive values\n",
    "        quantize = torch.ones_like(x) * self.step_size\n",
    "        out = torch.mul(torch.floor(torch.div(x, quantize)), self.step_size) # quantize by step_size\n",
    "        out = torch.mul(out, mask) # zero-out negative values\n",
    "        out = torch.abs(out) # remove sign\n",
    "        return out"
   ]
  },
  {
   "cell_type": "code",
   "execution_count": 18,
   "metadata": {},
   "outputs": [
    {
     "data": {
      "text/plain": [
       "ResNetV2(\n",
       "  (root): Sequential(\n",
       "    (conv): StdConv2d(3, 64, kernel_size=(7, 7), stride=(2, 2), padding=(3, 3), bias=False)\n",
       "    (pad): ConstantPad2d(padding=(1, 1, 1, 1), value=0)\n",
       "    (pool): MaxPool2d(kernel_size=3, stride=2, padding=0, dilation=1, ceil_mode=False)\n",
       "  )\n",
       "  (body): Sequential(\n",
       "    (block1): Sequential(\n",
       "      (unit01): PreActBottleneck(\n",
       "        (gn1): GroupNorm(32, 64, eps=1e-05, affine=True)\n",
       "        (conv1): StdConv2d(64, 64, kernel_size=(1, 1), stride=(1, 1), bias=False)\n",
       "        (gn2): GroupNorm(32, 64, eps=1e-05, affine=True)\n",
       "        (conv2): StdConv2d(64, 64, kernel_size=(3, 3), stride=(1, 1), padding=(1, 1), bias=False)\n",
       "        (gn3): GroupNorm(32, 64, eps=1e-05, affine=True)\n",
       "        (conv3): StdConv2d(64, 256, kernel_size=(1, 1), stride=(1, 1), bias=False)\n",
       "        (relu): ReLU(inplace=True)\n",
       "        (downsample): StdConv2d(64, 256, kernel_size=(1, 1), stride=(1, 1), bias=False)\n",
       "      )\n",
       "      (unit02): PreActBottleneck(\n",
       "        (gn1): GroupNorm(32, 256, eps=1e-05, affine=True)\n",
       "        (conv1): StdConv2d(256, 64, kernel_size=(1, 1), stride=(1, 1), bias=False)\n",
       "        (gn2): GroupNorm(32, 64, eps=1e-05, affine=True)\n",
       "        (conv2): StdConv2d(64, 64, kernel_size=(3, 3), stride=(1, 1), padding=(1, 1), bias=False)\n",
       "        (gn3): GroupNorm(32, 64, eps=1e-05, affine=True)\n",
       "        (conv3): StdConv2d(64, 256, kernel_size=(1, 1), stride=(1, 1), bias=False)\n",
       "        (relu): ReLU(inplace=True)\n",
       "      )\n",
       "      (unit03): PreActBottleneck(\n",
       "        (gn1): GroupNorm(32, 256, eps=1e-05, affine=True)\n",
       "        (conv1): StdConv2d(256, 64, kernel_size=(1, 1), stride=(1, 1), bias=False)\n",
       "        (gn2): GroupNorm(32, 64, eps=1e-05, affine=True)\n",
       "        (conv2): StdConv2d(64, 64, kernel_size=(3, 3), stride=(1, 1), padding=(1, 1), bias=False)\n",
       "        (gn3): GroupNorm(32, 64, eps=1e-05, affine=True)\n",
       "        (conv3): StdConv2d(64, 256, kernel_size=(1, 1), stride=(1, 1), bias=False)\n",
       "        (relu): ReLU(inplace=True)\n",
       "      )\n",
       "    )\n",
       "    (block2): Sequential(\n",
       "      (unit01): PreActBottleneck(\n",
       "        (gn1): GroupNorm(32, 256, eps=1e-05, affine=True)\n",
       "        (conv1): StdConv2d(256, 128, kernel_size=(1, 1), stride=(1, 1), bias=False)\n",
       "        (gn2): GroupNorm(32, 128, eps=1e-05, affine=True)\n",
       "        (conv2): StdConv2d(128, 128, kernel_size=(3, 3), stride=(2, 2), padding=(1, 1), bias=False)\n",
       "        (gn3): GroupNorm(32, 128, eps=1e-05, affine=True)\n",
       "        (conv3): StdConv2d(128, 512, kernel_size=(1, 1), stride=(1, 1), bias=False)\n",
       "        (relu): ReLU(inplace=True)\n",
       "        (downsample): StdConv2d(256, 512, kernel_size=(1, 1), stride=(2, 2), bias=False)\n",
       "      )\n",
       "      (unit02): PreActBottleneck(\n",
       "        (gn1): GroupNorm(32, 512, eps=1e-05, affine=True)\n",
       "        (conv1): StdConv2d(512, 128, kernel_size=(1, 1), stride=(1, 1), bias=False)\n",
       "        (gn2): GroupNorm(32, 128, eps=1e-05, affine=True)\n",
       "        (conv2): StdConv2d(128, 128, kernel_size=(3, 3), stride=(1, 1), padding=(1, 1), bias=False)\n",
       "        (gn3): GroupNorm(32, 128, eps=1e-05, affine=True)\n",
       "        (conv3): StdConv2d(128, 512, kernel_size=(1, 1), stride=(1, 1), bias=False)\n",
       "        (relu): ReLU(inplace=True)\n",
       "      )\n",
       "      (unit03): PreActBottleneck(\n",
       "        (gn1): GroupNorm(32, 512, eps=1e-05, affine=True)\n",
       "        (conv1): StdConv2d(512, 128, kernel_size=(1, 1), stride=(1, 1), bias=False)\n",
       "        (gn2): GroupNorm(32, 128, eps=1e-05, affine=True)\n",
       "        (conv2): StdConv2d(128, 128, kernel_size=(3, 3), stride=(1, 1), padding=(1, 1), bias=False)\n",
       "        (gn3): GroupNorm(32, 128, eps=1e-05, affine=True)\n",
       "        (conv3): StdConv2d(128, 512, kernel_size=(1, 1), stride=(1, 1), bias=False)\n",
       "        (relu): ReLU(inplace=True)\n",
       "      )\n",
       "      (unit04): PreActBottleneck(\n",
       "        (gn1): GroupNorm(32, 512, eps=1e-05, affine=True)\n",
       "        (conv1): StdConv2d(512, 128, kernel_size=(1, 1), stride=(1, 1), bias=False)\n",
       "        (gn2): GroupNorm(32, 128, eps=1e-05, affine=True)\n",
       "        (conv2): StdConv2d(128, 128, kernel_size=(3, 3), stride=(1, 1), padding=(1, 1), bias=False)\n",
       "        (gn3): GroupNorm(32, 128, eps=1e-05, affine=True)\n",
       "        (conv3): StdConv2d(128, 512, kernel_size=(1, 1), stride=(1, 1), bias=False)\n",
       "        (relu): ReLU(inplace=True)\n",
       "      )\n",
       "    )\n",
       "    (block3): Sequential(\n",
       "      (unit01): PreActBottleneck(\n",
       "        (gn1): GroupNorm(32, 512, eps=1e-05, affine=True)\n",
       "        (conv1): StdConv2d(512, 256, kernel_size=(1, 1), stride=(1, 1), bias=False)\n",
       "        (gn2): GroupNorm(32, 256, eps=1e-05, affine=True)\n",
       "        (conv2): StdConv2d(256, 256, kernel_size=(3, 3), stride=(2, 2), padding=(1, 1), bias=False)\n",
       "        (gn3): GroupNorm(32, 256, eps=1e-05, affine=True)\n",
       "        (conv3): StdConv2d(256, 1024, kernel_size=(1, 1), stride=(1, 1), bias=False)\n",
       "        (relu): ReLU(inplace=True)\n",
       "        (downsample): StdConv2d(512, 1024, kernel_size=(1, 1), stride=(2, 2), bias=False)\n",
       "      )\n",
       "      (unit02): PreActBottleneck(\n",
       "        (gn1): GroupNorm(32, 1024, eps=1e-05, affine=True)\n",
       "        (conv1): StdConv2d(1024, 256, kernel_size=(1, 1), stride=(1, 1), bias=False)\n",
       "        (gn2): GroupNorm(32, 256, eps=1e-05, affine=True)\n",
       "        (conv2): StdConv2d(256, 256, kernel_size=(3, 3), stride=(1, 1), padding=(1, 1), bias=False)\n",
       "        (gn3): GroupNorm(32, 256, eps=1e-05, affine=True)\n",
       "        (conv3): StdConv2d(256, 1024, kernel_size=(1, 1), stride=(1, 1), bias=False)\n",
       "        (relu): ReLU(inplace=True)\n",
       "      )\n",
       "      (unit03): PreActBottleneck(\n",
       "        (gn1): GroupNorm(32, 1024, eps=1e-05, affine=True)\n",
       "        (conv1): StdConv2d(1024, 256, kernel_size=(1, 1), stride=(1, 1), bias=False)\n",
       "        (gn2): GroupNorm(32, 256, eps=1e-05, affine=True)\n",
       "        (conv2): StdConv2d(256, 256, kernel_size=(3, 3), stride=(1, 1), padding=(1, 1), bias=False)\n",
       "        (gn3): GroupNorm(32, 256, eps=1e-05, affine=True)\n",
       "        (conv3): StdConv2d(256, 1024, kernel_size=(1, 1), stride=(1, 1), bias=False)\n",
       "        (relu): ReLU(inplace=True)\n",
       "      )\n",
       "      (unit04): PreActBottleneck(\n",
       "        (gn1): GroupNorm(32, 1024, eps=1e-05, affine=True)\n",
       "        (conv1): StdConv2d(1024, 256, kernel_size=(1, 1), stride=(1, 1), bias=False)\n",
       "        (gn2): GroupNorm(32, 256, eps=1e-05, affine=True)\n",
       "        (conv2): StdConv2d(256, 256, kernel_size=(3, 3), stride=(1, 1), padding=(1, 1), bias=False)\n",
       "        (gn3): GroupNorm(32, 256, eps=1e-05, affine=True)\n",
       "        (conv3): StdConv2d(256, 1024, kernel_size=(1, 1), stride=(1, 1), bias=False)\n",
       "        (relu): ReLU(inplace=True)\n",
       "      )\n",
       "      (unit05): PreActBottleneck(\n",
       "        (gn1): GroupNorm(32, 1024, eps=1e-05, affine=True)\n",
       "        (conv1): StdConv2d(1024, 256, kernel_size=(1, 1), stride=(1, 1), bias=False)\n",
       "        (gn2): GroupNorm(32, 256, eps=1e-05, affine=True)\n",
       "        (conv2): StdConv2d(256, 256, kernel_size=(3, 3), stride=(1, 1), padding=(1, 1), bias=False)\n",
       "        (gn3): GroupNorm(32, 256, eps=1e-05, affine=True)\n",
       "        (conv3): StdConv2d(256, 1024, kernel_size=(1, 1), stride=(1, 1), bias=False)\n",
       "        (relu): ReLU(inplace=True)\n",
       "      )\n",
       "      (unit06): PreActBottleneck(\n",
       "        (gn1): GroupNorm(32, 1024, eps=1e-05, affine=True)\n",
       "        (conv1): StdConv2d(1024, 256, kernel_size=(1, 1), stride=(1, 1), bias=False)\n",
       "        (gn2): GroupNorm(32, 256, eps=1e-05, affine=True)\n",
       "        (conv2): StdConv2d(256, 256, kernel_size=(3, 3), stride=(1, 1), padding=(1, 1), bias=False)\n",
       "        (gn3): GroupNorm(32, 256, eps=1e-05, affine=True)\n",
       "        (conv3): StdConv2d(256, 1024, kernel_size=(1, 1), stride=(1, 1), bias=False)\n",
       "        (relu): ReLU(inplace=True)\n",
       "      )\n",
       "    )\n",
       "    (block4): Sequential(\n",
       "      (unit01): PreActBottleneck(\n",
       "        (gn1): GroupNorm(32, 1024, eps=1e-05, affine=True)\n",
       "        (conv1): StdConv2d(1024, 512, kernel_size=(1, 1), stride=(1, 1), bias=False)\n",
       "        (gn2): GroupNorm(32, 512, eps=1e-05, affine=True)\n",
       "        (conv2): StdConv2d(512, 512, kernel_size=(3, 3), stride=(2, 2), padding=(1, 1), bias=False)\n",
       "        (gn3): GroupNorm(32, 512, eps=1e-05, affine=True)\n",
       "        (conv3): StdConv2d(512, 2048, kernel_size=(1, 1), stride=(1, 1), bias=False)\n",
       "        (relu): QuantizeRelu()\n",
       "        (downsample): StdConv2d(1024, 2048, kernel_size=(1, 1), stride=(2, 2), bias=False)\n",
       "      )\n",
       "      (unit02): PreActBottleneck(\n",
       "        (gn1): GroupNorm(32, 2048, eps=1e-05, affine=True)\n",
       "        (conv1): StdConv2d(2048, 512, kernel_size=(1, 1), stride=(1, 1), bias=False)\n",
       "        (gn2): GroupNorm(32, 512, eps=1e-05, affine=True)\n",
       "        (conv2): StdConv2d(512, 512, kernel_size=(3, 3), stride=(1, 1), padding=(1, 1), bias=False)\n",
       "        (gn3): GroupNorm(32, 512, eps=1e-05, affine=True)\n",
       "        (conv3): StdConv2d(512, 2048, kernel_size=(1, 1), stride=(1, 1), bias=False)\n",
       "        (relu): QuantizeRelu()\n",
       "      )\n",
       "      (unit03): PreActBottleneck(\n",
       "        (gn1): GroupNorm(32, 2048, eps=1e-05, affine=True)\n",
       "        (conv1): StdConv2d(2048, 512, kernel_size=(1, 1), stride=(1, 1), bias=False)\n",
       "        (gn2): GroupNorm(32, 512, eps=1e-05, affine=True)\n",
       "        (conv2): StdConv2d(512, 512, kernel_size=(3, 3), stride=(1, 1), padding=(1, 1), bias=False)\n",
       "        (gn3): GroupNorm(32, 512, eps=1e-05, affine=True)\n",
       "        (conv3): StdConv2d(512, 2048, kernel_size=(1, 1), stride=(1, 1), bias=False)\n",
       "        (relu): QuantizeRelu()\n",
       "      )\n",
       "    )\n",
       "  )\n",
       "  (head): Sequential(\n",
       "    (gn): GroupNorm(32, 2048, eps=1e-05, affine=True)\n",
       "    (relu): ReLU(inplace=True)\n",
       "    (avg): AdaptiveAvgPool2d(output_size=1)\n",
       "    (conv): Conv2d(2048, 180, kernel_size=(1, 1), stride=(1, 1))\n",
       "  )\n",
       ")"
      ]
     },
     "execution_count": 18,
     "metadata": {},
     "output_type": "execute_result"
    }
   ],
   "source": [
    "device = torch.device(\"cuda\" if torch.cuda.is_available() else \"cpu\")\n",
    "# Initialize model\n",
    "model = KNOWN_MODELS[\"BiT-M-R50x1\"](head_size=180, zero_head=True)\n",
    "# Load weights\n",
    "model.load_state_dict(torch.load('/home/l/liny/ruofan/phishpedia/siamese/checkpoints/resnetv2_rgb.pth', map_location=device))\n",
    "\n",
    "# replace relu with defenselayer \n",
    "# model.body.block1.unit01.relu = QuantizeRelu()\n",
    "# model.body.block1.unit02.relu = QuantizeRelu()\n",
    "# model.body.block1.unit03.relu = QuantizeRelu()\n",
    "\n",
    "# model.body.block2.unit01.relu = QuantizeRelu()\n",
    "# model.body.block2.unit02.relu = QuantizeRelu()\n",
    "# model.body.block2.unit03.relu = QuantizeRelu()\n",
    "# model.body.block2.unit04.relu = QuantizeRelu()\n",
    "\n",
    "# model.body.block3.unit01.relu = QuantizeRelu()\n",
    "# model.body.block3.unit02.relu = QuantizeRelu()\n",
    "# model.body.block3.unit03.relu = QuantizeRelu()\n",
    "# model.body.block3.unit04.relu = QuantizeRelu()\n",
    "# model.body.block3.unit05.relu = QuantizeRelu()\n",
    "# model.body.block3.unit06.relu = QuantizeRelu()\n",
    "\n",
    "model.body.block4.unit01.relu = QuantizeRelu()\n",
    "model.body.block4.unit02.relu = QuantizeRelu()\n",
    "model.body.block4.unit03.relu = QuantizeRelu()\n",
    "\n",
    "model.to(device)\n",
    "model.eval()"
   ]
  },
  {
   "cell_type": "code",
   "execution_count": 19,
   "metadata": {
    "scrolled": true
   },
   "outputs": [
    {
     "name": "stdout",
     "output_type": "stream",
     "text": [
      "Accuracy after changing relu function: 0.93\n"
     ]
    },
    {
     "data": {
      "text/plain": [
       "0.9345417925478349"
      ]
     },
     "execution_count": 19,
     "metadata": {},
     "output_type": "execute_result"
    }
   ],
   "source": [
    "# compute_acc(valid_loader, model, device)"
   ]
  },
  {
   "cell_type": "markdown",
   "metadata": {},
   "source": [
    "## Attack"
   ]
  },
  {
   "cell_type": "code",
   "execution_count": null,
   "metadata": {
    "scrolled": true
   },
   "outputs": [
    {
     "name": "stdout",
     "output_type": "stream",
     "text": [
      "- Learning Progress : 99.80 % \r"
     ]
    },
    {
     "name": "stderr",
     "output_type": "stream",
     "text": [
      "\r",
      "5it [05:30, 74.31s/it]"
     ]
    },
    {
     "name": "stdout",
     "output_type": "stream",
     "text": [
      "4 Learning Progress : 100.00 % \n",
      "Test Accuracy = 0.8\n",
      "- Learning Progress : 99.70 % \r"
     ]
    },
    {
     "name": "stderr",
     "output_type": "stream",
     "text": [
      "\r",
      "6it [06:56, 77.86s/it]"
     ]
    },
    {
     "name": "stdout",
     "output_type": "stream",
     "text": [
      "5 Learning Progress : 100.00 % \n",
      "Test Accuracy = 0.8333333333333334\n",
      "- Learning Progress : 99.90 % \r"
     ]
    },
    {
     "name": "stderr",
     "output_type": "stream",
     "text": [
      "\r",
      "7it [08:20, 79.54s/it]"
     ]
    },
    {
     "name": "stdout",
     "output_type": "stream",
     "text": [
      "6 Learning Progress : 100.00 % \n",
      "Test Accuracy = 0.8571428571428571\n",
      "- Learning Progress : 99.80 % \r"
     ]
    },
    {
     "name": "stderr",
     "output_type": "stream",
     "text": [
      "\r",
      "8it [09:43, 80.50s/it]"
     ]
    },
    {
     "name": "stdout",
     "output_type": "stream",
     "text": [
      "7 Learning Progress : 100.00 % \n",
      "Test Accuracy = 0.875\n",
      "- Learning Progress : 99.90 % \r"
     ]
    },
    {
     "name": "stderr",
     "output_type": "stream",
     "text": [
      "\r",
      "9it [11:06, 81.33s/it]"
     ]
    },
    {
     "name": "stdout",
     "output_type": "stream",
     "text": [
      "8 Learning Progress : 100.00 % \n",
      "Test Accuracy = 0.8888888888888888\n",
      "- Learning Progress : 99.70 % \r"
     ]
    },
    {
     "name": "stderr",
     "output_type": "stream",
     "text": [
      "\r",
      "10it [12:32, 82.73s/it]"
     ]
    },
    {
     "name": "stdout",
     "output_type": "stream",
     "text": [
      "9 Learning Progress : 100.00 % \n",
      "Test Accuracy = 0.9\n",
      "- Learning Progress : 99.80 % \r"
     ]
    },
    {
     "name": "stderr",
     "output_type": "stream",
     "text": [
      "\r",
      "11it [13:55, 82.89s/it]"
     ]
    },
    {
     "name": "stdout",
     "output_type": "stream",
     "text": [
      "10Learning Progress : 100.00 % \n",
      "Test Accuracy = 0.9090909090909091\n",
      "- Learning Progress : 99.90 % \r"
     ]
    },
    {
     "name": "stderr",
     "output_type": "stream",
     "text": [
      "\r",
      "12it [15:22, 84.09s/it]"
     ]
    },
    {
     "name": "stdout",
     "output_type": "stream",
     "text": [
      "11Learning Progress : 100.00 % \n",
      "Test Accuracy = 0.9166666666666666\n",
      "- Learning Progress : 99.80 % \r"
     ]
    },
    {
     "name": "stderr",
     "output_type": "stream",
     "text": [
      "\r",
      "13it [16:48, 84.61s/it]"
     ]
    },
    {
     "name": "stdout",
     "output_type": "stream",
     "text": [
      "12Learning Progress : 100.00 % \n",
      "Test Accuracy = 0.9230769230769231\n",
      "- Learning Progress : 99.90 % \r"
     ]
    },
    {
     "name": "stderr",
     "output_type": "stream",
     "text": [
      "\r",
      "14it [18:06, 82.62s/it]"
     ]
    },
    {
     "name": "stdout",
     "output_type": "stream",
     "text": [
      "13Learning Progress : 100.00 % \n",
      "Test Accuracy = 0.9285714285714286\n",
      "- Learning Progress : 99.90 % \r"
     ]
    },
    {
     "name": "stderr",
     "output_type": "stream",
     "text": [
      "\r",
      "15it [19:27, 82.05s/it]"
     ]
    },
    {
     "name": "stdout",
     "output_type": "stream",
     "text": [
      "14Learning Progress : 100.00 % \n",
      "Test Accuracy = 0.9333333333333333\n",
      "- Learning Progress : 99.70 % \r"
     ]
    },
    {
     "name": "stderr",
     "output_type": "stream",
     "text": [
      "\r",
      "16it [20:46, 81.31s/it]"
     ]
    },
    {
     "name": "stdout",
     "output_type": "stream",
     "text": [
      "15Learning Progress : 100.00 % \n",
      "Test Accuracy = 0.9375\n",
      "- Learning Progress : 99.70 % \r"
     ]
    },
    {
     "name": "stderr",
     "output_type": "stream",
     "text": [
      "\r",
      "17it [22:12, 82.69s/it]"
     ]
    },
    {
     "name": "stdout",
     "output_type": "stream",
     "text": [
      "16Learning Progress : 100.00 % \n",
      "Test Accuracy = 0.9411764705882353\n",
      "- Learning Progress : 99.70 % \r"
     ]
    },
    {
     "name": "stderr",
     "output_type": "stream",
     "text": [
      "\r",
      "18it [23:36, 83.15s/it]"
     ]
    },
    {
     "name": "stdout",
     "output_type": "stream",
     "text": [
      "17Learning Progress : 100.00 % \n",
      "Test Accuracy = 0.9444444444444444\n",
      "- Learning Progress : 99.90 % \r"
     ]
    },
    {
     "name": "stderr",
     "output_type": "stream",
     "text": [
      "\r",
      "19it [25:02, 83.88s/it]"
     ]
    },
    {
     "name": "stdout",
     "output_type": "stream",
     "text": [
      "18Learning Progress : 100.00 % \n",
      "Test Accuracy = 0.9473684210526315\n",
      "- Learning Progress : 99.90 % \r"
     ]
    },
    {
     "name": "stderr",
     "output_type": "stream",
     "text": [
      "\r",
      "20it [26:24, 83.43s/it]"
     ]
    },
    {
     "name": "stdout",
     "output_type": "stream",
     "text": [
      "19Learning Progress : 100.00 % \n",
      "Test Accuracy = 0.95\n",
      "- Learning Progress : 99.90 % \r"
     ]
    },
    {
     "name": "stderr",
     "output_type": "stream",
     "text": [
      "\r",
      "21it [27:33, 79.10s/it]"
     ]
    },
    {
     "name": "stdout",
     "output_type": "stream",
     "text": [
      "20Learning Progress : 100.00 % \n",
      "Test Accuracy = 0.9523809523809523\n",
      "- Learning Progress : 99.90 % \r"
     ]
    },
    {
     "name": "stderr",
     "output_type": "stream",
     "text": [
      "\r",
      "22it [28:57, 80.41s/it]"
     ]
    },
    {
     "name": "stdout",
     "output_type": "stream",
     "text": [
      "21Learning Progress : 100.00 % \n",
      "Test Accuracy = 0.9545454545454546\n",
      "- Learning Progress : 99.80 % \r"
     ]
    },
    {
     "name": "stderr",
     "output_type": "stream",
     "text": [
      "\r",
      "23it [30:21, 81.53s/it]"
     ]
    },
    {
     "name": "stdout",
     "output_type": "stream",
     "text": [
      "22Learning Progress : 100.00 % \n",
      "Test Accuracy = 0.9565217391304348\n",
      "- Learning Progress : 100.00 % \r"
     ]
    },
    {
     "name": "stderr",
     "output_type": "stream",
     "text": [
      "\r",
      "24it [31:46, 82.66s/it]"
     ]
    },
    {
     "name": "stdout",
     "output_type": "stream",
     "text": [
      "23\n",
      "Test Accuracy = 0.9583333333333334\n",
      "- Learning Progress : 99.90 % \r"
     ]
    },
    {
     "name": "stderr",
     "output_type": "stream",
     "text": [
      "\r",
      "25it [33:10, 83.03s/it]"
     ]
    },
    {
     "name": "stdout",
     "output_type": "stream",
     "text": [
      "24Learning Progress : 100.00 % \n",
      "Test Accuracy = 0.96\n",
      "- Learning Progress : 99.80 % \r"
     ]
    },
    {
     "name": "stderr",
     "output_type": "stream",
     "text": [
      "\r",
      "26it [34:31, 82.34s/it]"
     ]
    },
    {
     "name": "stdout",
     "output_type": "stream",
     "text": [
      "25Learning Progress : 100.00 % \n",
      "Test Accuracy = 0.9615384615384616\n",
      "- Learning Progress : 99.80 % \r"
     ]
    },
    {
     "name": "stderr",
     "output_type": "stream",
     "text": [
      "\r",
      "27it [35:53, 82.24s/it]"
     ]
    },
    {
     "name": "stdout",
     "output_type": "stream",
     "text": [
      "26Learning Progress : 100.00 % \n",
      "Test Accuracy = 0.9629629629629629\n",
      "- Learning Progress : 99.70 % \r"
     ]
    },
    {
     "name": "stderr",
     "output_type": "stream",
     "text": [
      "\r",
      "28it [37:27, 85.96s/it]"
     ]
    },
    {
     "name": "stdout",
     "output_type": "stream",
     "text": [
      "27Learning Progress : 100.00 % \n",
      "Test Accuracy = 0.9642857142857143\n",
      "- Learning Progress : 99.90 % \r"
     ]
    },
    {
     "name": "stderr",
     "output_type": "stream",
     "text": [
      "\r",
      "29it [38:54, 86.05s/it]"
     ]
    },
    {
     "name": "stdout",
     "output_type": "stream",
     "text": [
      "28Learning Progress : 100.00 % \n",
      "Test Accuracy = 0.9655172413793104\n",
      "- Learning Progress : 99.70 % \r"
     ]
    },
    {
     "name": "stderr",
     "output_type": "stream",
     "text": [
      "\r",
      "30it [40:14, 84.18s/it]"
     ]
    },
    {
     "name": "stdout",
     "output_type": "stream",
     "text": [
      "29Learning Progress : 100.00 % \n",
      "Test Accuracy = 0.9666666666666667\n",
      "- Learning Progress : 99.70 % \r"
     ]
    },
    {
     "name": "stderr",
     "output_type": "stream",
     "text": [
      "\r",
      "31it [41:36, 83.80s/it]"
     ]
    },
    {
     "name": "stdout",
     "output_type": "stream",
     "text": [
      "30Learning Progress : 100.00 % \n",
      "Test Accuracy = 0.967741935483871\n",
      "- Learning Progress : 99.90 % \r"
     ]
    },
    {
     "name": "stderr",
     "output_type": "stream",
     "text": [
      "\r",
      "32it [42:59, 83.47s/it]"
     ]
    },
    {
     "name": "stdout",
     "output_type": "stream",
     "text": [
      "31Learning Progress : 100.00 % \n",
      "Test Accuracy = 0.96875\n",
      "- Learning Progress : 99.70 % \r"
     ]
    },
    {
     "name": "stderr",
     "output_type": "stream",
     "text": [
      "\r",
      "33it [44:25, 84.03s/it]"
     ]
    },
    {
     "name": "stdout",
     "output_type": "stream",
     "text": [
      "32Learning Progress : 100.00 % \n",
      "Test Accuracy = 0.9696969696969697\n",
      "- Learning Progress : 99.90 % \r"
     ]
    },
    {
     "name": "stderr",
     "output_type": "stream",
     "text": [
      "\r",
      "34it [45:56, 86.40s/it]"
     ]
    },
    {
     "name": "stdout",
     "output_type": "stream",
     "text": [
      "33Learning Progress : 100.00 % \n",
      "Test Accuracy = 0.9705882352941176\n",
      "- Learning Progress : 99.70 % \r"
     ]
    },
    {
     "name": "stderr",
     "output_type": "stream",
     "text": [
      "\r",
      "35it [47:19, 85.22s/it]"
     ]
    },
    {
     "name": "stdout",
     "output_type": "stream",
     "text": [
      "34Learning Progress : 100.00 % \n",
      "Test Accuracy = 0.9714285714285714\n",
      "- Learning Progress : 99.90 % \r"
     ]
    },
    {
     "name": "stderr",
     "output_type": "stream",
     "text": [
      "\r",
      "36it [48:47, 85.94s/it]"
     ]
    },
    {
     "name": "stdout",
     "output_type": "stream",
     "text": [
      "35Learning Progress : 100.00 % \n",
      "Test Accuracy = 0.9722222222222222\n",
      "- Learning Progress : 99.80 % \r"
     ]
    },
    {
     "name": "stderr",
     "output_type": "stream",
     "text": [
      "\r",
      "37it [50:52, 97.85s/it]"
     ]
    },
    {
     "name": "stdout",
     "output_type": "stream",
     "text": [
      "36Learning Progress : 100.00 % \n",
      "Test Accuracy = 0.972972972972973\n",
      "- Learning Progress : 99.90 % \r"
     ]
    },
    {
     "name": "stderr",
     "output_type": "stream",
     "text": [
      "\r",
      "38it [52:55, 105.24s/it]"
     ]
    },
    {
     "name": "stdout",
     "output_type": "stream",
     "text": [
      "37Learning Progress : 100.00 % \n",
      "Test Accuracy = 0.9736842105263158\n",
      "- Learning Progress : 99.80 % \r"
     ]
    },
    {
     "name": "stderr",
     "output_type": "stream",
     "text": [
      "\r",
      "39it [55:01, 111.51s/it]"
     ]
    },
    {
     "name": "stdout",
     "output_type": "stream",
     "text": [
      "38Learning Progress : 100.00 % \n",
      "Test Accuracy = 0.9743589743589743\n",
      "- Learning Progress : 99.90 % \r"
     ]
    },
    {
     "name": "stderr",
     "output_type": "stream",
     "text": [
      "\r",
      "40it [57:08, 116.16s/it]"
     ]
    },
    {
     "name": "stdout",
     "output_type": "stream",
     "text": [
      "39Learning Progress : 100.00 % \n",
      "Test Accuracy = 0.975\n",
      "- Learning Progress : 99.90 % \r"
     ]
    },
    {
     "name": "stderr",
     "output_type": "stream",
     "text": [
      "\r",
      "41it [59:11, 118.38s/it]"
     ]
    },
    {
     "name": "stdout",
     "output_type": "stream",
     "text": [
      "40Learning Progress : 100.00 % \n",
      "Test Accuracy = 0.975609756097561\n",
      "- Learning Progress : 99.90 % \r"
     ]
    },
    {
     "name": "stderr",
     "output_type": "stream",
     "text": [
      "\r",
      "42it [1:01:15, 119.91s/it]"
     ]
    },
    {
     "name": "stdout",
     "output_type": "stream",
     "text": [
      "41Learning Progress : 100.00 % \n",
      "Test Accuracy = 0.9761904761904762\n",
      "- Learning Progress : 99.90 % \r"
     ]
    },
    {
     "name": "stderr",
     "output_type": "stream",
     "text": [
      "\r",
      "43it [1:03:23, 122.40s/it]"
     ]
    },
    {
     "name": "stdout",
     "output_type": "stream",
     "text": [
      "42Learning Progress : 100.00 % \n",
      "Test Accuracy = 0.9767441860465116\n",
      "- Learning Progress : 99.80 % \r"
     ]
    },
    {
     "name": "stderr",
     "output_type": "stream",
     "text": [
      "\r",
      "44it [1:05:25, 122.14s/it]"
     ]
    },
    {
     "name": "stdout",
     "output_type": "stream",
     "text": [
      "43Learning Progress : 100.00 % \n",
      "Test Accuracy = 0.9772727272727273\n",
      "- Learning Progress : 99.80 % \r"
     ]
    },
    {
     "name": "stderr",
     "output_type": "stream",
     "text": [
      "\r",
      "45it [1:07:29, 122.95s/it]"
     ]
    },
    {
     "name": "stdout",
     "output_type": "stream",
     "text": [
      "44Learning Progress : 100.00 % \n",
      "Test Accuracy = 0.9777777777777777\n",
      "- Learning Progress : 99.80 % \r"
     ]
    },
    {
     "name": "stderr",
     "output_type": "stream",
     "text": [
      "\r",
      "46it [1:09:35, 123.81s/it]"
     ]
    },
    {
     "name": "stdout",
     "output_type": "stream",
     "text": [
      "45Learning Progress : 100.00 % \n",
      "Test Accuracy = 0.9782608695652174\n",
      "- Learning Progress : 99.90 % \r"
     ]
    },
    {
     "name": "stderr",
     "output_type": "stream",
     "text": [
      "\r",
      "47it [1:11:39, 123.81s/it]"
     ]
    },
    {
     "name": "stdout",
     "output_type": "stream",
     "text": [
      "46Learning Progress : 100.00 % \n",
      "Test Accuracy = 0.9787234042553191\n",
      "- Learning Progress : 99.90 % \r"
     ]
    },
    {
     "name": "stderr",
     "output_type": "stream",
     "text": [
      "\r",
      "48it [1:13:30, 119.82s/it]"
     ]
    },
    {
     "name": "stdout",
     "output_type": "stream",
     "text": [
      "47Learning Progress : 100.00 % \n",
      "Test Accuracy = 0.9791666666666666\n",
      "- Learning Progress : 99.90 % \r"
     ]
    },
    {
     "name": "stderr",
     "output_type": "stream",
     "text": [
      "\r",
      "49it [1:15:09, 113.73s/it]"
     ]
    },
    {
     "name": "stdout",
     "output_type": "stream",
     "text": [
      "48Learning Progress : 100.00 % \n",
      "Test Accuracy = 0.9795918367346939\n",
      "- Learning Progress : 99.80 % \r"
     ]
    },
    {
     "name": "stderr",
     "output_type": "stream",
     "text": [
      "\r",
      "50it [1:16:51, 110.14s/it]"
     ]
    },
    {
     "name": "stdout",
     "output_type": "stream",
     "text": [
      "49Learning Progress : 100.00 % \n",
      "Test Accuracy = 0.98\n",
      "- Learning Progress : 99.80 % \r"
     ]
    },
    {
     "name": "stderr",
     "output_type": "stream",
     "text": [
      "\r",
      "51it [1:18:33, 107.74s/it]"
     ]
    },
    {
     "name": "stdout",
     "output_type": "stream",
     "text": [
      "50Learning Progress : 100.00 % \n",
      "Test Accuracy = 0.9803921568627451\n",
      "- Learning Progress : 99.90 % \r"
     ]
    },
    {
     "name": "stderr",
     "output_type": "stream",
     "text": [
      "\r",
      "52it [1:20:13, 105.35s/it]"
     ]
    },
    {
     "name": "stdout",
     "output_type": "stream",
     "text": [
      "51Learning Progress : 100.00 % \n",
      "Test Accuracy = 0.9807692307692307\n",
      "- Learning Progress : 99.80 % \r"
     ]
    },
    {
     "name": "stderr",
     "output_type": "stream",
     "text": [
      "\r",
      "53it [1:21:55, 104.38s/it]"
     ]
    },
    {
     "name": "stdout",
     "output_type": "stream",
     "text": [
      "52Learning Progress : 100.00 % \n",
      "Test Accuracy = 0.9811320754716981\n",
      "- Learning Progress : 99.90 % \r"
     ]
    },
    {
     "name": "stderr",
     "output_type": "stream",
     "text": [
      "\r",
      "54it [1:23:34, 102.73s/it]"
     ]
    },
    {
     "name": "stdout",
     "output_type": "stream",
     "text": [
      "53Learning Progress : 100.00 % \n",
      "Test Accuracy = 0.9814814814814815\n",
      "- Learning Progress : 99.70 % \r"
     ]
    },
    {
     "name": "stderr",
     "output_type": "stream",
     "text": [
      "\r",
      "55it [1:25:16, 102.50s/it]"
     ]
    },
    {
     "name": "stdout",
     "output_type": "stream",
     "text": [
      "54Learning Progress : 100.00 % \n",
      "Test Accuracy = 0.9818181818181818\n",
      "- Learning Progress : 99.90 % \r"
     ]
    },
    {
     "name": "stderr",
     "output_type": "stream",
     "text": [
      "\r",
      "56it [1:26:59, 102.74s/it]"
     ]
    },
    {
     "name": "stdout",
     "output_type": "stream",
     "text": [
      "55Learning Progress : 100.00 % \n",
      "Test Accuracy = 0.9821428571428571\n",
      "- Learning Progress : 99.80 % \r"
     ]
    },
    {
     "name": "stderr",
     "output_type": "stream",
     "text": [
      "\r",
      "57it [1:28:39, 102.03s/it]"
     ]
    },
    {
     "name": "stdout",
     "output_type": "stream",
     "text": [
      "56Learning Progress : 100.00 % \n",
      "Test Accuracy = 0.9824561403508771\n",
      "- Learning Progress : 99.80 % \r"
     ]
    },
    {
     "name": "stderr",
     "output_type": "stream",
     "text": [
      "\r",
      "58it [1:30:19, 101.26s/it]"
     ]
    },
    {
     "name": "stdout",
     "output_type": "stream",
     "text": [
      "57Learning Progress : 100.00 % \n",
      "Test Accuracy = 0.9827586206896551\n",
      "- Learning Progress : 99.70 % \r"
     ]
    },
    {
     "name": "stderr",
     "output_type": "stream",
     "text": [
      "\r",
      "59it [1:32:00, 101.17s/it]"
     ]
    },
    {
     "name": "stdout",
     "output_type": "stream",
     "text": [
      "58Learning Progress : 100.00 % \n",
      "Test Accuracy = 0.9830508474576272\n",
      "- Learning Progress : 99.90 % \r"
     ]
    },
    {
     "name": "stderr",
     "output_type": "stream",
     "text": [
      "\r",
      "60it [1:33:40, 100.94s/it]"
     ]
    },
    {
     "name": "stdout",
     "output_type": "stream",
     "text": [
      "59Learning Progress : 100.00 % \n",
      "Test Accuracy = 0.9833333333333333\n",
      "- Learning Progress : 100.00 % \r"
     ]
    },
    {
     "name": "stderr",
     "output_type": "stream",
     "text": [
      "\r",
      "61it [1:35:21, 100.92s/it]"
     ]
    },
    {
     "name": "stdout",
     "output_type": "stream",
     "text": [
      "60\n",
      "Test Accuracy = 0.9836065573770492\n",
      "- Learning Progress : 99.70 % \r"
     ]
    },
    {
     "name": "stderr",
     "output_type": "stream",
     "text": [
      "\r",
      "62it [1:36:58, 99.73s/it] "
     ]
    },
    {
     "name": "stdout",
     "output_type": "stream",
     "text": [
      "61Learning Progress : 100.00 % \n",
      "Test Accuracy = 0.9838709677419355\n",
      "- Learning Progress : 99.70 % \r"
     ]
    },
    {
     "name": "stderr",
     "output_type": "stream",
     "text": [
      "\r",
      "63it [1:38:39, 100.12s/it]"
     ]
    },
    {
     "name": "stdout",
     "output_type": "stream",
     "text": [
      "62Learning Progress : 100.00 % \n",
      "Test Accuracy = 0.9841269841269841\n",
      "- Learning Progress : 99.90 % \r"
     ]
    },
    {
     "name": "stderr",
     "output_type": "stream",
     "text": [
      "\r",
      "64it [1:40:20, 100.39s/it]"
     ]
    },
    {
     "name": "stdout",
     "output_type": "stream",
     "text": [
      "63Learning Progress : 100.00 % \n",
      "Test Accuracy = 0.984375\n",
      "- Learning Progress : 99.80 % \r"
     ]
    },
    {
     "name": "stderr",
     "output_type": "stream",
     "text": [
      "\r",
      "65it [1:42:05, 101.66s/it]"
     ]
    },
    {
     "name": "stdout",
     "output_type": "stream",
     "text": [
      "64Learning Progress : 100.00 % \n",
      "Test Accuracy = 0.9846153846153847\n",
      "- Learning Progress : 99.90 % \r"
     ]
    },
    {
     "name": "stderr",
     "output_type": "stream",
     "text": [
      "\r",
      "66it [1:43:43, 100.61s/it]"
     ]
    },
    {
     "name": "stdout",
     "output_type": "stream",
     "text": [
      "65Learning Progress : 100.00 % \n",
      "Test Accuracy = 0.9848484848484849\n",
      "- Learning Progress : 99.90 % \r"
     ]
    },
    {
     "name": "stderr",
     "output_type": "stream",
     "text": [
      "\r",
      "67it [1:45:24, 100.65s/it]"
     ]
    },
    {
     "name": "stdout",
     "output_type": "stream",
     "text": [
      "66Learning Progress : 100.00 % \n",
      "Test Accuracy = 0.9850746268656716\n",
      "- Learning Progress : 99.90 % \r"
     ]
    },
    {
     "name": "stderr",
     "output_type": "stream",
     "text": [
      "\r",
      "68it [1:47:41, 111.66s/it]"
     ]
    },
    {
     "name": "stdout",
     "output_type": "stream",
     "text": [
      "67Learning Progress : 100.00 % \n",
      "Test Accuracy = 0.9852941176470589\n",
      "- Learning Progress : 99.90 % \r"
     ]
    },
    {
     "name": "stderr",
     "output_type": "stream",
     "text": [
      "\r",
      "69it [1:49:53, 117.76s/it]"
     ]
    },
    {
     "name": "stdout",
     "output_type": "stream",
     "text": [
      "68Learning Progress : 100.00 % \n",
      "Test Accuracy = 0.9855072463768116\n",
      "- Learning Progress : 99.90 % \r"
     ]
    },
    {
     "name": "stderr",
     "output_type": "stream",
     "text": [
      "\r",
      "70it [1:52:08, 122.82s/it]"
     ]
    },
    {
     "name": "stdout",
     "output_type": "stream",
     "text": [
      "69Learning Progress : 100.00 % \n",
      "Test Accuracy = 0.9857142857142858\n",
      "- Learning Progress : 99.90 % \r"
     ]
    },
    {
     "name": "stderr",
     "output_type": "stream",
     "text": [
      "\r",
      "71it [1:54:19, 125.36s/it]"
     ]
    },
    {
     "name": "stdout",
     "output_type": "stream",
     "text": [
      "70Learning Progress : 100.00 % \n",
      "Test Accuracy = 0.9859154929577465\n",
      "- Learning Progress : 99.80 % \r"
     ]
    },
    {
     "name": "stderr",
     "output_type": "stream",
     "text": [
      "\r",
      "72it [1:56:32, 127.55s/it]"
     ]
    },
    {
     "name": "stdout",
     "output_type": "stream",
     "text": [
      "71Learning Progress : 100.00 % \n",
      "Test Accuracy = 0.9861111111111112\n",
      "- Learning Progress : 99.80 % \r"
     ]
    },
    {
     "name": "stderr",
     "output_type": "stream",
     "text": [
      "\r",
      "73it [1:58:45, 129.21s/it]"
     ]
    },
    {
     "name": "stdout",
     "output_type": "stream",
     "text": [
      "72Learning Progress : 100.00 % \n",
      "Test Accuracy = 0.9863013698630136\n",
      "- Learning Progress : 99.80 % \r"
     ]
    },
    {
     "name": "stderr",
     "output_type": "stream",
     "text": [
      "\r",
      "74it [2:00:55, 129.58s/it]"
     ]
    },
    {
     "name": "stdout",
     "output_type": "stream",
     "text": [
      "73Learning Progress : 100.00 % \n",
      "Test Accuracy = 0.9864864864864865\n",
      "- Learning Progress : 99.80 % \r"
     ]
    },
    {
     "name": "stderr",
     "output_type": "stream",
     "text": [
      "\r",
      "75it [2:03:09, 131.04s/it]"
     ]
    },
    {
     "name": "stdout",
     "output_type": "stream",
     "text": [
      "74Learning Progress : 100.00 % \n",
      "Test Accuracy = 0.9866666666666667\n",
      "- Learning Progress : 99.90 % \r"
     ]
    },
    {
     "name": "stderr",
     "output_type": "stream",
     "text": [
      "\r",
      "76it [2:05:26, 132.60s/it]"
     ]
    },
    {
     "name": "stdout",
     "output_type": "stream",
     "text": [
      "75Learning Progress : 100.00 % \n",
      "Test Accuracy = 0.9868421052631579\n",
      "- Learning Progress : 99.90 % \r"
     ]
    },
    {
     "name": "stderr",
     "output_type": "stream",
     "text": [
      "\r",
      "77it [2:07:37, 132.17s/it]"
     ]
    },
    {
     "name": "stdout",
     "output_type": "stream",
     "text": [
      "76Learning Progress : 100.00 % \n",
      "Test Accuracy = 0.987012987012987\n",
      "- Learning Progress : 99.80 % \r"
     ]
    },
    {
     "name": "stderr",
     "output_type": "stream",
     "text": [
      "\r",
      "78it [2:09:54, 133.59s/it]"
     ]
    },
    {
     "name": "stdout",
     "output_type": "stream",
     "text": [
      "77Learning Progress : 100.00 % \n",
      "Test Accuracy = 0.9871794871794872\n",
      "- Learning Progress : 99.90 % \r"
     ]
    },
    {
     "name": "stderr",
     "output_type": "stream",
     "text": [
      "\r",
      "79it [2:12:11, 134.74s/it]"
     ]
    },
    {
     "name": "stdout",
     "output_type": "stream",
     "text": [
      "78Learning Progress : 100.00 % \n",
      "Test Accuracy = 0.9873417721518988\n",
      "- Learning Progress : 100.00 % \r"
     ]
    },
    {
     "name": "stderr",
     "output_type": "stream",
     "text": [
      "\r",
      "80it [2:14:26, 134.62s/it]"
     ]
    },
    {
     "name": "stdout",
     "output_type": "stream",
     "text": [
      "79\n",
      "Test Accuracy = 0.9875\n",
      "- Learning Progress : 99.80 % \r"
     ]
    },
    {
     "name": "stderr",
     "output_type": "stream",
     "text": [
      "\r",
      "81it [2:16:37, 133.71s/it]"
     ]
    },
    {
     "name": "stdout",
     "output_type": "stream",
     "text": [
      "80Learning Progress : 100.00 % \n",
      "Test Accuracy = 0.9876543209876543\n",
      "- Learning Progress : 99.80 % \r"
     ]
    },
    {
     "name": "stderr",
     "output_type": "stream",
     "text": [
      "\r",
      "82it [2:18:51, 133.64s/it]"
     ]
    },
    {
     "name": "stdout",
     "output_type": "stream",
     "text": [
      "81Learning Progress : 100.00 % \n",
      "Test Accuracy = 0.9878048780487805\n",
      "- Learning Progress : 100.00 % \r"
     ]
    },
    {
     "name": "stderr",
     "output_type": "stream",
     "text": [
      "\r",
      "83it [2:21:04, 133.70s/it]"
     ]
    },
    {
     "name": "stdout",
     "output_type": "stream",
     "text": [
      "82\n",
      "Test Accuracy = 0.9879518072289156\n",
      "- Learning Progress : 100.00 % \r"
     ]
    },
    {
     "name": "stderr",
     "output_type": "stream",
     "text": [
      "\r",
      "84it [2:23:20, 134.35s/it]"
     ]
    },
    {
     "name": "stdout",
     "output_type": "stream",
     "text": [
      "83\n",
      "Test Accuracy = 0.9880952380952381\n",
      "- Learning Progress : 100.00 % \r"
     ]
    },
    {
     "name": "stderr",
     "output_type": "stream",
     "text": [
      "\r",
      "85it [2:25:35, 134.35s/it]"
     ]
    },
    {
     "name": "stdout",
     "output_type": "stream",
     "text": [
      "84\n",
      "Test Accuracy = 0.9882352941176471\n",
      "- Learning Progress : 99.80 % \r"
     ]
    },
    {
     "name": "stderr",
     "output_type": "stream",
     "text": [
      "\r",
      "86it [2:27:50, 134.49s/it]"
     ]
    },
    {
     "name": "stdout",
     "output_type": "stream",
     "text": [
      "85Learning Progress : 100.00 % \n",
      "Test Accuracy = 0.9883720930232558\n",
      "- Learning Progress : 99.90 % \r"
     ]
    },
    {
     "name": "stderr",
     "output_type": "stream",
     "text": [
      "\r",
      "87it [2:30:02, 134.03s/it]"
     ]
    },
    {
     "name": "stdout",
     "output_type": "stream",
     "text": [
      "86Learning Progress : 100.00 % \n",
      "Test Accuracy = 0.9885057471264368\n",
      "- Learning Progress : 99.90 % \r"
     ]
    },
    {
     "name": "stderr",
     "output_type": "stream",
     "text": [
      "\r",
      "88it [2:32:20, 135.07s/it]"
     ]
    },
    {
     "name": "stdout",
     "output_type": "stream",
     "text": [
      "87Learning Progress : 100.00 % \n",
      "Test Accuracy = 0.9886363636363636\n",
      "- Learning Progress : 99.90 % \r"
     ]
    },
    {
     "name": "stderr",
     "output_type": "stream",
     "text": [
      "\r",
      "89it [2:34:36, 135.35s/it]"
     ]
    },
    {
     "name": "stdout",
     "output_type": "stream",
     "text": [
      "88Learning Progress : 100.00 % \n",
      "Test Accuracy = 0.9887640449438202\n",
      "- Learning Progress : 99.90 % \r"
     ]
    },
    {
     "name": "stderr",
     "output_type": "stream",
     "text": [
      "\r",
      "90it [2:36:51, 135.30s/it]"
     ]
    },
    {
     "name": "stdout",
     "output_type": "stream",
     "text": [
      "89Learning Progress : 100.00 % \n",
      "Test Accuracy = 0.9888888888888889\n",
      "- Learning Progress : 99.80 % \r"
     ]
    },
    {
     "name": "stderr",
     "output_type": "stream",
     "text": [
      "\r",
      "91it [2:39:10, 136.40s/it]"
     ]
    },
    {
     "name": "stdout",
     "output_type": "stream",
     "text": [
      "90Learning Progress : 100.00 % \n",
      "Test Accuracy = 0.989010989010989\n",
      "- Learning Progress : 99.80 % \r"
     ]
    },
    {
     "name": "stderr",
     "output_type": "stream",
     "text": [
      "\r",
      "92it [2:41:27, 136.40s/it]"
     ]
    },
    {
     "name": "stdout",
     "output_type": "stream",
     "text": [
      "91Learning Progress : 100.00 % \n",
      "Test Accuracy = 0.9891304347826086\n",
      "- Learning Progress : 99.80 % \r"
     ]
    },
    {
     "name": "stderr",
     "output_type": "stream",
     "text": [
      "\r",
      "93it [2:43:44, 136.68s/it]"
     ]
    },
    {
     "name": "stdout",
     "output_type": "stream",
     "text": [
      "92Learning Progress : 100.00 % \n",
      "Test Accuracy = 0.989247311827957\n",
      "- Learning Progress : 99.80 % \r"
     ]
    },
    {
     "name": "stderr",
     "output_type": "stream",
     "text": [
      "\r",
      "94it [2:45:56, 135.36s/it]"
     ]
    },
    {
     "name": "stdout",
     "output_type": "stream",
     "text": [
      "93Learning Progress : 100.00 % \n",
      "Test Accuracy = 0.9893617021276596\n",
      "- Learning Progress : 99.90 % \r"
     ]
    },
    {
     "name": "stderr",
     "output_type": "stream",
     "text": [
      "\r",
      "95it [2:48:08, 134.33s/it]"
     ]
    },
    {
     "name": "stdout",
     "output_type": "stream",
     "text": [
      "94Learning Progress : 100.00 % \n",
      "Test Accuracy = 0.9894736842105263\n",
      "- Learning Progress : 99.90 % \r"
     ]
    },
    {
     "name": "stderr",
     "output_type": "stream",
     "text": [
      "\r",
      "96it [2:50:22, 134.34s/it]"
     ]
    },
    {
     "name": "stdout",
     "output_type": "stream",
     "text": [
      "95Learning Progress : 100.00 % \n",
      "Test Accuracy = 0.9895833333333334\n",
      "- Learning Progress : 99.90 % \r"
     ]
    },
    {
     "name": "stderr",
     "output_type": "stream",
     "text": [
      "\r",
      "97it [2:52:37, 134.36s/it]"
     ]
    },
    {
     "name": "stdout",
     "output_type": "stream",
     "text": [
      "96Learning Progress : 100.00 % \n",
      "Test Accuracy = 0.9896907216494846\n",
      "- Learning Progress : 99.90 % \r"
     ]
    },
    {
     "name": "stderr",
     "output_type": "stream",
     "text": [
      "\r",
      "98it [2:54:50, 134.02s/it]"
     ]
    },
    {
     "name": "stdout",
     "output_type": "stream",
     "text": [
      "97Learning Progress : 100.00 % \n",
      "Test Accuracy = 0.9897959183673469\n",
      "- Learning Progress : 100.00 % \r"
     ]
    },
    {
     "name": "stderr",
     "output_type": "stream",
     "text": [
      "\r",
      "99it [2:57:03, 133.82s/it]"
     ]
    },
    {
     "name": "stdout",
     "output_type": "stream",
     "text": [
      "98\n",
      "Test Accuracy = 0.98989898989899\n",
      "- Learning Progress : 99.80 % \r"
     ]
    },
    {
     "name": "stderr",
     "output_type": "stream",
     "text": [
      "\r",
      "100it [2:59:19, 134.26s/it]"
     ]
    },
    {
     "name": "stdout",
     "output_type": "stream",
     "text": [
      "99Learning Progress : 100.00 % \n",
      "Test Accuracy = 0.99\n",
      "- Learning Progress : 99.80 % \r"
     ]
    },
    {
     "name": "stderr",
     "output_type": "stream",
     "text": [
      "\r",
      "101it [3:01:36, 135.25s/it]"
     ]
    },
    {
     "name": "stdout",
     "output_type": "stream",
     "text": [
      "100earning Progress : 100.00 % \n",
      "Test Accuracy = 0.9900990099009901\n",
      "- Learning Progress : 99.80 % \r"
     ]
    },
    {
     "name": "stderr",
     "output_type": "stream",
     "text": [
      "\r",
      "102it [3:03:57, 137.02s/it]"
     ]
    },
    {
     "name": "stdout",
     "output_type": "stream",
     "text": [
      "101earning Progress : 100.00 % \n",
      "Test Accuracy = 0.9901960784313726\n",
      "- Learning Progress : 99.90 % \r"
     ]
    },
    {
     "name": "stderr",
     "output_type": "stream",
     "text": [
      "\r",
      "103it [3:06:27, 140.80s/it]"
     ]
    },
    {
     "name": "stdout",
     "output_type": "stream",
     "text": [
      "102earning Progress : 100.00 % \n",
      "Test Accuracy = 0.9902912621359223\n",
      "- Learning Progress : 99.80 % \r"
     ]
    },
    {
     "name": "stderr",
     "output_type": "stream",
     "text": [
      "\r",
      "104it [3:08:53, 142.31s/it]"
     ]
    },
    {
     "name": "stdout",
     "output_type": "stream",
     "text": [
      "103earning Progress : 100.00 % \n",
      "Test Accuracy = 0.9903846153846154\n",
      "- Learning Progress : 99.80 % \r"
     ]
    },
    {
     "name": "stderr",
     "output_type": "stream",
     "text": [
      "\r",
      "105it [3:11:18, 143.02s/it]"
     ]
    },
    {
     "name": "stdout",
     "output_type": "stream",
     "text": [
      "104earning Progress : 100.00 % \n",
      "Test Accuracy = 0.9904761904761905\n",
      "- Learning Progress : 99.80 % \r"
     ]
    },
    {
     "name": "stderr",
     "output_type": "stream",
     "text": [
      "\r",
      "106it [3:13:45, 144.39s/it]"
     ]
    },
    {
     "name": "stdout",
     "output_type": "stream",
     "text": [
      "105earning Progress : 100.00 % \n",
      "Test Accuracy = 0.9905660377358491\n",
      "- Learning Progress : 99.80 % \r"
     ]
    },
    {
     "name": "stderr",
     "output_type": "stream",
     "text": [
      "\r",
      "107it [3:16:12, 144.99s/it]"
     ]
    },
    {
     "name": "stdout",
     "output_type": "stream",
     "text": [
      "106earning Progress : 100.00 % \n",
      "Test Accuracy = 0.9906542056074766\n",
      "- Learning Progress : 99.90 % \r"
     ]
    },
    {
     "name": "stderr",
     "output_type": "stream",
     "text": [
      "\r",
      "108it [3:18:31, 143.48s/it]"
     ]
    },
    {
     "name": "stdout",
     "output_type": "stream",
     "text": [
      "107earning Progress : 100.00 % \n",
      "Test Accuracy = 0.9907407407407407\n",
      "- Learning Progress : 99.80 % \r"
     ]
    },
    {
     "name": "stderr",
     "output_type": "stream",
     "text": [
      "\r",
      "109it [3:20:48, 141.31s/it]"
     ]
    },
    {
     "name": "stdout",
     "output_type": "stream",
     "text": [
      "108earning Progress : 100.00 % \n",
      "Test Accuracy = 0.9908256880733946\n",
      "- Learning Progress : 100.00 % \r"
     ]
    },
    {
     "name": "stderr",
     "output_type": "stream",
     "text": [
      "\r",
      "110it [3:23:15, 143.08s/it]"
     ]
    },
    {
     "name": "stdout",
     "output_type": "stream",
     "text": [
      "109\n",
      "Test Accuracy = 0.990909090909091\n",
      "- Learning Progress : 99.90 % \r"
     ]
    },
    {
     "name": "stderr",
     "output_type": "stream",
     "text": [
      "\r",
      "111it [3:25:35, 142.15s/it]"
     ]
    },
    {
     "name": "stdout",
     "output_type": "stream",
     "text": [
      "110earning Progress : 100.00 % \n",
      "Test Accuracy = 0.990990990990991\n",
      "- Learning Progress : 99.90 % \r"
     ]
    },
    {
     "name": "stderr",
     "output_type": "stream",
     "text": [
      "\r",
      "112it [3:28:04, 144.22s/it]"
     ]
    },
    {
     "name": "stdout",
     "output_type": "stream",
     "text": [
      "111earning Progress : 100.00 % \n",
      "Test Accuracy = 0.9910714285714286\n",
      "- Learning Progress : 99.80 % \r"
     ]
    },
    {
     "name": "stderr",
     "output_type": "stream",
     "text": [
      "\r",
      "113it [3:30:37, 147.00s/it]"
     ]
    },
    {
     "name": "stdout",
     "output_type": "stream",
     "text": [
      "112earning Progress : 100.00 % \n",
      "Test Accuracy = 0.9911504424778761\n",
      "- Learning Progress : 99.90 % \r"
     ]
    },
    {
     "name": "stderr",
     "output_type": "stream",
     "text": [
      "\r",
      "114it [3:33:03, 146.56s/it]"
     ]
    },
    {
     "name": "stdout",
     "output_type": "stream",
     "text": [
      "113earning Progress : 100.00 % \n",
      "Test Accuracy = 0.9912280701754386\n",
      "- Learning Progress : 100.00 % \r"
     ]
    },
    {
     "name": "stderr",
     "output_type": "stream",
     "text": [
      "\r",
      "115it [3:35:29, 146.55s/it]"
     ]
    },
    {
     "name": "stdout",
     "output_type": "stream",
     "text": [
      "114\n",
      "Test Accuracy = 0.991304347826087\n",
      "- Learning Progress : 99.80 % \r"
     ]
    },
    {
     "name": "stderr",
     "output_type": "stream",
     "text": [
      "\r",
      "116it [3:37:40, 141.89s/it]"
     ]
    },
    {
     "name": "stdout",
     "output_type": "stream",
     "text": [
      "115earning Progress : 100.00 % \n",
      "Test Accuracy = 0.9913793103448276\n",
      "- Learning Progress : 99.90 % \r"
     ]
    },
    {
     "name": "stderr",
     "output_type": "stream",
     "text": [
      "\r",
      "117it [3:39:53, 139.21s/it]"
     ]
    },
    {
     "name": "stdout",
     "output_type": "stream",
     "text": [
      "116earning Progress : 100.00 % \n",
      "Test Accuracy = 0.9914529914529915\n",
      "- Learning Progress : 99.80 % \r"
     ]
    },
    {
     "name": "stderr",
     "output_type": "stream",
     "text": [
      "\r",
      "118it [3:42:03, 136.43s/it]"
     ]
    },
    {
     "name": "stdout",
     "output_type": "stream",
     "text": [
      "117earning Progress : 100.00 % \n",
      "Test Accuracy = 0.9915254237288136\n",
      "- Learning Progress : 99.80 % \r"
     ]
    },
    {
     "name": "stderr",
     "output_type": "stream",
     "text": [
      "\r",
      "119it [3:44:26, 138.25s/it]"
     ]
    },
    {
     "name": "stdout",
     "output_type": "stream",
     "text": [
      "118earning Progress : 100.00 % \n",
      "Test Accuracy = 0.9915966386554622\n",
      "- Learning Progress : 99.80 % \r"
     ]
    },
    {
     "name": "stderr",
     "output_type": "stream",
     "text": [
      "\r",
      "120it [3:46:57, 142.12s/it]"
     ]
    },
    {
     "name": "stdout",
     "output_type": "stream",
     "text": [
      "- Learning Progress : 99.90 % \r",
      "- Learning Progress : 100.00 % \r",
      "119\n",
      "Test Accuracy = 0.9916666666666667\n"
     ]
    },
    {
     "name": "stderr",
     "output_type": "stream",
     "text": [
      "\r",
      "121it [3:46:57, 99.58s/it] "
     ]
    },
    {
     "name": "stdout",
     "output_type": "stream",
     "text": [
      "120\n",
      "- Learning Progress : 99.90 % \r"
     ]
    },
    {
     "name": "stderr",
     "output_type": "stream",
     "text": [
      "\r",
      "122it [3:49:24, 113.74s/it]"
     ]
    },
    {
     "name": "stdout",
     "output_type": "stream",
     "text": [
      "121earning Progress : 100.00 % \n",
      "Test Accuracy = 0.9836065573770492\n",
      "- Learning Progress : 99.80 % \r"
     ]
    },
    {
     "name": "stderr",
     "output_type": "stream",
     "text": [
      "\r",
      "123it [3:51:39, 120.04s/it]"
     ]
    },
    {
     "name": "stdout",
     "output_type": "stream",
     "text": [
      "122earning Progress : 100.00 % \n",
      "Test Accuracy = 0.983739837398374\n",
      "- Learning Progress : 99.90 % \r"
     ]
    },
    {
     "name": "stderr",
     "output_type": "stream",
     "text": [
      "\r",
      "124it [3:53:51, 123.77s/it]"
     ]
    },
    {
     "name": "stdout",
     "output_type": "stream",
     "text": [
      "123earning Progress : 100.00 % \n",
      "Test Accuracy = 0.9838709677419355\n",
      "- Learning Progress : 99.90 % \r"
     ]
    },
    {
     "name": "stderr",
     "output_type": "stream",
     "text": [
      "\r",
      "125it [3:56:08, 127.53s/it]"
     ]
    },
    {
     "name": "stdout",
     "output_type": "stream",
     "text": [
      "124earning Progress : 100.00 % \n",
      "Test Accuracy = 0.984\n",
      "- Learning Progress : 99.80 % \r"
     ]
    },
    {
     "name": "stderr",
     "output_type": "stream",
     "text": [
      "\r",
      "126it [3:58:19, 128.80s/it]"
     ]
    },
    {
     "name": "stdout",
     "output_type": "stream",
     "text": [
      "125earning Progress : 100.00 % \n",
      "Test Accuracy = 0.9841269841269841\n",
      "- Learning Progress : 99.80 % \r"
     ]
    },
    {
     "name": "stderr",
     "output_type": "stream",
     "text": [
      "\r",
      "127it [4:00:32, 129.86s/it]"
     ]
    },
    {
     "name": "stdout",
     "output_type": "stream",
     "text": [
      "126earning Progress : 100.00 % \n",
      "Test Accuracy = 0.984251968503937\n",
      "- Learning Progress : 99.80 % \r"
     ]
    },
    {
     "name": "stderr",
     "output_type": "stream",
     "text": [
      "\r",
      "128it [4:02:45, 130.91s/it]"
     ]
    },
    {
     "name": "stdout",
     "output_type": "stream",
     "text": [
      "127earning Progress : 100.00 % \n",
      "Test Accuracy = 0.984375\n",
      "- Learning Progress : 99.90 % \r"
     ]
    },
    {
     "name": "stderr",
     "output_type": "stream",
     "text": [
      "\r",
      "129it [4:04:58, 131.65s/it]"
     ]
    },
    {
     "name": "stdout",
     "output_type": "stream",
     "text": [
      "128earning Progress : 100.00 % \n",
      "Test Accuracy = 0.9844961240310077\n",
      "- Learning Progress : 99.90 % \r"
     ]
    },
    {
     "name": "stderr",
     "output_type": "stream",
     "text": [
      "\r",
      "130it [4:07:15, 133.13s/it]"
     ]
    },
    {
     "name": "stdout",
     "output_type": "stream",
     "text": [
      "129earning Progress : 100.00 % \n",
      "Test Accuracy = 0.9846153846153847\n",
      "- Learning Progress : 99.80 % \r"
     ]
    },
    {
     "name": "stderr",
     "output_type": "stream",
     "text": [
      "\r",
      "131it [4:09:24, 131.85s/it]"
     ]
    },
    {
     "name": "stdout",
     "output_type": "stream",
     "text": [
      "130earning Progress : 100.00 % \n",
      "Test Accuracy = 0.9847328244274809\n",
      "- Learning Progress : 99.80 % \r"
     ]
    },
    {
     "name": "stderr",
     "output_type": "stream",
     "text": [
      "\r",
      "132it [4:11:34, 131.32s/it]"
     ]
    },
    {
     "name": "stdout",
     "output_type": "stream",
     "text": [
      "131earning Progress : 100.00 % \n",
      "Test Accuracy = 0.9848484848484849\n",
      "- Learning Progress : 99.80 % \r"
     ]
    },
    {
     "name": "stderr",
     "output_type": "stream",
     "text": [
      "\r",
      "133it [4:13:45, 131.29s/it]"
     ]
    },
    {
     "name": "stdout",
     "output_type": "stream",
     "text": [
      "132earning Progress : 100.00 % \n",
      "Test Accuracy = 0.9849624060150376\n",
      "- Learning Progress : 99.90 % \r"
     ]
    },
    {
     "name": "stderr",
     "output_type": "stream",
     "text": [
      "\r",
      "134it [4:15:57, 131.55s/it]"
     ]
    },
    {
     "name": "stdout",
     "output_type": "stream",
     "text": [
      "133earning Progress : 100.00 % \n",
      "Test Accuracy = 0.9850746268656716\n",
      "- Learning Progress : 99.80 % \r"
     ]
    },
    {
     "name": "stderr",
     "output_type": "stream",
     "text": [
      "\r",
      "135it [4:18:12, 132.41s/it]"
     ]
    },
    {
     "name": "stdout",
     "output_type": "stream",
     "text": [
      "134earning Progress : 100.00 % \n",
      "Test Accuracy = 0.9851851851851852\n",
      "- Learning Progress : 99.80 % \r"
     ]
    },
    {
     "name": "stderr",
     "output_type": "stream",
     "text": [
      "\r",
      "136it [4:20:24, 132.34s/it]"
     ]
    },
    {
     "name": "stdout",
     "output_type": "stream",
     "text": [
      "135earning Progress : 100.00 % \n",
      "Test Accuracy = 0.9852941176470589\n",
      "- Learning Progress : 99.80 % \r"
     ]
    },
    {
     "name": "stderr",
     "output_type": "stream",
     "text": [
      "\r",
      "137it [4:22:35, 132.04s/it]"
     ]
    },
    {
     "name": "stdout",
     "output_type": "stream",
     "text": [
      "136earning Progress : 100.00 % \n",
      "Test Accuracy = 0.9854014598540146\n",
      "- Learning Progress : 99.90 % \r"
     ]
    },
    {
     "name": "stderr",
     "output_type": "stream",
     "text": [
      "\r",
      "138it [4:24:47, 131.98s/it]"
     ]
    },
    {
     "name": "stdout",
     "output_type": "stream",
     "text": [
      "137earning Progress : 100.00 % \n",
      "Test Accuracy = 0.9855072463768116\n",
      "- Learning Progress : 99.80 % \r"
     ]
    },
    {
     "name": "stderr",
     "output_type": "stream",
     "text": [
      "\r",
      "139it [4:26:56, 131.08s/it]"
     ]
    },
    {
     "name": "stdout",
     "output_type": "stream",
     "text": [
      "138earning Progress : 100.00 % \n",
      "Test Accuracy = 0.9856115107913669\n",
      "- Learning Progress : 99.90 % \r"
     ]
    },
    {
     "name": "stderr",
     "output_type": "stream",
     "text": [
      "\r",
      "140it [4:29:12, 132.40s/it]"
     ]
    },
    {
     "name": "stdout",
     "output_type": "stream",
     "text": [
      "139earning Progress : 100.00 % \n",
      "Test Accuracy = 0.9857142857142858\n",
      "- Learning Progress : 99.90 % \r"
     ]
    },
    {
     "name": "stderr",
     "output_type": "stream",
     "text": [
      "\r",
      "141it [4:31:24, 132.54s/it]"
     ]
    },
    {
     "name": "stdout",
     "output_type": "stream",
     "text": [
      "140earning Progress : 100.00 % \n",
      "Test Accuracy = 0.9858156028368794\n",
      "- Learning Progress : 99.80 % \r"
     ]
    },
    {
     "name": "stderr",
     "output_type": "stream",
     "text": [
      "\r",
      "142it [4:33:38, 132.98s/it]"
     ]
    },
    {
     "name": "stdout",
     "output_type": "stream",
     "text": [
      "141earning Progress : 100.00 % \n",
      "Test Accuracy = 0.9859154929577465\n",
      "- Learning Progress : 99.90 % \r"
     ]
    },
    {
     "name": "stderr",
     "output_type": "stream",
     "text": [
      "\r",
      "143it [4:35:47, 131.60s/it]"
     ]
    },
    {
     "name": "stdout",
     "output_type": "stream",
     "text": [
      "142earning Progress : 100.00 % \n",
      "Test Accuracy = 0.986013986013986\n",
      "- Learning Progress : 99.80 % \r"
     ]
    },
    {
     "name": "stderr",
     "output_type": "stream",
     "text": [
      "\r",
      "144it [4:38:01, 132.48s/it]"
     ]
    },
    {
     "name": "stdout",
     "output_type": "stream",
     "text": [
      "143earning Progress : 100.00 % \n",
      "Test Accuracy = 0.9861111111111112\n",
      "- Learning Progress : 99.90 % \r"
     ]
    },
    {
     "name": "stderr",
     "output_type": "stream",
     "text": [
      "\r",
      "145it [4:40:16, 133.19s/it]"
     ]
    },
    {
     "name": "stdout",
     "output_type": "stream",
     "text": [
      "144earning Progress : 100.00 % \n",
      "Test Accuracy = 0.9862068965517241\n",
      "- Learning Progress : 99.80 % \r"
     ]
    },
    {
     "name": "stderr",
     "output_type": "stream",
     "text": [
      "\r",
      "146it [4:42:31, 133.55s/it]"
     ]
    },
    {
     "name": "stdout",
     "output_type": "stream",
     "text": [
      "145earning Progress : 100.00 % \n",
      "Test Accuracy = 0.9863013698630136\n",
      "- Learning Progress : 99.80 % \r"
     ]
    },
    {
     "name": "stderr",
     "output_type": "stream",
     "text": [
      "\r",
      "147it [4:44:46, 134.20s/it]"
     ]
    },
    {
     "name": "stdout",
     "output_type": "stream",
     "text": [
      "146earning Progress : 100.00 % \n",
      "Test Accuracy = 0.9863945578231292\n",
      "- Learning Progress : 99.80 % \r"
     ]
    },
    {
     "name": "stderr",
     "output_type": "stream",
     "text": [
      "\r",
      "148it [4:47:02, 134.73s/it]"
     ]
    },
    {
     "name": "stdout",
     "output_type": "stream",
     "text": [
      "147earning Progress : 100.00 % \n",
      "Test Accuracy = 0.9864864864864865\n",
      "- Learning Progress : 100.00 % \r"
     ]
    },
    {
     "name": "stderr",
     "output_type": "stream",
     "text": [
      "\r",
      "149it [4:49:17, 134.86s/it]"
     ]
    },
    {
     "name": "stdout",
     "output_type": "stream",
     "text": [
      "148\n",
      "Test Accuracy = 0.9865771812080537\n",
      "- Learning Progress : 99.80 % \r"
     ]
    },
    {
     "name": "stderr",
     "output_type": "stream",
     "text": [
      "\r",
      "150it [4:51:32, 134.66s/it]"
     ]
    },
    {
     "name": "stdout",
     "output_type": "stream",
     "text": [
      "149earning Progress : 100.00 % \n",
      "Test Accuracy = 0.9866666666666667\n",
      "- Learning Progress : 99.80 % \r"
     ]
    },
    {
     "name": "stderr",
     "output_type": "stream",
     "text": [
      "\r",
      "151it [4:53:44, 134.11s/it]"
     ]
    },
    {
     "name": "stdout",
     "output_type": "stream",
     "text": [
      "150earning Progress : 100.00 % \n",
      "Test Accuracy = 0.9867549668874173\n",
      "- Learning Progress : 99.90 % \r"
     ]
    },
    {
     "name": "stderr",
     "output_type": "stream",
     "text": [
      "\r",
      "152it [4:55:57, 133.48s/it]"
     ]
    },
    {
     "name": "stdout",
     "output_type": "stream",
     "text": [
      "151earning Progress : 100.00 % \n",
      "Test Accuracy = 0.9868421052631579\n",
      "- Learning Progress : 99.80 % \r"
     ]
    },
    {
     "name": "stderr",
     "output_type": "stream",
     "text": [
      "\r",
      "153it [4:58:06, 132.15s/it]"
     ]
    },
    {
     "name": "stdout",
     "output_type": "stream",
     "text": [
      "152earning Progress : 100.00 % \n",
      "Test Accuracy = 0.9869281045751634\n",
      "- Learning Progress : 99.90 % \r"
     ]
    },
    {
     "name": "stderr",
     "output_type": "stream",
     "text": [
      "\r",
      "154it [5:00:18, 132.14s/it]"
     ]
    },
    {
     "name": "stdout",
     "output_type": "stream",
     "text": [
      "153earning Progress : 100.00 % \n",
      "Test Accuracy = 0.987012987012987\n",
      "- Learning Progress : 99.90 % \r"
     ]
    },
    {
     "name": "stderr",
     "output_type": "stream",
     "text": [
      "\r",
      "155it [5:02:26, 130.88s/it]"
     ]
    },
    {
     "name": "stdout",
     "output_type": "stream",
     "text": [
      "154earning Progress : 100.00 % \n",
      "Test Accuracy = 0.9870967741935484\n",
      "- Learning Progress : 99.80 % \r"
     ]
    },
    {
     "name": "stderr",
     "output_type": "stream",
     "text": [
      "\r",
      "156it [5:04:35, 130.38s/it]"
     ]
    },
    {
     "name": "stdout",
     "output_type": "stream",
     "text": [
      "155earning Progress : 100.00 % \n",
      "Test Accuracy = 0.9871794871794872\n",
      "- Learning Progress : 99.80 % \r"
     ]
    },
    {
     "name": "stderr",
     "output_type": "stream",
     "text": [
      "\r",
      "157it [5:06:47, 130.95s/it]"
     ]
    },
    {
     "name": "stdout",
     "output_type": "stream",
     "text": [
      "156earning Progress : 100.00 % \n",
      "Test Accuracy = 0.9872611464968153\n",
      "- Learning Progress : 99.90 % \r"
     ]
    },
    {
     "name": "stderr",
     "output_type": "stream",
     "text": [
      "\r",
      "158it [5:08:57, 130.74s/it]"
     ]
    },
    {
     "name": "stdout",
     "output_type": "stream",
     "text": [
      "157earning Progress : 100.00 % \n",
      "Test Accuracy = 0.9873417721518988\n",
      "- Learning Progress : 99.80 % \r"
     ]
    },
    {
     "name": "stderr",
     "output_type": "stream",
     "text": [
      "\r",
      "159it [5:11:11, 131.63s/it]"
     ]
    },
    {
     "name": "stdout",
     "output_type": "stream",
     "text": [
      "158earning Progress : 100.00 % \n",
      "Test Accuracy = 0.9874213836477987\n",
      "- Learning Progress : 99.90 % \r"
     ]
    },
    {
     "name": "stderr",
     "output_type": "stream",
     "text": [
      "\r",
      "160it [5:13:25, 132.31s/it]"
     ]
    },
    {
     "name": "stdout",
     "output_type": "stream",
     "text": [
      "159earning Progress : 100.00 % \n",
      "Test Accuracy = 0.9875\n",
      "- Learning Progress : 99.80 % \r"
     ]
    },
    {
     "name": "stderr",
     "output_type": "stream",
     "text": [
      "\r",
      "161it [5:15:32, 130.83s/it]"
     ]
    },
    {
     "name": "stdout",
     "output_type": "stream",
     "text": [
      "160earning Progress : 100.00 % \n",
      "Test Accuracy = 0.9875776397515528\n",
      "- Learning Progress : 99.80 % \r"
     ]
    },
    {
     "name": "stderr",
     "output_type": "stream",
     "text": [
      "\r",
      "162it [5:17:48, 132.25s/it]"
     ]
    },
    {
     "name": "stdout",
     "output_type": "stream",
     "text": [
      "161earning Progress : 100.00 % \n",
      "Test Accuracy = 0.9876543209876543\n",
      "- Learning Progress : 99.90 % \r"
     ]
    },
    {
     "name": "stderr",
     "output_type": "stream",
     "text": [
      "\r",
      "163it [5:20:03, 133.25s/it]"
     ]
    },
    {
     "name": "stdout",
     "output_type": "stream",
     "text": [
      "162earning Progress : 100.00 % \n",
      "Test Accuracy = 0.9877300613496932\n",
      "- Learning Progress : 99.80 % \r"
     ]
    },
    {
     "name": "stderr",
     "output_type": "stream",
     "text": [
      "\r",
      "164it [5:22:13, 132.09s/it]"
     ]
    },
    {
     "name": "stdout",
     "output_type": "stream",
     "text": [
      "163earning Progress : 100.00 % \n",
      "Test Accuracy = 0.9878048780487805\n",
      "- Learning Progress : 99.90 % \r"
     ]
    },
    {
     "name": "stderr",
     "output_type": "stream",
     "text": [
      "\r",
      "165it [5:24:17, 129.73s/it]"
     ]
    },
    {
     "name": "stdout",
     "output_type": "stream",
     "text": [
      "164earning Progress : 100.00 % \n",
      "Test Accuracy = 0.9878787878787879\n",
      "- Learning Progress : 99.90 % \r"
     ]
    },
    {
     "name": "stderr",
     "output_type": "stream",
     "text": [
      "\r",
      "166it [5:26:34, 131.87s/it]"
     ]
    },
    {
     "name": "stdout",
     "output_type": "stream",
     "text": [
      "165earning Progress : 100.00 % \n",
      "Test Accuracy = 0.9879518072289156\n",
      "- Learning Progress : 99.80 % \r"
     ]
    },
    {
     "name": "stderr",
     "output_type": "stream",
     "text": [
      "\r",
      "167it [5:28:47, 132.23s/it]"
     ]
    },
    {
     "name": "stdout",
     "output_type": "stream",
     "text": [
      "166earning Progress : 100.00 % \n",
      "Test Accuracy = 0.9880239520958084\n",
      "- Learning Progress : 99.90 % \r"
     ]
    },
    {
     "name": "stderr",
     "output_type": "stream",
     "text": [
      "\r",
      "168it [5:30:59, 132.06s/it]"
     ]
    },
    {
     "name": "stdout",
     "output_type": "stream",
     "text": [
      "167earning Progress : 100.00 % \n",
      "Test Accuracy = 0.9880952380952381\n",
      "- Learning Progress : 99.90 % \r"
     ]
    },
    {
     "name": "stderr",
     "output_type": "stream",
     "text": [
      "\r",
      "169it [5:33:12, 132.37s/it]"
     ]
    },
    {
     "name": "stdout",
     "output_type": "stream",
     "text": [
      "168earning Progress : 100.00 % \n",
      "Test Accuracy = 0.9881656804733728\n",
      "- Learning Progress : 99.80 % \r"
     ]
    },
    {
     "name": "stderr",
     "output_type": "stream",
     "text": [
      "\r",
      "170it [5:35:25, 132.67s/it]"
     ]
    },
    {
     "name": "stdout",
     "output_type": "stream",
     "text": [
      "169earning Progress : 100.00 % \n",
      "Test Accuracy = 0.9882352941176471\n",
      "- Learning Progress : 99.80 % \r"
     ]
    },
    {
     "name": "stderr",
     "output_type": "stream",
     "text": [
      "\r",
      "172it [5:39:57, 134.14s/it]"
     ]
    },
    {
     "name": "stdout",
     "output_type": "stream",
     "text": [
      "171earning Progress : 100.00 % \n",
      "Test Accuracy = 0.9883720930232558\n",
      "- Learning Progress : 99.80 % \r"
     ]
    },
    {
     "name": "stderr",
     "output_type": "stream",
     "text": [
      "\r",
      "173it [5:42:10, 133.81s/it]"
     ]
    },
    {
     "name": "stdout",
     "output_type": "stream",
     "text": [
      "172earning Progress : 100.00 % \n",
      "Test Accuracy = 0.9884393063583815\n",
      "- Learning Progress : 99.80 % \r"
     ]
    },
    {
     "name": "stderr",
     "output_type": "stream",
     "text": [
      "\r",
      "174it [5:44:18, 132.16s/it]"
     ]
    },
    {
     "name": "stdout",
     "output_type": "stream",
     "text": [
      "173earning Progress : 100.00 % \n",
      "Test Accuracy = 0.9885057471264368\n",
      "- Learning Progress : 99.80 % \r"
     ]
    },
    {
     "name": "stderr",
     "output_type": "stream",
     "text": [
      "\r",
      "175it [5:46:32, 132.82s/it]"
     ]
    },
    {
     "name": "stdout",
     "output_type": "stream",
     "text": [
      "174earning Progress : 100.00 % \n",
      "Test Accuracy = 0.9885714285714285\n",
      "- Learning Progress : 99.80 % \r"
     ]
    },
    {
     "name": "stderr",
     "output_type": "stream",
     "text": [
      "\r",
      "176it [5:48:48, 133.59s/it]"
     ]
    },
    {
     "name": "stdout",
     "output_type": "stream",
     "text": [
      "175earning Progress : 100.00 % \n",
      "Test Accuracy = 0.9886363636363636\n",
      "- Learning Progress : 99.80 % \r"
     ]
    },
    {
     "name": "stderr",
     "output_type": "stream",
     "text": [
      "\r",
      "177it [5:51:01, 133.51s/it]"
     ]
    },
    {
     "name": "stdout",
     "output_type": "stream",
     "text": [
      "176earning Progress : 100.00 % \n",
      "Test Accuracy = 0.9887005649717514\n",
      "- Learning Progress : 99.80 % \r"
     ]
    },
    {
     "name": "stderr",
     "output_type": "stream",
     "text": [
      "\r",
      "178it [5:53:12, 132.70s/it]"
     ]
    },
    {
     "name": "stdout",
     "output_type": "stream",
     "text": [
      "177earning Progress : 100.00 % \n",
      "Test Accuracy = 0.9887640449438202\n",
      "- Learning Progress : 99.90 % \r"
     ]
    },
    {
     "name": "stderr",
     "output_type": "stream",
     "text": [
      "\r",
      "179it [5:55:25, 132.82s/it]"
     ]
    },
    {
     "name": "stdout",
     "output_type": "stream",
     "text": [
      "178earning Progress : 100.00 % \n",
      "Test Accuracy = 0.9888268156424581\n",
      "- Learning Progress : 99.90 % \r"
     ]
    },
    {
     "name": "stderr",
     "output_type": "stream",
     "text": [
      "\r",
      "180it [5:57:36, 132.23s/it]"
     ]
    },
    {
     "name": "stdout",
     "output_type": "stream",
     "text": [
      "179earning Progress : 100.00 % \n",
      "Test Accuracy = 0.9888888888888889\n",
      "- Learning Progress : 99.80 % \r"
     ]
    },
    {
     "name": "stderr",
     "output_type": "stream",
     "text": [
      "\r",
      "181it [5:59:51, 133.08s/it]"
     ]
    },
    {
     "name": "stdout",
     "output_type": "stream",
     "text": [
      "180earning Progress : 100.00 % \n",
      "Test Accuracy = 0.988950276243094\n",
      "- Learning Progress : 99.80 % \r"
     ]
    },
    {
     "name": "stderr",
     "output_type": "stream",
     "text": [
      "\r",
      "182it [6:02:05, 133.35s/it]"
     ]
    },
    {
     "name": "stdout",
     "output_type": "stream",
     "text": [
      "181earning Progress : 100.00 % \n",
      "Test Accuracy = 0.989010989010989\n",
      "- Learning Progress : 99.90 % \r"
     ]
    },
    {
     "name": "stderr",
     "output_type": "stream",
     "text": [
      "\r",
      "183it [6:04:20, 134.00s/it]"
     ]
    },
    {
     "name": "stdout",
     "output_type": "stream",
     "text": [
      "182earning Progress : 100.00 % \n",
      "Test Accuracy = 0.9890710382513661\n",
      "- Learning Progress : 99.80 % \r"
     ]
    },
    {
     "name": "stderr",
     "output_type": "stream",
     "text": [
      "\r",
      "184it [6:06:32, 133.35s/it]"
     ]
    },
    {
     "name": "stdout",
     "output_type": "stream",
     "text": [
      "183earning Progress : 100.00 % \n",
      "Test Accuracy = 0.9891304347826086\n",
      "- Learning Progress : 99.90 % \r"
     ]
    },
    {
     "name": "stderr",
     "output_type": "stream",
     "text": [
      "\r",
      "185it [6:08:44, 132.79s/it]"
     ]
    },
    {
     "name": "stdout",
     "output_type": "stream",
     "text": [
      "184earning Progress : 100.00 % \n",
      "Test Accuracy = 0.9891891891891892\n",
      "- Learning Progress : 99.70 % \r"
     ]
    },
    {
     "name": "stderr",
     "output_type": "stream",
     "text": [
      "\r",
      "186it [6:10:58, 133.10s/it]"
     ]
    },
    {
     "name": "stdout",
     "output_type": "stream",
     "text": [
      "- Learning Progress : 99.80 % \r",
      "- Learning Progress : 99.90 % \r",
      "- Learning Progress : 100.00 % \r",
      "185\n",
      "Test Accuracy = 0.989247311827957\n"
     ]
    },
    {
     "name": "stderr",
     "output_type": "stream",
     "text": [
      "\r",
      "187it [6:10:58, 93.40s/it] "
     ]
    },
    {
     "name": "stdout",
     "output_type": "stream",
     "text": [
      "186\n",
      "- Learning Progress : 99.90 % \r"
     ]
    },
    {
     "name": "stderr",
     "output_type": "stream",
     "text": [
      "\r",
      "188it [6:13:08, 104.13s/it]"
     ]
    },
    {
     "name": "stdout",
     "output_type": "stream",
     "text": [
      "187earning Progress : 100.00 % \n",
      "Test Accuracy = 0.9840425531914894\n",
      "- Learning Progress : 99.90 % \r"
     ]
    },
    {
     "name": "stderr",
     "output_type": "stream",
     "text": [
      "\r",
      "189it [6:15:20, 112.70s/it]"
     ]
    },
    {
     "name": "stdout",
     "output_type": "stream",
     "text": [
      "- Learning Progress : 100.00 % \r",
      "188\n",
      "Test Accuracy = 0.9841269841269841\n"
     ]
    },
    {
     "name": "stderr",
     "output_type": "stream",
     "text": [
      "\r",
      "190it [6:15:20, 78.96s/it] "
     ]
    },
    {
     "name": "stdout",
     "output_type": "stream",
     "text": [
      "189\n",
      "- Learning Progress : 99.90 % \r"
     ]
    },
    {
     "name": "stderr",
     "output_type": "stream",
     "text": [
      "\r",
      "191it [6:17:32, 94.67s/it]"
     ]
    },
    {
     "name": "stdout",
     "output_type": "stream",
     "text": [
      "190earning Progress : 100.00 % \n",
      "Test Accuracy = 0.9790575916230366\n",
      "- Learning Progress : 99.90 % \r"
     ]
    },
    {
     "name": "stderr",
     "output_type": "stream",
     "text": [
      "\r",
      "192it [6:19:46, 106.40s/it]"
     ]
    },
    {
     "name": "stdout",
     "output_type": "stream",
     "text": [
      "- Learning Progress : 100.00 % \r",
      "191\n",
      "Test Accuracy = 0.9791666666666666\n"
     ]
    },
    {
     "name": "stderr",
     "output_type": "stream",
     "text": [
      "\r",
      "193it [6:19:46, 74.57s/it] "
     ]
    },
    {
     "name": "stdout",
     "output_type": "stream",
     "text": [
      "192\n",
      "- Learning Progress : 99.90 % \r"
     ]
    },
    {
     "name": "stderr",
     "output_type": "stream",
     "text": [
      "\r",
      "194it [6:22:02, 93.12s/it]"
     ]
    },
    {
     "name": "stdout",
     "output_type": "stream",
     "text": [
      "193earning Progress : 100.00 % \n",
      "Test Accuracy = 0.9742268041237113\n",
      "- Learning Progress : 99.80 % \r"
     ]
    },
    {
     "name": "stderr",
     "output_type": "stream",
     "text": [
      "\r",
      "195it [6:24:13, 104.41s/it]"
     ]
    },
    {
     "name": "stdout",
     "output_type": "stream",
     "text": [
      "194earning Progress : 100.00 % \n",
      "Test Accuracy = 0.9743589743589743\n",
      "- Learning Progress : 99.80 % \r"
     ]
    },
    {
     "name": "stderr",
     "output_type": "stream",
     "text": [
      "\r",
      "196it [6:26:25, 112.75s/it]"
     ]
    },
    {
     "name": "stdout",
     "output_type": "stream",
     "text": [
      "195earning Progress : 100.00 % \n",
      "Test Accuracy = 0.9744897959183674\n",
      "- Learning Progress : 99.90 % \r"
     ]
    },
    {
     "name": "stderr",
     "output_type": "stream",
     "text": [
      "\r",
      "197it [6:28:36, 118.09s/it]"
     ]
    },
    {
     "name": "stdout",
     "output_type": "stream",
     "text": [
      "196earning Progress : 100.00 % \n",
      "Test Accuracy = 0.9746192893401016\n",
      "- Learning Progress : 99.90 % \r"
     ]
    },
    {
     "name": "stderr",
     "output_type": "stream",
     "text": [
      "\r",
      "198it [6:30:49, 122.77s/it]"
     ]
    },
    {
     "name": "stdout",
     "output_type": "stream",
     "text": [
      "197earning Progress : 100.00 % \n",
      "Test Accuracy = 0.9747474747474747\n",
      "- Learning Progress : 99.80 % \r"
     ]
    },
    {
     "name": "stderr",
     "output_type": "stream",
     "text": [
      "\r",
      "199it [6:33:04, 126.42s/it]"
     ]
    },
    {
     "name": "stdout",
     "output_type": "stream",
     "text": [
      "198earning Progress : 100.00 % \n",
      "Test Accuracy = 0.9748743718592965\n",
      "- Learning Progress : 99.80 % \r"
     ]
    },
    {
     "name": "stderr",
     "output_type": "stream",
     "text": [
      "\r",
      "200it [6:35:13, 126.99s/it]"
     ]
    },
    {
     "name": "stdout",
     "output_type": "stream",
     "text": [
      "199earning Progress : 100.00 % \n",
      "Test Accuracy = 0.975\n",
      "- Learning Progress : 100.00 % \r"
     ]
    },
    {
     "name": "stderr",
     "output_type": "stream",
     "text": [
      "\r",
      "201it [6:37:25, 128.44s/it]"
     ]
    },
    {
     "name": "stdout",
     "output_type": "stream",
     "text": [
      "200\n",
      "Test Accuracy = 0.9751243781094527\n"
     ]
    },
    {
     "name": "stderr",
     "output_type": "stream",
     "text": [
      "\r",
      "202it [6:37:25, 89.99s/it] "
     ]
    },
    {
     "name": "stdout",
     "output_type": "stream",
     "text": [
      "201\n",
      "- Learning Progress : 99.90 % \r"
     ]
    },
    {
     "name": "stderr",
     "output_type": "stream",
     "text": [
      "\r",
      "203it [6:39:39, 103.12s/it]"
     ]
    },
    {
     "name": "stdout",
     "output_type": "stream",
     "text": [
      "202earning Progress : 100.00 % \n",
      "Test Accuracy = 0.9704433497536946\n",
      "- Learning Progress : 99.80 % \r"
     ]
    },
    {
     "name": "stderr",
     "output_type": "stream",
     "text": [
      "\r",
      "204it [6:41:49, 111.26s/it]"
     ]
    },
    {
     "name": "stdout",
     "output_type": "stream",
     "text": [
      "203earning Progress : 100.00 % \n",
      "Test Accuracy = 0.9705882352941176\n",
      "- Learning Progress : 99.80 % \r"
     ]
    },
    {
     "name": "stderr",
     "output_type": "stream",
     "text": [
      "\r",
      "205it [6:44:02, 117.86s/it]"
     ]
    },
    {
     "name": "stdout",
     "output_type": "stream",
     "text": [
      "204earning Progress : 100.00 % \n",
      "Test Accuracy = 0.9707317073170731\n",
      "- Learning Progress : 99.80 % \r"
     ]
    },
    {
     "name": "stderr",
     "output_type": "stream",
     "text": [
      "\r",
      "206it [6:46:12, 121.39s/it]"
     ]
    },
    {
     "name": "stdout",
     "output_type": "stream",
     "text": [
      "205earning Progress : 100.00 % \n",
      "Test Accuracy = 0.970873786407767\n",
      "- Learning Progress : 99.90 % \r"
     ]
    },
    {
     "name": "stderr",
     "output_type": "stream",
     "text": [
      "\r",
      "207it [6:48:27, 125.69s/it]"
     ]
    },
    {
     "name": "stdout",
     "output_type": "stream",
     "text": [
      "206earning Progress : 100.00 % \n",
      "Test Accuracy = 0.9710144927536232\n",
      "- Learning Progress : 99.80 % \r"
     ]
    },
    {
     "name": "stderr",
     "output_type": "stream",
     "text": [
      "\r",
      "208it [6:50:40, 127.64s/it]"
     ]
    },
    {
     "name": "stdout",
     "output_type": "stream",
     "text": [
      "207earning Progress : 100.00 % \n",
      "Test Accuracy = 0.9711538461538461\n",
      "- Learning Progress : 99.90 % \r"
     ]
    },
    {
     "name": "stderr",
     "output_type": "stream",
     "text": [
      "\r",
      "209it [6:52:51, 128.85s/it]"
     ]
    },
    {
     "name": "stdout",
     "output_type": "stream",
     "text": [
      "208earning Progress : 100.00 % \n",
      "Test Accuracy = 0.9712918660287081\n",
      "- Learning Progress : 99.90 % \r"
     ]
    },
    {
     "name": "stderr",
     "output_type": "stream",
     "text": [
      "\r",
      "210it [6:55:08, 131.26s/it]"
     ]
    },
    {
     "name": "stdout",
     "output_type": "stream",
     "text": [
      "209earning Progress : 100.00 % \n",
      "Test Accuracy = 0.9714285714285714\n",
      "- Learning Progress : 99.90 % \r"
     ]
    },
    {
     "name": "stderr",
     "output_type": "stream",
     "text": [
      "\r",
      "211it [6:57:19, 131.19s/it]"
     ]
    },
    {
     "name": "stdout",
     "output_type": "stream",
     "text": [
      "210earning Progress : 100.00 % \n",
      "Test Accuracy = 0.9715639810426541\n",
      "- Learning Progress : 99.70 % \r"
     ]
    },
    {
     "name": "stderr",
     "output_type": "stream",
     "text": [
      "\r",
      "212it [6:59:34, 132.16s/it]"
     ]
    },
    {
     "name": "stdout",
     "output_type": "stream",
     "text": [
      "211earning Progress : 100.00 % \n",
      "Test Accuracy = 0.9716981132075472\n",
      "- Learning Progress : 99.90 % \r"
     ]
    },
    {
     "name": "stderr",
     "output_type": "stream",
     "text": [
      "\r",
      "213it [7:01:51, 133.81s/it]"
     ]
    },
    {
     "name": "stdout",
     "output_type": "stream",
     "text": [
      "- Learning Progress : 100.00 % \r",
      "212\n",
      "Test Accuracy = 0.971830985915493\n"
     ]
    },
    {
     "name": "stderr",
     "output_type": "stream",
     "text": [
      "\r",
      "214it [7:01:52, 93.82s/it] "
     ]
    },
    {
     "name": "stdout",
     "output_type": "stream",
     "text": [
      "213\n",
      "- Learning Progress : 99.90 % \r"
     ]
    },
    {
     "name": "stderr",
     "output_type": "stream",
     "text": [
      "\r",
      "215it [7:04:00, 104.16s/it]"
     ]
    },
    {
     "name": "stdout",
     "output_type": "stream",
     "text": [
      "214earning Progress : 100.00 % \n",
      "Test Accuracy = 0.9674418604651163\n",
      "- Learning Progress : 99.80 % \r"
     ]
    },
    {
     "name": "stderr",
     "output_type": "stream",
     "text": [
      "\r",
      "216it [7:06:19, 114.65s/it]"
     ]
    },
    {
     "name": "stdout",
     "output_type": "stream",
     "text": [
      "- Learning Progress : 99.90 % \r",
      "- Learning Progress : 100.00 % \r",
      "215\n",
      "Test Accuracy = 0.9675925925925926\n"
     ]
    },
    {
     "name": "stderr",
     "output_type": "stream",
     "text": [
      "\r",
      "217it [7:06:19, 80.33s/it] "
     ]
    },
    {
     "name": "stdout",
     "output_type": "stream",
     "text": [
      "216\n",
      "- Learning Progress : 99.90 % \r"
     ]
    },
    {
     "name": "stderr",
     "output_type": "stream",
     "text": [
      "\r",
      "218it [7:08:32, 95.88s/it]"
     ]
    },
    {
     "name": "stdout",
     "output_type": "stream",
     "text": [
      "- Learning Progress : 100.00 % \r",
      "217\n",
      "Test Accuracy = 0.963302752293578\n"
     ]
    },
    {
     "name": "stderr",
     "output_type": "stream",
     "text": [
      "\r",
      "219it [7:08:32, 67.19s/it]"
     ]
    },
    {
     "name": "stdout",
     "output_type": "stream",
     "text": [
      "218\n",
      "- Learning Progress : 99.80 % \r"
     ]
    },
    {
     "name": "stderr",
     "output_type": "stream",
     "text": [
      "\r",
      "220it [7:10:42, 86.08s/it]"
     ]
    },
    {
     "name": "stdout",
     "output_type": "stream",
     "text": [
      "219earning Progress : 100.00 % \n",
      "Test Accuracy = 0.9590909090909091\n",
      "- Learning Progress : 99.80 % \r"
     ]
    },
    {
     "name": "stderr",
     "output_type": "stream",
     "text": [
      "\r",
      "221it [7:12:55, 100.01s/it]"
     ]
    },
    {
     "name": "stdout",
     "output_type": "stream",
     "text": [
      "220earning Progress : 100.00 % \n",
      "Test Accuracy = 0.9592760180995475\n",
      "- Learning Progress : 99.90 % \r"
     ]
    },
    {
     "name": "stderr",
     "output_type": "stream",
     "text": [
      "\r",
      "222it [7:15:00, 107.64s/it]"
     ]
    },
    {
     "name": "stdout",
     "output_type": "stream",
     "text": [
      "221earning Progress : 100.00 % \n",
      "Test Accuracy = 0.9594594594594594\n",
      "- Learning Progress : 99.90 % \r"
     ]
    },
    {
     "name": "stderr",
     "output_type": "stream",
     "text": [
      "\r",
      "223it [7:17:12, 115.08s/it]"
     ]
    },
    {
     "name": "stdout",
     "output_type": "stream",
     "text": [
      "222earning Progress : 100.00 % \n",
      "Test Accuracy = 0.9596412556053812\n",
      "- Learning Progress : 99.90 % \r"
     ]
    },
    {
     "name": "stderr",
     "output_type": "stream",
     "text": [
      "\r",
      "224it [7:19:20, 118.74s/it]"
     ]
    },
    {
     "name": "stdout",
     "output_type": "stream",
     "text": [
      "223earning Progress : 100.00 % \n",
      "Test Accuracy = 0.9598214285714286\n",
      "- Learning Progress : 99.90 % \r"
     ]
    },
    {
     "name": "stderr",
     "output_type": "stream",
     "text": [
      "\r",
      "225it [7:21:28, 121.54s/it]"
     ]
    },
    {
     "name": "stdout",
     "output_type": "stream",
     "text": [
      "224earning Progress : 100.00 % \n",
      "Test Accuracy = 0.96\n",
      "- Learning Progress : 99.90 % \r"
     ]
    },
    {
     "name": "stderr",
     "output_type": "stream",
     "text": [
      "\r",
      "226it [7:23:39, 124.46s/it]"
     ]
    },
    {
     "name": "stdout",
     "output_type": "stream",
     "text": [
      "225earning Progress : 100.00 % \n",
      "Test Accuracy = 0.9601769911504425\n",
      "- Learning Progress : 99.80 % \r"
     ]
    },
    {
     "name": "stderr",
     "output_type": "stream",
     "text": [
      "\r",
      "227it [7:25:48, 125.92s/it]"
     ]
    },
    {
     "name": "stdout",
     "output_type": "stream",
     "text": [
      "226earning Progress : 100.00 % \n",
      "Test Accuracy = 0.960352422907489\n",
      "- Learning Progress : 99.90 % \r"
     ]
    },
    {
     "name": "stderr",
     "output_type": "stream",
     "text": [
      "\r",
      "228it [7:27:59, 127.23s/it]"
     ]
    },
    {
     "name": "stdout",
     "output_type": "stream",
     "text": [
      "227earning Progress : 100.00 % \n",
      "Test Accuracy = 0.9605263157894737\n",
      "- Learning Progress : 99.90 % \r"
     ]
    },
    {
     "name": "stderr",
     "output_type": "stream",
     "text": [
      "\r",
      "229it [7:30:09, 128.29s/it]"
     ]
    },
    {
     "name": "stdout",
     "output_type": "stream",
     "text": [
      "228earning Progress : 100.00 % \n",
      "Test Accuracy = 0.9606986899563319\n",
      "- Learning Progress : 99.80 % \r"
     ]
    },
    {
     "name": "stderr",
     "output_type": "stream",
     "text": [
      "\r",
      "230it [7:32:21, 129.20s/it]"
     ]
    },
    {
     "name": "stdout",
     "output_type": "stream",
     "text": [
      "229earning Progress : 100.00 % \n",
      "Test Accuracy = 0.9608695652173913\n",
      "- Learning Progress : 99.80 % \r"
     ]
    },
    {
     "name": "stderr",
     "output_type": "stream",
     "text": [
      "\r",
      "231it [7:34:30, 129.25s/it]"
     ]
    },
    {
     "name": "stdout",
     "output_type": "stream",
     "text": [
      "230earning Progress : 100.00 % \n",
      "Test Accuracy = 0.961038961038961\n",
      "- Learning Progress : 99.90 % \r"
     ]
    },
    {
     "name": "stderr",
     "output_type": "stream",
     "text": [
      "\r",
      "232it [7:36:40, 129.51s/it]"
     ]
    },
    {
     "name": "stdout",
     "output_type": "stream",
     "text": [
      "231earning Progress : 100.00 % \n",
      "Test Accuracy = 0.9612068965517241\n",
      "- Learning Progress : 99.90 % \r"
     ]
    },
    {
     "name": "stderr",
     "output_type": "stream",
     "text": [
      "\r",
      "233it [7:38:51, 129.91s/it]"
     ]
    },
    {
     "name": "stdout",
     "output_type": "stream",
     "text": [
      "232earning Progress : 100.00 % \n",
      "Test Accuracy = 0.9613733905579399\n",
      "- Learning Progress : 99.90 % \r"
     ]
    },
    {
     "name": "stderr",
     "output_type": "stream",
     "text": [
      "\r",
      "234it [7:41:00, 129.59s/it]"
     ]
    },
    {
     "name": "stdout",
     "output_type": "stream",
     "text": [
      "233earning Progress : 100.00 % \n",
      "Test Accuracy = 0.9615384615384616\n",
      "- Learning Progress : 99.80 % \r"
     ]
    },
    {
     "name": "stderr",
     "output_type": "stream",
     "text": [
      "\r",
      "235it [7:43:15, 131.18s/it]"
     ]
    },
    {
     "name": "stdout",
     "output_type": "stream",
     "text": [
      "234earning Progress : 100.00 % \n",
      "Test Accuracy = 0.9617021276595744\n",
      "- Learning Progress : 99.90 % \r"
     ]
    },
    {
     "name": "stderr",
     "output_type": "stream",
     "text": [
      "\r",
      "236it [7:45:21, 129.57s/it]"
     ]
    },
    {
     "name": "stdout",
     "output_type": "stream",
     "text": [
      "235earning Progress : 100.00 % \n",
      "Test Accuracy = 0.961864406779661\n",
      "- Learning Progress : 99.80 % \r"
     ]
    },
    {
     "name": "stderr",
     "output_type": "stream",
     "text": [
      "\r",
      "237it [7:47:25, 128.08s/it]"
     ]
    },
    {
     "name": "stdout",
     "output_type": "stream",
     "text": [
      "236earning Progress : 100.00 % \n",
      "Test Accuracy = 0.9620253164556962\n",
      "- Learning Progress : 99.90 % \r"
     ]
    },
    {
     "name": "stderr",
     "output_type": "stream",
     "text": [
      "\r",
      "238it [7:49:31, 127.31s/it]"
     ]
    },
    {
     "name": "stdout",
     "output_type": "stream",
     "text": [
      "237earning Progress : 100.00 % \n",
      "Test Accuracy = 0.9621848739495799\n",
      "- Learning Progress : 99.80 % \r"
     ]
    },
    {
     "name": "stderr",
     "output_type": "stream",
     "text": [
      "\r",
      "239it [7:51:41, 128.30s/it]"
     ]
    },
    {
     "name": "stdout",
     "output_type": "stream",
     "text": [
      "238earning Progress : 100.00 % \n",
      "Test Accuracy = 0.9623430962343096\n",
      "- Learning Progress : 99.90 % \r"
     ]
    },
    {
     "name": "stderr",
     "output_type": "stream",
     "text": [
      "\r",
      "240it [7:53:54, 129.66s/it]"
     ]
    },
    {
     "name": "stdout",
     "output_type": "stream",
     "text": [
      "239earning Progress : 100.00 % \n",
      "Test Accuracy = 0.9625\n",
      "- Learning Progress : 99.90 % \r"
     ]
    },
    {
     "name": "stderr",
     "output_type": "stream",
     "text": [
      "\r",
      "241it [7:56:06, 130.23s/it]"
     ]
    },
    {
     "name": "stdout",
     "output_type": "stream",
     "text": [
      "240earning Progress : 100.00 % \n",
      "Test Accuracy = 0.9626556016597511\n",
      "- Learning Progress : 99.80 % \r"
     ]
    },
    {
     "name": "stderr",
     "output_type": "stream",
     "text": [
      "\r",
      "242it [7:58:16, 130.38s/it]"
     ]
    },
    {
     "name": "stdout",
     "output_type": "stream",
     "text": [
      "241earning Progress : 100.00 % \n",
      "Test Accuracy = 0.9628099173553719\n",
      "- Learning Progress : 99.80 % \r"
     ]
    },
    {
     "name": "stderr",
     "output_type": "stream",
     "text": [
      "\r",
      "243it [8:00:30, 131.23s/it]"
     ]
    },
    {
     "name": "stdout",
     "output_type": "stream",
     "text": [
      "242earning Progress : 100.00 % \n",
      "Test Accuracy = 0.9629629629629629\n",
      "- Learning Progress : 99.90 % \r"
     ]
    },
    {
     "name": "stderr",
     "output_type": "stream",
     "text": [
      "\r",
      "244it [8:02:44, 132.02s/it]"
     ]
    },
    {
     "name": "stdout",
     "output_type": "stream",
     "text": [
      "243earning Progress : 100.00 % \n",
      "Test Accuracy = 0.9631147540983607\n",
      "- Learning Progress : 99.90 % \r"
     ]
    },
    {
     "name": "stderr",
     "output_type": "stream",
     "text": [
      "\r",
      "245it [8:04:50, 130.44s/it]"
     ]
    },
    {
     "name": "stdout",
     "output_type": "stream",
     "text": [
      "244earning Progress : 100.00 % \n",
      "Test Accuracy = 0.963265306122449\n",
      "- Learning Progress : 99.90 % \r"
     ]
    },
    {
     "name": "stderr",
     "output_type": "stream",
     "text": [
      "\r",
      "246it [8:06:58, 129.52s/it]"
     ]
    },
    {
     "name": "stdout",
     "output_type": "stream",
     "text": [
      "245earning Progress : 100.00 % \n",
      "Test Accuracy = 0.9634146341463414\n",
      "- Learning Progress : 99.90 % \r"
     ]
    },
    {
     "name": "stderr",
     "output_type": "stream",
     "text": [
      "\r",
      "247it [8:09:09, 130.16s/it]"
     ]
    },
    {
     "name": "stdout",
     "output_type": "stream",
     "text": [
      "246earning Progress : 100.00 % \n",
      "Test Accuracy = 0.9635627530364372\n",
      "- Learning Progress : 99.90 % \r"
     ]
    },
    {
     "name": "stderr",
     "output_type": "stream",
     "text": [
      "\r",
      "248it [8:11:14, 128.62s/it]"
     ]
    },
    {
     "name": "stdout",
     "output_type": "stream",
     "text": [
      "247earning Progress : 100.00 % \n",
      "Test Accuracy = 0.9637096774193549\n",
      "- Learning Progress : 99.80 % \r"
     ]
    },
    {
     "name": "stderr",
     "output_type": "stream",
     "text": [
      "\r",
      "249it [8:13:23, 128.65s/it]"
     ]
    },
    {
     "name": "stdout",
     "output_type": "stream",
     "text": [
      "248earning Progress : 100.00 % \n",
      "Test Accuracy = 0.963855421686747\n",
      "- Learning Progress : 99.90 % \r"
     ]
    },
    {
     "name": "stderr",
     "output_type": "stream",
     "text": [
      "\r",
      "250it [8:15:36, 129.95s/it]"
     ]
    },
    {
     "name": "stdout",
     "output_type": "stream",
     "text": [
      "249earning Progress : 100.00 % \n",
      "Test Accuracy = 0.964\n",
      "- Learning Progress : 99.80 % \r"
     ]
    },
    {
     "name": "stderr",
     "output_type": "stream",
     "text": [
      "\r",
      "251it [8:17:37, 127.36s/it]"
     ]
    },
    {
     "name": "stdout",
     "output_type": "stream",
     "text": [
      "250earning Progress : 100.00 % \n",
      "Test Accuracy = 0.9641434262948207\n",
      "- Learning Progress : 99.90 % \r"
     ]
    },
    {
     "name": "stderr",
     "output_type": "stream",
     "text": [
      "\r",
      "252it [8:19:46, 127.75s/it]"
     ]
    },
    {
     "name": "stdout",
     "output_type": "stream",
     "text": [
      "251earning Progress : 100.00 % \n",
      "Test Accuracy = 0.9642857142857143\n",
      "- Learning Progress : 99.80 % \r"
     ]
    },
    {
     "name": "stderr",
     "output_type": "stream",
     "text": [
      "\r",
      "253it [8:22:01, 129.96s/it]"
     ]
    },
    {
     "name": "stdout",
     "output_type": "stream",
     "text": [
      "252earning Progress : 100.00 % \n",
      "Test Accuracy = 0.9644268774703557\n",
      "- Learning Progress : 99.90 % \r"
     ]
    },
    {
     "name": "stderr",
     "output_type": "stream",
     "text": [
      "\r",
      "254it [8:24:17, 131.85s/it]"
     ]
    },
    {
     "name": "stdout",
     "output_type": "stream",
     "text": [
      "253earning Progress : 100.00 % \n",
      "Test Accuracy = 0.9645669291338582\n",
      "- Learning Progress : 99.90 % \r"
     ]
    },
    {
     "name": "stderr",
     "output_type": "stream",
     "text": [
      "\r",
      "255it [8:26:31, 132.43s/it]"
     ]
    },
    {
     "name": "stdout",
     "output_type": "stream",
     "text": [
      "254earning Progress : 100.00 % \n",
      "Test Accuracy = 0.9647058823529412\n",
      "- Learning Progress : 99.80 % \r"
     ]
    },
    {
     "name": "stderr",
     "output_type": "stream",
     "text": [
      "\r",
      "256it [8:28:44, 132.47s/it]"
     ]
    },
    {
     "name": "stdout",
     "output_type": "stream",
     "text": [
      "255earning Progress : 100.00 % \n",
      "Test Accuracy = 0.96484375\n",
      "- Learning Progress : 99.80 % \r"
     ]
    },
    {
     "name": "stderr",
     "output_type": "stream",
     "text": [
      "\r",
      "257it [8:30:58, 133.09s/it]"
     ]
    },
    {
     "name": "stdout",
     "output_type": "stream",
     "text": [
      "256earning Progress : 100.00 % \n",
      "Test Accuracy = 0.9649805447470817\n",
      "- Learning Progress : 99.90 % \r"
     ]
    },
    {
     "name": "stderr",
     "output_type": "stream",
     "text": [
      "\r",
      "258it [8:33:14, 133.74s/it]"
     ]
    },
    {
     "name": "stdout",
     "output_type": "stream",
     "text": [
      "257earning Progress : 100.00 % \n",
      "Test Accuracy = 0.9651162790697675\n",
      "- Learning Progress : 99.80 % \r"
     ]
    },
    {
     "name": "stderr",
     "output_type": "stream",
     "text": [
      "\r",
      "259it [8:35:27, 133.67s/it]"
     ]
    },
    {
     "name": "stdout",
     "output_type": "stream",
     "text": [
      "258earning Progress : 100.00 % \n",
      "Test Accuracy = 0.9652509652509652\n",
      "- Learning Progress : 99.90 % \r"
     ]
    },
    {
     "name": "stderr",
     "output_type": "stream",
     "text": [
      "\r",
      "260it [8:37:42, 134.06s/it]"
     ]
    },
    {
     "name": "stdout",
     "output_type": "stream",
     "text": [
      "259earning Progress : 100.00 % \n",
      "Test Accuracy = 0.9653846153846154\n",
      "- Learning Progress : 99.90 % \r"
     ]
    },
    {
     "name": "stderr",
     "output_type": "stream",
     "text": [
      "\r",
      "261it [8:39:50, 132.10s/it]"
     ]
    },
    {
     "name": "stdout",
     "output_type": "stream",
     "text": [
      "260earning Progress : 100.00 % \n",
      "Test Accuracy = 0.9655172413793104\n",
      "- Learning Progress : 99.90 % \r"
     ]
    },
    {
     "name": "stderr",
     "output_type": "stream",
     "text": [
      "\r",
      "262it [8:42:01, 131.76s/it]"
     ]
    },
    {
     "name": "stdout",
     "output_type": "stream",
     "text": [
      "- Learning Progress : 100.00 % \r",
      "261\n",
      "Test Accuracy = 0.9656488549618321\n"
     ]
    },
    {
     "name": "stderr",
     "output_type": "stream",
     "text": [
      "\r",
      "263it [8:42:01, 92.29s/it] "
     ]
    },
    {
     "name": "stdout",
     "output_type": "stream",
     "text": [
      "262\n",
      "- Learning Progress : 99.80 % \r"
     ]
    },
    {
     "name": "stderr",
     "output_type": "stream",
     "text": [
      "\r",
      "264it [8:44:15, 104.89s/it]"
     ]
    },
    {
     "name": "stdout",
     "output_type": "stream",
     "text": [
      "263earning Progress : 100.00 % \n",
      "Test Accuracy = 0.9621212121212122\n",
      "- Learning Progress : 99.90 % \r"
     ]
    },
    {
     "name": "stderr",
     "output_type": "stream",
     "text": [
      "\r",
      "265it [8:46:30, 113.91s/it]"
     ]
    },
    {
     "name": "stdout",
     "output_type": "stream",
     "text": [
      "264earning Progress : 100.00 % \n",
      "Test Accuracy = 0.9622641509433962\n",
      "- Learning Progress : 99.90 % \r"
     ]
    },
    {
     "name": "stderr",
     "output_type": "stream",
     "text": [
      "\r",
      "266it [8:48:45, 120.12s/it]"
     ]
    },
    {
     "name": "stdout",
     "output_type": "stream",
     "text": [
      "- Learning Progress : 100.00 % \r",
      "265\n",
      "Test Accuracy = 0.9624060150375939\n"
     ]
    },
    {
     "name": "stderr",
     "output_type": "stream",
     "text": [
      "\r",
      "267it [8:48:45, 84.15s/it] "
     ]
    },
    {
     "name": "stdout",
     "output_type": "stream",
     "text": [
      "266\n",
      "- Learning Progress : 99.80 % \r"
     ]
    },
    {
     "name": "stderr",
     "output_type": "stream",
     "text": [
      "\r",
      "268it [8:51:03, 100.45s/it]"
     ]
    },
    {
     "name": "stdout",
     "output_type": "stream",
     "text": [
      "267earning Progress : 100.00 % \n",
      "Test Accuracy = 0.9589552238805971\n",
      "- Learning Progress : 99.90 % \r"
     ]
    },
    {
     "name": "stderr",
     "output_type": "stream",
     "text": [
      "\r",
      "269it [8:53:14, 109.59s/it]"
     ]
    },
    {
     "name": "stdout",
     "output_type": "stream",
     "text": [
      "268earning Progress : 100.00 % \n",
      "Test Accuracy = 0.9591078066914498\n",
      "- Learning Progress : 99.90 % \r"
     ]
    },
    {
     "name": "stderr",
     "output_type": "stream",
     "text": [
      "\r",
      "270it [8:55:28, 116.85s/it]"
     ]
    },
    {
     "name": "stdout",
     "output_type": "stream",
     "text": [
      "269earning Progress : 100.00 % \n",
      "Test Accuracy = 0.9592592592592593\n",
      "- Learning Progress : 99.90 % \r"
     ]
    },
    {
     "name": "stderr",
     "output_type": "stream",
     "text": [
      "\r",
      "271it [8:57:39, 121.03s/it]"
     ]
    },
    {
     "name": "stdout",
     "output_type": "stream",
     "text": [
      "270earning Progress : 100.00 % \n",
      "Test Accuracy = 0.959409594095941\n",
      "- Learning Progress : 99.80 % \r"
     ]
    },
    {
     "name": "stderr",
     "output_type": "stream",
     "text": [
      "\r",
      "272it [8:59:53, 125.07s/it]"
     ]
    },
    {
     "name": "stdout",
     "output_type": "stream",
     "text": [
      "271earning Progress : 100.00 % \n",
      "Test Accuracy = 0.9595588235294118\n",
      "- Learning Progress : 99.80 % \r"
     ]
    },
    {
     "name": "stderr",
     "output_type": "stream",
     "text": [
      "\r",
      "273it [9:02:09, 128.38s/it]"
     ]
    },
    {
     "name": "stdout",
     "output_type": "stream",
     "text": [
      "272earning Progress : 100.00 % \n",
      "Test Accuracy = 0.9597069597069597\n",
      "- Learning Progress : 99.80 % \r"
     ]
    },
    {
     "name": "stderr",
     "output_type": "stream",
     "text": [
      "\r",
      "274it [9:04:22, 129.59s/it]"
     ]
    },
    {
     "name": "stdout",
     "output_type": "stream",
     "text": [
      "273earning Progress : 100.00 % \n",
      "Test Accuracy = 0.9598540145985401\n",
      "- Learning Progress : 99.80 % \r"
     ]
    },
    {
     "name": "stderr",
     "output_type": "stream",
     "text": [
      "\r",
      "275it [9:06:37, 131.40s/it]"
     ]
    },
    {
     "name": "stdout",
     "output_type": "stream",
     "text": [
      "274earning Progress : 100.00 % \n",
      "Test Accuracy = 0.96\n",
      "- Learning Progress : 99.80 % \r"
     ]
    },
    {
     "name": "stderr",
     "output_type": "stream",
     "text": [
      "\r",
      "276it [9:08:52, 132.38s/it]"
     ]
    },
    {
     "name": "stdout",
     "output_type": "stream",
     "text": [
      "275earning Progress : 100.00 % \n",
      "Test Accuracy = 0.9601449275362319\n",
      "- Learning Progress : 99.90 % \r"
     ]
    },
    {
     "name": "stderr",
     "output_type": "stream",
     "text": [
      "\r",
      "277it [9:11:10, 133.92s/it]"
     ]
    },
    {
     "name": "stdout",
     "output_type": "stream",
     "text": [
      "276earning Progress : 100.00 % \n",
      "Test Accuracy = 0.9602888086642599\n",
      "- Learning Progress : 99.90 % \r"
     ]
    },
    {
     "name": "stderr",
     "output_type": "stream",
     "text": [
      "\r",
      "278it [9:13:15, 131.38s/it]"
     ]
    },
    {
     "name": "stdout",
     "output_type": "stream",
     "text": [
      "277earning Progress : 100.00 % \n",
      "Test Accuracy = 0.960431654676259\n",
      "- Learning Progress : 99.90 % \r"
     ]
    },
    {
     "name": "stderr",
     "output_type": "stream",
     "text": [
      "\r",
      "279it [9:15:28, 131.90s/it]"
     ]
    },
    {
     "name": "stdout",
     "output_type": "stream",
     "text": [
      "278earning Progress : 100.00 % \n",
      "Test Accuracy = 0.9605734767025089\n",
      "- Learning Progress : 99.90 % \r"
     ]
    },
    {
     "name": "stderr",
     "output_type": "stream",
     "text": [
      "\r",
      "280it [9:17:45, 133.43s/it]"
     ]
    },
    {
     "name": "stdout",
     "output_type": "stream",
     "text": [
      "279earning Progress : 100.00 % \n",
      "Test Accuracy = 0.9607142857142857\n",
      "- Learning Progress : 99.80 % \r"
     ]
    },
    {
     "name": "stderr",
     "output_type": "stream",
     "text": [
      "\r",
      "281it [9:19:59, 133.65s/it]"
     ]
    },
    {
     "name": "stdout",
     "output_type": "stream",
     "text": [
      "280earning Progress : 100.00 % \n",
      "Test Accuracy = 0.9608540925266904\n",
      "- Learning Progress : 99.90 % \r"
     ]
    },
    {
     "name": "stderr",
     "output_type": "stream",
     "text": [
      "\r",
      "282it [9:22:15, 134.16s/it]"
     ]
    },
    {
     "name": "stdout",
     "output_type": "stream",
     "text": [
      "281earning Progress : 100.00 % \n",
      "Test Accuracy = 0.9609929078014184\n",
      "- Learning Progress : 99.90 % \r"
     ]
    },
    {
     "name": "stderr",
     "output_type": "stream",
     "text": [
      "\r",
      "283it [9:24:33, 135.51s/it]"
     ]
    },
    {
     "name": "stdout",
     "output_type": "stream",
     "text": [
      "282earning Progress : 100.00 % \n",
      "Test Accuracy = 0.9611307420494699\n",
      "- Learning Progress : 99.90 % \r"
     ]
    },
    {
     "name": "stderr",
     "output_type": "stream",
     "text": [
      "\r",
      "284it [9:26:50, 135.78s/it]"
     ]
    },
    {
     "name": "stdout",
     "output_type": "stream",
     "text": [
      "283earning Progress : 100.00 % \n",
      "Test Accuracy = 0.9612676056338029\n",
      "- Learning Progress : 99.90 % \r"
     ]
    },
    {
     "name": "stderr",
     "output_type": "stream",
     "text": [
      "\r",
      "285it [9:29:02, 134.64s/it]"
     ]
    },
    {
     "name": "stdout",
     "output_type": "stream",
     "text": [
      "284earning Progress : 100.00 % \n",
      "Test Accuracy = 0.9614035087719298\n",
      "- Learning Progress : 99.80 % \r"
     ]
    },
    {
     "name": "stderr",
     "output_type": "stream",
     "text": [
      "\r",
      "286it [9:31:16, 134.66s/it]"
     ]
    },
    {
     "name": "stdout",
     "output_type": "stream",
     "text": [
      "285earning Progress : 100.00 % \n",
      "Test Accuracy = 0.9615384615384616\n",
      "- Learning Progress : 99.90 % \r"
     ]
    },
    {
     "name": "stderr",
     "output_type": "stream",
     "text": [
      "\r",
      "287it [9:33:27, 133.45s/it]"
     ]
    },
    {
     "name": "stdout",
     "output_type": "stream",
     "text": [
      "286earning Progress : 100.00 % \n",
      "Test Accuracy = 0.9616724738675958\n",
      "- Learning Progress : 99.90 % \r"
     ]
    },
    {
     "name": "stderr",
     "output_type": "stream",
     "text": [
      "\r",
      "288it [9:35:43, 134.11s/it]"
     ]
    },
    {
     "name": "stdout",
     "output_type": "stream",
     "text": [
      "287earning Progress : 100.00 % \n",
      "Test Accuracy = 0.9618055555555556\n",
      "- Learning Progress : 99.80 % \r"
     ]
    },
    {
     "name": "stderr",
     "output_type": "stream",
     "text": [
      "\r",
      "289it [9:37:57, 134.13s/it]"
     ]
    },
    {
     "name": "stdout",
     "output_type": "stream",
     "text": [
      "288earning Progress : 100.00 % \n",
      "Test Accuracy = 0.9619377162629758\n",
      "- Learning Progress : 99.80 % \r"
     ]
    },
    {
     "name": "stderr",
     "output_type": "stream",
     "text": [
      "\r",
      "290it [9:40:10, 133.86s/it]"
     ]
    },
    {
     "name": "stdout",
     "output_type": "stream",
     "text": [
      "289earning Progress : 100.00 % \n",
      "Test Accuracy = 0.9620689655172414\n",
      "- Learning Progress : 99.80 % \r"
     ]
    },
    {
     "name": "stderr",
     "output_type": "stream",
     "text": [
      "\r",
      "291it [9:41:49, 123.23s/it]"
     ]
    },
    {
     "name": "stdout",
     "output_type": "stream",
     "text": [
      "290earning Progress : 100.00 % \n",
      "Test Accuracy = 0.9621993127147767\n",
      "- Learning Progress : 99.80 % \r"
     ]
    },
    {
     "name": "stderr",
     "output_type": "stream",
     "text": [
      "\r",
      "292it [9:43:21, 114.08s/it]"
     ]
    },
    {
     "name": "stdout",
     "output_type": "stream",
     "text": [
      "291earning Progress : 100.00 % \n",
      "Test Accuracy = 0.9623287671232876\n",
      "- Learning Progress : 99.90 % \r"
     ]
    },
    {
     "name": "stderr",
     "output_type": "stream",
     "text": [
      "\r",
      "293it [9:44:49, 106.09s/it]"
     ]
    },
    {
     "name": "stdout",
     "output_type": "stream",
     "text": [
      "292earning Progress : 100.00 % \n",
      "Test Accuracy = 0.962457337883959\n",
      "- Learning Progress : 99.90 % \r"
     ]
    },
    {
     "name": "stderr",
     "output_type": "stream",
     "text": [
      "\r",
      "294it [9:46:11, 99.02s/it] "
     ]
    },
    {
     "name": "stdout",
     "output_type": "stream",
     "text": [
      "293earning Progress : 100.00 % \n",
      "Test Accuracy = 0.9625850340136054\n",
      "- Learning Progress : 99.70 % \r"
     ]
    },
    {
     "name": "stderr",
     "output_type": "stream",
     "text": [
      "\r",
      "295it [9:47:40, 96.01s/it]"
     ]
    },
    {
     "name": "stdout",
     "output_type": "stream",
     "text": [
      "294earning Progress : 100.00 % \n",
      "Test Accuracy = 0.9627118644067797\n",
      "- Learning Progress : 99.70 % \r"
     ]
    },
    {
     "name": "stderr",
     "output_type": "stream",
     "text": [
      "\r",
      "296it [9:49:11, 94.54s/it]"
     ]
    },
    {
     "name": "stdout",
     "output_type": "stream",
     "text": [
      "295earning Progress : 100.00 % \n",
      "Test Accuracy = 0.9628378378378378\n",
      "- Learning Progress : 99.70 % \r"
     ]
    },
    {
     "name": "stderr",
     "output_type": "stream",
     "text": [
      "\r",
      "297it [9:50:46, 94.66s/it]"
     ]
    },
    {
     "name": "stdout",
     "output_type": "stream",
     "text": [
      "296earning Progress : 100.00 % \n",
      "Test Accuracy = 0.9629629629629629\n",
      "- Learning Progress : 99.70 % \r"
     ]
    },
    {
     "name": "stderr",
     "output_type": "stream",
     "text": [
      "\r",
      "298it [9:52:17, 93.61s/it]"
     ]
    },
    {
     "name": "stdout",
     "output_type": "stream",
     "text": [
      "297earning Progress : 100.00 % \n",
      "Test Accuracy = 0.9630872483221476\n",
      "- Learning Progress : 99.80 % \r"
     ]
    },
    {
     "name": "stderr",
     "output_type": "stream",
     "text": [
      "\r",
      "299it [9:53:50, 93.36s/it]"
     ]
    },
    {
     "name": "stdout",
     "output_type": "stream",
     "text": [
      "298earning Progress : 100.00 % \n",
      "Test Accuracy = 0.9632107023411371\n",
      "- Learning Progress : 100.00 % \r"
     ]
    },
    {
     "name": "stderr",
     "output_type": "stream",
     "text": [
      "\r",
      "300it [9:55:20, 92.38s/it]"
     ]
    },
    {
     "name": "stdout",
     "output_type": "stream",
     "text": [
      "299\n",
      "Test Accuracy = 0.9633333333333334\n",
      "- Learning Progress : 99.80 % \r"
     ]
    },
    {
     "name": "stderr",
     "output_type": "stream",
     "text": [
      "\r",
      "301it [9:56:46, 90.30s/it]"
     ]
    },
    {
     "name": "stdout",
     "output_type": "stream",
     "text": [
      "300earning Progress : 100.00 % \n",
      "Test Accuracy = 0.9634551495016611\n",
      "- Learning Progress : 99.80 % \r"
     ]
    },
    {
     "name": "stderr",
     "output_type": "stream",
     "text": [
      "\r",
      "302it [9:58:15, 90.00s/it]"
     ]
    },
    {
     "name": "stdout",
     "output_type": "stream",
     "text": [
      "301earning Progress : 100.00 % \n",
      "Test Accuracy = 0.9635761589403974\n",
      "- Learning Progress : 99.70 % \r"
     ]
    },
    {
     "name": "stderr",
     "output_type": "stream",
     "text": [
      "\r",
      "303it [9:59:41, 88.83s/it]"
     ]
    },
    {
     "name": "stdout",
     "output_type": "stream",
     "text": [
      "302earning Progress : 100.00 % \n",
      "Test Accuracy = 0.9636963696369637\n",
      "- Learning Progress : 99.90 % \r"
     ]
    },
    {
     "name": "stderr",
     "output_type": "stream",
     "text": [
      "\r",
      "304it [10:01:22, 92.39s/it]"
     ]
    },
    {
     "name": "stdout",
     "output_type": "stream",
     "text": [
      "303earning Progress : 100.00 % \n",
      "Test Accuracy = 0.9638157894736842\n",
      "- Learning Progress : 99.80 % \r"
     ]
    },
    {
     "name": "stderr",
     "output_type": "stream",
     "text": [
      "\r",
      "305it [10:03:41, 106.31s/it]"
     ]
    },
    {
     "name": "stdout",
     "output_type": "stream",
     "text": [
      "304earning Progress : 100.00 % \n",
      "Test Accuracy = 0.9639344262295082\n",
      "- Learning Progress : 99.80 % \r"
     ]
    },
    {
     "name": "stderr",
     "output_type": "stream",
     "text": [
      "\r",
      "306it [10:06:00, 116.23s/it]"
     ]
    },
    {
     "name": "stdout",
     "output_type": "stream",
     "text": [
      "305earning Progress : 100.00 % \n",
      "Test Accuracy = 0.9640522875816994\n",
      "- Learning Progress : 99.90 % \r"
     ]
    },
    {
     "name": "stderr",
     "output_type": "stream",
     "text": [
      "\r",
      "307it [10:08:20, 123.34s/it]"
     ]
    },
    {
     "name": "stdout",
     "output_type": "stream",
     "text": [
      "306earning Progress : 100.00 % \n",
      "Test Accuracy = 0.9641693811074918\n",
      "- Learning Progress : 99.70 % \r"
     ]
    },
    {
     "name": "stderr",
     "output_type": "stream",
     "text": [
      "\r",
      "308it [10:10:40, 128.29s/it]"
     ]
    },
    {
     "name": "stdout",
     "output_type": "stream",
     "text": [
      "307earning Progress : 100.00 % \n",
      "Test Accuracy = 0.9642857142857143\n",
      "- Learning Progress : 99.90 % \r"
     ]
    },
    {
     "name": "stderr",
     "output_type": "stream",
     "text": [
      "\r",
      "309it [10:12:54, 130.03s/it]"
     ]
    },
    {
     "name": "stdout",
     "output_type": "stream",
     "text": [
      "308earning Progress : 100.00 % \n",
      "Test Accuracy = 0.9644012944983819\n",
      "- Learning Progress : 99.90 % \r"
     ]
    },
    {
     "name": "stderr",
     "output_type": "stream",
     "text": [
      "\r",
      "310it [10:15:16, 133.74s/it]"
     ]
    },
    {
     "name": "stdout",
     "output_type": "stream",
     "text": [
      "309earning Progress : 100.00 % \n",
      "Test Accuracy = 0.964516129032258\n",
      "- Learning Progress : 99.70 % \r"
     ]
    },
    {
     "name": "stderr",
     "output_type": "stream",
     "text": [
      "\r",
      "311it [10:17:31, 134.00s/it]"
     ]
    },
    {
     "name": "stdout",
     "output_type": "stream",
     "text": [
      "310earning Progress : 100.00 % \n",
      "Test Accuracy = 0.9646302250803859\n",
      "- Learning Progress : 99.90 % \r"
     ]
    },
    {
     "name": "stderr",
     "output_type": "stream",
     "text": [
      "\r",
      "312it [10:19:49, 135.34s/it]"
     ]
    },
    {
     "name": "stdout",
     "output_type": "stream",
     "text": [
      "311earning Progress : 100.00 % \n",
      "Test Accuracy = 0.9647435897435898\n",
      "- Learning Progress : 99.90 % \r"
     ]
    },
    {
     "name": "stderr",
     "output_type": "stream",
     "text": [
      "\r",
      "313it [10:22:12, 137.58s/it]"
     ]
    },
    {
     "name": "stdout",
     "output_type": "stream",
     "text": [
      "312earning Progress : 100.00 % \n",
      "Test Accuracy = 0.9648562300319489\n",
      "- Learning Progress : 99.80 % \r"
     ]
    },
    {
     "name": "stderr",
     "output_type": "stream",
     "text": [
      "\r",
      "314it [10:24:31, 138.00s/it]"
     ]
    },
    {
     "name": "stdout",
     "output_type": "stream",
     "text": [
      "313earning Progress : 100.00 % \n",
      "Test Accuracy = 0.964968152866242\n",
      "- Learning Progress : 99.90 % \r"
     ]
    },
    {
     "name": "stderr",
     "output_type": "stream",
     "text": [
      "\r",
      "315it [10:26:57, 140.24s/it]"
     ]
    },
    {
     "name": "stdout",
     "output_type": "stream",
     "text": [
      "314earning Progress : 100.00 % \n",
      "Test Accuracy = 0.9650793650793651\n",
      "- Learning Progress : 99.80 % \r"
     ]
    },
    {
     "name": "stderr",
     "output_type": "stream",
     "text": [
      "\r",
      "316it [10:29:17, 140.28s/it]"
     ]
    },
    {
     "name": "stdout",
     "output_type": "stream",
     "text": [
      "315earning Progress : 100.00 % \n",
      "Test Accuracy = 0.9651898734177216\n",
      "- Learning Progress : 99.90 % \r"
     ]
    },
    {
     "name": "stderr",
     "output_type": "stream",
     "text": [
      "\r",
      "317it [10:31:39, 140.77s/it]"
     ]
    },
    {
     "name": "stdout",
     "output_type": "stream",
     "text": [
      "316earning Progress : 100.00 % \n",
      "Test Accuracy = 0.9652996845425867\n",
      "- Learning Progress : 99.80 % \r"
     ]
    },
    {
     "name": "stderr",
     "output_type": "stream",
     "text": [
      "\r",
      "318it [10:34:02, 141.53s/it]"
     ]
    },
    {
     "name": "stdout",
     "output_type": "stream",
     "text": [
      "317earning Progress : 100.00 % \n",
      "Test Accuracy = 0.9654088050314465\n",
      "- Learning Progress : 99.80 % \r"
     ]
    },
    {
     "name": "stderr",
     "output_type": "stream",
     "text": [
      "\r",
      "319it [10:36:24, 141.66s/it]"
     ]
    },
    {
     "name": "stdout",
     "output_type": "stream",
     "text": [
      "318earning Progress : 100.00 % \n",
      "Test Accuracy = 0.9655172413793104\n",
      "- Learning Progress : 99.80 % \r"
     ]
    },
    {
     "name": "stderr",
     "output_type": "stream",
     "text": [
      "\r",
      "320it [10:38:47, 141.99s/it]"
     ]
    },
    {
     "name": "stdout",
     "output_type": "stream",
     "text": [
      "319earning Progress : 100.00 % \n",
      "Test Accuracy = 0.965625\n",
      "- Learning Progress : 99.80 % \r"
     ]
    },
    {
     "name": "stderr",
     "output_type": "stream",
     "text": [
      "\r",
      "321it [10:41:10, 142.44s/it]"
     ]
    },
    {
     "name": "stdout",
     "output_type": "stream",
     "text": [
      "320earning Progress : 100.00 % \n",
      "Test Accuracy = 0.9657320872274143\n",
      "- Learning Progress : 99.90 % \r"
     ]
    },
    {
     "name": "stderr",
     "output_type": "stream",
     "text": [
      "\r",
      "322it [10:43:33, 142.55s/it]"
     ]
    },
    {
     "name": "stdout",
     "output_type": "stream",
     "text": [
      "321earning Progress : 100.00 % \n",
      "Test Accuracy = 0.9658385093167702\n",
      "- Learning Progress : 99.80 % \r"
     ]
    },
    {
     "name": "stderr",
     "output_type": "stream",
     "text": [
      "\r",
      "323it [10:45:55, 142.32s/it]"
     ]
    },
    {
     "name": "stdout",
     "output_type": "stream",
     "text": [
      "322earning Progress : 100.00 % \n",
      "Test Accuracy = 0.9659442724458205\n",
      "- Learning Progress : 99.90 % \r"
     ]
    },
    {
     "name": "stderr",
     "output_type": "stream",
     "text": [
      "\r",
      "324it [10:48:11, 140.34s/it]"
     ]
    },
    {
     "name": "stdout",
     "output_type": "stream",
     "text": [
      "323earning Progress : 100.00 % \n",
      "Test Accuracy = 0.9660493827160493\n",
      "- Learning Progress : 99.80 % \r"
     ]
    },
    {
     "name": "stderr",
     "output_type": "stream",
     "text": [
      "\r",
      "325it [10:50:31, 140.38s/it]"
     ]
    },
    {
     "name": "stdout",
     "output_type": "stream",
     "text": [
      "324earning Progress : 100.00 % \n",
      "Test Accuracy = 0.9661538461538461\n",
      "- Learning Progress : 99.80 % \r"
     ]
    },
    {
     "name": "stderr",
     "output_type": "stream",
     "text": [
      "\r",
      "326it [10:52:50, 140.05s/it]"
     ]
    },
    {
     "name": "stdout",
     "output_type": "stream",
     "text": [
      "325earning Progress : 100.00 % \n",
      "Test Accuracy = 0.9662576687116564\n",
      "- Learning Progress : 99.90 % \r"
     ]
    },
    {
     "name": "stderr",
     "output_type": "stream",
     "text": [
      "\r",
      "327it [10:55:10, 139.94s/it]"
     ]
    },
    {
     "name": "stdout",
     "output_type": "stream",
     "text": [
      "326earning Progress : 100.00 % \n",
      "Test Accuracy = 0.9663608562691132\n",
      "- Learning Progress : 99.70 % \r"
     ]
    },
    {
     "name": "stderr",
     "output_type": "stream",
     "text": [
      "\r",
      "328it [10:57:27, 139.09s/it]"
     ]
    },
    {
     "name": "stdout",
     "output_type": "stream",
     "text": [
      "327earning Progress : 100.00 % \n",
      "Test Accuracy = 0.9664634146341463\n",
      "- Learning Progress : 99.80 % \r"
     ]
    },
    {
     "name": "stderr",
     "output_type": "stream",
     "text": [
      "\r",
      "329it [10:59:44, 138.26s/it]"
     ]
    },
    {
     "name": "stdout",
     "output_type": "stream",
     "text": [
      "328earning Progress : 100.00 % \n",
      "Test Accuracy = 0.9665653495440729\n",
      "- Learning Progress : 99.90 % \r"
     ]
    },
    {
     "name": "stderr",
     "output_type": "stream",
     "text": [
      "\r",
      "330it [11:02:06, 139.48s/it]"
     ]
    },
    {
     "name": "stdout",
     "output_type": "stream",
     "text": [
      "329earning Progress : 100.00 % \n",
      "Test Accuracy = 0.9666666666666667\n",
      "- Learning Progress : 99.90 % \r"
     ]
    },
    {
     "name": "stderr",
     "output_type": "stream",
     "text": [
      "\r",
      "331it [11:04:28, 140.18s/it]"
     ]
    },
    {
     "name": "stdout",
     "output_type": "stream",
     "text": [
      "330earning Progress : 100.00 % \n",
      "Test Accuracy = 0.9667673716012085\n",
      "- Learning Progress : 99.90 % \r"
     ]
    },
    {
     "name": "stderr",
     "output_type": "stream",
     "text": [
      "\r",
      "332it [11:06:47, 139.84s/it]"
     ]
    },
    {
     "name": "stdout",
     "output_type": "stream",
     "text": [
      "331earning Progress : 100.00 % \n",
      "Test Accuracy = 0.9668674698795181\n",
      "- Learning Progress : 99.90 % \r"
     ]
    },
    {
     "name": "stderr",
     "output_type": "stream",
     "text": [
      "\r",
      "333it [11:09:05, 139.48s/it]"
     ]
    },
    {
     "name": "stdout",
     "output_type": "stream",
     "text": [
      "332earning Progress : 100.00 % \n",
      "Test Accuracy = 0.9669669669669669\n",
      "- Learning Progress : 99.80 % \r"
     ]
    },
    {
     "name": "stderr",
     "output_type": "stream",
     "text": [
      "\r",
      "334it [11:11:26, 139.85s/it]"
     ]
    },
    {
     "name": "stdout",
     "output_type": "stream",
     "text": [
      "333earning Progress : 100.00 % \n",
      "Test Accuracy = 0.9670658682634731\n",
      "- Learning Progress : 99.80 % \r"
     ]
    },
    {
     "name": "stderr",
     "output_type": "stream",
     "text": [
      "\r",
      "335it [11:13:49, 140.75s/it]"
     ]
    },
    {
     "name": "stdout",
     "output_type": "stream",
     "text": [
      "334earning Progress : 100.00 % \n",
      "Test Accuracy = 0.9671641791044776\n",
      "- Learning Progress : 99.90 % \r"
     ]
    },
    {
     "name": "stderr",
     "output_type": "stream",
     "text": [
      "\r",
      "336it [11:16:07, 139.78s/it]"
     ]
    },
    {
     "name": "stdout",
     "output_type": "stream",
     "text": [
      "335earning Progress : 100.00 % \n",
      "Test Accuracy = 0.9672619047619048\n",
      "- Learning Progress : 99.80 % \r"
     ]
    },
    {
     "name": "stderr",
     "output_type": "stream",
     "text": [
      "\r",
      "337it [11:18:30, 140.75s/it]"
     ]
    },
    {
     "name": "stdout",
     "output_type": "stream",
     "text": [
      "336earning Progress : 100.00 % \n",
      "Test Accuracy = 0.9673590504451038\n",
      "- Learning Progress : 99.80 % \r"
     ]
    },
    {
     "name": "stderr",
     "output_type": "stream",
     "text": [
      "\r",
      "338it [11:20:55, 142.08s/it]"
     ]
    },
    {
     "name": "stdout",
     "output_type": "stream",
     "text": [
      "337earning Progress : 100.00 % \n",
      "Test Accuracy = 0.9674556213017751\n",
      "- Learning Progress : 99.70 % \r"
     ]
    },
    {
     "name": "stderr",
     "output_type": "stream",
     "text": [
      "\r",
      "339it [11:23:16, 141.95s/it]"
     ]
    },
    {
     "name": "stdout",
     "output_type": "stream",
     "text": [
      "338earning Progress : 100.00 % \n",
      "Test Accuracy = 0.967551622418879\n",
      "- Learning Progress : 99.90 % \r"
     ]
    },
    {
     "name": "stderr",
     "output_type": "stream",
     "text": [
      "\r",
      "340it [11:25:38, 141.84s/it]"
     ]
    },
    {
     "name": "stdout",
     "output_type": "stream",
     "text": [
      "339earning Progress : 100.00 % \n",
      "Test Accuracy = 0.9676470588235294\n",
      "- Learning Progress : 99.90 % \r"
     ]
    },
    {
     "name": "stderr",
     "output_type": "stream",
     "text": [
      "\r",
      "341it [11:28:02, 142.57s/it]"
     ]
    },
    {
     "name": "stdout",
     "output_type": "stream",
     "text": [
      "340earning Progress : 100.00 % \n",
      "Test Accuracy = 0.967741935483871\n",
      "- Learning Progress : 99.80 % \r"
     ]
    },
    {
     "name": "stderr",
     "output_type": "stream",
     "text": [
      "\r",
      "342it [11:30:27, 143.38s/it]"
     ]
    },
    {
     "name": "stdout",
     "output_type": "stream",
     "text": [
      "341earning Progress : 100.00 % \n",
      "Test Accuracy = 0.9678362573099415\n",
      "- Learning Progress : 99.90 % \r"
     ]
    },
    {
     "name": "stderr",
     "output_type": "stream",
     "text": [
      "\r",
      "343it [11:32:46, 141.95s/it]"
     ]
    },
    {
     "name": "stdout",
     "output_type": "stream",
     "text": [
      "342earning Progress : 100.00 % \n",
      "Test Accuracy = 0.967930029154519\n",
      "- Learning Progress : 99.90 % \r"
     ]
    },
    {
     "name": "stderr",
     "output_type": "stream",
     "text": [
      "\r",
      "344it [11:35:06, 141.32s/it]"
     ]
    },
    {
     "name": "stdout",
     "output_type": "stream",
     "text": [
      "343earning Progress : 100.00 % \n",
      "Test Accuracy = 0.9680232558139535\n",
      "- Learning Progress : 99.90 % \r"
     ]
    },
    {
     "name": "stderr",
     "output_type": "stream",
     "text": [
      "\r",
      "345it [11:37:25, 140.52s/it]"
     ]
    },
    {
     "name": "stdout",
     "output_type": "stream",
     "text": [
      "344earning Progress : 100.00 % \n",
      "Test Accuracy = 0.9681159420289855\n",
      "- Learning Progress : 99.90 % \r"
     ]
    },
    {
     "name": "stderr",
     "output_type": "stream",
     "text": [
      "\r",
      "346it [11:39:40, 138.85s/it]"
     ]
    },
    {
     "name": "stdout",
     "output_type": "stream",
     "text": [
      "345earning Progress : 100.00 % \n",
      "Test Accuracy = 0.9682080924855492\n",
      "- Learning Progress : 99.90 % \r"
     ]
    },
    {
     "name": "stderr",
     "output_type": "stream",
     "text": [
      "\r",
      "347it [11:42:00, 139.47s/it]"
     ]
    },
    {
     "name": "stdout",
     "output_type": "stream",
     "text": [
      "346earning Progress : 100.00 % \n",
      "Test Accuracy = 0.968299711815562\n",
      "- Learning Progress : 99.80 % \r"
     ]
    },
    {
     "name": "stderr",
     "output_type": "stream",
     "text": [
      "\r",
      "348it [11:44:23, 140.29s/it]"
     ]
    },
    {
     "name": "stdout",
     "output_type": "stream",
     "text": [
      "347earning Progress : 100.00 % \n",
      "Test Accuracy = 0.9683908045977011\n",
      "- Learning Progress : 99.80 % \r"
     ]
    },
    {
     "name": "stderr",
     "output_type": "stream",
     "text": [
      "\r",
      "349it [11:46:40, 139.54s/it]"
     ]
    },
    {
     "name": "stdout",
     "output_type": "stream",
     "text": [
      "348earning Progress : 100.00 % \n",
      "Test Accuracy = 0.9684813753581661\n",
      "- Learning Progress : 99.90 % \r"
     ]
    },
    {
     "name": "stderr",
     "output_type": "stream",
     "text": [
      "\r",
      "350it [11:49:00, 139.42s/it]"
     ]
    },
    {
     "name": "stdout",
     "output_type": "stream",
     "text": [
      "349earning Progress : 100.00 % \n",
      "Test Accuracy = 0.9685714285714285\n",
      "- Learning Progress : 99.80 % \r"
     ]
    },
    {
     "name": "stderr",
     "output_type": "stream",
     "text": [
      "\r",
      "351it [11:51:17, 138.77s/it]"
     ]
    },
    {
     "name": "stdout",
     "output_type": "stream",
     "text": [
      "350earning Progress : 100.00 % \n",
      "Test Accuracy = 0.9686609686609686\n",
      "- Learning Progress : 99.90 % \r"
     ]
    },
    {
     "name": "stderr",
     "output_type": "stream",
     "text": [
      "\r",
      "352it [11:53:38, 139.44s/it]"
     ]
    },
    {
     "name": "stdout",
     "output_type": "stream",
     "text": [
      "351earning Progress : 100.00 % \n",
      "Test Accuracy = 0.96875\n",
      "- Learning Progress : 99.90 % \r"
     ]
    },
    {
     "name": "stderr",
     "output_type": "stream",
     "text": [
      "\r",
      "353it [11:56:00, 140.23s/it]"
     ]
    },
    {
     "name": "stdout",
     "output_type": "stream",
     "text": [
      "352earning Progress : 100.00 % \n",
      "Test Accuracy = 0.9688385269121813\n",
      "- Learning Progress : 99.90 % \r"
     ]
    },
    {
     "name": "stderr",
     "output_type": "stream",
     "text": [
      "\r",
      "354it [11:58:16, 139.01s/it]"
     ]
    },
    {
     "name": "stdout",
     "output_type": "stream",
     "text": [
      "353earning Progress : 100.00 % \n",
      "Test Accuracy = 0.9689265536723164\n",
      "- Learning Progress : 99.90 % \r"
     ]
    },
    {
     "name": "stderr",
     "output_type": "stream",
     "text": [
      "\r",
      "355it [12:00:35, 138.93s/it]"
     ]
    },
    {
     "name": "stdout",
     "output_type": "stream",
     "text": [
      "354earning Progress : 100.00 % \n",
      "Test Accuracy = 0.9690140845070423\n",
      "- Learning Progress : 99.90 % \r"
     ]
    },
    {
     "name": "stderr",
     "output_type": "stream",
     "text": [
      "\r",
      "356it [12:02:59, 140.59s/it]"
     ]
    },
    {
     "name": "stdout",
     "output_type": "stream",
     "text": [
      "355earning Progress : 100.00 % \n",
      "Test Accuracy = 0.9691011235955056\n",
      "- Learning Progress : 99.80 % \r"
     ]
    },
    {
     "name": "stderr",
     "output_type": "stream",
     "text": [
      "\r",
      "357it [12:05:15, 139.11s/it]"
     ]
    },
    {
     "name": "stdout",
     "output_type": "stream",
     "text": [
      "356earning Progress : 100.00 % \n",
      "Test Accuracy = 0.969187675070028\n",
      "- Learning Progress : 99.90 % \r"
     ]
    },
    {
     "name": "stderr",
     "output_type": "stream",
     "text": [
      "\r",
      "358it [12:07:36, 139.79s/it]"
     ]
    },
    {
     "name": "stdout",
     "output_type": "stream",
     "text": [
      "357earning Progress : 100.00 % \n",
      "Test Accuracy = 0.9692737430167597\n",
      "- Learning Progress : 99.80 % \r"
     ]
    },
    {
     "name": "stderr",
     "output_type": "stream",
     "text": [
      "\r",
      "359it [12:09:56, 139.89s/it]"
     ]
    },
    {
     "name": "stdout",
     "output_type": "stream",
     "text": [
      "358earning Progress : 100.00 % \n",
      "Test Accuracy = 0.9693593314763231\n",
      "- Learning Progress : 99.90 % \r"
     ]
    },
    {
     "name": "stderr",
     "output_type": "stream",
     "text": [
      "\r",
      "360it [12:12:12, 138.73s/it]"
     ]
    },
    {
     "name": "stdout",
     "output_type": "stream",
     "text": [
      "- Learning Progress : 100.00 % \r",
      "359\n",
      "Test Accuracy = 0.9694444444444444\n"
     ]
    },
    {
     "name": "stderr",
     "output_type": "stream",
     "text": [
      "\r",
      "361it [12:12:13, 97.19s/it] "
     ]
    },
    {
     "name": "stdout",
     "output_type": "stream",
     "text": [
      "360\n",
      "- Learning Progress : 99.90 % \r"
     ]
    },
    {
     "name": "stderr",
     "output_type": "stream",
     "text": [
      "\r",
      "362it [12:14:33, 110.07s/it]"
     ]
    },
    {
     "name": "stdout",
     "output_type": "stream",
     "text": [
      "361earning Progress : 100.00 % \n",
      "Test Accuracy = 0.9668508287292817\n",
      "- Learning Progress : 99.90 % \r"
     ]
    },
    {
     "name": "stderr",
     "output_type": "stream",
     "text": [
      "\r",
      "363it [12:16:55, 119.58s/it]"
     ]
    },
    {
     "name": "stdout",
     "output_type": "stream",
     "text": [
      "362earning Progress : 100.00 % \n",
      "Test Accuracy = 0.9669421487603306\n",
      "- Learning Progress : 99.90 % \r"
     ]
    },
    {
     "name": "stderr",
     "output_type": "stream",
     "text": [
      "\r",
      "364it [12:19:12, 125.05s/it]"
     ]
    },
    {
     "name": "stdout",
     "output_type": "stream",
     "text": [
      "363earning Progress : 100.00 % \n",
      "Test Accuracy = 0.967032967032967\n",
      "- Learning Progress : 99.90 % \r"
     ]
    },
    {
     "name": "stderr",
     "output_type": "stream",
     "text": [
      "\r",
      "365it [12:21:33, 129.61s/it]"
     ]
    },
    {
     "name": "stdout",
     "output_type": "stream",
     "text": [
      "364earning Progress : 100.00 % \n",
      "Test Accuracy = 0.9671232876712329\n",
      "- Learning Progress : 99.90 % \r"
     ]
    },
    {
     "name": "stderr",
     "output_type": "stream",
     "text": [
      "\r",
      "366it [12:23:49, 131.75s/it]"
     ]
    },
    {
     "name": "stdout",
     "output_type": "stream",
     "text": [
      "365earning Progress : 100.00 % \n",
      "Test Accuracy = 0.9672131147540983\n",
      "- Learning Progress : 99.80 % \r"
     ]
    },
    {
     "name": "stderr",
     "output_type": "stream",
     "text": [
      "\r",
      "367it [12:26:10, 134.40s/it]"
     ]
    },
    {
     "name": "stdout",
     "output_type": "stream",
     "text": [
      "366earning Progress : 100.00 % \n",
      "Test Accuracy = 0.9673024523160763\n",
      "- Learning Progress : 99.90 % \r"
     ]
    },
    {
     "name": "stderr",
     "output_type": "stream",
     "text": [
      "\r",
      "368it [12:28:28, 135.35s/it]"
     ]
    },
    {
     "name": "stdout",
     "output_type": "stream",
     "text": [
      "367earning Progress : 100.00 % \n",
      "Test Accuracy = 0.967391304347826\n",
      "- Learning Progress : 99.80 % \r"
     ]
    },
    {
     "name": "stderr",
     "output_type": "stream",
     "text": [
      "\r",
      "369it [12:30:46, 136.32s/it]"
     ]
    },
    {
     "name": "stdout",
     "output_type": "stream",
     "text": [
      "368earning Progress : 100.00 % \n",
      "Test Accuracy = 0.967479674796748\n",
      "- Learning Progress : 99.90 % \r"
     ]
    },
    {
     "name": "stderr",
     "output_type": "stream",
     "text": [
      "\r",
      "370it [12:33:04, 136.74s/it]"
     ]
    },
    {
     "name": "stdout",
     "output_type": "stream",
     "text": [
      "369earning Progress : 100.00 % \n",
      "Test Accuracy = 0.9675675675675676\n",
      "- Learning Progress : 100.00 % \r"
     ]
    },
    {
     "name": "stderr",
     "output_type": "stream",
     "text": [
      "\r",
      "371it [12:35:22, 137.18s/it]"
     ]
    },
    {
     "name": "stdout",
     "output_type": "stream",
     "text": [
      "370\n",
      "Test Accuracy = 0.967654986522911\n",
      "- Learning Progress : 99.80 % \r"
     ]
    },
    {
     "name": "stderr",
     "output_type": "stream",
     "text": [
      "\r",
      "372it [12:37:44, 138.65s/it]"
     ]
    },
    {
     "name": "stdout",
     "output_type": "stream",
     "text": [
      "371earning Progress : 100.00 % \n",
      "Test Accuracy = 0.967741935483871\n",
      "- Learning Progress : 99.90 % \r"
     ]
    },
    {
     "name": "stderr",
     "output_type": "stream",
     "text": [
      "\r",
      "373it [12:39:59, 137.60s/it]"
     ]
    },
    {
     "name": "stdout",
     "output_type": "stream",
     "text": [
      "372earning Progress : 100.00 % \n",
      "Test Accuracy = 0.967828418230563\n",
      "- Learning Progress : 99.80 % \r"
     ]
    },
    {
     "name": "stderr",
     "output_type": "stream",
     "text": [
      "\r",
      "374it [12:42:18, 137.86s/it]"
     ]
    },
    {
     "name": "stdout",
     "output_type": "stream",
     "text": [
      "373earning Progress : 100.00 % \n",
      "Test Accuracy = 0.9679144385026738\n",
      "- Learning Progress : 99.80 % \r"
     ]
    },
    {
     "name": "stderr",
     "output_type": "stream",
     "text": [
      "\r",
      "375it [12:44:37, 138.21s/it]"
     ]
    },
    {
     "name": "stdout",
     "output_type": "stream",
     "text": [
      "374earning Progress : 100.00 % \n",
      "Test Accuracy = 0.968\n",
      "- Learning Progress : 99.90 % \r"
     ]
    },
    {
     "name": "stderr",
     "output_type": "stream",
     "text": [
      "\r",
      "376it [12:46:53, 137.53s/it]"
     ]
    },
    {
     "name": "stdout",
     "output_type": "stream",
     "text": [
      "375earning Progress : 100.00 % \n",
      "Test Accuracy = 0.9680851063829787\n",
      "- Learning Progress : 99.90 % \r"
     ]
    },
    {
     "name": "stderr",
     "output_type": "stream",
     "text": [
      "\r",
      "377it [12:49:16, 139.25s/it]"
     ]
    },
    {
     "name": "stdout",
     "output_type": "stream",
     "text": [
      "376earning Progress : 100.00 % \n",
      "Test Accuracy = 0.9681697612732095\n",
      "- Learning Progress : 99.80 % \r"
     ]
    },
    {
     "name": "stderr",
     "output_type": "stream",
     "text": [
      "\r",
      "378it [12:51:36, 139.59s/it]"
     ]
    },
    {
     "name": "stdout",
     "output_type": "stream",
     "text": [
      "377earning Progress : 100.00 % \n",
      "Test Accuracy = 0.9682539682539683\n",
      "- Learning Progress : 99.80 % \r"
     ]
    },
    {
     "name": "stderr",
     "output_type": "stream",
     "text": [
      "\r",
      "379it [12:53:58, 140.07s/it]"
     ]
    },
    {
     "name": "stdout",
     "output_type": "stream",
     "text": [
      "378earning Progress : 100.00 % \n",
      "Test Accuracy = 0.9683377308707124\n",
      "- Learning Progress : 99.80 % \r"
     ]
    },
    {
     "name": "stderr",
     "output_type": "stream",
     "text": [
      "\r",
      "380it [12:56:17, 139.83s/it]"
     ]
    },
    {
     "name": "stdout",
     "output_type": "stream",
     "text": [
      "379earning Progress : 100.00 % \n",
      "Test Accuracy = 0.968421052631579\n",
      "- Learning Progress : 99.80 % \r"
     ]
    },
    {
     "name": "stderr",
     "output_type": "stream",
     "text": [
      "\r",
      "381it [12:58:43, 141.61s/it]"
     ]
    },
    {
     "name": "stdout",
     "output_type": "stream",
     "text": [
      "380earning Progress : 100.00 % \n",
      "Test Accuracy = 0.968503937007874\n",
      "- Learning Progress : 99.80 % \r"
     ]
    },
    {
     "name": "stderr",
     "output_type": "stream",
     "text": [
      "\r",
      "382it [13:01:06, 142.17s/it]"
     ]
    },
    {
     "name": "stdout",
     "output_type": "stream",
     "text": [
      "381earning Progress : 100.00 % \n",
      "Test Accuracy = 0.9685863874345549\n",
      "- Learning Progress : 99.90 % \r"
     ]
    },
    {
     "name": "stderr",
     "output_type": "stream",
     "text": [
      "\r",
      "383it [13:03:30, 142.68s/it]"
     ]
    },
    {
     "name": "stdout",
     "output_type": "stream",
     "text": [
      "382earning Progress : 100.00 % \n",
      "Test Accuracy = 0.9686684073107049\n",
      "- Learning Progress : 99.90 % \r"
     ]
    },
    {
     "name": "stderr",
     "output_type": "stream",
     "text": [
      "\r",
      "384it [13:05:45, 140.48s/it]"
     ]
    },
    {
     "name": "stdout",
     "output_type": "stream",
     "text": [
      "383earning Progress : 100.00 % \n",
      "Test Accuracy = 0.96875\n",
      "- Learning Progress : 99.80 % \r"
     ]
    },
    {
     "name": "stderr",
     "output_type": "stream",
     "text": [
      "\r",
      "385it [13:08:00, 138.84s/it]"
     ]
    },
    {
     "name": "stdout",
     "output_type": "stream",
     "text": [
      "384earning Progress : 100.00 % \n",
      "Test Accuracy = 0.9688311688311688\n",
      "- Learning Progress : 99.90 % \r"
     ]
    },
    {
     "name": "stderr",
     "output_type": "stream",
     "text": [
      "\r",
      "386it [13:10:30, 141.97s/it]"
     ]
    },
    {
     "name": "stdout",
     "output_type": "stream",
     "text": [
      "385earning Progress : 100.00 % \n",
      "Test Accuracy = 0.9689119170984456\n",
      "- Learning Progress : 99.80 % \r"
     ]
    },
    {
     "name": "stderr",
     "output_type": "stream",
     "text": [
      "\r",
      "387it [13:12:50, 141.34s/it]"
     ]
    },
    {
     "name": "stdout",
     "output_type": "stream",
     "text": [
      "386earning Progress : 100.00 % \n",
      "Test Accuracy = 0.9689922480620154\n",
      "- Learning Progress : 99.90 % \r"
     ]
    },
    {
     "name": "stderr",
     "output_type": "stream",
     "text": [
      "\r",
      "388it [13:15:12, 141.71s/it]"
     ]
    },
    {
     "name": "stdout",
     "output_type": "stream",
     "text": [
      "- Learning Progress : 100.00 % \r",
      "387\n",
      "Test Accuracy = 0.9690721649484536\n"
     ]
    },
    {
     "name": "stderr",
     "output_type": "stream",
     "text": [
      "\r",
      "389it [13:15:12, 99.27s/it] "
     ]
    },
    {
     "name": "stdout",
     "output_type": "stream",
     "text": [
      "388\n",
      "- Learning Progress : 99.90 % \r"
     ]
    },
    {
     "name": "stderr",
     "output_type": "stream",
     "text": [
      "\r",
      "390it [13:17:30, 110.86s/it]"
     ]
    },
    {
     "name": "stdout",
     "output_type": "stream",
     "text": [
      "389earning Progress : 100.00 % \n",
      "Test Accuracy = 0.9666666666666667\n",
      "- Learning Progress : 99.90 % \r"
     ]
    },
    {
     "name": "stderr",
     "output_type": "stream",
     "text": [
      "\r",
      "391it [13:19:52, 120.00s/it]"
     ]
    },
    {
     "name": "stdout",
     "output_type": "stream",
     "text": [
      "390earning Progress : 100.00 % \n",
      "Test Accuracy = 0.9667519181585678\n",
      "- Learning Progress : 99.80 % \r"
     ]
    },
    {
     "name": "stderr",
     "output_type": "stream",
     "text": [
      "\r",
      "392it [13:22:12, 126.23s/it]"
     ]
    },
    {
     "name": "stdout",
     "output_type": "stream",
     "text": [
      "391earning Progress : 100.00 % \n",
      "Test Accuracy = 0.9668367346938775\n",
      "- Learning Progress : 99.90 % \r"
     ]
    },
    {
     "name": "stderr",
     "output_type": "stream",
     "text": [
      "\r",
      "393it [13:24:29, 129.38s/it]"
     ]
    },
    {
     "name": "stdout",
     "output_type": "stream",
     "text": [
      "392earning Progress : 100.00 % \n",
      "Test Accuracy = 0.9669211195928753\n",
      "- Learning Progress : 99.90 % \r"
     ]
    },
    {
     "name": "stderr",
     "output_type": "stream",
     "text": [
      "\r",
      "394it [13:26:48, 132.37s/it]"
     ]
    },
    {
     "name": "stdout",
     "output_type": "stream",
     "text": [
      "393earning Progress : 100.00 % \n",
      "Test Accuracy = 0.9670050761421319\n",
      "- Learning Progress : 99.90 % \r"
     ]
    },
    {
     "name": "stderr",
     "output_type": "stream",
     "text": [
      "\r",
      "395it [13:29:11, 135.47s/it]"
     ]
    },
    {
     "name": "stdout",
     "output_type": "stream",
     "text": [
      "394earning Progress : 100.00 % \n",
      "Test Accuracy = 0.9670886075949368\n",
      "- Learning Progress : 99.90 % \r"
     ]
    },
    {
     "name": "stderr",
     "output_type": "stream",
     "text": [
      "\r",
      "396it [13:31:35, 138.02s/it]"
     ]
    },
    {
     "name": "stdout",
     "output_type": "stream",
     "text": [
      "395earning Progress : 100.00 % \n",
      "Test Accuracy = 0.9671717171717171\n",
      "- Learning Progress : 99.90 % \r"
     ]
    },
    {
     "name": "stderr",
     "output_type": "stream",
     "text": [
      "\r",
      "397it [13:33:58, 139.36s/it]"
     ]
    },
    {
     "name": "stdout",
     "output_type": "stream",
     "text": [
      "396earning Progress : 100.00 % \n",
      "Test Accuracy = 0.9672544080604534\n",
      "- Learning Progress : 99.80 % \r"
     ]
    },
    {
     "name": "stderr",
     "output_type": "stream",
     "text": [
      "\r",
      "398it [13:36:20, 140.43s/it]"
     ]
    },
    {
     "name": "stdout",
     "output_type": "stream",
     "text": [
      "397earning Progress : 100.00 % \n",
      "Test Accuracy = 0.9673366834170855\n",
      "- Learning Progress : 99.80 % \r"
     ]
    },
    {
     "name": "stderr",
     "output_type": "stream",
     "text": [
      "\r",
      "399it [13:38:46, 142.02s/it]"
     ]
    },
    {
     "name": "stdout",
     "output_type": "stream",
     "text": [
      "398earning Progress : 100.00 % \n",
      "Test Accuracy = 0.9674185463659147\n",
      "- Learning Progress : 99.90 % \r"
     ]
    },
    {
     "name": "stderr",
     "output_type": "stream",
     "text": [
      "\r",
      "400it [13:41:10, 142.50s/it]"
     ]
    },
    {
     "name": "stdout",
     "output_type": "stream",
     "text": [
      "399earning Progress : 100.00 % \n",
      "Test Accuracy = 0.9675\n",
      "- Learning Progress : 99.80 % \r"
     ]
    },
    {
     "name": "stderr",
     "output_type": "stream",
     "text": [
      "\r",
      "401it [13:43:37, 143.83s/it]"
     ]
    },
    {
     "name": "stdout",
     "output_type": "stream",
     "text": [
      "400earning Progress : 100.00 % \n",
      "Test Accuracy = 0.9675810473815462\n",
      "- Learning Progress : 99.80 % \r"
     ]
    },
    {
     "name": "stderr",
     "output_type": "stream",
     "text": [
      "\r",
      "402it [13:45:58, 143.19s/it]"
     ]
    },
    {
     "name": "stdout",
     "output_type": "stream",
     "text": [
      "401earning Progress : 100.00 % \n",
      "Test Accuracy = 0.9676616915422885\n",
      "- Learning Progress : 100.00 % \r"
     ]
    },
    {
     "name": "stderr",
     "output_type": "stream",
     "text": [
      "\r",
      "403it [13:48:16, 141.42s/it]"
     ]
    },
    {
     "name": "stdout",
     "output_type": "stream",
     "text": [
      "402\n",
      "Test Accuracy = 0.967741935483871\n",
      "- Learning Progress : 99.80 % \r"
     ]
    },
    {
     "name": "stderr",
     "output_type": "stream",
     "text": [
      "\r",
      "404it [13:50:35, 140.87s/it]"
     ]
    },
    {
     "name": "stdout",
     "output_type": "stream",
     "text": [
      "403earning Progress : 100.00 % \n",
      "Test Accuracy = 0.9678217821782178\n",
      "- Learning Progress : 93.30 % \r"
     ]
    },
    {
     "name": "stderr",
     "output_type": "stream",
     "text": [
      "IOPub message rate exceeded.\n",
      "The notebook server will temporarily stop sending output\n",
      "to the client in order to avoid crashing it.\n",
      "To change this limit, set the config variable\n",
      "`--NotebookApp.iopub_msg_rate_limit`.\n",
      "\n",
      "Current values:\n",
      "NotebookApp.iopub_msg_rate_limit=1000.0 (msgs/sec)\n",
      "NotebookApp.rate_limit_window=3.0 (secs)\n",
      "\n"
     ]
    },
    {
     "name": "stdout",
     "output_type": "stream",
     "text": [
      "- Learning Progress : 99.80 % \r"
     ]
    },
    {
     "name": "stderr",
     "output_type": "stream",
     "text": [
      "\r",
      "421it [14:30:17, 137.31s/it]"
     ]
    },
    {
     "name": "stdout",
     "output_type": "stream",
     "text": [
      "420earning Progress : 100.00 % \n",
      "Test Accuracy = 0.9691211401425178\n",
      "- Learning Progress : 99.90 % \r"
     ]
    },
    {
     "name": "stderr",
     "output_type": "stream",
     "text": [
      "\r",
      "422it [14:32:42, 139.63s/it]"
     ]
    },
    {
     "name": "stdout",
     "output_type": "stream",
     "text": [
      "421earning Progress : 100.00 % \n",
      "Test Accuracy = 0.9691943127962085\n",
      "- Learning Progress : 99.90 % \r"
     ]
    },
    {
     "name": "stderr",
     "output_type": "stream",
     "text": [
      "\r",
      "423it [14:35:03, 140.16s/it]"
     ]
    },
    {
     "name": "stdout",
     "output_type": "stream",
     "text": [
      "422earning Progress : 100.00 % \n",
      "Test Accuracy = 0.9692671394799054\n",
      "- Learning Progress : 99.90 % \r"
     ]
    },
    {
     "name": "stderr",
     "output_type": "stream",
     "text": [
      "\r",
      "424it [14:37:24, 140.32s/it]"
     ]
    },
    {
     "name": "stdout",
     "output_type": "stream",
     "text": [
      "423earning Progress : 100.00 % \n",
      "Test Accuracy = 0.9693396226415094\n",
      "- Learning Progress : 99.90 % \r"
     ]
    },
    {
     "name": "stderr",
     "output_type": "stream",
     "text": [
      "\r",
      "425it [14:39:46, 140.99s/it]"
     ]
    },
    {
     "name": "stdout",
     "output_type": "stream",
     "text": [
      "424earning Progress : 100.00 % \n",
      "Test Accuracy = 0.9694117647058823\n",
      "- Learning Progress : 99.80 % \r"
     ]
    },
    {
     "name": "stderr",
     "output_type": "stream",
     "text": [
      "\r",
      "426it [14:42:05, 140.23s/it]"
     ]
    },
    {
     "name": "stdout",
     "output_type": "stream",
     "text": [
      "425earning Progress : 100.00 % \n",
      "Test Accuracy = 0.9694835680751174\n",
      "- Learning Progress : 99.80 % \r"
     ]
    },
    {
     "name": "stderr",
     "output_type": "stream",
     "text": [
      "\r",
      "427it [14:44:30, 141.63s/it]"
     ]
    },
    {
     "name": "stdout",
     "output_type": "stream",
     "text": [
      "426earning Progress : 100.00 % \n",
      "Test Accuracy = 0.9695550351288056\n",
      "- Learning Progress : 14.10 % \r"
     ]
    },
    {
     "name": "stderr",
     "output_type": "stream",
     "text": [
      "IOPub message rate exceeded.\n",
      "The notebook server will temporarily stop sending output\n",
      "to the client in order to avoid crashing it.\n",
      "To change this limit, set the config variable\n",
      "`--NotebookApp.iopub_msg_rate_limit`.\n",
      "\n",
      "Current values:\n",
      "NotebookApp.iopub_msg_rate_limit=1000.0 (msgs/sec)\n",
      "NotebookApp.rate_limit_window=3.0 (secs)\n",
      "\n"
     ]
    },
    {
     "name": "stdout",
     "output_type": "stream",
     "text": [
      "- Learning Progress : 99.80 % \r"
     ]
    },
    {
     "name": "stderr",
     "output_type": "stream",
     "text": [
      "\r",
      "443it [15:19:59, 126.23s/it]"
     ]
    },
    {
     "name": "stdout",
     "output_type": "stream",
     "text": [
      "442earning Progress : 100.00 % \n",
      "Test Accuracy = 0.9683972911963883\n",
      "- Learning Progress : 99.80 % \r"
     ]
    },
    {
     "name": "stderr",
     "output_type": "stream",
     "text": [
      "\r",
      "444it [15:22:23, 131.56s/it]"
     ]
    },
    {
     "name": "stdout",
     "output_type": "stream",
     "text": [
      "443earning Progress : 100.00 % \n",
      "Test Accuracy = 0.9684684684684685\n",
      "- Learning Progress : 99.90 % \r"
     ]
    },
    {
     "name": "stderr",
     "output_type": "stream",
     "text": [
      "\r",
      "445it [15:24:44, 134.47s/it]"
     ]
    },
    {
     "name": "stdout",
     "output_type": "stream",
     "text": [
      "444earning Progress : 100.00 % \n",
      "Test Accuracy = 0.9685393258426966\n",
      "- Learning Progress : 99.90 % \r"
     ]
    },
    {
     "name": "stderr",
     "output_type": "stream",
     "text": [
      "\r",
      "446it [15:27:00, 134.73s/it]"
     ]
    },
    {
     "name": "stdout",
     "output_type": "stream",
     "text": [
      "445earning Progress : 100.00 % \n",
      "Test Accuracy = 0.968609865470852\n",
      "- Learning Progress : 99.80 % \r"
     ]
    },
    {
     "name": "stderr",
     "output_type": "stream",
     "text": [
      "\r",
      "447it [15:29:21, 136.76s/it]"
     ]
    },
    {
     "name": "stdout",
     "output_type": "stream",
     "text": [
      "446earning Progress : 100.00 % \n",
      "Test Accuracy = 0.9686800894854586\n",
      "- Learning Progress : 99.90 % \r"
     ]
    },
    {
     "name": "stderr",
     "output_type": "stream",
     "text": [
      "\r",
      "448it [15:31:42, 137.91s/it]"
     ]
    },
    {
     "name": "stdout",
     "output_type": "stream",
     "text": [
      "447earning Progress : 100.00 % \n",
      "Test Accuracy = 0.96875\n",
      "- Learning Progress : 81.60 % \r"
     ]
    },
    {
     "name": "stderr",
     "output_type": "stream",
     "text": [
      "IOPub message rate exceeded.\n",
      "The notebook server will temporarily stop sending output\n",
      "to the client in order to avoid crashing it.\n",
      "To change this limit, set the config variable\n",
      "`--NotebookApp.iopub_msg_rate_limit`.\n",
      "\n",
      "Current values:\n",
      "NotebookApp.iopub_msg_rate_limit=1000.0 (msgs/sec)\n",
      "NotebookApp.rate_limit_window=3.0 (secs)\n",
      "\n"
     ]
    },
    {
     "name": "stdout",
     "output_type": "stream",
     "text": [
      "- Learning Progress : 99.80 % \r"
     ]
    },
    {
     "name": "stderr",
     "output_type": "stream",
     "text": [
      "\r",
      "465it [16:11:51, 141.23s/it]"
     ]
    },
    {
     "name": "stdout",
     "output_type": "stream",
     "text": [
      "464earning Progress : 100.00 % \n",
      "Test Accuracy = 0.9698924731182795\n",
      "- Learning Progress : 100.00 % \r"
     ]
    },
    {
     "name": "stderr",
     "output_type": "stream",
     "text": [
      "\r",
      "466it [16:14:08, 139.98s/it]"
     ]
    },
    {
     "name": "stdout",
     "output_type": "stream",
     "text": [
      "465\n",
      "Test Accuracy = 0.9699570815450643\n",
      "- Learning Progress : 99.80 % \r"
     ]
    },
    {
     "name": "stderr",
     "output_type": "stream",
     "text": [
      "\r",
      "467it [16:16:30, 140.40s/it]"
     ]
    },
    {
     "name": "stdout",
     "output_type": "stream",
     "text": [
      "466earning Progress : 100.00 % \n",
      "Test Accuracy = 0.9700214132762313\n",
      "- Learning Progress : 99.80 % \r"
     ]
    },
    {
     "name": "stderr",
     "output_type": "stream",
     "text": [
      "\r",
      "468it [16:18:47, 139.57s/it]"
     ]
    },
    {
     "name": "stdout",
     "output_type": "stream",
     "text": [
      "467earning Progress : 100.00 % \n",
      "Test Accuracy = 0.9700854700854701\n",
      "- Learning Progress : 99.80 % \r"
     ]
    },
    {
     "name": "stderr",
     "output_type": "stream",
     "text": [
      "\r",
      "469it [16:20:58, 136.93s/it]"
     ]
    },
    {
     "name": "stdout",
     "output_type": "stream",
     "text": [
      "468earning Progress : 100.00 % \n",
      "Test Accuracy = 0.9701492537313433\n",
      "- Learning Progress : 99.90 % \r"
     ]
    },
    {
     "name": "stderr",
     "output_type": "stream",
     "text": [
      "\r",
      "470it [16:23:13, 136.24s/it]"
     ]
    },
    {
     "name": "stdout",
     "output_type": "stream",
     "text": [
      "469earning Progress : 100.00 % \n",
      "Test Accuracy = 0.9702127659574468\n",
      "- Learning Progress : 99.80 % \r"
     ]
    },
    {
     "name": "stderr",
     "output_type": "stream",
     "text": [
      "\r",
      "471it [16:25:31, 136.95s/it]"
     ]
    },
    {
     "name": "stdout",
     "output_type": "stream",
     "text": [
      "470earning Progress : 100.00 % \n",
      "Test Accuracy = 0.970276008492569\n",
      "- Learning Progress : 25.30 % \r"
     ]
    },
    {
     "name": "stderr",
     "output_type": "stream",
     "text": [
      "IOPub message rate exceeded.\n",
      "The notebook server will temporarily stop sending output\n",
      "to the client in order to avoid crashing it.\n",
      "To change this limit, set the config variable\n",
      "`--NotebookApp.iopub_msg_rate_limit`.\n",
      "\n",
      "Current values:\n",
      "NotebookApp.iopub_msg_rate_limit=1000.0 (msgs/sec)\n",
      "NotebookApp.rate_limit_window=3.0 (secs)\n",
      "\n"
     ]
    },
    {
     "name": "stdout",
     "output_type": "stream",
     "text": [
      "- Learning Progress : 99.70 % \r"
     ]
    },
    {
     "name": "stderr",
     "output_type": "stream",
     "text": [
      "\r",
      "492it [17:09:12, 134.12s/it]"
     ]
    },
    {
     "name": "stdout",
     "output_type": "stream",
     "text": [
      "491earning Progress : 100.00 % \n",
      "Test Accuracy = 0.967479674796748\n",
      "- Learning Progress : 99.80 % \r"
     ]
    },
    {
     "name": "stderr",
     "output_type": "stream",
     "text": [
      "\r",
      "493it [17:11:13, 130.30s/it]"
     ]
    },
    {
     "name": "stdout",
     "output_type": "stream",
     "text": [
      "492earning Progress : 100.00 % \n",
      "Test Accuracy = 0.9675456389452333\n",
      "- Learning Progress : 99.90 % \r"
     ]
    },
    {
     "name": "stderr",
     "output_type": "stream",
     "text": [
      "\r",
      "494it [17:12:55, 121.90s/it]"
     ]
    },
    {
     "name": "stdout",
     "output_type": "stream",
     "text": [
      "493earning Progress : 100.00 % \n",
      "Test Accuracy = 0.9676113360323887\n",
      "- Learning Progress : 99.80 % \r"
     ]
    },
    {
     "name": "stderr",
     "output_type": "stream",
     "text": [
      "\r",
      "495it [17:14:36, 115.53s/it]"
     ]
    },
    {
     "name": "stdout",
     "output_type": "stream",
     "text": [
      "494earning Progress : 100.00 % \n",
      "Test Accuracy = 0.9676767676767677\n",
      "- Learning Progress : 99.80 % \r"
     ]
    },
    {
     "name": "stderr",
     "output_type": "stream",
     "text": [
      "\r",
      "496it [17:16:19, 111.67s/it]"
     ]
    },
    {
     "name": "stdout",
     "output_type": "stream",
     "text": [
      "495earning Progress : 100.00 % \n",
      "Test Accuracy = 0.967741935483871\n",
      "- Learning Progress : 99.80 % \r"
     ]
    },
    {
     "name": "stderr",
     "output_type": "stream",
     "text": [
      "\r",
      "497it [17:17:59, 108.37s/it]"
     ]
    },
    {
     "name": "stdout",
     "output_type": "stream",
     "text": [
      "496earning Progress : 100.00 % \n",
      "Test Accuracy = 0.9678068410462777\n",
      "- Learning Progress : 100.00 % \r"
     ]
    },
    {
     "name": "stderr",
     "output_type": "stream",
     "text": [
      "\r",
      "498it [17:19:43, 106.92s/it]"
     ]
    },
    {
     "name": "stdout",
     "output_type": "stream",
     "text": [
      "497\n",
      "Test Accuracy = 0.9678714859437751\n",
      "- Learning Progress : 21.60 % \r"
     ]
    },
    {
     "name": "stderr",
     "output_type": "stream",
     "text": [
      "IOPub message rate exceeded.\n",
      "The notebook server will temporarily stop sending output\n",
      "to the client in order to avoid crashing it.\n",
      "To change this limit, set the config variable\n",
      "`--NotebookApp.iopub_msg_rate_limit`.\n",
      "\n",
      "Current values:\n",
      "NotebookApp.iopub_msg_rate_limit=1000.0 (msgs/sec)\n",
      "NotebookApp.rate_limit_window=3.0 (secs)\n",
      "\n"
     ]
    },
    {
     "name": "stdout",
     "output_type": "stream",
     "text": [
      "- Learning Progress : 99.90 % \r"
     ]
    },
    {
     "name": "stderr",
     "output_type": "stream",
     "text": [
      "\r",
      "516it [17:48:47, 87.67s/it]"
     ]
    },
    {
     "name": "stdout",
     "output_type": "stream",
     "text": [
      "515earning Progress : 100.00 % \n",
      "Test Accuracy = 0.9670542635658915\n",
      "- Learning Progress : 99.90 % \r"
     ]
    },
    {
     "name": "stderr",
     "output_type": "stream",
     "text": [
      "\r",
      "517it [17:50:29, 92.07s/it]"
     ]
    },
    {
     "name": "stdout",
     "output_type": "stream",
     "text": [
      "516earning Progress : 100.00 % \n",
      "Test Accuracy = 0.9671179883945842\n",
      "- Learning Progress : 99.80 % \r"
     ]
    },
    {
     "name": "stderr",
     "output_type": "stream",
     "text": [
      "\r",
      "518it [17:52:13, 95.69s/it]"
     ]
    },
    {
     "name": "stdout",
     "output_type": "stream",
     "text": [
      "517earning Progress : 100.00 % \n",
      "Test Accuracy = 0.9671814671814671\n",
      "- Learning Progress : 99.80 % \r"
     ]
    },
    {
     "name": "stderr",
     "output_type": "stream",
     "text": [
      "\r",
      "519it [17:53:56, 97.84s/it]"
     ]
    },
    {
     "name": "stdout",
     "output_type": "stream",
     "text": [
      "518earning Progress : 100.00 % \n",
      "Test Accuracy = 0.9672447013487476\n",
      "- Learning Progress : 99.80 % \r"
     ]
    },
    {
     "name": "stderr",
     "output_type": "stream",
     "text": [
      "\r",
      "520it [17:55:38, 99.16s/it]"
     ]
    },
    {
     "name": "stdout",
     "output_type": "stream",
     "text": [
      "519earning Progress : 100.00 % \n",
      "Test Accuracy = 0.9673076923076923\n",
      "- Learning Progress : 99.90 % \r"
     ]
    },
    {
     "name": "stderr",
     "output_type": "stream",
     "text": [
      "\r",
      "521it [17:57:24, 101.14s/it]"
     ]
    },
    {
     "name": "stdout",
     "output_type": "stream",
     "text": [
      "520earning Progress : 100.00 % \n",
      "Test Accuracy = 0.9673704414587332\n",
      "- Learning Progress : 99.80 % \r"
     ]
    },
    {
     "name": "stderr",
     "output_type": "stream",
     "text": [
      "\r",
      "522it [17:59:07, 101.63s/it]"
     ]
    },
    {
     "name": "stdout",
     "output_type": "stream",
     "text": [
      "521earning Progress : 100.00 % \n",
      "Test Accuracy = 0.9674329501915708\n",
      "- Learning Progress : 27.40 % \r"
     ]
    },
    {
     "name": "stderr",
     "output_type": "stream",
     "text": [
      "IOPub message rate exceeded.\n",
      "The notebook server will temporarily stop sending output\n",
      "to the client in order to avoid crashing it.\n",
      "To change this limit, set the config variable\n",
      "`--NotebookApp.iopub_msg_rate_limit`.\n",
      "\n",
      "Current values:\n",
      "NotebookApp.iopub_msg_rate_limit=1000.0 (msgs/sec)\n",
      "NotebookApp.rate_limit_window=3.0 (secs)\n",
      "\n"
     ]
    },
    {
     "name": "stdout",
     "output_type": "stream",
     "text": [
      "- Learning Progress : 100.00 % \r"
     ]
    },
    {
     "name": "stderr",
     "output_type": "stream",
     "text": [
      "\r",
      "541it [18:29:56, 95.21s/it]"
     ]
    },
    {
     "name": "stdout",
     "output_type": "stream",
     "text": [
      "540\n",
      "Test Accuracy = 0.966728280961183\n",
      "- Learning Progress : 100.00 % \r"
     ]
    },
    {
     "name": "stderr",
     "output_type": "stream",
     "text": [
      "\r",
      "542it [18:31:38, 97.10s/it]"
     ]
    },
    {
     "name": "stdout",
     "output_type": "stream",
     "text": [
      "541\n",
      "Test Accuracy = 0.966789667896679\n",
      "- Learning Progress : 99.90 % \r"
     ]
    },
    {
     "name": "stderr",
     "output_type": "stream",
     "text": [
      "\r",
      "543it [18:33:19, 98.31s/it]"
     ]
    },
    {
     "name": "stdout",
     "output_type": "stream",
     "text": [
      "542earning Progress : 100.00 % \n",
      "Test Accuracy = 0.9668508287292817\n",
      "- Learning Progress : 99.90 % \r"
     ]
    },
    {
     "name": "stderr",
     "output_type": "stream",
     "text": [
      "\r",
      "544it [18:35:01, 99.62s/it]"
     ]
    },
    {
     "name": "stdout",
     "output_type": "stream",
     "text": [
      "543earning Progress : 100.00 % \n",
      "Test Accuracy = 0.9669117647058824\n",
      "- Learning Progress : 99.90 % \r"
     ]
    },
    {
     "name": "stderr",
     "output_type": "stream",
     "text": [
      "\r",
      "545it [18:36:45, 100.97s/it]"
     ]
    },
    {
     "name": "stdout",
     "output_type": "stream",
     "text": [
      "544earning Progress : 100.00 % \n",
      "Test Accuracy = 0.9669724770642202\n",
      "- Learning Progress : 99.90 % \r"
     ]
    },
    {
     "name": "stderr",
     "output_type": "stream",
     "text": [
      "\r",
      "546it [18:38:29, 101.82s/it]"
     ]
    },
    {
     "name": "stdout",
     "output_type": "stream",
     "text": [
      "545earning Progress : 100.00 % \n",
      "Test Accuracy = 0.967032967032967\n",
      "- Learning Progress : 99.80 % \r"
     ]
    },
    {
     "name": "stderr",
     "output_type": "stream",
     "text": [
      "\r",
      "547it [18:40:14, 102.70s/it]"
     ]
    },
    {
     "name": "stdout",
     "output_type": "stream",
     "text": [
      "546earning Progress : 100.00 % \n",
      "Test Accuracy = 0.9670932358318098\n",
      "- Learning Progress : 39.70 % \r"
     ]
    },
    {
     "name": "stderr",
     "output_type": "stream",
     "text": [
      "IOPub message rate exceeded.\n",
      "The notebook server will temporarily stop sending output\n",
      "to the client in order to avoid crashing it.\n",
      "To change this limit, set the config variable\n",
      "`--NotebookApp.iopub_msg_rate_limit`.\n",
      "\n",
      "Current values:\n",
      "NotebookApp.iopub_msg_rate_limit=1000.0 (msgs/sec)\n",
      "NotebookApp.rate_limit_window=3.0 (secs)\n",
      "\n"
     ]
    },
    {
     "name": "stdout",
     "output_type": "stream",
     "text": [
      "- Learning Progress : 99.80 % \r"
     ]
    },
    {
     "name": "stderr",
     "output_type": "stream",
     "text": [
      "\r",
      "565it [19:11:12, 102.95s/it]"
     ]
    },
    {
     "name": "stdout",
     "output_type": "stream",
     "text": [
      "564earning Progress : 100.00 % \n",
      "Test Accuracy = 0.968141592920354\n",
      "- Learning Progress : 99.80 % \r"
     ]
    },
    {
     "name": "stderr",
     "output_type": "stream",
     "text": [
      "\r",
      "566it [19:12:57, 103.45s/it]"
     ]
    },
    {
     "name": "stdout",
     "output_type": "stream",
     "text": [
      "565earning Progress : 100.00 % \n",
      "Test Accuracy = 0.9681978798586572\n",
      "- Learning Progress : 99.90 % \r"
     ]
    },
    {
     "name": "stderr",
     "output_type": "stream",
     "text": [
      "\r",
      "567it [19:14:40, 103.22s/it]"
     ]
    },
    {
     "name": "stdout",
     "output_type": "stream",
     "text": [
      "566earning Progress : 100.00 % \n",
      "Test Accuracy = 0.9682539682539683\n",
      "- Learning Progress : 100.00 % \r"
     ]
    },
    {
     "name": "stderr",
     "output_type": "stream",
     "text": [
      "\r",
      "568it [19:16:22, 103.07s/it]"
     ]
    },
    {
     "name": "stdout",
     "output_type": "stream",
     "text": [
      "567\n",
      "Test Accuracy = 0.9683098591549296\n",
      "- Learning Progress : 99.90 % \r"
     ]
    },
    {
     "name": "stderr",
     "output_type": "stream",
     "text": [
      "\r",
      "569it [19:18:05, 102.88s/it]"
     ]
    },
    {
     "name": "stdout",
     "output_type": "stream",
     "text": [
      "568earning Progress : 100.00 % \n",
      "Test Accuracy = 0.968365553602812\n",
      "- Learning Progress : 100.00 % \r"
     ]
    },
    {
     "name": "stderr",
     "output_type": "stream",
     "text": [
      "\r",
      "570it [19:19:47, 102.74s/it]"
     ]
    },
    {
     "name": "stdout",
     "output_type": "stream",
     "text": [
      "569\n",
      "Test Accuracy = 0.968421052631579\n",
      "- Learning Progress : 96.40 % \r"
     ]
    },
    {
     "name": "stderr",
     "output_type": "stream",
     "text": [
      "IOPub message rate exceeded.\n",
      "The notebook server will temporarily stop sending output\n",
      "to the client in order to avoid crashing it.\n",
      "To change this limit, set the config variable\n",
      "`--NotebookApp.iopub_msg_rate_limit`.\n",
      "\n",
      "Current values:\n",
      "NotebookApp.iopub_msg_rate_limit=1000.0 (msgs/sec)\n",
      "NotebookApp.rate_limit_window=3.0 (secs)\n",
      "\n"
     ]
    },
    {
     "name": "stdout",
     "output_type": "stream",
     "text": [
      "- Learning Progress : 99.70 % \r"
     ]
    },
    {
     "name": "stderr",
     "output_type": "stream",
     "text": [
      "\r",
      "588it [19:50:31, 103.51s/it]"
     ]
    },
    {
     "name": "stdout",
     "output_type": "stream",
     "text": [
      "587earning Progress : 100.00 % \n",
      "Test Accuracy = 0.9693877551020408\n",
      "- Learning Progress : 99.90 % \r"
     ]
    },
    {
     "name": "stderr",
     "output_type": "stream",
     "text": [
      "\r",
      "589it [19:52:14, 103.20s/it]"
     ]
    },
    {
     "name": "stdout",
     "output_type": "stream",
     "text": [
      "588earning Progress : 100.00 % \n",
      "Test Accuracy = 0.969439728353141\n",
      "- Learning Progress : 100.00 % \r"
     ]
    },
    {
     "name": "stderr",
     "output_type": "stream",
     "text": [
      "\r",
      "590it [19:53:57, 103.18s/it]"
     ]
    },
    {
     "name": "stdout",
     "output_type": "stream",
     "text": [
      "589\n",
      "Test Accuracy = 0.9694915254237289\n",
      "- Learning Progress : 99.80 % \r"
     ]
    },
    {
     "name": "stderr",
     "output_type": "stream",
     "text": [
      "\r",
      "591it [19:55:40, 103.14s/it]"
     ]
    },
    {
     "name": "stdout",
     "output_type": "stream",
     "text": [
      "590earning Progress : 100.00 % \n",
      "Test Accuracy = 0.9695431472081218\n",
      "- Learning Progress : 99.80 % \r"
     ]
    },
    {
     "name": "stderr",
     "output_type": "stream",
     "text": [
      "\r",
      "592it [19:57:23, 103.05s/it]"
     ]
    },
    {
     "name": "stdout",
     "output_type": "stream",
     "text": [
      "591earning Progress : 100.00 % \n",
      "Test Accuracy = 0.9695945945945946\n",
      "- Learning Progress : 100.00 % \r"
     ]
    },
    {
     "name": "stderr",
     "output_type": "stream",
     "text": [
      "\r",
      "593it [19:59:06, 103.10s/it]"
     ]
    },
    {
     "name": "stdout",
     "output_type": "stream",
     "text": [
      "592\n",
      "Test Accuracy = 0.96964586846543\n",
      "- Learning Progress : 99.80 % \r"
     ]
    },
    {
     "name": "stderr",
     "output_type": "stream",
     "text": [
      "\r",
      "594it [20:00:46, 102.19s/it]"
     ]
    },
    {
     "name": "stdout",
     "output_type": "stream",
     "text": [
      "593earning Progress : 100.00 % \n",
      "Test Accuracy = 0.9696969696969697\n",
      "- Learning Progress : 73.70 % \r"
     ]
    },
    {
     "name": "stderr",
     "output_type": "stream",
     "text": [
      "IOPub message rate exceeded.\n",
      "The notebook server will temporarily stop sending output\n",
      "to the client in order to avoid crashing it.\n",
      "To change this limit, set the config variable\n",
      "`--NotebookApp.iopub_msg_rate_limit`.\n",
      "\n",
      "Current values:\n",
      "NotebookApp.iopub_msg_rate_limit=1000.0 (msgs/sec)\n",
      "NotebookApp.rate_limit_window=3.0 (secs)\n",
      "\n"
     ]
    },
    {
     "name": "stdout",
     "output_type": "stream",
     "text": [
      "- Learning Progress : 99.80 % \r"
     ]
    },
    {
     "name": "stderr",
     "output_type": "stream",
     "text": [
      "\r",
      "613it [20:31:39, 102.69s/it]"
     ]
    },
    {
     "name": "stdout",
     "output_type": "stream",
     "text": [
      "612earning Progress : 100.00 % \n",
      "Test Accuracy = 0.9690048939641109\n",
      "- Learning Progress : 99.80 % \r"
     ]
    },
    {
     "name": "stderr",
     "output_type": "stream",
     "text": [
      "\r",
      "614it [20:33:21, 102.59s/it]"
     ]
    },
    {
     "name": "stdout",
     "output_type": "stream",
     "text": [
      "613earning Progress : 100.00 % \n",
      "Test Accuracy = 0.9690553745928339\n",
      "- Learning Progress : 99.90 % \r"
     ]
    },
    {
     "name": "stderr",
     "output_type": "stream",
     "text": [
      "\r",
      "615it [20:35:06, 103.20s/it]"
     ]
    },
    {
     "name": "stdout",
     "output_type": "stream",
     "text": [
      "614earning Progress : 100.00 % \n",
      "Test Accuracy = 0.9691056910569106\n",
      "- Learning Progress : 99.80 % \r"
     ]
    },
    {
     "name": "stderr",
     "output_type": "stream",
     "text": [
      "\r",
      "616it [20:36:46, 102.23s/it]"
     ]
    },
    {
     "name": "stdout",
     "output_type": "stream",
     "text": [
      "615earning Progress : 100.00 % \n",
      "Test Accuracy = 0.9691558441558441\n",
      "- Learning Progress : 99.80 % \r"
     ]
    },
    {
     "name": "stderr",
     "output_type": "stream",
     "text": [
      "\r",
      "617it [20:38:26, 101.53s/it]"
     ]
    },
    {
     "name": "stdout",
     "output_type": "stream",
     "text": [
      "616earning Progress : 100.00 % \n",
      "Test Accuracy = 0.9692058346839546\n",
      "- Learning Progress : 99.90 % \r"
     ]
    },
    {
     "name": "stderr",
     "output_type": "stream",
     "text": [
      "\r",
      "618it [20:40:08, 101.75s/it]"
     ]
    },
    {
     "name": "stdout",
     "output_type": "stream",
     "text": [
      "617earning Progress : 100.00 % \n",
      "Test Accuracy = 0.9692556634304207\n",
      "- Learning Progress : 99.90 % \r"
     ]
    },
    {
     "name": "stderr",
     "output_type": "stream",
     "text": [
      "\r",
      "619it [20:41:51, 102.20s/it]"
     ]
    },
    {
     "name": "stdout",
     "output_type": "stream",
     "text": [
      "618earning Progress : 100.00 % \n",
      "Test Accuracy = 0.9693053311793215\n",
      "- Learning Progress : 99.80 % \r"
     ]
    },
    {
     "name": "stderr",
     "output_type": "stream",
     "text": [
      "\r",
      "620it [20:43:55, 108.70s/it]"
     ]
    },
    {
     "name": "stdout",
     "output_type": "stream",
     "text": [
      "619earning Progress : 100.00 % \n",
      "Test Accuracy = 0.9693548387096774\n",
      "- Learning Progress : 99.80 % \r"
     ]
    },
    {
     "name": "stderr",
     "output_type": "stream",
     "text": [
      "\r",
      "621it [20:46:07, 115.64s/it]"
     ]
    },
    {
     "name": "stdout",
     "output_type": "stream",
     "text": [
      "620earning Progress : 100.00 % \n",
      "Test Accuracy = 0.9694041867954911\n",
      "- Learning Progress : 99.90 % \r"
     ]
    },
    {
     "name": "stderr",
     "output_type": "stream",
     "text": [
      "\r",
      "622it [20:48:17, 120.14s/it]"
     ]
    },
    {
     "name": "stdout",
     "output_type": "stream",
     "text": [
      "621earning Progress : 100.00 % \n",
      "Test Accuracy = 0.9694533762057878\n",
      "- Learning Progress : 99.80 % \r"
     ]
    },
    {
     "name": "stderr",
     "output_type": "stream",
     "text": [
      "\r",
      "623it [20:50:30, 123.99s/it]"
     ]
    },
    {
     "name": "stdout",
     "output_type": "stream",
     "text": [
      "622earning Progress : 100.00 % \n",
      "Test Accuracy = 0.9695024077046549\n",
      "- Learning Progress : 100.00 % \r"
     ]
    },
    {
     "name": "stderr",
     "output_type": "stream",
     "text": [
      "\r",
      "624it [20:52:41, 125.86s/it]"
     ]
    },
    {
     "name": "stdout",
     "output_type": "stream",
     "text": [
      "623\n",
      "Test Accuracy = 0.969551282051282\n",
      "- Learning Progress : 99.80 % \r"
     ]
    },
    {
     "name": "stderr",
     "output_type": "stream",
     "text": [
      "\r",
      "625it [20:54:49, 126.61s/it]"
     ]
    },
    {
     "name": "stdout",
     "output_type": "stream",
     "text": [
      "624earning Progress : 100.00 % \n",
      "Test Accuracy = 0.9696\n",
      "- Learning Progress : 99.90 % \r"
     ]
    },
    {
     "name": "stderr",
     "output_type": "stream",
     "text": [
      "\r",
      "627it [20:59:07, 127.95s/it]"
     ]
    },
    {
     "name": "stdout",
     "output_type": "stream",
     "text": [
      "626earning Progress : 100.00 % \n",
      "Test Accuracy = 0.9696969696969697\n",
      "- Learning Progress : 99.90 % \r"
     ]
    },
    {
     "name": "stderr",
     "output_type": "stream",
     "text": [
      "\r",
      "628it [21:01:16, 128.40s/it]"
     ]
    },
    {
     "name": "stdout",
     "output_type": "stream",
     "text": [
      "627earning Progress : 100.00 % \n",
      "Test Accuracy = 0.9697452229299363\n",
      "- Learning Progress : 99.90 % \r"
     ]
    },
    {
     "name": "stderr",
     "output_type": "stream",
     "text": [
      "\r",
      "629it [21:03:26, 128.99s/it]"
     ]
    },
    {
     "name": "stdout",
     "output_type": "stream",
     "text": [
      "628earning Progress : 100.00 % \n",
      "Test Accuracy = 0.9697933227344993\n",
      "- Learning Progress : 99.90 % \r"
     ]
    },
    {
     "name": "stderr",
     "output_type": "stream",
     "text": [
      "\r",
      "630it [21:05:37, 129.34s/it]"
     ]
    },
    {
     "name": "stdout",
     "output_type": "stream",
     "text": [
      "629earning Progress : 100.00 % \n",
      "Test Accuracy = 0.9698412698412698\n",
      "- Learning Progress : 99.90 % \r"
     ]
    },
    {
     "name": "stderr",
     "output_type": "stream",
     "text": [
      "\r",
      "631it [21:07:50, 130.53s/it]"
     ]
    },
    {
     "name": "stdout",
     "output_type": "stream",
     "text": [
      "630earning Progress : 100.00 % \n",
      "Test Accuracy = 0.9698890649762282\n",
      "- Learning Progress : 99.90 % \r"
     ]
    },
    {
     "name": "stderr",
     "output_type": "stream",
     "text": [
      "\r",
      "632it [21:09:54, 128.61s/it]"
     ]
    },
    {
     "name": "stdout",
     "output_type": "stream",
     "text": [
      "631earning Progress : 100.00 % \n",
      "Test Accuracy = 0.9699367088607594\n",
      "- Learning Progress : 99.80 % \r"
     ]
    },
    {
     "name": "stderr",
     "output_type": "stream",
     "text": [
      "\r",
      "633it [21:12:04, 129.09s/it]"
     ]
    },
    {
     "name": "stdout",
     "output_type": "stream",
     "text": [
      "632earning Progress : 100.00 % \n",
      "Test Accuracy = 0.9699842022116903\n",
      "- Learning Progress : 6.40 % \r"
     ]
    },
    {
     "name": "stderr",
     "output_type": "stream",
     "text": [
      "IOPub message rate exceeded.\n",
      "The notebook server will temporarily stop sending output\n",
      "to the client in order to avoid crashing it.\n",
      "To change this limit, set the config variable\n",
      "`--NotebookApp.iopub_msg_rate_limit`.\n",
      "\n",
      "Current values:\n",
      "NotebookApp.iopub_msg_rate_limit=1000.0 (msgs/sec)\n",
      "NotebookApp.rate_limit_window=3.0 (secs)\n",
      "\n"
     ]
    },
    {
     "name": "stdout",
     "output_type": "stream",
     "text": [
      "- Learning Progress : 99.90 % \r"
     ]
    },
    {
     "name": "stderr",
     "output_type": "stream",
     "text": [
      "\r",
      "638it [21:22:54, 129.18s/it]"
     ]
    },
    {
     "name": "stdout",
     "output_type": "stream",
     "text": [
      "637earning Progress : 100.00 % \n",
      "Test Accuracy = 0.9702194357366771\n",
      "- Learning Progress : 99.80 % \r"
     ]
    },
    {
     "name": "stderr",
     "output_type": "stream",
     "text": [
      "\r",
      "639it [21:25:01, 128.67s/it]"
     ]
    },
    {
     "name": "stdout",
     "output_type": "stream",
     "text": [
      "638earning Progress : 100.00 % \n",
      "Test Accuracy = 0.9702660406885759\n",
      "- Learning Progress : 99.90 % \r"
     ]
    },
    {
     "name": "stderr",
     "output_type": "stream",
     "text": [
      "\r",
      "640it [21:27:13, 129.45s/it]"
     ]
    },
    {
     "name": "stdout",
     "output_type": "stream",
     "text": [
      "- Learning Progress : 100.00 % \r",
      "639\n",
      "Test Accuracy = 0.9703125\n"
     ]
    },
    {
     "name": "stderr",
     "output_type": "stream",
     "text": [
      "\r",
      "641it [21:27:13, 90.71s/it] "
     ]
    },
    {
     "name": "stdout",
     "output_type": "stream",
     "text": [
      "640\n"
     ]
    },
    {
     "name": "stderr",
     "output_type": "stream",
     "text": [
      "\r",
      "642it [21:27:13, 63.57s/it]"
     ]
    },
    {
     "name": "stdout",
     "output_type": "stream",
     "text": [
      "641\n",
      "- Learning Progress : 99.90 % \r"
     ]
    },
    {
     "name": "stderr",
     "output_type": "stream",
     "text": [
      "\r",
      "643it [21:29:24, 83.73s/it]"
     ]
    },
    {
     "name": "stdout",
     "output_type": "stream",
     "text": [
      "642earning Progress : 100.00 % \n",
      "Test Accuracy = 0.9673405909797823\n",
      "- Learning Progress : 99.80 % \r"
     ]
    },
    {
     "name": "stderr",
     "output_type": "stream",
     "text": [
      "\r",
      "644it [21:31:35, 97.77s/it]"
     ]
    },
    {
     "name": "stdout",
     "output_type": "stream",
     "text": [
      "643earning Progress : 100.00 % \n",
      "Test Accuracy = 0.967391304347826\n",
      "- Learning Progress : 99.90 % \r"
     ]
    },
    {
     "name": "stderr",
     "output_type": "stream",
     "text": [
      "\r",
      "645it [21:33:47, 108.07s/it]"
     ]
    },
    {
     "name": "stdout",
     "output_type": "stream",
     "text": [
      "- Learning Progress : 100.00 % \r",
      "644\n",
      "Test Accuracy = 0.9674418604651163\n"
     ]
    },
    {
     "name": "stderr",
     "output_type": "stream",
     "text": [
      "\r",
      "646it [21:33:47, 75.75s/it] "
     ]
    },
    {
     "name": "stdout",
     "output_type": "stream",
     "text": [
      "645\n",
      "- Learning Progress : 99.90 % \r"
     ]
    },
    {
     "name": "stderr",
     "output_type": "stream",
     "text": [
      "\r",
      "647it [21:35:58, 92.37s/it]"
     ]
    },
    {
     "name": "stdout",
     "output_type": "stream",
     "text": [
      "646earning Progress : 100.00 % \n",
      "Test Accuracy = 0.9659969088098919\n",
      "- Learning Progress : 99.90 % \r"
     ]
    },
    {
     "name": "stderr",
     "output_type": "stream",
     "text": [
      "\r",
      "648it [21:38:12, 104.72s/it]"
     ]
    },
    {
     "name": "stdout",
     "output_type": "stream",
     "text": [
      "647earning Progress : 100.00 % \n",
      "Test Accuracy = 0.9660493827160493\n",
      "- Learning Progress : 99.80 % \r"
     ]
    },
    {
     "name": "stderr",
     "output_type": "stream",
     "text": [
      "\r",
      "649it [21:40:21, 112.12s/it]"
     ]
    },
    {
     "name": "stdout",
     "output_type": "stream",
     "text": [
      "648earning Progress : 100.00 % \n",
      "Test Accuracy = 0.9661016949152542\n",
      "- Learning Progress : 99.80 % \r"
     ]
    },
    {
     "name": "stderr",
     "output_type": "stream",
     "text": [
      "\r",
      "650it [21:42:33, 118.08s/it]"
     ]
    },
    {
     "name": "stdout",
     "output_type": "stream",
     "text": [
      "- Learning Progress : 99.90 % \r",
      "- Learning Progress : 100.00 % \r",
      "649\n",
      "Test Accuracy = 0.9661538461538461\n"
     ]
    },
    {
     "name": "stderr",
     "output_type": "stream",
     "text": [
      "\r",
      "651it [21:42:33, 82.70s/it] "
     ]
    },
    {
     "name": "stdout",
     "output_type": "stream",
     "text": [
      "650\n",
      "- Learning Progress : 99.90 % \r"
     ]
    },
    {
     "name": "stderr",
     "output_type": "stream",
     "text": [
      "\r",
      "652it [21:44:45, 97.33s/it]"
     ]
    },
    {
     "name": "stdout",
     "output_type": "stream",
     "text": [
      "651earning Progress : 100.00 % \n",
      "Test Accuracy = 0.9647239263803681\n",
      "- Learning Progress : 99.90 % \r"
     ]
    },
    {
     "name": "stderr",
     "output_type": "stream",
     "text": [
      "\r",
      "653it [21:46:58, 108.27s/it]"
     ]
    },
    {
     "name": "stdout",
     "output_type": "stream",
     "text": [
      "652earning Progress : 100.00 % \n",
      "Test Accuracy = 0.9647779479326187\n",
      "- Learning Progress : 99.70 % \r"
     ]
    },
    {
     "name": "stderr",
     "output_type": "stream",
     "text": [
      "\r",
      "654it [21:49:12, 115.86s/it]"
     ]
    },
    {
     "name": "stdout",
     "output_type": "stream",
     "text": [
      "653earning Progress : 100.00 % \n",
      "Test Accuracy = 0.9648318042813455\n",
      "- Learning Progress : 99.80 % \r"
     ]
    },
    {
     "name": "stderr",
     "output_type": "stream",
     "text": [
      "\r",
      "655it [21:51:20, 119.49s/it]"
     ]
    },
    {
     "name": "stdout",
     "output_type": "stream",
     "text": [
      "654earning Progress : 100.00 % \n",
      "Test Accuracy = 0.9648854961832061\n",
      "- Learning Progress : 99.80 % \r"
     ]
    },
    {
     "name": "stderr",
     "output_type": "stream",
     "text": [
      "\r",
      "656it [21:53:32, 123.18s/it]"
     ]
    },
    {
     "name": "stdout",
     "output_type": "stream",
     "text": [
      "655earning Progress : 100.00 % \n",
      "Test Accuracy = 0.9649390243902439\n",
      "- Learning Progress : 99.80 % \r"
     ]
    },
    {
     "name": "stderr",
     "output_type": "stream",
     "text": [
      "\r",
      "657it [21:55:45, 126.33s/it]"
     ]
    },
    {
     "name": "stdout",
     "output_type": "stream",
     "text": [
      "656earning Progress : 100.00 % \n",
      "Test Accuracy = 0.9649923896499238\n",
      "- Learning Progress : 99.80 % \r"
     ]
    },
    {
     "name": "stderr",
     "output_type": "stream",
     "text": [
      "\r",
      "658it [21:57:54, 127.04s/it]"
     ]
    },
    {
     "name": "stdout",
     "output_type": "stream",
     "text": [
      "657earning Progress : 100.00 % \n",
      "Test Accuracy = 0.9650455927051672\n",
      "- Learning Progress : 99.80 % \r"
     ]
    },
    {
     "name": "stderr",
     "output_type": "stream",
     "text": [
      "\r",
      "659it [22:00:06, 128.61s/it]"
     ]
    },
    {
     "name": "stdout",
     "output_type": "stream",
     "text": [
      "658earning Progress : 100.00 % \n",
      "Test Accuracy = 0.9650986342943855\n",
      "- Learning Progress : 99.80 % \r"
     ]
    },
    {
     "name": "stderr",
     "output_type": "stream",
     "text": [
      "\r",
      "660it [22:02:18, 129.46s/it]"
     ]
    },
    {
     "name": "stdout",
     "output_type": "stream",
     "text": [
      "659earning Progress : 100.00 % \n",
      "Test Accuracy = 0.9651515151515152\n",
      "- Learning Progress : 99.90 % \r"
     ]
    },
    {
     "name": "stderr",
     "output_type": "stream",
     "text": [
      "\r",
      "661it [22:04:27, 129.46s/it]"
     ]
    },
    {
     "name": "stdout",
     "output_type": "stream",
     "text": [
      "660earning Progress : 100.00 % \n",
      "Test Accuracy = 0.9652042360060514\n",
      "- Learning Progress : 99.90 % \r"
     ]
    },
    {
     "name": "stderr",
     "output_type": "stream",
     "text": [
      "\r",
      "662it [22:06:38, 129.78s/it]"
     ]
    },
    {
     "name": "stdout",
     "output_type": "stream",
     "text": [
      "661earning Progress : 100.00 % \n",
      "Test Accuracy = 0.9652567975830816\n",
      "- Learning Progress : 99.80 % \r"
     ]
    },
    {
     "name": "stderr",
     "output_type": "stream",
     "text": [
      "\r",
      "663it [22:08:49, 130.14s/it]"
     ]
    },
    {
     "name": "stdout",
     "output_type": "stream",
     "text": [
      "662earning Progress : 100.00 % \n",
      "Test Accuracy = 0.9653092006033183\n",
      "- Learning Progress : 99.90 % \r"
     ]
    },
    {
     "name": "stderr",
     "output_type": "stream",
     "text": [
      "\r",
      "664it [22:10:58, 129.89s/it]"
     ]
    },
    {
     "name": "stdout",
     "output_type": "stream",
     "text": [
      "663earning Progress : 100.00 % \n",
      "Test Accuracy = 0.9653614457831325\n",
      "- Learning Progress : 99.80 % \r"
     ]
    },
    {
     "name": "stderr",
     "output_type": "stream",
     "text": [
      "\r",
      "665it [22:13:08, 129.98s/it]"
     ]
    },
    {
     "name": "stdout",
     "output_type": "stream",
     "text": [
      "664earning Progress : 100.00 % \n",
      "Test Accuracy = 0.9654135338345865\n",
      "- Learning Progress : 99.80 % \r"
     ]
    },
    {
     "name": "stderr",
     "output_type": "stream",
     "text": [
      "\r",
      "666it [22:15:16, 129.20s/it]"
     ]
    },
    {
     "name": "stdout",
     "output_type": "stream",
     "text": [
      "665earning Progress : 100.00 % \n",
      "Test Accuracy = 0.9654654654654654\n",
      "- Learning Progress : 99.90 % \r"
     ]
    },
    {
     "name": "stderr",
     "output_type": "stream",
     "text": [
      "\r",
      "667it [22:17:33, 131.55s/it]"
     ]
    },
    {
     "name": "stdout",
     "output_type": "stream",
     "text": [
      "666earning Progress : 100.00 % \n",
      "Test Accuracy = 0.9655172413793104\n",
      "- Learning Progress : 99.90 % \r"
     ]
    },
    {
     "name": "stderr",
     "output_type": "stream",
     "text": [
      "\r",
      "668it [22:19:44, 131.53s/it]"
     ]
    },
    {
     "name": "stdout",
     "output_type": "stream",
     "text": [
      "667earning Progress : 100.00 % \n",
      "Test Accuracy = 0.9655688622754491\n",
      "- Learning Progress : 99.90 % \r"
     ]
    },
    {
     "name": "stderr",
     "output_type": "stream",
     "text": [
      "\r",
      "669it [22:21:51, 130.19s/it]"
     ]
    },
    {
     "name": "stdout",
     "output_type": "stream",
     "text": [
      "668earning Progress : 100.00 % \n",
      "Test Accuracy = 0.9656203288490284\n",
      "- Learning Progress : 99.90 % \r"
     ]
    },
    {
     "name": "stderr",
     "output_type": "stream",
     "text": [
      "\r",
      "670it [22:24:04, 130.83s/it]"
     ]
    },
    {
     "name": "stdout",
     "output_type": "stream",
     "text": [
      "669earning Progress : 100.00 % \n",
      "Test Accuracy = 0.9656716417910448\n",
      "- Learning Progress : 99.80 % \r"
     ]
    },
    {
     "name": "stderr",
     "output_type": "stream",
     "text": [
      "\r",
      "671it [22:26:16, 131.45s/it]"
     ]
    },
    {
     "name": "stdout",
     "output_type": "stream",
     "text": [
      "670earning Progress : 100.00 % \n",
      "Test Accuracy = 0.9657228017883756\n",
      "- Learning Progress : 99.90 % \r"
     ]
    },
    {
     "name": "stderr",
     "output_type": "stream",
     "text": [
      "\r",
      "672it [22:28:25, 130.59s/it]"
     ]
    },
    {
     "name": "stdout",
     "output_type": "stream",
     "text": [
      "671earning Progress : 100.00 % \n",
      "Test Accuracy = 0.9657738095238095\n",
      "- Learning Progress : 99.90 % \r"
     ]
    },
    {
     "name": "stderr",
     "output_type": "stream",
     "text": [
      "\r",
      "673it [22:30:26, 127.76s/it]"
     ]
    },
    {
     "name": "stdout",
     "output_type": "stream",
     "text": [
      "672earning Progress : 100.00 % \n",
      "Test Accuracy = 0.9658246656760773\n",
      "- Learning Progress : 99.90 % \r"
     ]
    },
    {
     "name": "stderr",
     "output_type": "stream",
     "text": [
      "\r",
      "674it [22:31:53, 115.59s/it]"
     ]
    },
    {
     "name": "stdout",
     "output_type": "stream",
     "text": [
      "673earning Progress : 100.00 % \n",
      "Test Accuracy = 0.9658753709198813\n",
      "- Learning Progress : 99.80 % \r"
     ]
    },
    {
     "name": "stderr",
     "output_type": "stream",
     "text": [
      "\r",
      "675it [22:33:22, 107.38s/it]"
     ]
    },
    {
     "name": "stdout",
     "output_type": "stream",
     "text": [
      "674earning Progress : 100.00 % \n",
      "Test Accuracy = 0.965925925925926\n",
      "- Learning Progress : 99.80 % \r"
     ]
    },
    {
     "name": "stderr",
     "output_type": "stream",
     "text": [
      "\r",
      "676it [22:34:54, 102.86s/it]"
     ]
    },
    {
     "name": "stdout",
     "output_type": "stream",
     "text": [
      "675earning Progress : 100.00 % \n",
      "Test Accuracy = 0.9659763313609467\n",
      "- Learning Progress : 99.90 % \r"
     ]
    },
    {
     "name": "stderr",
     "output_type": "stream",
     "text": [
      "\r",
      "677it [22:36:20, 97.92s/it] "
     ]
    },
    {
     "name": "stdout",
     "output_type": "stream",
     "text": [
      "676earning Progress : 100.00 % \n",
      "Test Accuracy = 0.96602658788774\n",
      "- Learning Progress : 99.90 % \r"
     ]
    },
    {
     "name": "stderr",
     "output_type": "stream",
     "text": [
      "\r",
      "678it [22:37:45, 94.04s/it]"
     ]
    },
    {
     "name": "stdout",
     "output_type": "stream",
     "text": [
      "677earning Progress : 100.00 % \n",
      "Test Accuracy = 0.9660766961651918\n",
      "- Learning Progress : 99.90 % \r"
     ]
    },
    {
     "name": "stderr",
     "output_type": "stream",
     "text": [
      "\r",
      "679it [22:39:10, 91.33s/it]"
     ]
    },
    {
     "name": "stdout",
     "output_type": "stream",
     "text": [
      "678earning Progress : 100.00 % \n",
      "Test Accuracy = 0.9661266568483063\n",
      "- Learning Progress : 100.00 % \r"
     ]
    },
    {
     "name": "stderr",
     "output_type": "stream",
     "text": [
      "\r",
      "680it [22:40:38, 90.24s/it]"
     ]
    },
    {
     "name": "stdout",
     "output_type": "stream",
     "text": [
      "679\n",
      "Test Accuracy = 0.9661764705882353\n",
      "- Learning Progress : 99.90 % \r"
     ]
    },
    {
     "name": "stderr",
     "output_type": "stream",
     "text": [
      "\r",
      "681it [22:42:05, 89.25s/it]"
     ]
    },
    {
     "name": "stdout",
     "output_type": "stream",
     "text": [
      "680earning Progress : 100.00 % \n",
      "Test Accuracy = 0.9662261380323054\n",
      "- Learning Progress : 99.90 % \r"
     ]
    },
    {
     "name": "stderr",
     "output_type": "stream",
     "text": [
      "\r",
      "682it [22:43:34, 89.30s/it]"
     ]
    },
    {
     "name": "stdout",
     "output_type": "stream",
     "text": [
      "681earning Progress : 100.00 % \n",
      "Test Accuracy = 0.966275659824047\n",
      "- Learning Progress : 99.90 % \r"
     ]
    },
    {
     "name": "stderr",
     "output_type": "stream",
     "text": [
      "\r",
      "683it [22:45:01, 88.52s/it]"
     ]
    },
    {
     "name": "stdout",
     "output_type": "stream",
     "text": [
      "682earning Progress : 100.00 % \n",
      "Test Accuracy = 0.9663250366032211\n",
      "- Learning Progress : 99.80 % \r"
     ]
    },
    {
     "name": "stderr",
     "output_type": "stream",
     "text": [
      "\r",
      "684it [22:46:27, 87.63s/it]"
     ]
    },
    {
     "name": "stdout",
     "output_type": "stream",
     "text": [
      "683earning Progress : 100.00 % \n",
      "Test Accuracy = 0.966374269005848\n",
      "- Learning Progress : 99.90 % \r"
     ]
    },
    {
     "name": "stderr",
     "output_type": "stream",
     "text": [
      "\r",
      "685it [22:47:43, 84.26s/it]"
     ]
    },
    {
     "name": "stdout",
     "output_type": "stream",
     "text": [
      "- Learning Progress : 100.00 % \r",
      "684\n",
      "Test Accuracy = 0.9664233576642336\n"
     ]
    },
    {
     "name": "stderr",
     "output_type": "stream",
     "text": [
      "\r",
      "686it [22:47:43, 59.05s/it]"
     ]
    },
    {
     "name": "stdout",
     "output_type": "stream",
     "text": [
      "685\n",
      "- Learning Progress : 99.80 % \r"
     ]
    },
    {
     "name": "stderr",
     "output_type": "stream",
     "text": [
      "\r",
      "687it [22:49:10, 67.44s/it]"
     ]
    },
    {
     "name": "stdout",
     "output_type": "stream",
     "text": [
      "686earning Progress : 100.00 % \n",
      "Test Accuracy = 0.9650655021834061\n",
      "- Learning Progress : 99.90 % \r"
     ]
    },
    {
     "name": "stderr",
     "output_type": "stream",
     "text": [
      "\r",
      "688it [22:50:43, 74.95s/it]"
     ]
    },
    {
     "name": "stdout",
     "output_type": "stream",
     "text": [
      "687earning Progress : 100.00 % \n",
      "Test Accuracy = 0.9651162790697675\n",
      "- Learning Progress : 99.80 % \r"
     ]
    },
    {
     "name": "stderr",
     "output_type": "stream",
     "text": [
      "\r",
      "689it [22:52:58, 93.00s/it]"
     ]
    },
    {
     "name": "stdout",
     "output_type": "stream",
     "text": [
      "688earning Progress : 100.00 % \n",
      "Test Accuracy = 0.965166908563135\n",
      "- Learning Progress : 99.80 % \r"
     ]
    },
    {
     "name": "stderr",
     "output_type": "stream",
     "text": [
      "\r",
      "690it [22:55:08, 104.07s/it]"
     ]
    },
    {
     "name": "stdout",
     "output_type": "stream",
     "text": [
      "689earning Progress : 100.00 % \n",
      "Test Accuracy = 0.9652173913043478\n",
      "- Learning Progress : 99.80 % \r"
     ]
    },
    {
     "name": "stderr",
     "output_type": "stream",
     "text": [
      "\r",
      "691it [22:57:19, 112.18s/it]"
     ]
    },
    {
     "name": "stdout",
     "output_type": "stream",
     "text": [
      "690earning Progress : 100.00 % \n",
      "Test Accuracy = 0.9652677279305355\n",
      "- Learning Progress : 99.90 % \r"
     ]
    },
    {
     "name": "stderr",
     "output_type": "stream",
     "text": [
      "\r",
      "692it [22:59:29, 117.47s/it]"
     ]
    },
    {
     "name": "stdout",
     "output_type": "stream",
     "text": [
      "691earning Progress : 100.00 % \n",
      "Test Accuracy = 0.9653179190751445\n",
      "- Learning Progress : 99.90 % \r"
     ]
    },
    {
     "name": "stderr",
     "output_type": "stream",
     "text": [
      "\r",
      "693it [23:01:39, 121.25s/it]"
     ]
    },
    {
     "name": "stdout",
     "output_type": "stream",
     "text": [
      "- Learning Progress : 100.00 % \r",
      "692\n",
      "Test Accuracy = 0.9653679653679653\n"
     ]
    },
    {
     "name": "stderr",
     "output_type": "stream",
     "text": [
      "\r",
      "694it [23:01:39, 85.00s/it] "
     ]
    },
    {
     "name": "stdout",
     "output_type": "stream",
     "text": [
      "693\n",
      "- Learning Progress : 99.80 % \r"
     ]
    },
    {
     "name": "stderr",
     "output_type": "stream",
     "text": [
      "\r",
      "696it [23:06:02, 108.67s/it]"
     ]
    },
    {
     "name": "stdout",
     "output_type": "stream",
     "text": [
      "695earning Progress : 100.00 % \n",
      "Test Accuracy = 0.9640804597701149\n",
      "- Learning Progress : 99.80 % \r"
     ]
    },
    {
     "name": "stderr",
     "output_type": "stream",
     "text": [
      "\r",
      "697it [23:08:12, 115.23s/it]"
     ]
    },
    {
     "name": "stdout",
     "output_type": "stream",
     "text": [
      "696earning Progress : 100.00 % \n",
      "Test Accuracy = 0.9641319942611191\n",
      "- Learning Progress : 100.00 % \r"
     ]
    },
    {
     "name": "stderr",
     "output_type": "stream",
     "text": [
      "\r",
      "698it [23:10:23, 119.99s/it]"
     ]
    },
    {
     "name": "stdout",
     "output_type": "stream",
     "text": [
      "697\n",
      "Test Accuracy = 0.9641833810888252\n",
      "- Learning Progress : 99.90 % \r"
     ]
    },
    {
     "name": "stderr",
     "output_type": "stream",
     "text": [
      "\r",
      "699it [23:12:36, 123.74s/it]"
     ]
    },
    {
     "name": "stdout",
     "output_type": "stream",
     "text": [
      "698earning Progress : 100.00 % \n",
      "Test Accuracy = 0.9642346208869814\n",
      "- Learning Progress : 99.90 % \r"
     ]
    },
    {
     "name": "stderr",
     "output_type": "stream",
     "text": [
      "\r",
      "700it [23:14:47, 126.01s/it]"
     ]
    },
    {
     "name": "stdout",
     "output_type": "stream",
     "text": [
      "- Learning Progress : 100.00 % \r",
      "699\n",
      "Test Accuracy = 0.9642857142857143\n"
     ]
    },
    {
     "name": "stderr",
     "output_type": "stream",
     "text": [
      "\r",
      "701it [23:14:48, 88.37s/it] "
     ]
    },
    {
     "name": "stdout",
     "output_type": "stream",
     "text": [
      "700\n",
      "- Learning Progress : 99.90 % \r"
     ]
    },
    {
     "name": "stderr",
     "output_type": "stream",
     "text": [
      "\r",
      "702it [23:17:01, 101.96s/it]"
     ]
    },
    {
     "name": "stdout",
     "output_type": "stream",
     "text": [
      "701earning Progress : 100.00 % \n",
      "Test Accuracy = 0.9629629629629629\n",
      "- Learning Progress : 26.80 % \r"
     ]
    },
    {
     "name": "stderr",
     "output_type": "stream",
     "text": [
      "IOPub message rate exceeded.\n",
      "The notebook server will temporarily stop sending output\n",
      "to the client in order to avoid crashing it.\n",
      "To change this limit, set the config variable\n",
      "`--NotebookApp.iopub_msg_rate_limit`.\n",
      "\n",
      "Current values:\n",
      "NotebookApp.iopub_msg_rate_limit=1000.0 (msgs/sec)\n",
      "NotebookApp.rate_limit_window=3.0 (secs)\n",
      "\n"
     ]
    },
    {
     "name": "stdout",
     "output_type": "stream",
     "text": [
      "- Learning Progress : 99.70 % \r"
     ]
    },
    {
     "name": "stderr",
     "output_type": "stream",
     "text": [
      "\r",
      "716it [23:45:20, 122.37s/it]"
     ]
    },
    {
     "name": "stdout",
     "output_type": "stream",
     "text": [
      "715earning Progress : 100.00 % \n",
      "Test Accuracy = 0.9622905027932961\n",
      "- Learning Progress : 99.90 % \r"
     ]
    },
    {
     "name": "stderr",
     "output_type": "stream",
     "text": [
      "\r",
      "717it [23:47:30, 124.53s/it]"
     ]
    },
    {
     "name": "stdout",
     "output_type": "stream",
     "text": [
      "716earning Progress : 100.00 % \n",
      "Test Accuracy = 0.9623430962343096\n",
      "- Learning Progress : 99.80 % \r"
     ]
    },
    {
     "name": "stderr",
     "output_type": "stream",
     "text": [
      "\r",
      "718it [23:49:42, 126.90s/it]"
     ]
    },
    {
     "name": "stdout",
     "output_type": "stream",
     "text": [
      "717earning Progress : 100.00 % \n",
      "Test Accuracy = 0.9623955431754875\n",
      "- Learning Progress : 99.80 % \r"
     ]
    },
    {
     "name": "stderr",
     "output_type": "stream",
     "text": [
      "\r",
      "719it [23:51:55, 128.59s/it]"
     ]
    },
    {
     "name": "stdout",
     "output_type": "stream",
     "text": [
      "718earning Progress : 100.00 % \n",
      "Test Accuracy = 0.9624478442280946\n",
      "- Learning Progress : 99.90 % \r"
     ]
    },
    {
     "name": "stderr",
     "output_type": "stream",
     "text": [
      "\r",
      "720it [23:54:04, 128.65s/it]"
     ]
    },
    {
     "name": "stdout",
     "output_type": "stream",
     "text": [
      "719earning Progress : 100.00 % \n",
      "Test Accuracy = 0.9625\n",
      "- Learning Progress : 99.80 % \r"
     ]
    },
    {
     "name": "stderr",
     "output_type": "stream",
     "text": [
      "\r",
      "721it [23:56:15, 129.63s/it]"
     ]
    },
    {
     "name": "stdout",
     "output_type": "stream",
     "text": [
      "720earning Progress : 100.00 % \n",
      "Test Accuracy = 0.9625520110957004\n",
      "- Learning Progress : 37.60 % \r"
     ]
    },
    {
     "name": "stderr",
     "output_type": "stream",
     "text": [
      "IOPub message rate exceeded.\n",
      "The notebook server will temporarily stop sending output\n",
      "to the client in order to avoid crashing it.\n",
      "To change this limit, set the config variable\n",
      "`--NotebookApp.iopub_msg_rate_limit`.\n",
      "\n",
      "Current values:\n",
      "NotebookApp.iopub_msg_rate_limit=1000.0 (msgs/sec)\n",
      "NotebookApp.rate_limit_window=3.0 (secs)\n",
      "\n"
     ]
    },
    {
     "name": "stdout",
     "output_type": "stream",
     "text": [
      "- Learning Progress : 99.90 % \r"
     ]
    },
    {
     "name": "stderr",
     "output_type": "stream",
     "text": [
      "\r",
      "722it [23:58:23, 128.88s/it]"
     ]
    },
    {
     "name": "stdout",
     "output_type": "stream",
     "text": [
      "721earning Progress : 100.00 % \n",
      "Test Accuracy = 0.9626038781163435\n",
      "- Learning Progress : 99.90 % \r"
     ]
    },
    {
     "name": "stderr",
     "output_type": "stream",
     "text": [
      "\r",
      "723it [24:00:35, 129.97s/it]"
     ]
    },
    {
     "name": "stdout",
     "output_type": "stream",
     "text": [
      "- Learning Progress : 100.00 % \r",
      "722\n",
      "Test Accuracy = 0.9626556016597511\n"
     ]
    },
    {
     "name": "stderr",
     "output_type": "stream",
     "text": [
      "\r",
      "724it [24:00:35, 91.07s/it] "
     ]
    },
    {
     "name": "stdout",
     "output_type": "stream",
     "text": [
      "723\n",
      "- Learning Progress : 99.80 % \r"
     ]
    },
    {
     "name": "stderr",
     "output_type": "stream",
     "text": [
      "\r",
      "725it [24:02:46, 103.08s/it]"
     ]
    },
    {
     "name": "stdout",
     "output_type": "stream",
     "text": [
      "724earning Progress : 100.00 % \n",
      "Test Accuracy = 0.9613793103448276\n",
      "- Learning Progress : 99.80 % \r"
     ]
    },
    {
     "name": "stderr",
     "output_type": "stream",
     "text": [
      "\r",
      "726it [24:04:59, 112.01s/it]"
     ]
    },
    {
     "name": "stdout",
     "output_type": "stream",
     "text": [
      "725earning Progress : 100.00 % \n",
      "Test Accuracy = 0.9614325068870524\n",
      "- Learning Progress : 99.90 % \r"
     ]
    },
    {
     "name": "stderr",
     "output_type": "stream",
     "text": [
      "\r",
      "727it [24:07:14, 118.86s/it]"
     ]
    },
    {
     "name": "stdout",
     "output_type": "stream",
     "text": [
      "726earning Progress : 100.00 % \n",
      "Test Accuracy = 0.9614855570839065\n",
      "- Learning Progress : 99.90 % \r"
     ]
    },
    {
     "name": "stderr",
     "output_type": "stream",
     "text": [
      "\r",
      "728it [24:09:28, 123.41s/it]"
     ]
    },
    {
     "name": "stdout",
     "output_type": "stream",
     "text": [
      "727earning Progress : 100.00 % \n",
      "Test Accuracy = 0.9615384615384616\n",
      "- Learning Progress : 99.80 % \r"
     ]
    },
    {
     "name": "stderr",
     "output_type": "stream",
     "text": [
      "\r",
      "730it [24:13:54, 128.22s/it]"
     ]
    },
    {
     "name": "stdout",
     "output_type": "stream",
     "text": [
      "729earning Progress : 100.00 % \n",
      "Test Accuracy = 0.9616438356164384\n",
      "- Learning Progress : 99.80 % \r"
     ]
    },
    {
     "name": "stderr",
     "output_type": "stream",
     "text": [
      "\r",
      "731it [24:16:04, 128.60s/it]"
     ]
    },
    {
     "name": "stdout",
     "output_type": "stream",
     "text": [
      "730earning Progress : 100.00 % \n",
      "Test Accuracy = 0.9616963064295485\n",
      "- Learning Progress : 99.90 % \r"
     ]
    },
    {
     "name": "stderr",
     "output_type": "stream",
     "text": [
      "\r",
      "732it [24:18:13, 128.66s/it]"
     ]
    },
    {
     "name": "stdout",
     "output_type": "stream",
     "text": [
      "731earning Progress : 100.00 % \n",
      "Test Accuracy = 0.9617486338797814\n",
      "- Learning Progress : 99.80 % \r"
     ]
    },
    {
     "name": "stderr",
     "output_type": "stream",
     "text": [
      "\r",
      "733it [24:20:24, 129.53s/it]"
     ]
    },
    {
     "name": "stdout",
     "output_type": "stream",
     "text": [
      "732earning Progress : 100.00 % \n",
      "Test Accuracy = 0.9618008185538881\n",
      "- Learning Progress : 99.80 % \r"
     ]
    },
    {
     "name": "stderr",
     "output_type": "stream",
     "text": [
      "\r",
      "734it [24:22:36, 130.24s/it]"
     ]
    },
    {
     "name": "stdout",
     "output_type": "stream",
     "text": [
      "733earning Progress : 100.00 % \n",
      "Test Accuracy = 0.9618528610354223\n",
      "- Learning Progress : 99.90 % \r"
     ]
    },
    {
     "name": "stderr",
     "output_type": "stream",
     "text": [
      "\r",
      "735it [24:24:46, 130.22s/it]"
     ]
    },
    {
     "name": "stdout",
     "output_type": "stream",
     "text": [
      "734earning Progress : 100.00 % \n",
      "Test Accuracy = 0.9619047619047619\n",
      "- Learning Progress : 39.50 % \r"
     ]
    },
    {
     "name": "stderr",
     "output_type": "stream",
     "text": [
      "IOPub message rate exceeded.\n",
      "The notebook server will temporarily stop sending output\n",
      "to the client in order to avoid crashing it.\n",
      "To change this limit, set the config variable\n",
      "`--NotebookApp.iopub_msg_rate_limit`.\n",
      "\n",
      "Current values:\n",
      "NotebookApp.iopub_msg_rate_limit=1000.0 (msgs/sec)\n",
      "NotebookApp.rate_limit_window=3.0 (secs)\n",
      "\n"
     ]
    },
    {
     "name": "stdout",
     "output_type": "stream",
     "text": [
      "- Learning Progress : 99.80 % \r"
     ]
    },
    {
     "name": "stderr",
     "output_type": "stream",
     "text": [
      "\r",
      "744it [24:44:13, 129.20s/it]"
     ]
    },
    {
     "name": "stdout",
     "output_type": "stream",
     "text": [
      "- Learning Progress : 99.90 % \r",
      "- Learning Progress : 100.00 % \r",
      "743\n",
      "Test Accuracy = 0.9623655913978495\n"
     ]
    },
    {
     "name": "stderr",
     "output_type": "stream",
     "text": [
      "\r",
      "745it [24:44:14, 90.62s/it] "
     ]
    },
    {
     "name": "stdout",
     "output_type": "stream",
     "text": [
      "744\n",
      "- Learning Progress : 99.90 % \r"
     ]
    },
    {
     "name": "stderr",
     "output_type": "stream",
     "text": [
      "\r",
      "746it [24:46:24, 102.64s/it]"
     ]
    },
    {
     "name": "stdout",
     "output_type": "stream",
     "text": [
      "745earning Progress : 100.00 % \n",
      "Test Accuracy = 0.9611260053619303\n",
      "- Learning Progress : 99.90 % \r"
     ]
    },
    {
     "name": "stderr",
     "output_type": "stream",
     "text": [
      "\r",
      "747it [24:48:36, 111.46s/it]"
     ]
    },
    {
     "name": "stdout",
     "output_type": "stream",
     "text": [
      "746earning Progress : 100.00 % \n",
      "Test Accuracy = 0.9611780455153949\n",
      "- Learning Progress : 99.80 % \r"
     ]
    },
    {
     "name": "stderr",
     "output_type": "stream",
     "text": [
      "\r",
      "748it [24:50:49, 117.79s/it]"
     ]
    },
    {
     "name": "stdout",
     "output_type": "stream",
     "text": [
      "747earning Progress : 100.00 % \n",
      "Test Accuracy = 0.9612299465240641\n",
      "- Learning Progress : 99.80 % \r"
     ]
    },
    {
     "name": "stderr",
     "output_type": "stream",
     "text": [
      "\r",
      "749it [24:52:58, 121.04s/it]"
     ]
    },
    {
     "name": "stdout",
     "output_type": "stream",
     "text": [
      "- Learning Progress : 99.90 % \r",
      "- Learning Progress : 100.00 % \r",
      "748\n",
      "Test Accuracy = 0.9612817089452603\n"
     ]
    },
    {
     "name": "stderr",
     "output_type": "stream",
     "text": [
      "\r",
      "750it [24:52:58, 84.83s/it] "
     ]
    },
    {
     "name": "stdout",
     "output_type": "stream",
     "text": [
      "749\n",
      "- Learning Progress : 99.80 % \r"
     ]
    },
    {
     "name": "stderr",
     "output_type": "stream",
     "text": [
      "\r",
      "751it [24:55:07, 97.97s/it]"
     ]
    },
    {
     "name": "stdout",
     "output_type": "stream",
     "text": [
      "750earning Progress : 100.00 % \n",
      "Test Accuracy = 0.9600532623169108\n",
      "- Learning Progress : 99.80 % \r"
     ]
    },
    {
     "name": "stderr",
     "output_type": "stream",
     "text": [
      "\r",
      "752it [24:57:15, 107.01s/it]"
     ]
    },
    {
     "name": "stdout",
     "output_type": "stream",
     "text": [
      "- Learning Progress : 99.90 % \r",
      "- Learning Progress : 100.00 % \r",
      "751\n",
      "Test Accuracy = 0.9601063829787234\n"
     ]
    },
    {
     "name": "stderr",
     "output_type": "stream",
     "text": [
      "\r",
      "753it [24:57:15, 74.98s/it] "
     ]
    },
    {
     "name": "stdout",
     "output_type": "stream",
     "text": [
      "752\n",
      "- Learning Progress : 99.80 % \r"
     ]
    },
    {
     "name": "stderr",
     "output_type": "stream",
     "text": [
      "\r",
      "754it [24:59:26, 91.78s/it]"
     ]
    },
    {
     "name": "stdout",
     "output_type": "stream",
     "text": [
      "753earning Progress : 100.00 % \n",
      "Test Accuracy = 0.9588859416445623\n",
      "- Learning Progress : 99.80 % \r"
     ]
    },
    {
     "name": "stderr",
     "output_type": "stream",
     "text": [
      "\r",
      "755it [25:01:37, 103.67s/it]"
     ]
    },
    {
     "name": "stdout",
     "output_type": "stream",
     "text": [
      "754earning Progress : 100.00 % \n",
      "Test Accuracy = 0.9589403973509933\n",
      "- Learning Progress : 99.90 % \r"
     ]
    },
    {
     "name": "stderr",
     "output_type": "stream",
     "text": [
      "\r",
      "756it [25:03:48, 111.68s/it]"
     ]
    },
    {
     "name": "stdout",
     "output_type": "stream",
     "text": [
      "755earning Progress : 100.00 % \n",
      "Test Accuracy = 0.958994708994709\n",
      "- Learning Progress : 99.90 % \r"
     ]
    },
    {
     "name": "stderr",
     "output_type": "stream",
     "text": [
      "\r",
      "757it [25:05:59, 117.46s/it]"
     ]
    },
    {
     "name": "stdout",
     "output_type": "stream",
     "text": [
      "756earning Progress : 100.00 % \n",
      "Test Accuracy = 0.9590488771466315\n",
      "- Learning Progress : 99.90 % \r"
     ]
    },
    {
     "name": "stderr",
     "output_type": "stream",
     "text": [
      "\r",
      "758it [25:08:13, 122.42s/it]"
     ]
    },
    {
     "name": "stdout",
     "output_type": "stream",
     "text": [
      "757earning Progress : 100.00 % \n",
      "Test Accuracy = 0.9591029023746702\n",
      "- Learning Progress : 99.80 % \r"
     ]
    },
    {
     "name": "stderr",
     "output_type": "stream",
     "text": [
      "\r",
      "759it [25:10:20, 123.97s/it]"
     ]
    },
    {
     "name": "stdout",
     "output_type": "stream",
     "text": [
      "758earning Progress : 100.00 % \n",
      "Test Accuracy = 0.9591567852437418\n",
      "- Learning Progress : 99.80 % \r"
     ]
    },
    {
     "name": "stderr",
     "output_type": "stream",
     "text": [
      "\r",
      "760it [25:12:27, 124.75s/it]"
     ]
    },
    {
     "name": "stdout",
     "output_type": "stream",
     "text": [
      "759earning Progress : 100.00 % \n",
      "Test Accuracy = 0.9592105263157895\n",
      "- Learning Progress : 99.90 % \r"
     ]
    },
    {
     "name": "stderr",
     "output_type": "stream",
     "text": [
      "\r",
      "761it [25:14:40, 127.31s/it]"
     ]
    },
    {
     "name": "stdout",
     "output_type": "stream",
     "text": [
      "760earning Progress : 100.00 % \n",
      "Test Accuracy = 0.9592641261498029\n",
      "- Learning Progress : 99.90 % \r"
     ]
    },
    {
     "name": "stderr",
     "output_type": "stream",
     "text": [
      "\r",
      "762it [25:16:51, 128.37s/it]"
     ]
    },
    {
     "name": "stdout",
     "output_type": "stream",
     "text": [
      "761earning Progress : 100.00 % \n",
      "Test Accuracy = 0.9593175853018373\n",
      "- Learning Progress : 99.90 % \r"
     ]
    },
    {
     "name": "stderr",
     "output_type": "stream",
     "text": [
      "\r",
      "764it [25:21:15, 130.36s/it]"
     ]
    },
    {
     "name": "stdout",
     "output_type": "stream",
     "text": [
      "763earning Progress : 100.00 % \n",
      "Test Accuracy = 0.9594240837696335\n",
      "- Learning Progress : 100.00 % \r"
     ]
    },
    {
     "name": "stderr",
     "output_type": "stream",
     "text": [
      "\r",
      "765it [25:23:23, 129.94s/it]"
     ]
    },
    {
     "name": "stdout",
     "output_type": "stream",
     "text": [
      "764\n",
      "Test Accuracy = 0.9594771241830066\n"
     ]
    },
    {
     "name": "stderr",
     "output_type": "stream",
     "text": [
      "\r",
      "766it [25:23:24, 91.04s/it] "
     ]
    },
    {
     "name": "stdout",
     "output_type": "stream",
     "text": [
      "765\n",
      "- Learning Progress : 99.90 % \r"
     ]
    },
    {
     "name": "stderr",
     "output_type": "stream",
     "text": [
      "\r",
      "767it [25:25:30, 101.52s/it]"
     ]
    },
    {
     "name": "stdout",
     "output_type": "stream",
     "text": [
      "766earning Progress : 100.00 % \n",
      "Test Accuracy = 0.9582790091264668\n",
      "- Learning Progress : 99.90 % \r"
     ]
    },
    {
     "name": "stderr",
     "output_type": "stream",
     "text": [
      "\r",
      "768it [25:27:41, 110.46s/it]"
     ]
    },
    {
     "name": "stdout",
     "output_type": "stream",
     "text": [
      "767earning Progress : 100.00 % \n",
      "Test Accuracy = 0.9583333333333334\n",
      "- Learning Progress : 99.80 % \r"
     ]
    },
    {
     "name": "stderr",
     "output_type": "stream",
     "text": [
      "\r",
      "769it [25:29:51, 116.23s/it]"
     ]
    },
    {
     "name": "stdout",
     "output_type": "stream",
     "text": [
      "768earning Progress : 100.00 % \n",
      "Test Accuracy = 0.9583875162548765\n",
      "- Learning Progress : 99.90 % \r"
     ]
    },
    {
     "name": "stderr",
     "output_type": "stream",
     "text": [
      "\r",
      "770it [25:32:00, 120.25s/it]"
     ]
    },
    {
     "name": "stdout",
     "output_type": "stream",
     "text": [
      "769earning Progress : 100.00 % \n",
      "Test Accuracy = 0.9584415584415584\n",
      "- Learning Progress : 59.70 % \r"
     ]
    },
    {
     "name": "stderr",
     "output_type": "stream",
     "text": [
      "IOPub message rate exceeded.\n",
      "The notebook server will temporarily stop sending output\n",
      "to the client in order to avoid crashing it.\n",
      "To change this limit, set the config variable\n",
      "`--NotebookApp.iopub_msg_rate_limit`.\n",
      "\n",
      "Current values:\n",
      "NotebookApp.iopub_msg_rate_limit=1000.0 (msgs/sec)\n",
      "NotebookApp.rate_limit_window=3.0 (secs)\n",
      "\n"
     ]
    },
    {
     "name": "stdout",
     "output_type": "stream",
     "text": [
      "- Learning Progress : 99.90 % \r"
     ]
    },
    {
     "name": "stderr",
     "output_type": "stream",
     "text": [
      "\r",
      "782it [25:53:51, 100.46s/it]"
     ]
    },
    {
     "name": "stdout",
     "output_type": "stream",
     "text": [
      "781earning Progress : 100.00 % \n",
      "Test Accuracy = 0.9565217391304348\n",
      "- Learning Progress : 99.80 % \r"
     ]
    },
    {
     "name": "stderr",
     "output_type": "stream",
     "text": [
      "\r",
      "783it [25:56:02, 109.45s/it]"
     ]
    },
    {
     "name": "stdout",
     "output_type": "stream",
     "text": [
      "782earning Progress : 100.00 % \n",
      "Test Accuracy = 0.9565772669220945\n",
      "- Learning Progress : 99.90 % \r"
     ]
    },
    {
     "name": "stderr",
     "output_type": "stream",
     "text": [
      "\r",
      "784it [25:58:14, 116.45s/it]"
     ]
    },
    {
     "name": "stdout",
     "output_type": "stream",
     "text": [
      "783earning Progress : 100.00 % \n",
      "Test Accuracy = 0.9566326530612245\n",
      "- Learning Progress : 99.80 % \r"
     ]
    },
    {
     "name": "stderr",
     "output_type": "stream",
     "text": [
      "\r",
      "785it [26:00:26, 120.91s/it]"
     ]
    },
    {
     "name": "stdout",
     "output_type": "stream",
     "text": [
      "784earning Progress : 100.00 % \n",
      "Test Accuracy = 0.956687898089172\n",
      "- Learning Progress : 99.90 % \r"
     ]
    },
    {
     "name": "stderr",
     "output_type": "stream",
     "text": [
      "\r",
      "786it [26:02:38, 124.36s/it]"
     ]
    },
    {
     "name": "stdout",
     "output_type": "stream",
     "text": [
      "785earning Progress : 100.00 % \n",
      "Test Accuracy = 0.9567430025445293\n",
      "- Learning Progress : 100.00 % \r"
     ]
    },
    {
     "name": "stderr",
     "output_type": "stream",
     "text": [
      "\r",
      "787it [26:04:46, 125.43s/it]"
     ]
    },
    {
     "name": "stdout",
     "output_type": "stream",
     "text": [
      "786\n",
      "Test Accuracy = 0.9567979669631512\n",
      "- Learning Progress : 99.80 % \r"
     ]
    },
    {
     "name": "stderr",
     "output_type": "stream",
     "text": [
      "\r",
      "788it [26:06:51, 125.25s/it]"
     ]
    },
    {
     "name": "stdout",
     "output_type": "stream",
     "text": [
      "787earning Progress : 100.00 % \n",
      "Test Accuracy = 0.9568527918781726\n",
      "- Learning Progress : 15.00 % \r"
     ]
    },
    {
     "name": "stderr",
     "output_type": "stream",
     "text": [
      "IOPub message rate exceeded.\n",
      "The notebook server will temporarily stop sending output\n",
      "to the client in order to avoid crashing it.\n",
      "To change this limit, set the config variable\n",
      "`--NotebookApp.iopub_msg_rate_limit`.\n",
      "\n",
      "Current values:\n",
      "NotebookApp.iopub_msg_rate_limit=1000.0 (msgs/sec)\n",
      "NotebookApp.rate_limit_window=3.0 (secs)\n",
      "\n"
     ]
    },
    {
     "name": "stdout",
     "output_type": "stream",
     "text": [
      "- Learning Progress : 99.90 % \r"
     ]
    },
    {
     "name": "stderr",
     "output_type": "stream",
     "text": [
      "\r",
      "800it [26:33:10, 129.69s/it]"
     ]
    },
    {
     "name": "stdout",
     "output_type": "stream",
     "text": [
      "799earning Progress : 100.00 % \n",
      "Test Accuracy = 0.9575\n",
      "- Learning Progress : 99.90 % \r"
     ]
    },
    {
     "name": "stderr",
     "output_type": "stream",
     "text": [
      "\r",
      "801it [26:35:18, 129.30s/it]"
     ]
    },
    {
     "name": "stdout",
     "output_type": "stream",
     "text": [
      "800earning Progress : 100.00 % \n",
      "Test Accuracy = 0.9575530586766542\n",
      "- Learning Progress : 99.80 % \r"
     ]
    },
    {
     "name": "stderr",
     "output_type": "stream",
     "text": [
      "\r",
      "802it [26:37:27, 129.12s/it]"
     ]
    },
    {
     "name": "stdout",
     "output_type": "stream",
     "text": [
      "801earning Progress : 100.00 % \n",
      "Test Accuracy = 0.9576059850374065\n",
      "- Learning Progress : 99.90 % \r"
     ]
    },
    {
     "name": "stderr",
     "output_type": "stream",
     "text": [
      "\r",
      "803it [26:39:39, 130.14s/it]"
     ]
    },
    {
     "name": "stdout",
     "output_type": "stream",
     "text": [
      "802earning Progress : 100.00 % \n",
      "Test Accuracy = 0.9576587795765878\n",
      "- Learning Progress : 99.90 % \r"
     ]
    },
    {
     "name": "stderr",
     "output_type": "stream",
     "text": [
      "\r",
      "804it [26:41:53, 131.24s/it]"
     ]
    },
    {
     "name": "stdout",
     "output_type": "stream",
     "text": [
      "803earning Progress : 100.00 % \n",
      "Test Accuracy = 0.9577114427860697\n",
      "- Learning Progress : 99.90 % \r"
     ]
    },
    {
     "name": "stderr",
     "output_type": "stream",
     "text": [
      "\r",
      "805it [26:44:03, 130.79s/it]"
     ]
    },
    {
     "name": "stdout",
     "output_type": "stream",
     "text": [
      "804earning Progress : 100.00 % \n",
      "Test Accuracy = 0.9577639751552796\n",
      "- Learning Progress : 99.90 % \r"
     ]
    },
    {
     "name": "stderr",
     "output_type": "stream",
     "text": [
      "\r",
      "806it [26:46:12, 130.32s/it]"
     ]
    },
    {
     "name": "stdout",
     "output_type": "stream",
     "text": [
      "805earning Progress : 100.00 % \n",
      "Test Accuracy = 0.9578163771712159\n",
      "- Learning Progress : 9.10 % \r"
     ]
    },
    {
     "name": "stderr",
     "output_type": "stream",
     "text": [
      "IOPub message rate exceeded.\n",
      "The notebook server will temporarily stop sending output\n",
      "to the client in order to avoid crashing it.\n",
      "To change this limit, set the config variable\n",
      "`--NotebookApp.iopub_msg_rate_limit`.\n",
      "\n",
      "Current values:\n",
      "NotebookApp.iopub_msg_rate_limit=1000.0 (msgs/sec)\n",
      "NotebookApp.rate_limit_window=3.0 (secs)\n",
      "\n"
     ]
    },
    {
     "name": "stdout",
     "output_type": "stream",
     "text": [
      "- Learning Progress : 99.90 % \r"
     ]
    },
    {
     "name": "stderr",
     "output_type": "stream",
     "text": [
      "\r",
      "818it [27:12:12, 129.92s/it]"
     ]
    },
    {
     "name": "stdout",
     "output_type": "stream",
     "text": [
      "817earning Progress : 100.00 % \n",
      "Test Accuracy = 0.9584352078239609\n",
      "- Learning Progress : 99.80 % \r"
     ]
    },
    {
     "name": "stderr",
     "output_type": "stream",
     "text": [
      "\r",
      "819it [27:14:23, 130.03s/it]"
     ]
    },
    {
     "name": "stdout",
     "output_type": "stream",
     "text": [
      "818earning Progress : 100.00 % \n",
      "Test Accuracy = 0.9584859584859585\n",
      "- Learning Progress : 99.90 % \r"
     ]
    },
    {
     "name": "stderr",
     "output_type": "stream",
     "text": [
      "\r",
      "820it [27:16:29, 129.02s/it]"
     ]
    },
    {
     "name": "stdout",
     "output_type": "stream",
     "text": [
      "819earning Progress : 100.00 % \n",
      "Test Accuracy = 0.9585365853658536\n",
      "- Learning Progress : 99.70 % \r"
     ]
    },
    {
     "name": "stderr",
     "output_type": "stream",
     "text": [
      "\r",
      "821it [27:18:39, 129.26s/it]"
     ]
    },
    {
     "name": "stdout",
     "output_type": "stream",
     "text": [
      "820earning Progress : 100.00 % \n",
      "Test Accuracy = 0.9585870889159561\n",
      "- Learning Progress : 99.80 % \r"
     ]
    },
    {
     "name": "stderr",
     "output_type": "stream",
     "text": [
      "\r",
      "822it [27:20:49, 129.35s/it]"
     ]
    },
    {
     "name": "stdout",
     "output_type": "stream",
     "text": [
      "821earning Progress : 100.00 % \n",
      "Test Accuracy = 0.9586374695863747\n",
      "- Learning Progress : 99.80 % \r"
     ]
    },
    {
     "name": "stderr",
     "output_type": "stream",
     "text": [
      "\r",
      "823it [27:23:00, 129.84s/it]"
     ]
    },
    {
     "name": "stdout",
     "output_type": "stream",
     "text": [
      "822earning Progress : 100.00 % \n",
      "Test Accuracy = 0.9586877278250304\n",
      "- Learning Progress : 99.80 % \r"
     ]
    },
    {
     "name": "stderr",
     "output_type": "stream",
     "text": [
      "\r",
      "824it [27:25:11, 130.26s/it]"
     ]
    },
    {
     "name": "stdout",
     "output_type": "stream",
     "text": [
      "823earning Progress : 100.00 % \n",
      "Test Accuracy = 0.9587378640776699\n",
      "- Learning Progress : 6.20 % \r"
     ]
    },
    {
     "name": "stderr",
     "output_type": "stream",
     "text": [
      "IOPub message rate exceeded.\n",
      "The notebook server will temporarily stop sending output\n",
      "to the client in order to avoid crashing it.\n",
      "To change this limit, set the config variable\n",
      "`--NotebookApp.iopub_msg_rate_limit`.\n",
      "\n",
      "Current values:\n",
      "NotebookApp.iopub_msg_rate_limit=1000.0 (msgs/sec)\n",
      "NotebookApp.rate_limit_window=3.0 (secs)\n",
      "\n"
     ]
    },
    {
     "name": "stdout",
     "output_type": "stream",
     "text": [
      "- Learning Progress : 99.90 % \r"
     ]
    },
    {
     "name": "stderr",
     "output_type": "stream",
     "text": [
      "\r",
      "836it [27:49:01, 102.53s/it]"
     ]
    },
    {
     "name": "stdout",
     "output_type": "stream",
     "text": [
      "835earning Progress : 100.00 % \n",
      "Test Accuracy = 0.9581339712918661\n",
      "- Learning Progress : 99.80 % \r"
     ]
    },
    {
     "name": "stderr",
     "output_type": "stream",
     "text": [
      "\r",
      "837it [27:51:11, 110.93s/it]"
     ]
    },
    {
     "name": "stdout",
     "output_type": "stream",
     "text": [
      "836earning Progress : 100.00 % \n",
      "Test Accuracy = 0.9581839904420549\n",
      "- Learning Progress : 100.00 % \r"
     ]
    },
    {
     "name": "stderr",
     "output_type": "stream",
     "text": [
      "\r",
      "838it [27:53:22, 116.81s/it]"
     ]
    },
    {
     "name": "stdout",
     "output_type": "stream",
     "text": [
      "837\n",
      "Test Accuracy = 0.9582338902147971\n",
      "- Learning Progress : 99.80 % \r"
     ]
    },
    {
     "name": "stderr",
     "output_type": "stream",
     "text": [
      "\r",
      "839it [27:55:30, 120.11s/it]"
     ]
    },
    {
     "name": "stdout",
     "output_type": "stream",
     "text": [
      "- Learning Progress : 99.90 % \r",
      "- Learning Progress : 100.00 % \r",
      "838\n",
      "Test Accuracy = 0.9582836710369488\n"
     ]
    },
    {
     "name": "stderr",
     "output_type": "stream",
     "text": [
      "\r",
      "840it [27:55:30, 84.17s/it] "
     ]
    },
    {
     "name": "stdout",
     "output_type": "stream",
     "text": [
      "839\n",
      "- Learning Progress : 99.90 % \r"
     ]
    },
    {
     "name": "stderr",
     "output_type": "stream",
     "text": [
      "\r",
      "841it [27:57:41, 98.16s/it]"
     ]
    },
    {
     "name": "stdout",
     "output_type": "stream",
     "text": [
      "840earning Progress : 100.00 % \n",
      "Test Accuracy = 0.9571938168846611\n",
      "- Learning Progress : 99.80 % \r"
     ]
    },
    {
     "name": "stderr",
     "output_type": "stream",
     "text": [
      "\r",
      "842it [27:59:52, 108.02s/it]"
     ]
    },
    {
     "name": "stdout",
     "output_type": "stream",
     "text": [
      "841earning Progress : 100.00 % \n",
      "Test Accuracy = 0.9572446555819477\n",
      "- Learning Progress : 99.90 % \r"
     ]
    },
    {
     "name": "stderr",
     "output_type": "stream",
     "text": [
      "\r",
      "843it [28:02:02, 114.65s/it]"
     ]
    },
    {
     "name": "stdout",
     "output_type": "stream",
     "text": [
      "842earning Progress : 100.00 % \n",
      "Test Accuracy = 0.9572953736654805\n",
      "- Learning Progress : 9.20 % \r"
     ]
    },
    {
     "name": "stderr",
     "output_type": "stream",
     "text": [
      "IOPub message rate exceeded.\n",
      "The notebook server will temporarily stop sending output\n",
      "to the client in order to avoid crashing it.\n",
      "To change this limit, set the config variable\n",
      "`--NotebookApp.iopub_msg_rate_limit`.\n",
      "\n",
      "Current values:\n",
      "NotebookApp.iopub_msg_rate_limit=1000.0 (msgs/sec)\n",
      "NotebookApp.rate_limit_window=3.0 (secs)\n",
      "\n"
     ]
    },
    {
     "name": "stdout",
     "output_type": "stream",
     "text": [
      "- Learning Progress : 99.80 % \r"
     ]
    },
    {
     "name": "stderr",
     "output_type": "stream",
     "text": [
      "\r",
      "855it [28:26:19, 119.61s/it]"
     ]
    },
    {
     "name": "stdout",
     "output_type": "stream",
     "text": [
      "854earning Progress : 100.00 % \n",
      "Test Accuracy = 0.9567251461988304\n",
      "- Learning Progress : 99.90 % \r"
     ]
    },
    {
     "name": "stderr",
     "output_type": "stream",
     "text": [
      "\r",
      "856it [28:28:32, 123.58s/it]"
     ]
    },
    {
     "name": "stdout",
     "output_type": "stream",
     "text": [
      "- Learning Progress : 100.00 % \r",
      "855\n",
      "Test Accuracy = 0.9567757009345794\n"
     ]
    },
    {
     "name": "stderr",
     "output_type": "stream",
     "text": [
      "\r",
      "857it [28:28:33, 86.64s/it] "
     ]
    },
    {
     "name": "stdout",
     "output_type": "stream",
     "text": [
      "856\n",
      "- Learning Progress : 99.90 % \r"
     ]
    },
    {
     "name": "stderr",
     "output_type": "stream",
     "text": [
      "\r",
      "858it [28:30:46, 100.62s/it]"
     ]
    },
    {
     "name": "stdout",
     "output_type": "stream",
     "text": [
      "857earning Progress : 100.00 % \n",
      "Test Accuracy = 0.9557109557109557\n",
      "- Learning Progress : 99.70 % \r"
     ]
    },
    {
     "name": "stderr",
     "output_type": "stream",
     "text": [
      "\r",
      "859it [28:32:57, 109.81s/it]"
     ]
    },
    {
     "name": "stdout",
     "output_type": "stream",
     "text": [
      "858earning Progress : 100.00 % \n",
      "Test Accuracy = 0.9557625145518044\n",
      "- Learning Progress : 99.80 % \r"
     ]
    },
    {
     "name": "stderr",
     "output_type": "stream",
     "text": [
      "\r",
      "860it [28:35:07, 115.82s/it]"
     ]
    },
    {
     "name": "stdout",
     "output_type": "stream",
     "text": [
      "859earning Progress : 100.00 % \n",
      "Test Accuracy = 0.9558139534883721\n",
      "- Learning Progress : 99.90 % \r"
     ]
    },
    {
     "name": "stderr",
     "output_type": "stream",
     "text": [
      "\r",
      "861it [28:37:18, 120.44s/it]"
     ]
    },
    {
     "name": "stdout",
     "output_type": "stream",
     "text": [
      "860earning Progress : 100.00 % \n",
      "Test Accuracy = 0.9558652729384437\n",
      "- Learning Progress : 62.70 % \r"
     ]
    },
    {
     "name": "stderr",
     "output_type": "stream",
     "text": [
      "IOPub message rate exceeded.\n",
      "The notebook server will temporarily stop sending output\n",
      "to the client in order to avoid crashing it.\n",
      "To change this limit, set the config variable\n",
      "`--NotebookApp.iopub_msg_rate_limit`.\n",
      "\n",
      "Current values:\n",
      "NotebookApp.iopub_msg_rate_limit=1000.0 (msgs/sec)\n",
      "NotebookApp.rate_limit_window=3.0 (secs)\n",
      "\n"
     ]
    },
    {
     "name": "stdout",
     "output_type": "stream",
     "text": [
      "- Learning Progress : 99.80 % \r"
     ]
    },
    {
     "name": "stderr",
     "output_type": "stream",
     "text": [
      "\r",
      "872it [28:58:59, 125.01s/it]"
     ]
    },
    {
     "name": "stdout",
     "output_type": "stream",
     "text": [
      "871earning Progress : 100.00 % \n",
      "Test Accuracy = 0.9552752293577982\n",
      "- Learning Progress : 99.80 % \r"
     ]
    },
    {
     "name": "stderr",
     "output_type": "stream",
     "text": [
      "\r",
      "873it [29:01:10, 126.81s/it]"
     ]
    },
    {
     "name": "stdout",
     "output_type": "stream",
     "text": [
      "872earning Progress : 100.00 % \n",
      "Test Accuracy = 0.9553264604810997\n",
      "- Learning Progress : 99.90 % \r"
     ]
    },
    {
     "name": "stderr",
     "output_type": "stream",
     "text": [
      "\r",
      "874it [29:03:22, 128.39s/it]"
     ]
    },
    {
     "name": "stdout",
     "output_type": "stream",
     "text": [
      "873earning Progress : 100.00 % \n",
      "Test Accuracy = 0.9553775743707094\n",
      "- Learning Progress : 99.90 % \r"
     ]
    },
    {
     "name": "stderr",
     "output_type": "stream",
     "text": [
      "\r",
      "875it [29:05:34, 129.29s/it]"
     ]
    },
    {
     "name": "stdout",
     "output_type": "stream",
     "text": [
      "874earning Progress : 100.00 % \n",
      "Test Accuracy = 0.9554285714285714\n",
      "- Learning Progress : 99.80 % \r"
     ]
    },
    {
     "name": "stderr",
     "output_type": "stream",
     "text": [
      "\r",
      "876it [29:07:46, 130.11s/it]"
     ]
    },
    {
     "name": "stdout",
     "output_type": "stream",
     "text": [
      "875earning Progress : 100.00 % \n",
      "Test Accuracy = 0.9554794520547946\n",
      "- Learning Progress : 99.90 % \r"
     ]
    },
    {
     "name": "stderr",
     "output_type": "stream",
     "text": [
      "\r",
      "877it [29:09:54, 129.66s/it]"
     ]
    },
    {
     "name": "stdout",
     "output_type": "stream",
     "text": [
      "876earning Progress : 100.00 % \n",
      "Test Accuracy = 0.9555302166476625\n",
      "- Learning Progress : 40.30 % \r"
     ]
    },
    {
     "name": "stderr",
     "output_type": "stream",
     "text": [
      "IOPub message rate exceeded.\n",
      "The notebook server will temporarily stop sending output\n",
      "to the client in order to avoid crashing it.\n",
      "To change this limit, set the config variable\n",
      "`--NotebookApp.iopub_msg_rate_limit`.\n",
      "\n",
      "Current values:\n",
      "NotebookApp.iopub_msg_rate_limit=1000.0 (msgs/sec)\n",
      "NotebookApp.rate_limit_window=3.0 (secs)\n",
      "\n"
     ]
    },
    {
     "name": "stdout",
     "output_type": "stream",
     "text": [
      "- Learning Progress : 99.90 % \r"
     ]
    },
    {
     "name": "stderr",
     "output_type": "stream",
     "text": [
      "\r",
      "884it [29:25:21, 131.28s/it]"
     ]
    },
    {
     "name": "stdout",
     "output_type": "stream",
     "text": [
      "883earning Progress : 100.00 % \n",
      "Test Accuracy = 0.9558823529411765\n",
      "- Learning Progress : 99.90 % \r"
     ]
    },
    {
     "name": "stderr",
     "output_type": "stream",
     "text": [
      "\r",
      "885it [29:27:35, 132.09s/it]"
     ]
    },
    {
     "name": "stdout",
     "output_type": "stream",
     "text": [
      "884earning Progress : 100.00 % \n",
      "Test Accuracy = 0.9559322033898305\n",
      "- Learning Progress : 99.80 % \r"
     ]
    },
    {
     "name": "stderr",
     "output_type": "stream",
     "text": [
      "\r",
      "886it [29:29:47, 131.80s/it]"
     ]
    },
    {
     "name": "stdout",
     "output_type": "stream",
     "text": [
      "885earning Progress : 100.00 % \n",
      "Test Accuracy = 0.9559819413092551\n",
      "- Learning Progress : 99.90 % \r"
     ]
    },
    {
     "name": "stderr",
     "output_type": "stream",
     "text": [
      "\r",
      "887it [29:31:57, 131.53s/it]"
     ]
    },
    {
     "name": "stdout",
     "output_type": "stream",
     "text": [
      "886earning Progress : 100.00 % \n",
      "Test Accuracy = 0.9560315670800451\n",
      "- Learning Progress : 99.80 % \r"
     ]
    },
    {
     "name": "stderr",
     "output_type": "stream",
     "text": [
      "\r",
      "888it [29:34:09, 131.42s/it]"
     ]
    },
    {
     "name": "stdout",
     "output_type": "stream",
     "text": [
      "887earning Progress : 100.00 % \n",
      "Test Accuracy = 0.956081081081081\n",
      "- Learning Progress : 99.90 % \r"
     ]
    },
    {
     "name": "stderr",
     "output_type": "stream",
     "text": [
      "\r",
      "889it [29:36:22, 131.97s/it]"
     ]
    },
    {
     "name": "stdout",
     "output_type": "stream",
     "text": [
      "888earning Progress : 100.00 % \n",
      "Test Accuracy = 0.9561304836895388\n",
      "- Learning Progress : 99.90 % \r"
     ]
    },
    {
     "name": "stderr",
     "output_type": "stream",
     "text": [
      "\r",
      "890it [29:38:29, 130.64s/it]"
     ]
    },
    {
     "name": "stdout",
     "output_type": "stream",
     "text": [
      "889earning Progress : 100.00 % \n",
      "Test Accuracy = 0.9561797752808989\n",
      "- Learning Progress : 99.90 % \r"
     ]
    },
    {
     "name": "stderr",
     "output_type": "stream",
     "text": [
      "\r",
      "891it [29:40:42, 131.31s/it]"
     ]
    },
    {
     "name": "stdout",
     "output_type": "stream",
     "text": [
      "890earning Progress : 100.00 % \n",
      "Test Accuracy = 0.9562289562289562\n",
      "- Learning Progress : 99.90 % \r"
     ]
    },
    {
     "name": "stderr",
     "output_type": "stream",
     "text": [
      "\r",
      "892it [29:42:54, 131.58s/it]"
     ]
    },
    {
     "name": "stdout",
     "output_type": "stream",
     "text": [
      "891earning Progress : 100.00 % \n",
      "Test Accuracy = 0.9562780269058296\n",
      "- Learning Progress : 99.90 % \r"
     ]
    },
    {
     "name": "stderr",
     "output_type": "stream",
     "text": [
      "\r",
      "893it [29:45:08, 132.28s/it]"
     ]
    },
    {
     "name": "stdout",
     "output_type": "stream",
     "text": [
      "892earning Progress : 100.00 % \n",
      "Test Accuracy = 0.9563269876819709\n",
      "- Learning Progress : 99.80 % \r"
     ]
    },
    {
     "name": "stderr",
     "output_type": "stream",
     "text": [
      "\r",
      "894it [29:47:20, 132.16s/it]"
     ]
    },
    {
     "name": "stdout",
     "output_type": "stream",
     "text": [
      "893earning Progress : 100.00 % \n",
      "Test Accuracy = 0.9563758389261745\n",
      "- Learning Progress : 99.90 % \r"
     ]
    },
    {
     "name": "stderr",
     "output_type": "stream",
     "text": [
      "\r",
      "895it [29:49:37, 133.39s/it]"
     ]
    },
    {
     "name": "stdout",
     "output_type": "stream",
     "text": [
      "894earning Progress : 100.00 % \n",
      "Test Accuracy = 0.9564245810055866\n",
      "- Learning Progress : 99.90 % \r"
     ]
    },
    {
     "name": "stderr",
     "output_type": "stream",
     "text": [
      "\r",
      "896it [29:51:47, 132.58s/it]"
     ]
    },
    {
     "name": "stdout",
     "output_type": "stream",
     "text": [
      "895earning Progress : 100.00 % \n",
      "Test Accuracy = 0.9564732142857143\n",
      "- Learning Progress : 99.80 % \r"
     ]
    },
    {
     "name": "stderr",
     "output_type": "stream",
     "text": [
      "\r",
      "897it [29:53:57, 131.83s/it]"
     ]
    },
    {
     "name": "stdout",
     "output_type": "stream",
     "text": [
      "896earning Progress : 100.00 % \n",
      "Test Accuracy = 0.9565217391304348\n",
      "- Learning Progress : 99.90 % \r"
     ]
    },
    {
     "name": "stderr",
     "output_type": "stream",
     "text": [
      "\r",
      "898it [29:56:06, 130.82s/it]"
     ]
    },
    {
     "name": "stdout",
     "output_type": "stream",
     "text": [
      "897earning Progress : 100.00 % \n",
      "Test Accuracy = 0.9565701559020044\n",
      "- Learning Progress : 99.80 % \r"
     ]
    },
    {
     "name": "stderr",
     "output_type": "stream",
     "text": [
      "\r",
      "899it [29:58:21, 132.02s/it]"
     ]
    },
    {
     "name": "stdout",
     "output_type": "stream",
     "text": [
      "898earning Progress : 100.00 % \n",
      "Test Accuracy = 0.9566184649610678\n",
      "- Learning Progress : 99.80 % \r"
     ]
    },
    {
     "name": "stderr",
     "output_type": "stream",
     "text": [
      "\r",
      "900it [30:00:32, 131.90s/it]"
     ]
    },
    {
     "name": "stdout",
     "output_type": "stream",
     "text": [
      "899earning Progress : 100.00 % \n",
      "Test Accuracy = 0.9566666666666667\n",
      "- Learning Progress : 99.80 % \r"
     ]
    },
    {
     "name": "stderr",
     "output_type": "stream",
     "text": [
      "\r",
      "901it [30:02:46, 132.41s/it]"
     ]
    },
    {
     "name": "stdout",
     "output_type": "stream",
     "text": [
      "900earning Progress : 100.00 % \n",
      "Test Accuracy = 0.9567147613762487\n",
      "- Learning Progress : 100.00 % \r"
     ]
    },
    {
     "name": "stderr",
     "output_type": "stream",
     "text": [
      "\r",
      "902it [30:04:57, 132.16s/it]"
     ]
    },
    {
     "name": "stdout",
     "output_type": "stream",
     "text": [
      "901\n",
      "Test Accuracy = 0.9567627494456763\n",
      "- Learning Progress : 99.90 % \r"
     ]
    },
    {
     "name": "stderr",
     "output_type": "stream",
     "text": [
      "\r",
      "903it [30:07:13, 133.06s/it]"
     ]
    },
    {
     "name": "stdout",
     "output_type": "stream",
     "text": [
      "902earning Progress : 100.00 % \n",
      "Test Accuracy = 0.9568106312292359\n",
      "- Learning Progress : 99.80 % \r"
     ]
    },
    {
     "name": "stderr",
     "output_type": "stream",
     "text": [
      "\r",
      "904it [30:09:27, 133.55s/it]"
     ]
    },
    {
     "name": "stdout",
     "output_type": "stream",
     "text": [
      "903earning Progress : 100.00 % \n",
      "Test Accuracy = 0.956858407079646\n",
      "- Learning Progress : 99.90 % \r"
     ]
    },
    {
     "name": "stderr",
     "output_type": "stream",
     "text": [
      "\r",
      "905it [30:11:40, 133.28s/it]"
     ]
    },
    {
     "name": "stdout",
     "output_type": "stream",
     "text": [
      "904earning Progress : 100.00 % \n",
      "Test Accuracy = 0.9569060773480663\n",
      "- Learning Progress : 99.90 % \r"
     ]
    },
    {
     "name": "stderr",
     "output_type": "stream",
     "text": [
      "\r",
      "907it [30:16:04, 132.19s/it]"
     ]
    },
    {
     "name": "stdout",
     "output_type": "stream",
     "text": [
      "906earning Progress : 100.00 % \n",
      "Test Accuracy = 0.9570011025358324\n",
      "- Learning Progress : 99.80 % \r"
     ]
    },
    {
     "name": "stderr",
     "output_type": "stream",
     "text": [
      "\r",
      "908it [30:18:16, 132.21s/it]"
     ]
    },
    {
     "name": "stdout",
     "output_type": "stream",
     "text": [
      "907earning Progress : 100.00 % \n",
      "Test Accuracy = 0.9570484581497798\n",
      "- Learning Progress : 99.80 % \r"
     ]
    },
    {
     "name": "stderr",
     "output_type": "stream",
     "text": [
      "\r",
      "909it [30:20:32, 133.10s/it]"
     ]
    },
    {
     "name": "stdout",
     "output_type": "stream",
     "text": [
      "908earning Progress : 100.00 % \n",
      "Test Accuracy = 0.9570957095709571\n",
      "- Learning Progress : 99.80 % \r"
     ]
    },
    {
     "name": "stderr",
     "output_type": "stream",
     "text": [
      "\r",
      "910it [30:22:37, 130.71s/it]"
     ]
    },
    {
     "name": "stdout",
     "output_type": "stream",
     "text": [
      "909earning Progress : 100.00 % \n",
      "Test Accuracy = 0.9571428571428572\n",
      "- Learning Progress : 99.90 % \r"
     ]
    },
    {
     "name": "stderr",
     "output_type": "stream",
     "text": [
      "\r",
      "911it [30:24:45, 129.84s/it]"
     ]
    },
    {
     "name": "stdout",
     "output_type": "stream",
     "text": [
      "910earning Progress : 100.00 % \n",
      "Test Accuracy = 0.9571899012074643\n",
      "- Learning Progress : 99.80 % \r"
     ]
    },
    {
     "name": "stderr",
     "output_type": "stream",
     "text": [
      "\r",
      "912it [30:26:57, 130.70s/it]"
     ]
    },
    {
     "name": "stdout",
     "output_type": "stream",
     "text": [
      "911earning Progress : 100.00 % \n",
      "Test Accuracy = 0.9572368421052632\n",
      "- Learning Progress : 52.40 % \r"
     ]
    },
    {
     "name": "stderr",
     "output_type": "stream",
     "text": [
      "IOPub message rate exceeded.\n",
      "The notebook server will temporarily stop sending output\n",
      "to the client in order to avoid crashing it.\n",
      "To change this limit, set the config variable\n",
      "`--NotebookApp.iopub_msg_rate_limit`.\n",
      "\n",
      "Current values:\n",
      "NotebookApp.iopub_msg_rate_limit=1000.0 (msgs/sec)\n",
      "NotebookApp.rate_limit_window=3.0 (secs)\n",
      "\n"
     ]
    },
    {
     "name": "stdout",
     "output_type": "stream",
     "text": [
      "- Learning Progress : 99.80 % \r"
     ]
    },
    {
     "name": "stderr",
     "output_type": "stream",
     "text": [
      "\r",
      "926it [30:54:54, 126.69s/it]"
     ]
    },
    {
     "name": "stdout",
     "output_type": "stream",
     "text": [
      "925earning Progress : 100.00 % \n",
      "Test Accuracy = 0.9568034557235421\n",
      "- Learning Progress : 99.90 % \r"
     ]
    },
    {
     "name": "stderr",
     "output_type": "stream",
     "text": [
      "\r",
      "927it [30:57:06, 128.41s/it]"
     ]
    },
    {
     "name": "stdout",
     "output_type": "stream",
     "text": [
      "926earning Progress : 100.00 % \n",
      "Test Accuracy = 0.9568500539374326\n",
      "- Learning Progress : 99.90 % \r"
     ]
    },
    {
     "name": "stderr",
     "output_type": "stream",
     "text": [
      "\r",
      "928it [30:59:15, 128.47s/it]"
     ]
    },
    {
     "name": "stdout",
     "output_type": "stream",
     "text": [
      "927earning Progress : 100.00 % \n",
      "Test Accuracy = 0.9568965517241379\n",
      "- Learning Progress : 99.80 % \r"
     ]
    },
    {
     "name": "stderr",
     "output_type": "stream",
     "text": [
      "\r",
      "929it [31:01:28, 129.79s/it]"
     ]
    },
    {
     "name": "stdout",
     "output_type": "stream",
     "text": [
      "928earning Progress : 100.00 % \n",
      "Test Accuracy = 0.9569429494079655\n",
      "- Learning Progress : 99.80 % \r"
     ]
    },
    {
     "name": "stderr",
     "output_type": "stream",
     "text": [
      "\r",
      "930it [31:03:36, 129.30s/it]"
     ]
    },
    {
     "name": "stdout",
     "output_type": "stream",
     "text": [
      "929earning Progress : 100.00 % \n",
      "Test Accuracy = 0.956989247311828\n",
      "- Learning Progress : 99.80 % \r"
     ]
    },
    {
     "name": "stderr",
     "output_type": "stream",
     "text": [
      "\r",
      "931it [31:05:43, 128.67s/it]"
     ]
    },
    {
     "name": "stdout",
     "output_type": "stream",
     "text": [
      "930earning Progress : 100.00 % \n",
      "Test Accuracy = 0.9570354457572503\n",
      "- Learning Progress : 50.80 % \r"
     ]
    },
    {
     "name": "stderr",
     "output_type": "stream",
     "text": [
      "IOPub message rate exceeded.\n",
      "The notebook server will temporarily stop sending output\n",
      "to the client in order to avoid crashing it.\n",
      "To change this limit, set the config variable\n",
      "`--NotebookApp.iopub_msg_rate_limit`.\n",
      "\n",
      "Current values:\n",
      "NotebookApp.iopub_msg_rate_limit=1000.0 (msgs/sec)\n",
      "NotebookApp.rate_limit_window=3.0 (secs)\n",
      "\n"
     ]
    },
    {
     "name": "stdout",
     "output_type": "stream",
     "text": [
      "- Learning Progress : 99.80 % \r"
     ]
    },
    {
     "name": "stderr",
     "output_type": "stream",
     "text": [
      "\r",
      "944it [31:31:39, 127.04s/it]"
     ]
    },
    {
     "name": "stdout",
     "output_type": "stream",
     "text": [
      "943earning Progress : 100.00 % \n",
      "Test Accuracy = 0.9565677966101694\n",
      "- Learning Progress : 99.90 % \r"
     ]
    },
    {
     "name": "stderr",
     "output_type": "stream",
     "text": [
      "\r",
      "945it [31:33:49, 127.84s/it]"
     ]
    },
    {
     "name": "stdout",
     "output_type": "stream",
     "text": [
      "944earning Progress : 100.00 % \n",
      "Test Accuracy = 0.9566137566137566\n",
      "- Learning Progress : 99.90 % \r"
     ]
    },
    {
     "name": "stderr",
     "output_type": "stream",
     "text": [
      "\r",
      "946it [31:35:57, 128.18s/it]"
     ]
    },
    {
     "name": "stdout",
     "output_type": "stream",
     "text": [
      "945earning Progress : 100.00 % \n",
      "Test Accuracy = 0.9566596194503171\n",
      "- Learning Progress : 99.90 % \r"
     ]
    },
    {
     "name": "stderr",
     "output_type": "stream",
     "text": [
      "\r",
      "947it [31:38:11, 129.79s/it]"
     ]
    },
    {
     "name": "stdout",
     "output_type": "stream",
     "text": [
      "946earning Progress : 100.00 % \n",
      "Test Accuracy = 0.9567053854276664\n",
      "- Learning Progress : 99.80 % \r"
     ]
    },
    {
     "name": "stderr",
     "output_type": "stream",
     "text": [
      "\r",
      "948it [31:40:20, 129.42s/it]"
     ]
    },
    {
     "name": "stdout",
     "output_type": "stream",
     "text": [
      "947earning Progress : 100.00 % \n",
      "Test Accuracy = 0.9567510548523207\n",
      "- Learning Progress : 99.80 % \r"
     ]
    },
    {
     "name": "stderr",
     "output_type": "stream",
     "text": [
      "\r",
      "949it [31:42:29, 129.43s/it]"
     ]
    },
    {
     "name": "stdout",
     "output_type": "stream",
     "text": [
      "948earning Progress : 100.00 % \n",
      "Test Accuracy = 0.9567966280295047\n",
      "- Learning Progress : 99.90 % \r"
     ]
    },
    {
     "name": "stderr",
     "output_type": "stream",
     "text": [
      "\r",
      "950it [31:44:40, 129.78s/it]"
     ]
    },
    {
     "name": "stdout",
     "output_type": "stream",
     "text": [
      "949earning Progress : 100.00 % \n",
      "Test Accuracy = 0.9568421052631579\n",
      "- Learning Progress : 27.10 % \r"
     ]
    },
    {
     "name": "stderr",
     "output_type": "stream",
     "text": [
      "IOPub message rate exceeded.\n",
      "The notebook server will temporarily stop sending output\n",
      "to the client in order to avoid crashing it.\n",
      "To change this limit, set the config variable\n",
      "`--NotebookApp.iopub_msg_rate_limit`.\n",
      "\n",
      "Current values:\n",
      "NotebookApp.iopub_msg_rate_limit=1000.0 (msgs/sec)\n",
      "NotebookApp.rate_limit_window=3.0 (secs)\n",
      "\n"
     ]
    },
    {
     "name": "stdout",
     "output_type": "stream",
     "text": [
      "- Learning Progress : 99.90 % \r"
     ]
    },
    {
     "name": "stderr",
     "output_type": "stream",
     "text": [
      "\r",
      "961it [32:08:44, 131.18s/it]"
     ]
    },
    {
     "name": "stdout",
     "output_type": "stream",
     "text": [
      "960earning Progress : 100.00 % \n",
      "Test Accuracy = 0.9573361082206036\n",
      "- Learning Progress : 99.90 % \r"
     ]
    },
    {
     "name": "stderr",
     "output_type": "stream",
     "text": [
      "\r",
      "962it [32:10:58, 131.95s/it]"
     ]
    },
    {
     "name": "stdout",
     "output_type": "stream",
     "text": [
      "961earning Progress : 100.00 % \n",
      "Test Accuracy = 0.9573804573804574\n",
      "- Learning Progress : 40.10 % \r"
     ]
    },
    {
     "name": "stderr",
     "output_type": "stream",
     "text": [
      "IOPub message rate exceeded.\n",
      "The notebook server will temporarily stop sending output\n",
      "to the client in order to avoid crashing it.\n",
      "To change this limit, set the config variable\n",
      "`--NotebookApp.iopub_msg_rate_limit`.\n",
      "\n",
      "Current values:\n",
      "NotebookApp.iopub_msg_rate_limit=1000.0 (msgs/sec)\n",
      "NotebookApp.rate_limit_window=3.0 (secs)\n",
      "\n"
     ]
    },
    {
     "name": "stdout",
     "output_type": "stream",
     "text": [
      "- Learning Progress : 99.90 % \r"
     ]
    },
    {
     "name": "stderr",
     "output_type": "stream",
     "text": [
      "\r",
      "965it [32:17:33, 132.24s/it]"
     ]
    },
    {
     "name": "stdout",
     "output_type": "stream",
     "text": [
      "964earning Progress : 100.00 % \n",
      "Test Accuracy = 0.9575129533678757\n",
      "- Learning Progress : 99.90 % \r"
     ]
    },
    {
     "name": "stderr",
     "output_type": "stream",
     "text": [
      "\r",
      "966it [32:19:39, 130.49s/it]"
     ]
    },
    {
     "name": "stdout",
     "output_type": "stream",
     "text": [
      "965earning Progress : 100.00 % \n",
      "Test Accuracy = 0.9575569358178054\n",
      "- Learning Progress : 99.80 % \r"
     ]
    },
    {
     "name": "stderr",
     "output_type": "stream",
     "text": [
      "\r",
      "967it [32:21:46, 129.51s/it]"
     ]
    },
    {
     "name": "stdout",
     "output_type": "stream",
     "text": [
      "966earning Progress : 100.00 % \n",
      "Test Accuracy = 0.9576008273009308\n",
      "- Learning Progress : 99.90 % \r"
     ]
    },
    {
     "name": "stderr",
     "output_type": "stream",
     "text": [
      "\r",
      "968it [32:23:54, 129.00s/it]"
     ]
    },
    {
     "name": "stdout",
     "output_type": "stream",
     "text": [
      "- Learning Progress : 100.00 % \r",
      "967\n",
      "Test Accuracy = 0.9576446280991735\n"
     ]
    },
    {
     "name": "stderr",
     "output_type": "stream",
     "text": [
      "\r",
      "969it [32:23:54, 90.38s/it] "
     ]
    },
    {
     "name": "stdout",
     "output_type": "stream",
     "text": [
      "968\n",
      "- Learning Progress : 35.60 % \r"
     ]
    },
    {
     "name": "stderr",
     "output_type": "stream",
     "text": [
      "IOPub message rate exceeded.\n",
      "The notebook server will temporarily stop sending output\n",
      "to the client in order to avoid crashing it.\n",
      "To change this limit, set the config variable\n",
      "`--NotebookApp.iopub_msg_rate_limit`.\n",
      "\n",
      "Current values:\n",
      "NotebookApp.iopub_msg_rate_limit=1000.0 (msgs/sec)\n",
      "NotebookApp.rate_limit_window=3.0 (secs)\n",
      "\n"
     ]
    },
    {
     "name": "stdout",
     "output_type": "stream",
     "text": [
      "- Learning Progress : 99.90 % \r"
     ]
    },
    {
     "name": "stderr",
     "output_type": "stream",
     "text": [
      "\r",
      "980it [32:47:53, 130.53s/it]"
     ]
    },
    {
     "name": "stdout",
     "output_type": "stream",
     "text": [
      "979earning Progress : 100.00 % \n",
      "Test Accuracy = 0.9571428571428572\n",
      "- Learning Progress : 99.80 % \r"
     ]
    },
    {
     "name": "stderr",
     "output_type": "stream",
     "text": [
      "\r",
      "981it [32:50:02, 130.26s/it]"
     ]
    },
    {
     "name": "stdout",
     "output_type": "stream",
     "text": [
      "- Learning Progress : 99.90 % \r",
      "- Learning Progress : 100.00 % \r",
      "980\n",
      "Test Accuracy = 0.9571865443425076\n"
     ]
    },
    {
     "name": "stderr",
     "output_type": "stream",
     "text": [
      "\r",
      "982it [32:50:03, 91.26s/it] "
     ]
    },
    {
     "name": "stdout",
     "output_type": "stream",
     "text": [
      "981\n",
      "- Learning Progress : 50.50 % \r"
     ]
    },
    {
     "name": "stderr",
     "output_type": "stream",
     "text": [
      "IOPub message rate exceeded.\n",
      "The notebook server will temporarily stop sending output\n",
      "to the client in order to avoid crashing it.\n",
      "To change this limit, set the config variable\n",
      "`--NotebookApp.iopub_msg_rate_limit`.\n",
      "\n",
      "Current values:\n",
      "NotebookApp.iopub_msg_rate_limit=1000.0 (msgs/sec)\n",
      "NotebookApp.rate_limit_window=3.0 (secs)\n",
      "\n"
     ]
    },
    {
     "name": "stdout",
     "output_type": "stream",
     "text": [
      "- Learning Progress : 99.80 % \r"
     ]
    },
    {
     "name": "stderr",
     "output_type": "stream",
     "text": [
      "\r",
      "985it [32:56:31, 115.78s/it]"
     ]
    },
    {
     "name": "stdout",
     "output_type": "stream",
     "text": [
      "- Learning Progress : 99.90 % \r",
      "- Learning Progress : 100.00 % \r",
      "984\n",
      "Test Accuracy = 0.9563451776649746\n"
     ]
    },
    {
     "name": "stderr",
     "output_type": "stream",
     "text": [
      "\r",
      "986it [32:56:31, 81.14s/it] "
     ]
    },
    {
     "name": "stdout",
     "output_type": "stream",
     "text": [
      "985\n",
      "- Learning Progress : 99.80 % \r"
     ]
    },
    {
     "name": "stderr",
     "output_type": "stream",
     "text": [
      "\r",
      "987it [32:58:42, 95.99s/it]"
     ]
    },
    {
     "name": "stdout",
     "output_type": "stream",
     "text": [
      "986earning Progress : 100.00 % \n",
      "Test Accuracy = 0.955420466058764\n",
      "- Learning Progress : 99.80 % \r"
     ]
    },
    {
     "name": "stderr",
     "output_type": "stream",
     "text": [
      "\r",
      "988it [33:00:55, 106.96s/it]"
     ]
    },
    {
     "name": "stdout",
     "output_type": "stream",
     "text": [
      "987earning Progress : 100.00 % \n",
      "Test Accuracy = 0.9554655870445344\n",
      "- Learning Progress : 99.80 % \r"
     ]
    },
    {
     "name": "stderr",
     "output_type": "stream",
     "text": [
      "\r",
      "989it [33:03:05, 114.07s/it]"
     ]
    },
    {
     "name": "stdout",
     "output_type": "stream",
     "text": [
      "- Learning Progress : 99.90 % \r",
      "- Learning Progress : 100.00 % \r",
      "988\n",
      "Test Accuracy = 0.9555106167846309\n"
     ]
    },
    {
     "name": "stderr",
     "output_type": "stream",
     "text": [
      "\r",
      "990it [33:03:06, 79.94s/it] "
     ]
    },
    {
     "name": "stdout",
     "output_type": "stream",
     "text": [
      "989\n",
      "- Learning Progress : 40.40 % \r"
     ]
    },
    {
     "name": "stderr",
     "output_type": "stream",
     "text": [
      "IOPub message rate exceeded.\n",
      "The notebook server will temporarily stop sending output\n",
      "to the client in order to avoid crashing it.\n",
      "To change this limit, set the config variable\n",
      "`--NotebookApp.iopub_msg_rate_limit`.\n",
      "\n",
      "Current values:\n",
      "NotebookApp.iopub_msg_rate_limit=1000.0 (msgs/sec)\n",
      "NotebookApp.rate_limit_window=3.0 (secs)\n",
      "\n"
     ]
    },
    {
     "name": "stdout",
     "output_type": "stream",
     "text": [
      "- Learning Progress : 100.00 % \r"
     ]
    },
    {
     "name": "stderr",
     "output_type": "stream",
     "text": [
      "\r",
      "1000it [33:24:52, 129.44s/it]"
     ]
    },
    {
     "name": "stdout",
     "output_type": "stream",
     "text": [
      "999\n",
      "Test Accuracy = 0.955\n",
      "- Learning Progress : 99.80 % \r"
     ]
    },
    {
     "name": "stderr",
     "output_type": "stream",
     "text": [
      "\r",
      "1001it [33:27:01, 129.37s/it]"
     ]
    },
    {
     "name": "stdout",
     "output_type": "stream",
     "text": [
      "1000arning Progress : 100.00 % \n",
      "Test Accuracy = 0.955044955044955\n",
      "- Learning Progress : 24.00 % \r"
     ]
    },
    {
     "name": "stderr",
     "output_type": "stream",
     "text": [
      "IOPub message rate exceeded.\n",
      "The notebook server will temporarily stop sending output\n",
      "to the client in order to avoid crashing it.\n",
      "To change this limit, set the config variable\n",
      "`--NotebookApp.iopub_msg_rate_limit`.\n",
      "\n",
      "Current values:\n",
      "NotebookApp.iopub_msg_rate_limit=1000.0 (msgs/sec)\n",
      "NotebookApp.rate_limit_window=3.0 (secs)\n",
      "\n"
     ]
    },
    {
     "name": "stdout",
     "output_type": "stream",
     "text": [
      "- Learning Progress : 99.90 % \r"
     ]
    },
    {
     "name": "stderr",
     "output_type": "stream",
     "text": [
      "\r",
      "1004it [33:33:30, 129.83s/it]"
     ]
    },
    {
     "name": "stdout",
     "output_type": "stream",
     "text": [
      "1003arning Progress : 100.00 % \n",
      "Test Accuracy = 0.9551792828685259\n",
      "- Learning Progress : 99.80 % \r"
     ]
    },
    {
     "name": "stderr",
     "output_type": "stream",
     "text": [
      "\r",
      "1005it [33:35:43, 130.53s/it]"
     ]
    },
    {
     "name": "stdout",
     "output_type": "stream",
     "text": [
      "1004arning Progress : 100.00 % \n",
      "Test Accuracy = 0.9552238805970149\n",
      "- Learning Progress : 99.80 % \r"
     ]
    },
    {
     "name": "stderr",
     "output_type": "stream",
     "text": [
      "\r",
      "1006it [33:37:55, 131.02s/it]"
     ]
    },
    {
     "name": "stdout",
     "output_type": "stream",
     "text": [
      "1005arning Progress : 100.00 % \n",
      "Test Accuracy = 0.9552683896620279\n",
      "- Learning Progress : 100.00 % \r"
     ]
    },
    {
     "name": "stderr",
     "output_type": "stream",
     "text": [
      "\r",
      "1007it [33:40:03, 130.11s/it]"
     ]
    },
    {
     "name": "stdout",
     "output_type": "stream",
     "text": [
      "1006\n",
      "Test Accuracy = 0.9553128103277061\n",
      "- Learning Progress : 14.00 % \r"
     ]
    },
    {
     "name": "stderr",
     "output_type": "stream",
     "text": [
      "IOPub message rate exceeded.\n",
      "The notebook server will temporarily stop sending output\n",
      "to the client in order to avoid crashing it.\n",
      "To change this limit, set the config variable\n",
      "`--NotebookApp.iopub_msg_rate_limit`.\n",
      "\n",
      "Current values:\n",
      "NotebookApp.iopub_msg_rate_limit=1000.0 (msgs/sec)\n",
      "NotebookApp.rate_limit_window=3.0 (secs)\n",
      "\n"
     ]
    },
    {
     "name": "stdout",
     "output_type": "stream",
     "text": [
      "- Learning Progress : 99.90 % \r"
     ]
    },
    {
     "name": "stderr",
     "output_type": "stream",
     "text": [
      "\r",
      "1018it [34:04:00, 130.43s/it]"
     ]
    },
    {
     "name": "stdout",
     "output_type": "stream",
     "text": [
      "1017arning Progress : 100.00 % \n",
      "Test Accuracy = 0.9557956777996071\n",
      "- Learning Progress : 99.80 % \r"
     ]
    },
    {
     "name": "stderr",
     "output_type": "stream",
     "text": [
      "\r",
      "1019it [34:06:09, 130.07s/it]"
     ]
    },
    {
     "name": "stdout",
     "output_type": "stream",
     "text": [
      "1018arning Progress : 100.00 % \n",
      "Test Accuracy = 0.9558390578999019\n",
      "- Learning Progress : 33.50 % \r"
     ]
    },
    {
     "name": "stderr",
     "output_type": "stream",
     "text": [
      "IOPub message rate exceeded.\n",
      "The notebook server will temporarily stop sending output\n",
      "to the client in order to avoid crashing it.\n",
      "To change this limit, set the config variable\n",
      "`--NotebookApp.iopub_msg_rate_limit`.\n",
      "\n",
      "Current values:\n",
      "NotebookApp.iopub_msg_rate_limit=1000.0 (msgs/sec)\n",
      "NotebookApp.rate_limit_window=3.0 (secs)\n",
      "\n"
     ]
    },
    {
     "name": "stdout",
     "output_type": "stream",
     "text": [
      "- Learning Progress : 99.80 % \r"
     ]
    },
    {
     "name": "stderr",
     "output_type": "stream",
     "text": [
      "\r",
      "1022it [34:12:40, 130.38s/it]"
     ]
    },
    {
     "name": "stdout",
     "output_type": "stream",
     "text": [
      "1021arning Progress : 100.00 % \n",
      "Test Accuracy = 0.9559686888454012\n",
      "- Learning Progress : 99.90 % \r"
     ]
    },
    {
     "name": "stderr",
     "output_type": "stream",
     "text": [
      "\r",
      "1023it [34:14:50, 130.17s/it]"
     ]
    },
    {
     "name": "stdout",
     "output_type": "stream",
     "text": [
      "1022arning Progress : 100.00 % \n",
      "Test Accuracy = 0.9560117302052786\n",
      "- Learning Progress : 99.90 % \r"
     ]
    },
    {
     "name": "stderr",
     "output_type": "stream",
     "text": [
      "\r",
      "1024it [34:16:58, 129.72s/it]"
     ]
    },
    {
     "name": "stdout",
     "output_type": "stream",
     "text": [
      "1023arning Progress : 100.00 % \n",
      "Test Accuracy = 0.9560546875\n",
      "- Learning Progress : 99.80 % \r"
     ]
    },
    {
     "name": "stderr",
     "output_type": "stream",
     "text": [
      "\r",
      "1025it [34:19:08, 129.60s/it]"
     ]
    },
    {
     "name": "stdout",
     "output_type": "stream",
     "text": [
      "1024arning Progress : 100.00 % \n",
      "Test Accuracy = 0.9560975609756097\n",
      "- Learning Progress : 26.00 % \r"
     ]
    },
    {
     "name": "stderr",
     "output_type": "stream",
     "text": [
      "IOPub message rate exceeded.\n",
      "The notebook server will temporarily stop sending output\n",
      "to the client in order to avoid crashing it.\n",
      "To change this limit, set the config variable\n",
      "`--NotebookApp.iopub_msg_rate_limit`.\n",
      "\n",
      "Current values:\n",
      "NotebookApp.iopub_msg_rate_limit=1000.0 (msgs/sec)\n",
      "NotebookApp.rate_limit_window=3.0 (secs)\n",
      "\n"
     ]
    },
    {
     "name": "stdout",
     "output_type": "stream",
     "text": [
      "- Learning Progress : 99.90 % \r"
     ]
    },
    {
     "name": "stderr",
     "output_type": "stream",
     "text": [
      "\r",
      "1026it [34:21:20, 130.34s/it]"
     ]
    },
    {
     "name": "stdout",
     "output_type": "stream",
     "text": [
      "1025arning Progress : 100.00 % \n",
      "Test Accuracy = 0.956140350877193\n",
      "- Learning Progress : 99.70 % \r"
     ]
    },
    {
     "name": "stderr",
     "output_type": "stream",
     "text": [
      "\r",
      "1027it [34:23:30, 130.28s/it]"
     ]
    },
    {
     "name": "stdout",
     "output_type": "stream",
     "text": [
      "1026arning Progress : 100.00 % \n",
      "Test Accuracy = 0.9561830574488802\n",
      "- Learning Progress : 99.90 % \r"
     ]
    },
    {
     "name": "stderr",
     "output_type": "stream",
     "text": [
      "\r",
      "1028it [34:25:38, 129.73s/it]"
     ]
    },
    {
     "name": "stdout",
     "output_type": "stream",
     "text": [
      "1027arning Progress : 100.00 % \n",
      "Test Accuracy = 0.9562256809338522\n",
      "- Learning Progress : 99.90 % \r"
     ]
    },
    {
     "name": "stderr",
     "output_type": "stream",
     "text": [
      "\r",
      "1029it [34:27:51, 130.57s/it]"
     ]
    },
    {
     "name": "stdout",
     "output_type": "stream",
     "text": [
      "1028arning Progress : 100.00 % \n",
      "Test Accuracy = 0.956268221574344\n",
      "- Learning Progress : 99.80 % \r"
     ]
    },
    {
     "name": "stderr",
     "output_type": "stream",
     "text": [
      "\r",
      "1030it [34:30:02, 130.69s/it]"
     ]
    },
    {
     "name": "stdout",
     "output_type": "stream",
     "text": [
      "1029arning Progress : 100.00 % \n",
      "Test Accuracy = 0.9563106796116505\n",
      "- Learning Progress : 99.90 % \r"
     ]
    },
    {
     "name": "stderr",
     "output_type": "stream",
     "text": [
      "\r",
      "1031it [34:32:11, 130.19s/it]"
     ]
    },
    {
     "name": "stdout",
     "output_type": "stream",
     "text": [
      "1030arning Progress : 100.00 % \n",
      "Test Accuracy = 0.95635305528613\n",
      "- Learning Progress : 99.90 % \r"
     ]
    },
    {
     "name": "stderr",
     "output_type": "stream",
     "text": [
      "\r",
      "1032it [34:34:21, 130.26s/it]"
     ]
    },
    {
     "name": "stdout",
     "output_type": "stream",
     "text": [
      "1031arning Progress : 100.00 % \n",
      "Test Accuracy = 0.9563953488372093\n",
      "- Learning Progress : 99.90 % \r"
     ]
    },
    {
     "name": "stderr",
     "output_type": "stream",
     "text": [
      "\r",
      "1033it [34:36:35, 131.30s/it]"
     ]
    },
    {
     "name": "stdout",
     "output_type": "stream",
     "text": [
      "1032arning Progress : 100.00 % \n",
      "Test Accuracy = 0.9564375605033882\n",
      "- Learning Progress : 99.90 % \r"
     ]
    },
    {
     "name": "stderr",
     "output_type": "stream",
     "text": [
      "\r",
      "1034it [34:38:41, 129.74s/it]"
     ]
    },
    {
     "name": "stdout",
     "output_type": "stream",
     "text": [
      "1033arning Progress : 100.00 % \n",
      "Test Accuracy = 0.9564796905222437\n",
      "- Learning Progress : 99.80 % \r"
     ]
    },
    {
     "name": "stderr",
     "output_type": "stream",
     "text": [
      "\r",
      "1035it [34:40:52, 130.12s/it]"
     ]
    },
    {
     "name": "stdout",
     "output_type": "stream",
     "text": [
      "1034arning Progress : 100.00 % \n",
      "Test Accuracy = 0.9565217391304348\n",
      "- Learning Progress : 99.90 % \r"
     ]
    },
    {
     "name": "stderr",
     "output_type": "stream",
     "text": [
      "\r",
      "1036it [34:43:06, 131.27s/it]"
     ]
    },
    {
     "name": "stdout",
     "output_type": "stream",
     "text": [
      "1035arning Progress : 100.00 % \n",
      "Test Accuracy = 0.9565637065637066\n",
      "- Learning Progress : 99.80 % \r"
     ]
    },
    {
     "name": "stderr",
     "output_type": "stream",
     "text": [
      "\r",
      "1037it [34:45:15, 130.68s/it]"
     ]
    },
    {
     "name": "stdout",
     "output_type": "stream",
     "text": [
      "1036arning Progress : 100.00 % \n",
      "Test Accuracy = 0.9566055930568949\n",
      "- Learning Progress : 99.80 % \r"
     ]
    },
    {
     "name": "stderr",
     "output_type": "stream",
     "text": [
      "\r",
      "1038it [34:47:29, 131.68s/it]"
     ]
    },
    {
     "name": "stdout",
     "output_type": "stream",
     "text": [
      "1037arning Progress : 100.00 % \n",
      "Test Accuracy = 0.9566473988439307\n",
      "- Learning Progress : 99.80 % \r"
     ]
    },
    {
     "name": "stderr",
     "output_type": "stream",
     "text": [
      "\r",
      "1039it [34:49:42, 132.10s/it]"
     ]
    },
    {
     "name": "stdout",
     "output_type": "stream",
     "text": [
      "1038arning Progress : 100.00 % \n",
      "Test Accuracy = 0.9566891241578441\n",
      "- Learning Progress : 99.80 % \r"
     ]
    },
    {
     "name": "stderr",
     "output_type": "stream",
     "text": [
      "\r",
      "1040it [34:51:49, 130.47s/it]"
     ]
    },
    {
     "name": "stdout",
     "output_type": "stream",
     "text": [
      "1039arning Progress : 100.00 % \n",
      "Test Accuracy = 0.9567307692307693\n",
      "- Learning Progress : 99.90 % \r"
     ]
    },
    {
     "name": "stderr",
     "output_type": "stream",
     "text": [
      "\r",
      "1041it [34:54:00, 130.76s/it]"
     ]
    },
    {
     "name": "stdout",
     "output_type": "stream",
     "text": [
      "1040arning Progress : 100.00 % \n",
      "Test Accuracy = 0.9567723342939481\n",
      "- Learning Progress : 99.90 % \r"
     ]
    },
    {
     "name": "stderr",
     "output_type": "stream",
     "text": [
      "\r",
      "1044it [34:58:24, 103.65s/it]"
     ]
    },
    {
     "name": "stdout",
     "output_type": "stream",
     "text": [
      "1043arning Progress : 100.00 % \n",
      "Test Accuracy = 0.9559386973180076\n",
      "- Learning Progress : 99.90 % \r"
     ]
    },
    {
     "name": "stderr",
     "output_type": "stream",
     "text": [
      "\r",
      "1045it [35:00:33, 111.29s/it]"
     ]
    },
    {
     "name": "stdout",
     "output_type": "stream",
     "text": [
      "1044arning Progress : 100.00 % \n",
      "Test Accuracy = 0.9559808612440192\n",
      "- Learning Progress : 99.90 % \r"
     ]
    },
    {
     "name": "stderr",
     "output_type": "stream",
     "text": [
      "\r",
      "1046it [35:02:44, 117.03s/it]"
     ]
    },
    {
     "name": "stdout",
     "output_type": "stream",
     "text": [
      "1045arning Progress : 100.00 % \n",
      "Test Accuracy = 0.9560229445506692\n",
      "- Learning Progress : 99.90 % \r"
     ]
    },
    {
     "name": "stderr",
     "output_type": "stream",
     "text": [
      "\r",
      "1047it [35:04:51, 120.16s/it]"
     ]
    },
    {
     "name": "stdout",
     "output_type": "stream",
     "text": [
      "1046arning Progress : 100.00 % \n",
      "Test Accuracy = 0.956064947468959\n",
      "- Learning Progress : 99.80 % \r"
     ]
    },
    {
     "name": "stderr",
     "output_type": "stream",
     "text": [
      "\r",
      "1048it [35:07:00, 122.85s/it]"
     ]
    },
    {
     "name": "stdout",
     "output_type": "stream",
     "text": [
      "1047arning Progress : 100.00 % \n",
      "Test Accuracy = 0.9561068702290076\n",
      "- Learning Progress : 99.80 % \r"
     ]
    },
    {
     "name": "stderr",
     "output_type": "stream",
     "text": [
      "\r",
      "1049it [35:09:09, 124.80s/it]"
     ]
    },
    {
     "name": "stdout",
     "output_type": "stream",
     "text": [
      "1048arning Progress : 100.00 % \n",
      "Test Accuracy = 0.9561487130600572\n",
      "- Learning Progress : 99.90 % \r"
     ]
    },
    {
     "name": "stderr",
     "output_type": "stream",
     "text": [
      "\r",
      "1050it [35:11:20, 126.43s/it]"
     ]
    },
    {
     "name": "stdout",
     "output_type": "stream",
     "text": [
      "1049arning Progress : 100.00 % \n",
      "Test Accuracy = 0.9561904761904761\n",
      "- Learning Progress : 5.20 % \r"
     ]
    },
    {
     "name": "stderr",
     "output_type": "stream",
     "text": [
      "IOPub message rate exceeded.\n",
      "The notebook server will temporarily stop sending output\n",
      "to the client in order to avoid crashing it.\n",
      "To change this limit, set the config variable\n",
      "`--NotebookApp.iopub_msg_rate_limit`.\n",
      "\n",
      "Current values:\n",
      "NotebookApp.iopub_msg_rate_limit=1000.0 (msgs/sec)\n",
      "NotebookApp.rate_limit_window=3.0 (secs)\n",
      "\n"
     ]
    },
    {
     "name": "stdout",
     "output_type": "stream",
     "text": [
      "- Learning Progress : 99.90 % \r"
     ]
    },
    {
     "name": "stderr",
     "output_type": "stream",
     "text": [
      "\r",
      "1059it [35:30:54, 129.86s/it]"
     ]
    },
    {
     "name": "stdout",
     "output_type": "stream",
     "text": [
      "1058arning Progress : 100.00 % \n",
      "Test Accuracy = 0.9565627950897073\n",
      "- Learning Progress : 99.80 % \r"
     ]
    },
    {
     "name": "stderr",
     "output_type": "stream",
     "text": [
      "\r",
      "1060it [35:33:02, 129.43s/it]"
     ]
    },
    {
     "name": "stdout",
     "output_type": "stream",
     "text": [
      "1059arning Progress : 100.00 % \n",
      "Test Accuracy = 0.9566037735849057\n",
      "- Learning Progress : 99.80 % \r"
     ]
    },
    {
     "name": "stderr",
     "output_type": "stream",
     "text": [
      "\r",
      "1061it [35:35:14, 130.11s/it]"
     ]
    },
    {
     "name": "stdout",
     "output_type": "stream",
     "text": [
      "- Learning Progress : 99.90 % \r",
      "- Learning Progress : 100.00 % \r",
      "1060\n",
      "Test Accuracy = 0.9566446748350612\n"
     ]
    },
    {
     "name": "stderr",
     "output_type": "stream",
     "text": [
      "\r",
      "1062it [35:35:15, 91.22s/it] "
     ]
    },
    {
     "name": "stdout",
     "output_type": "stream",
     "text": [
      "1061\n",
      "- Learning Progress : 99.90 % \r"
     ]
    },
    {
     "name": "stderr",
     "output_type": "stream",
     "text": [
      "\r",
      "1063it [35:37:20, 101.33s/it]"
     ]
    },
    {
     "name": "stdout",
     "output_type": "stream",
     "text": [
      "1062arning Progress : 100.00 % \n",
      "Test Accuracy = 0.955785512699906\n",
      "- Learning Progress : 99.90 % \r"
     ]
    },
    {
     "name": "stderr",
     "output_type": "stream",
     "text": [
      "\r",
      "1064it [35:39:32, 110.70s/it]"
     ]
    },
    {
     "name": "stdout",
     "output_type": "stream",
     "text": [
      "1063arning Progress : 100.00 % \n",
      "Test Accuracy = 0.9558270676691729\n",
      "- Learning Progress : 99.80 % \r"
     ]
    },
    {
     "name": "stderr",
     "output_type": "stream",
     "text": [
      "\r",
      "1065it [35:41:42, 116.42s/it]"
     ]
    },
    {
     "name": "stdout",
     "output_type": "stream",
     "text": [
      "1064arning Progress : 100.00 % \n",
      "Test Accuracy = 0.955868544600939\n",
      "- Learning Progress : 99.90 % \r"
     ]
    },
    {
     "name": "stderr",
     "output_type": "stream",
     "text": [
      "\r",
      "1066it [35:43:53, 120.86s/it]"
     ]
    },
    {
     "name": "stdout",
     "output_type": "stream",
     "text": [
      "1065arning Progress : 100.00 % \n",
      "Test Accuracy = 0.9559099437148217\n",
      "- Learning Progress : 99.80 % \r"
     ]
    },
    {
     "name": "stderr",
     "output_type": "stream",
     "text": [
      "\r",
      "1067it [35:46:06, 124.50s/it]"
     ]
    },
    {
     "name": "stdout",
     "output_type": "stream",
     "text": [
      "1066arning Progress : 100.00 % \n",
      "Test Accuracy = 0.9559512652296157\n",
      "- Learning Progress : 99.80 % \r"
     ]
    },
    {
     "name": "stderr",
     "output_type": "stream",
     "text": [
      "\r",
      "1068it [35:48:12, 124.81s/it]"
     ]
    },
    {
     "name": "stdout",
     "output_type": "stream",
     "text": [
      "1067arning Progress : 100.00 % \n",
      "Test Accuracy = 0.9559925093632958\n",
      "- Learning Progress : 99.90 % \r"
     ]
    },
    {
     "name": "stderr",
     "output_type": "stream",
     "text": [
      "\r",
      "1069it [35:50:24, 127.04s/it]"
     ]
    },
    {
     "name": "stdout",
     "output_type": "stream",
     "text": [
      "1068arning Progress : 100.00 % \n",
      "Test Accuracy = 0.9560336763330215\n",
      "- Learning Progress : 99.90 % \r"
     ]
    },
    {
     "name": "stderr",
     "output_type": "stream",
     "text": [
      "\r",
      "1070it [35:52:32, 127.28s/it]"
     ]
    },
    {
     "name": "stdout",
     "output_type": "stream",
     "text": [
      "1069arning Progress : 100.00 % \n",
      "Test Accuracy = 0.9560747663551402\n",
      "- Learning Progress : 99.90 % \r"
     ]
    },
    {
     "name": "stderr",
     "output_type": "stream",
     "text": [
      "\r",
      "1071it [35:54:42, 128.24s/it]"
     ]
    },
    {
     "name": "stdout",
     "output_type": "stream",
     "text": [
      "- Learning Progress : 100.00 % \r",
      "1070\n",
      "Test Accuracy = 0.9561157796451915\n"
     ]
    },
    {
     "name": "stderr",
     "output_type": "stream",
     "text": [
      "\r",
      "1072it [35:54:43, 89.92s/it] "
     ]
    },
    {
     "name": "stdout",
     "output_type": "stream",
     "text": [
      "1071\n",
      "- Learning Progress : 99.80 % \r"
     ]
    },
    {
     "name": "stderr",
     "output_type": "stream",
     "text": [
      "\r",
      "1073it [35:56:57, 103.17s/it]"
     ]
    },
    {
     "name": "stdout",
     "output_type": "stream",
     "text": [
      "1072arning Progress : 100.00 % \n",
      "Test Accuracy = 0.9552656104380243\n",
      "- Learning Progress : 100.00 % \r"
     ]
    },
    {
     "name": "stderr",
     "output_type": "stream",
     "text": [
      "\r",
      "1074it [35:59:07, 111.23s/it]"
     ]
    },
    {
     "name": "stdout",
     "output_type": "stream",
     "text": [
      "1073\n",
      "Test Accuracy = 0.9553072625698324\n",
      "- Learning Progress : 99.80 % \r"
     ]
    },
    {
     "name": "stderr",
     "output_type": "stream",
     "text": [
      "\r",
      "1075it [36:01:14, 116.01s/it]"
     ]
    },
    {
     "name": "stdout",
     "output_type": "stream",
     "text": [
      "1074arning Progress : 100.00 % \n",
      "Test Accuracy = 0.9553488372093023\n",
      "- Learning Progress : 99.80 % \r"
     ]
    },
    {
     "name": "stderr",
     "output_type": "stream",
     "text": [
      "\r",
      "1076it [36:03:27, 121.10s/it]"
     ]
    },
    {
     "name": "stdout",
     "output_type": "stream",
     "text": [
      "1075arning Progress : 100.00 % \n",
      "Test Accuracy = 0.9553903345724907\n",
      "- Learning Progress : 100.00 % \r"
     ]
    },
    {
     "name": "stderr",
     "output_type": "stream",
     "text": [
      "\r",
      "1077it [36:05:40, 124.58s/it]"
     ]
    },
    {
     "name": "stdout",
     "output_type": "stream",
     "text": [
      "1076\n",
      "Test Accuracy = 0.9554317548746518\n",
      "- Learning Progress : 99.80 % \r"
     ]
    },
    {
     "name": "stderr",
     "output_type": "stream",
     "text": [
      "\r",
      "1078it [36:07:55, 127.82s/it]"
     ]
    },
    {
     "name": "stdout",
     "output_type": "stream",
     "text": [
      "1077arning Progress : 100.00 % \n",
      "Test Accuracy = 0.9554730983302412\n",
      "- Learning Progress : 99.70 % \r"
     ]
    },
    {
     "name": "stderr",
     "output_type": "stream",
     "text": [
      "\r",
      "1079it [36:10:07, 129.04s/it]"
     ]
    },
    {
     "name": "stdout",
     "output_type": "stream",
     "text": [
      "1078arning Progress : 100.00 % \n",
      "Test Accuracy = 0.9555143651529193\n",
      "- Learning Progress : 99.80 % \r"
     ]
    },
    {
     "name": "stderr",
     "output_type": "stream",
     "text": [
      "\r",
      "1080it [36:12:18, 129.76s/it]"
     ]
    },
    {
     "name": "stdout",
     "output_type": "stream",
     "text": [
      "1079arning Progress : 100.00 % \n",
      "Test Accuracy = 0.9555555555555556\n",
      "- Learning Progress : 99.80 % \r"
     ]
    },
    {
     "name": "stderr",
     "output_type": "stream",
     "text": [
      "\r",
      "1081it [36:14:29, 129.94s/it]"
     ]
    },
    {
     "name": "stdout",
     "output_type": "stream",
     "text": [
      "1080arning Progress : 100.00 % \n",
      "Test Accuracy = 0.9555966697502313\n",
      "- Learning Progress : 99.80 % \r"
     ]
    },
    {
     "name": "stderr",
     "output_type": "stream",
     "text": [
      "\r",
      "1082it [36:16:41, 130.57s/it]"
     ]
    },
    {
     "name": "stdout",
     "output_type": "stream",
     "text": [
      "1081arning Progress : 100.00 % \n",
      "Test Accuracy = 0.955637707948244\n",
      "- Learning Progress : 99.90 % \r"
     ]
    },
    {
     "name": "stderr",
     "output_type": "stream",
     "text": [
      "\r",
      "1083it [36:18:55, 131.59s/it]"
     ]
    },
    {
     "name": "stdout",
     "output_type": "stream",
     "text": [
      "1082arning Progress : 100.00 % \n",
      "Test Accuracy = 0.9556786703601108\n",
      "- Learning Progress : 99.80 % \r"
     ]
    },
    {
     "name": "stderr",
     "output_type": "stream",
     "text": [
      "\r",
      "1084it [36:21:07, 131.79s/it]"
     ]
    },
    {
     "name": "stdout",
     "output_type": "stream",
     "text": [
      "1083arning Progress : 100.00 % \n",
      "Test Accuracy = 0.955719557195572\n",
      "- Learning Progress : 99.90 % \r"
     ]
    },
    {
     "name": "stderr",
     "output_type": "stream",
     "text": [
      "\r",
      "1085it [36:23:15, 130.78s/it]"
     ]
    },
    {
     "name": "stdout",
     "output_type": "stream",
     "text": [
      "1084arning Progress : 100.00 % \n",
      "Test Accuracy = 0.9557603686635945\n",
      "- Learning Progress : 99.90 % \r"
     ]
    },
    {
     "name": "stderr",
     "output_type": "stream",
     "text": [
      "\r",
      "1086it [36:25:30, 131.76s/it]"
     ]
    },
    {
     "name": "stdout",
     "output_type": "stream",
     "text": [
      "- Learning Progress : 100.00 % \r",
      "1085\n",
      "Test Accuracy = 0.9558011049723757\n"
     ]
    },
    {
     "name": "stderr",
     "output_type": "stream",
     "text": [
      "\r",
      "1087it [36:25:30, 92.32s/it] "
     ]
    },
    {
     "name": "stdout",
     "output_type": "stream",
     "text": [
      "1086\n",
      "- Learning Progress : 99.80 % \r"
     ]
    },
    {
     "name": "stderr",
     "output_type": "stream",
     "text": [
      "\r",
      "1088it [36:27:41, 103.92s/it]"
     ]
    },
    {
     "name": "stdout",
     "output_type": "stream",
     "text": [
      "1087arning Progress : 100.00 % \n",
      "Test Accuracy = 0.9549632352941176\n",
      "- Learning Progress : 99.80 % \r"
     ]
    },
    {
     "name": "stderr",
     "output_type": "stream",
     "text": [
      "\r",
      "1089it [36:29:52, 112.20s/it]"
     ]
    },
    {
     "name": "stdout",
     "output_type": "stream",
     "text": [
      "1088arning Progress : 100.00 % \n",
      "Test Accuracy = 0.9550045913682277\n",
      "- Learning Progress : 99.80 % \r"
     ]
    },
    {
     "name": "stderr",
     "output_type": "stream",
     "text": [
      "\r",
      "1090it [36:32:05, 118.44s/it]"
     ]
    },
    {
     "name": "stdout",
     "output_type": "stream",
     "text": [
      "1089arning Progress : 100.00 % \n",
      "Test Accuracy = 0.955045871559633\n",
      "- Learning Progress : 99.80 % \r"
     ]
    },
    {
     "name": "stderr",
     "output_type": "stream",
     "text": [
      "\r",
      "1091it [36:34:19, 122.94s/it]"
     ]
    },
    {
     "name": "stdout",
     "output_type": "stream",
     "text": [
      "1090arning Progress : 100.00 % \n",
      "Test Accuracy = 0.9550870760769936\n",
      "- Learning Progress : 99.80 % \r"
     ]
    },
    {
     "name": "stderr",
     "output_type": "stream",
     "text": [
      "\r",
      "1092it [36:36:28, 124.78s/it]"
     ]
    },
    {
     "name": "stdout",
     "output_type": "stream",
     "text": [
      "1091arning Progress : 100.00 % \n",
      "Test Accuracy = 0.9551282051282052\n",
      "- Learning Progress : 99.80 % \r"
     ]
    },
    {
     "name": "stderr",
     "output_type": "stream",
     "text": [
      "\r",
      "1093it [36:38:41, 127.16s/it]"
     ]
    },
    {
     "name": "stdout",
     "output_type": "stream",
     "text": [
      "1092arning Progress : 100.00 % \n",
      "Test Accuracy = 0.9551692589204026\n",
      "- Learning Progress : 99.90 % \r"
     ]
    },
    {
     "name": "stderr",
     "output_type": "stream",
     "text": [
      "\r",
      "1094it [36:40:54, 128.90s/it]"
     ]
    },
    {
     "name": "stdout",
     "output_type": "stream",
     "text": [
      "1093arning Progress : 100.00 % \n",
      "Test Accuracy = 0.9552102376599635\n",
      "- Learning Progress : 99.80 % \r"
     ]
    },
    {
     "name": "stderr",
     "output_type": "stream",
     "text": [
      "\r",
      "1095it [36:43:04, 129.25s/it]"
     ]
    },
    {
     "name": "stdout",
     "output_type": "stream",
     "text": [
      "1094arning Progress : 100.00 % \n",
      "Test Accuracy = 0.9552511415525115\n",
      "- Learning Progress : 99.80 % \r"
     ]
    },
    {
     "name": "stderr",
     "output_type": "stream",
     "text": [
      "\r",
      "1096it [36:45:17, 130.58s/it]"
     ]
    },
    {
     "name": "stdout",
     "output_type": "stream",
     "text": [
      "1095arning Progress : 100.00 % \n",
      "Test Accuracy = 0.9552919708029197\n",
      "- Learning Progress : 99.90 % \r"
     ]
    },
    {
     "name": "stderr",
     "output_type": "stream",
     "text": [
      "\r",
      "1097it [36:47:28, 130.52s/it]"
     ]
    },
    {
     "name": "stdout",
     "output_type": "stream",
     "text": [
      "- Learning Progress : 100.00 % \r",
      "1096\n",
      "Test Accuracy = 0.9553327256153145\n"
     ]
    },
    {
     "name": "stderr",
     "output_type": "stream",
     "text": [
      "\r",
      "1098it [36:47:28, 91.45s/it] "
     ]
    },
    {
     "name": "stdout",
     "output_type": "stream",
     "text": [
      "1097\n",
      "- Learning Progress : 100.00 % \r"
     ]
    },
    {
     "name": "stderr",
     "output_type": "stream",
     "text": [
      "\r",
      "1099it [36:49:38, 102.92s/it]"
     ]
    },
    {
     "name": "stdout",
     "output_type": "stream",
     "text": [
      "1098\n",
      "Test Accuracy = 0.9545040946314831\n",
      "- Learning Progress : 99.90 % \r"
     ]
    },
    {
     "name": "stderr",
     "output_type": "stream",
     "text": [
      "\r",
      "1100it [36:51:47, 110.99s/it]"
     ]
    },
    {
     "name": "stdout",
     "output_type": "stream",
     "text": [
      "1099arning Progress : 100.00 % \n",
      "Test Accuracy = 0.9545454545454546\n",
      "- Learning Progress : 99.80 % \r"
     ]
    },
    {
     "name": "stderr",
     "output_type": "stream",
     "text": [
      "\r",
      "1101it [36:54:00, 117.49s/it]"
     ]
    },
    {
     "name": "stdout",
     "output_type": "stream",
     "text": [
      "1100arning Progress : 100.00 % \n",
      "Test Accuracy = 0.9545867393278837\n",
      "- Learning Progress : 99.90 % \r"
     ]
    },
    {
     "name": "stderr",
     "output_type": "stream",
     "text": [
      "\r",
      "1102it [36:56:10, 121.09s/it]"
     ]
    },
    {
     "name": "stdout",
     "output_type": "stream",
     "text": [
      "1101arning Progress : 100.00 % \n",
      "Test Accuracy = 0.9546279491833031\n",
      "- Learning Progress : 99.80 % \r"
     ]
    },
    {
     "name": "stderr",
     "output_type": "stream",
     "text": [
      "\r",
      "1103it [36:58:15, 122.46s/it]"
     ]
    },
    {
     "name": "stdout",
     "output_type": "stream",
     "text": [
      "1102arning Progress : 100.00 % \n",
      "Test Accuracy = 0.9546690843155031\n",
      "- Learning Progress : 99.80 % \r"
     ]
    },
    {
     "name": "stderr",
     "output_type": "stream",
     "text": [
      "\r",
      "1104it [37:00:03, 117.99s/it]"
     ]
    },
    {
     "name": "stdout",
     "output_type": "stream",
     "text": [
      "- Learning Progress : 99.90 % \r",
      "- Learning Progress : 100.00 % \r",
      "1103\n",
      "Test Accuracy = 0.9547101449275363\n"
     ]
    },
    {
     "name": "stderr",
     "output_type": "stream",
     "text": [
      "\r",
      "1105it [37:00:03, 82.67s/it] "
     ]
    },
    {
     "name": "stdout",
     "output_type": "stream",
     "text": [
      "1104\n",
      "- Learning Progress : 100.00 % \r"
     ]
    },
    {
     "name": "stderr",
     "output_type": "stream",
     "text": [
      "\r",
      "1106it [37:01:35, 85.31s/it]"
     ]
    },
    {
     "name": "stdout",
     "output_type": "stream",
     "text": [
      "1105\n",
      "Test Accuracy = 0.953887884267631\n",
      "- Learning Progress : 100.00 % \r"
     ]
    },
    {
     "name": "stderr",
     "output_type": "stream",
     "text": [
      "\r",
      "1107it [37:03:05, 87.01s/it]"
     ]
    },
    {
     "name": "stdout",
     "output_type": "stream",
     "text": [
      "1106\n",
      "Test Accuracy = 0.9539295392953929\n",
      "- Learning Progress : 99.90 % \r"
     ]
    },
    {
     "name": "stderr",
     "output_type": "stream",
     "text": [
      "\r",
      "1108it [37:04:38, 88.75s/it]"
     ]
    },
    {
     "name": "stdout",
     "output_type": "stream",
     "text": [
      "1107arning Progress : 100.00 % \n",
      "Test Accuracy = 0.953971119133574\n",
      "- Learning Progress : 99.90 % \r"
     ]
    },
    {
     "name": "stderr",
     "output_type": "stream",
     "text": [
      "\r",
      "1109it [37:06:13, 90.50s/it]"
     ]
    },
    {
     "name": "stdout",
     "output_type": "stream",
     "text": [
      "1108arning Progress : 100.00 % \n",
      "Test Accuracy = 0.9540126239855726\n",
      "- Learning Progress : 99.80 % \r"
     ]
    },
    {
     "name": "stderr",
     "output_type": "stream",
     "text": [
      "\r",
      "1110it [37:07:42, 90.02s/it]"
     ]
    },
    {
     "name": "stdout",
     "output_type": "stream",
     "text": [
      "1109arning Progress : 100.00 % \n",
      "Test Accuracy = 0.9540540540540541\n",
      "- Learning Progress : 99.80 % \r"
     ]
    },
    {
     "name": "stderr",
     "output_type": "stream",
     "text": [
      "\r",
      "1111it [37:09:15, 90.98s/it]"
     ]
    },
    {
     "name": "stdout",
     "output_type": "stream",
     "text": [
      "1110arning Progress : 100.00 % \n",
      "Test Accuracy = 0.9540954095409541\n",
      "- Learning Progress : 99.90 % \r"
     ]
    },
    {
     "name": "stderr",
     "output_type": "stream",
     "text": [
      "\r",
      "1112it [37:10:32, 86.78s/it]"
     ]
    },
    {
     "name": "stdout",
     "output_type": "stream",
     "text": [
      "1111arning Progress : 100.00 % \n",
      "Test Accuracy = 0.954136690647482\n",
      "- Learning Progress : 99.90 % \r"
     ]
    },
    {
     "name": "stderr",
     "output_type": "stream",
     "text": [
      "\r",
      "1113it [37:12:02, 87.86s/it]"
     ]
    },
    {
     "name": "stdout",
     "output_type": "stream",
     "text": [
      "1112arning Progress : 100.00 % \n",
      "Test Accuracy = 0.954177897574124\n",
      "- Learning Progress : 99.70 % \r"
     ]
    },
    {
     "name": "stderr",
     "output_type": "stream",
     "text": [
      "\r",
      "1114it [37:13:18, 84.07s/it]"
     ]
    },
    {
     "name": "stdout",
     "output_type": "stream",
     "text": [
      "1113arning Progress : 100.00 % \n",
      "Test Accuracy = 0.9542190305206463\n",
      "- Learning Progress : 99.80 % \r"
     ]
    },
    {
     "name": "stderr",
     "output_type": "stream",
     "text": [
      "\r",
      "1115it [37:14:44, 84.73s/it]"
     ]
    },
    {
     "name": "stdout",
     "output_type": "stream",
     "text": [
      "1114arning Progress : 100.00 % \n",
      "Test Accuracy = 0.9542600896860987\n",
      "- Learning Progress : 99.80 % \r"
     ]
    },
    {
     "name": "stderr",
     "output_type": "stream",
     "text": [
      "\r",
      "1116it [37:16:09, 84.97s/it]"
     ]
    },
    {
     "name": "stdout",
     "output_type": "stream",
     "text": [
      "1115arning Progress : 100.00 % \n",
      "Test Accuracy = 0.9543010752688172\n",
      "- Learning Progress : 99.90 % \r"
     ]
    },
    {
     "name": "stderr",
     "output_type": "stream",
     "text": [
      "\r",
      "1117it [37:17:29, 83.27s/it]"
     ]
    },
    {
     "name": "stdout",
     "output_type": "stream",
     "text": [
      "1116arning Progress : 100.00 % \n",
      "Test Accuracy = 0.954341987466428\n",
      "- Learning Progress : 99.80 % \r"
     ]
    },
    {
     "name": "stderr",
     "output_type": "stream",
     "text": [
      "\r",
      "1118it [37:18:49, 82.38s/it]"
     ]
    },
    {
     "name": "stdout",
     "output_type": "stream",
     "text": [
      "1117arning Progress : 100.00 % \n",
      "Test Accuracy = 0.9543828264758497\n",
      "- Learning Progress : 100.00 % \r"
     ]
    },
    {
     "name": "stderr",
     "output_type": "stream",
     "text": [
      "\r",
      "1119it [37:20:21, 85.12s/it]"
     ]
    },
    {
     "name": "stdout",
     "output_type": "stream",
     "text": [
      "1118\n",
      "Test Accuracy = 0.9544235924932976\n",
      "- Learning Progress : 99.90 % \r"
     ]
    },
    {
     "name": "stderr",
     "output_type": "stream",
     "text": [
      "\r",
      "1120it [37:21:56, 88.08s/it]"
     ]
    },
    {
     "name": "stdout",
     "output_type": "stream",
     "text": [
      "1119arning Progress : 100.00 % \n",
      "Test Accuracy = 0.9544642857142858\n",
      "- Learning Progress : 99.80 % \r"
     ]
    },
    {
     "name": "stderr",
     "output_type": "stream",
     "text": [
      "\r",
      "1121it [37:23:17, 86.15s/it]"
     ]
    },
    {
     "name": "stdout",
     "output_type": "stream",
     "text": [
      "1120arning Progress : 100.00 % \n",
      "Test Accuracy = 0.9545049063336307\n",
      "- Learning Progress : 99.90 % \r"
     ]
    },
    {
     "name": "stderr",
     "output_type": "stream",
     "text": [
      "\r",
      "1122it [37:24:34, 83.50s/it]"
     ]
    },
    {
     "name": "stdout",
     "output_type": "stream",
     "text": [
      "- Learning Progress : 100.00 % \r",
      "1121\n",
      "Test Accuracy = 0.9545454545454546\n"
     ]
    },
    {
     "name": "stderr",
     "output_type": "stream",
     "text": [
      "\r",
      "1123it [37:24:35, 58.54s/it]"
     ]
    },
    {
     "name": "stdout",
     "output_type": "stream",
     "text": [
      "1122\n",
      "- Learning Progress : 99.90 % \r"
     ]
    },
    {
     "name": "stderr",
     "output_type": "stream",
     "text": [
      "\r",
      "1124it [37:26:02, 67.09s/it]"
     ]
    },
    {
     "name": "stdout",
     "output_type": "stream",
     "text": [
      "1123arning Progress : 100.00 % \n",
      "Test Accuracy = 0.9537366548042705\n",
      "- Learning Progress : 99.70 % \r"
     ]
    },
    {
     "name": "stderr",
     "output_type": "stream",
     "text": [
      "\r",
      "1125it [37:27:35, 74.89s/it]"
     ]
    },
    {
     "name": "stdout",
     "output_type": "stream",
     "text": [
      "1124arning Progress : 100.00 % \n",
      "Test Accuracy = 0.9537777777777777\n",
      "- Learning Progress : 99.90 % \r"
     ]
    },
    {
     "name": "stderr",
     "output_type": "stream",
     "text": [
      "\r",
      "1126it [37:29:05, 79.40s/it]"
     ]
    },
    {
     "name": "stdout",
     "output_type": "stream",
     "text": [
      "1125arning Progress : 100.00 % \n",
      "Test Accuracy = 0.9538188277087034\n",
      "- Learning Progress : 99.90 % \r"
     ]
    },
    {
     "name": "stderr",
     "output_type": "stream",
     "text": [
      "\r",
      "1127it [37:30:34, 82.39s/it]"
     ]
    },
    {
     "name": "stdout",
     "output_type": "stream",
     "text": [
      "1126arning Progress : 100.00 % \n",
      "Test Accuracy = 0.9538598047914818\n",
      "- Learning Progress : 99.90 % \r"
     ]
    },
    {
     "name": "stderr",
     "output_type": "stream",
     "text": [
      "\r",
      "1128it [37:32:03, 84.25s/it]"
     ]
    },
    {
     "name": "stdout",
     "output_type": "stream",
     "text": [
      "1127arning Progress : 100.00 % \n",
      "Test Accuracy = 0.9539007092198581\n",
      "- Learning Progress : 99.80 % \r"
     ]
    },
    {
     "name": "stderr",
     "output_type": "stream",
     "text": [
      "\r",
      "1129it [37:33:33, 86.12s/it]"
     ]
    },
    {
     "name": "stdout",
     "output_type": "stream",
     "text": [
      "1128arning Progress : 100.00 % \n",
      "Test Accuracy = 0.953941541186891\n",
      "- Learning Progress : 99.80 % \r"
     ]
    },
    {
     "name": "stderr",
     "output_type": "stream",
     "text": [
      "\r",
      "1130it [37:35:04, 87.41s/it]"
     ]
    },
    {
     "name": "stdout",
     "output_type": "stream",
     "text": [
      "1129arning Progress : 100.00 % \n",
      "Test Accuracy = 0.9539823008849557\n",
      "- Learning Progress : 99.90 % \r"
     ]
    },
    {
     "name": "stderr",
     "output_type": "stream",
     "text": [
      "\r",
      "1131it [37:36:31, 87.26s/it]"
     ]
    },
    {
     "name": "stdout",
     "output_type": "stream",
     "text": [
      "1130arning Progress : 100.00 % \n",
      "Test Accuracy = 0.9540229885057471\n",
      "- Learning Progress : 99.90 % \r"
     ]
    },
    {
     "name": "stderr",
     "output_type": "stream",
     "text": [
      "\r",
      "1132it [37:38:05, 89.36s/it]"
     ]
    },
    {
     "name": "stdout",
     "output_type": "stream",
     "text": [
      "1131arning Progress : 100.00 % \n",
      "Test Accuracy = 0.9540636042402827\n",
      "- Learning Progress : 99.80 % \r"
     ]
    },
    {
     "name": "stderr",
     "output_type": "stream",
     "text": [
      "\r",
      "1133it [37:39:35, 89.46s/it]"
     ]
    },
    {
     "name": "stdout",
     "output_type": "stream",
     "text": [
      "1132arning Progress : 100.00 % \n",
      "Test Accuracy = 0.9541041482789056\n",
      "- Learning Progress : 99.70 % \r"
     ]
    },
    {
     "name": "stderr",
     "output_type": "stream",
     "text": [
      "\r",
      "1134it [37:41:05, 89.68s/it]"
     ]
    },
    {
     "name": "stdout",
     "output_type": "stream",
     "text": [
      "1133arning Progress : 100.00 % \n",
      "Test Accuracy = 0.9541446208112875\n",
      "- Learning Progress : 100.00 % \r"
     ]
    },
    {
     "name": "stderr",
     "output_type": "stream",
     "text": [
      "\r",
      "1135it [37:42:38, 90.80s/it]"
     ]
    },
    {
     "name": "stdout",
     "output_type": "stream",
     "text": [
      "1134\n",
      "Test Accuracy = 0.9541850220264317\n",
      "- Learning Progress : 100.00 % \r"
     ]
    },
    {
     "name": "stderr",
     "output_type": "stream",
     "text": [
      "\r",
      "1136it [37:44:02, 88.80s/it]"
     ]
    },
    {
     "name": "stdout",
     "output_type": "stream",
     "text": [
      "1135\n",
      "Test Accuracy = 0.954225352112676\n",
      "- Learning Progress : 99.80 % \r"
     ]
    },
    {
     "name": "stderr",
     "output_type": "stream",
     "text": [
      "\r",
      "1137it [37:45:32, 89.15s/it]"
     ]
    },
    {
     "name": "stdout",
     "output_type": "stream",
     "text": [
      "1136arning Progress : 100.00 % \n",
      "Test Accuracy = 0.9542656112576957\n",
      "- Learning Progress : 99.80 % \r"
     ]
    },
    {
     "name": "stderr",
     "output_type": "stream",
     "text": [
      "\r",
      "1138it [37:47:01, 89.08s/it]"
     ]
    },
    {
     "name": "stdout",
     "output_type": "stream",
     "text": [
      "1137arning Progress : 100.00 % \n",
      "Test Accuracy = 0.9543057996485061\n",
      "- Learning Progress : 99.90 % \r"
     ]
    },
    {
     "name": "stderr",
     "output_type": "stream",
     "text": [
      "\r",
      "1139it [37:48:28, 88.35s/it]"
     ]
    },
    {
     "name": "stdout",
     "output_type": "stream",
     "text": [
      "1138arning Progress : 100.00 % \n",
      "Test Accuracy = 0.9543459174714662\n",
      "- Learning Progress : 99.70 % \r"
     ]
    },
    {
     "name": "stderr",
     "output_type": "stream",
     "text": [
      "\r",
      "1140it [37:49:53, 87.43s/it]"
     ]
    },
    {
     "name": "stdout",
     "output_type": "stream",
     "text": [
      "1139arning Progress : 100.00 % \n",
      "Test Accuracy = 0.9543859649122807\n",
      "- Learning Progress : 99.90 % \r"
     ]
    },
    {
     "name": "stderr",
     "output_type": "stream",
     "text": [
      "\r",
      "1141it [37:51:20, 87.16s/it]"
     ]
    },
    {
     "name": "stdout",
     "output_type": "stream",
     "text": [
      "1140arning Progress : 100.00 % \n",
      "Test Accuracy = 0.9544259421560035\n",
      "- Learning Progress : 99.90 % \r"
     ]
    },
    {
     "name": "stderr",
     "output_type": "stream",
     "text": [
      "\r",
      "1142it [37:52:47, 87.12s/it]"
     ]
    },
    {
     "name": "stdout",
     "output_type": "stream",
     "text": [
      "1141arning Progress : 100.00 % \n",
      "Test Accuracy = 0.9544658493870403\n",
      "- Learning Progress : 99.70 % \r"
     ]
    },
    {
     "name": "stderr",
     "output_type": "stream",
     "text": [
      "\r",
      "1143it [37:54:08, 85.36s/it]"
     ]
    },
    {
     "name": "stdout",
     "output_type": "stream",
     "text": [
      "1142arning Progress : 100.00 % \n",
      "Test Accuracy = 0.9545056867891514\n",
      "- Learning Progress : 99.90 % \r"
     ]
    },
    {
     "name": "stderr",
     "output_type": "stream",
     "text": [
      "\r",
      "1144it [37:55:33, 85.14s/it]"
     ]
    },
    {
     "name": "stdout",
     "output_type": "stream",
     "text": [
      "1143arning Progress : 100.00 % \n",
      "Test Accuracy = 0.9545454545454546\n",
      "- Learning Progress : 99.90 % \r"
     ]
    },
    {
     "name": "stderr",
     "output_type": "stream",
     "text": [
      "\r",
      "1145it [37:56:59, 85.63s/it]"
     ]
    },
    {
     "name": "stdout",
     "output_type": "stream",
     "text": [
      "1144arning Progress : 100.00 % \n",
      "Test Accuracy = 0.9545851528384279\n",
      "- Learning Progress : 99.80 % \r"
     ]
    },
    {
     "name": "stderr",
     "output_type": "stream",
     "text": [
      "\r",
      "1146it [37:58:17, 83.10s/it]"
     ]
    },
    {
     "name": "stdout",
     "output_type": "stream",
     "text": [
      "1145arning Progress : 100.00 % \n",
      "Test Accuracy = 0.9546247818499127\n",
      "- Learning Progress : 99.90 % \r"
     ]
    },
    {
     "name": "stderr",
     "output_type": "stream",
     "text": [
      "\r",
      "1147it [37:59:41, 83.44s/it]"
     ]
    },
    {
     "name": "stdout",
     "output_type": "stream",
     "text": [
      "1146arning Progress : 100.00 % \n",
      "Test Accuracy = 0.9546643417611159\n",
      "- Learning Progress : 99.90 % \r"
     ]
    },
    {
     "name": "stderr",
     "output_type": "stream",
     "text": [
      "\r",
      "1148it [38:01:05, 83.66s/it]"
     ]
    },
    {
     "name": "stdout",
     "output_type": "stream",
     "text": [
      "1147arning Progress : 100.00 % \n",
      "Test Accuracy = 0.9547038327526133\n",
      "- Learning Progress : 99.90 % \r"
     ]
    },
    {
     "name": "stderr",
     "output_type": "stream",
     "text": [
      "\r",
      "1149it [38:02:32, 84.73s/it]"
     ]
    },
    {
     "name": "stdout",
     "output_type": "stream",
     "text": [
      "1148arning Progress : 100.00 % \n",
      "Test Accuracy = 0.9547432550043516\n",
      "- Learning Progress : 99.90 % \r"
     ]
    },
    {
     "name": "stderr",
     "output_type": "stream",
     "text": [
      "\r",
      "1150it [38:03:58, 85.16s/it]"
     ]
    },
    {
     "name": "stdout",
     "output_type": "stream",
     "text": [
      "1149arning Progress : 100.00 % \n",
      "Test Accuracy = 0.9547826086956521\n",
      "- Learning Progress : 99.90 % \r"
     ]
    },
    {
     "name": "stderr",
     "output_type": "stream",
     "text": [
      "\r",
      "1151it [38:05:24, 85.37s/it]"
     ]
    },
    {
     "name": "stdout",
     "output_type": "stream",
     "text": [
      "1150arning Progress : 100.00 % \n",
      "Test Accuracy = 0.9548218940052129\n",
      "- Learning Progress : 99.90 % \r"
     ]
    },
    {
     "name": "stderr",
     "output_type": "stream",
     "text": [
      "\r",
      "1152it [38:06:45, 84.09s/it]"
     ]
    },
    {
     "name": "stdout",
     "output_type": "stream",
     "text": [
      "1151arning Progress : 100.00 % \n",
      "Test Accuracy = 0.9548611111111112\n",
      "- Learning Progress : 99.80 % \r"
     ]
    },
    {
     "name": "stderr",
     "output_type": "stream",
     "text": [
      "\r",
      "1153it [38:08:12, 85.01s/it]"
     ]
    },
    {
     "name": "stdout",
     "output_type": "stream",
     "text": [
      "1152arning Progress : 100.00 % \n",
      "Test Accuracy = 0.9549002601908065\n",
      "- Learning Progress : 99.70 % \r"
     ]
    },
    {
     "name": "stderr",
     "output_type": "stream",
     "text": [
      "\r",
      "1154it [38:09:43, 86.53s/it]"
     ]
    },
    {
     "name": "stdout",
     "output_type": "stream",
     "text": [
      "1153arning Progress : 100.00 % \n",
      "Test Accuracy = 0.9549393414211439\n",
      "- Learning Progress : 99.90 % \r"
     ]
    },
    {
     "name": "stderr",
     "output_type": "stream",
     "text": [
      "\r",
      "1155it [38:11:12, 87.31s/it]"
     ]
    },
    {
     "name": "stdout",
     "output_type": "stream",
     "text": [
      "1154arning Progress : 100.00 % \n",
      "Test Accuracy = 0.9549783549783549\n",
      "- Learning Progress : 99.90 % \r"
     ]
    },
    {
     "name": "stderr",
     "output_type": "stream",
     "text": [
      "\r",
      "1156it [38:12:38, 86.93s/it]"
     ]
    },
    {
     "name": "stdout",
     "output_type": "stream",
     "text": [
      "1155arning Progress : 100.00 % \n",
      "Test Accuracy = 0.9550173010380623\n",
      "- Learning Progress : 99.90 % \r"
     ]
    },
    {
     "name": "stderr",
     "output_type": "stream",
     "text": [
      "\r",
      "1157it [38:14:04, 86.67s/it]"
     ]
    },
    {
     "name": "stdout",
     "output_type": "stream",
     "text": [
      "1156arning Progress : 100.00 % \n",
      "Test Accuracy = 0.9550561797752809\n",
      "- Learning Progress : 99.90 % \r"
     ]
    },
    {
     "name": "stderr",
     "output_type": "stream",
     "text": [
      "\r",
      "1158it [38:15:29, 86.13s/it]"
     ]
    },
    {
     "name": "stdout",
     "output_type": "stream",
     "text": [
      "1157arning Progress : 100.00 % \n",
      "Test Accuracy = 0.9550949913644214\n",
      "- Learning Progress : 99.90 % \r"
     ]
    },
    {
     "name": "stderr",
     "output_type": "stream",
     "text": [
      "\r",
      "1159it [38:16:53, 85.55s/it]"
     ]
    },
    {
     "name": "stdout",
     "output_type": "stream",
     "text": [
      "1158arning Progress : 100.00 % \n",
      "Test Accuracy = 0.9551337359792925\n",
      "- Learning Progress : 99.90 % \r"
     ]
    },
    {
     "name": "stderr",
     "output_type": "stream",
     "text": [
      "\r",
      "1160it [38:18:19, 85.63s/it]"
     ]
    },
    {
     "name": "stdout",
     "output_type": "stream",
     "text": [
      "1159arning Progress : 100.00 % \n",
      "Test Accuracy = 0.9551724137931035\n",
      "- Learning Progress : 99.90 % \r"
     ]
    },
    {
     "name": "stderr",
     "output_type": "stream",
     "text": [
      "\r",
      "1161it [38:19:45, 85.81s/it]"
     ]
    },
    {
     "name": "stdout",
     "output_type": "stream",
     "text": [
      "- Learning Progress : 100.00 % \r",
      "1160\n",
      "Test Accuracy = 0.9552110249784669\n"
     ]
    },
    {
     "name": "stderr",
     "output_type": "stream",
     "text": [
      "\r",
      "1162it [38:19:45, 60.15s/it]"
     ]
    },
    {
     "name": "stdout",
     "output_type": "stream",
     "text": [
      "1161\n",
      "- Learning Progress : 99.90 % \r"
     ]
    },
    {
     "name": "stderr",
     "output_type": "stream",
     "text": [
      "\r",
      "1163it [38:21:12, 68.25s/it]"
     ]
    },
    {
     "name": "stdout",
     "output_type": "stream",
     "text": [
      "1162arning Progress : 100.00 % \n",
      "Test Accuracy = 0.9544282029234737\n",
      "- Learning Progress : 99.90 % \r"
     ]
    },
    {
     "name": "stderr",
     "output_type": "stream",
     "text": [
      "\r",
      "1164it [38:22:36, 72.91s/it]"
     ]
    },
    {
     "name": "stdout",
     "output_type": "stream",
     "text": [
      "1163arning Progress : 100.00 % \n",
      "Test Accuracy = 0.9544673539518901\n",
      "- Learning Progress : 99.90 % \r"
     ]
    },
    {
     "name": "stderr",
     "output_type": "stream",
     "text": [
      "\r",
      "1165it [38:23:58, 75.70s/it]"
     ]
    },
    {
     "name": "stdout",
     "output_type": "stream",
     "text": [
      "1164arning Progress : 100.00 % \n",
      "Test Accuracy = 0.9545064377682403\n",
      "- Learning Progress : 99.90 % \r"
     ]
    },
    {
     "name": "stderr",
     "output_type": "stream",
     "text": [
      "\r",
      "1166it [38:25:14, 75.61s/it]"
     ]
    },
    {
     "name": "stdout",
     "output_type": "stream",
     "text": [
      "1165arning Progress : 100.00 % \n",
      "Test Accuracy = 0.9545454545454546\n",
      "- Learning Progress : 99.70 % \r"
     ]
    },
    {
     "name": "stderr",
     "output_type": "stream",
     "text": [
      "\r",
      "1167it [38:26:28, 75.18s/it]"
     ]
    },
    {
     "name": "stdout",
     "output_type": "stream",
     "text": [
      "1166arning Progress : 100.00 % \n",
      "Test Accuracy = 0.9545844044558698\n",
      "- Learning Progress : 99.80 % \r"
     ]
    },
    {
     "name": "stderr",
     "output_type": "stream",
     "text": [
      "\r",
      "1168it [38:27:59, 80.07s/it]"
     ]
    },
    {
     "name": "stdout",
     "output_type": "stream",
     "text": [
      "1167arning Progress : 100.00 % \n",
      "Test Accuracy = 0.9546232876712328\n",
      "- Learning Progress : 99.90 % \r"
     ]
    },
    {
     "name": "stderr",
     "output_type": "stream",
     "text": [
      "\r",
      "1169it [38:29:27, 82.43s/it]"
     ]
    },
    {
     "name": "stdout",
     "output_type": "stream",
     "text": [
      "1168arning Progress : 100.00 % \n",
      "Test Accuracy = 0.9546621043627032\n",
      "- Learning Progress : 99.90 % \r"
     ]
    },
    {
     "name": "stderr",
     "output_type": "stream",
     "text": [
      "\r",
      "1170it [38:30:49, 82.17s/it]"
     ]
    },
    {
     "name": "stdout",
     "output_type": "stream",
     "text": [
      "1169arning Progress : 100.00 % \n",
      "Test Accuracy = 0.9547008547008548\n",
      "- Learning Progress : 99.80 % \r"
     ]
    },
    {
     "name": "stderr",
     "output_type": "stream",
     "text": [
      "\r",
      "1171it [38:32:17, 83.97s/it]"
     ]
    },
    {
     "name": "stdout",
     "output_type": "stream",
     "text": [
      "1170arning Progress : 100.00 % \n",
      "Test Accuracy = 0.9547395388556789\n",
      "- Learning Progress : 99.90 % \r"
     ]
    },
    {
     "name": "stderr",
     "output_type": "stream",
     "text": [
      "\r",
      "1172it [38:33:40, 83.74s/it]"
     ]
    },
    {
     "name": "stdout",
     "output_type": "stream",
     "text": [
      "1171arning Progress : 100.00 % \n",
      "Test Accuracy = 0.9547781569965871\n",
      "- Learning Progress : 99.80 % \r"
     ]
    },
    {
     "name": "stderr",
     "output_type": "stream",
     "text": [
      "\r",
      "1173it [38:35:04, 83.79s/it]"
     ]
    },
    {
     "name": "stdout",
     "output_type": "stream",
     "text": [
      "1172arning Progress : 100.00 % \n",
      "Test Accuracy = 0.9548167092924126\n",
      "- Learning Progress : 99.90 % \r"
     ]
    },
    {
     "name": "stderr",
     "output_type": "stream",
     "text": [
      "\r",
      "1174it [38:36:30, 84.38s/it]"
     ]
    },
    {
     "name": "stdout",
     "output_type": "stream",
     "text": [
      "1173arning Progress : 100.00 % \n",
      "Test Accuracy = 0.954855195911414\n",
      "- Learning Progress : 99.90 % \r"
     ]
    },
    {
     "name": "stderr",
     "output_type": "stream",
     "text": [
      "\r",
      "1175it [38:37:50, 83.21s/it]"
     ]
    },
    {
     "name": "stdout",
     "output_type": "stream",
     "text": [
      "1174arning Progress : 100.00 % \n",
      "Test Accuracy = 0.9548936170212766\n",
      "- Learning Progress : 99.70 % \r"
     ]
    },
    {
     "name": "stderr",
     "output_type": "stream",
     "text": [
      "\r",
      "1176it [38:39:05, 80.77s/it]"
     ]
    },
    {
     "name": "stdout",
     "output_type": "stream",
     "text": [
      "1175arning Progress : 100.00 % \n",
      "Test Accuracy = 0.9549319727891157\n",
      "- Learning Progress : 99.70 % \r"
     ]
    },
    {
     "name": "stderr",
     "output_type": "stream",
     "text": [
      "\r",
      "1177it [38:40:26, 80.82s/it]"
     ]
    },
    {
     "name": "stdout",
     "output_type": "stream",
     "text": [
      "1176arning Progress : 100.00 % \n",
      "Test Accuracy = 0.9549702633814783\n",
      "- Learning Progress : 99.90 % \r"
     ]
    },
    {
     "name": "stderr",
     "output_type": "stream",
     "text": [
      "\r",
      "1178it [38:41:53, 82.70s/it]"
     ]
    },
    {
     "name": "stdout",
     "output_type": "stream",
     "text": [
      "1177arning Progress : 100.00 % \n",
      "Test Accuracy = 0.9550084889643463\n",
      "- Learning Progress : 99.90 % \r"
     ]
    },
    {
     "name": "stderr",
     "output_type": "stream",
     "text": [
      "\r",
      "1179it [38:43:17, 83.09s/it]"
     ]
    },
    {
     "name": "stdout",
     "output_type": "stream",
     "text": [
      "1178arning Progress : 100.00 % \n",
      "Test Accuracy = 0.9550466497031382\n",
      "- Learning Progress : 99.90 % \r"
     ]
    },
    {
     "name": "stderr",
     "output_type": "stream",
     "text": [
      "\r",
      "1180it [38:44:45, 84.56s/it]"
     ]
    },
    {
     "name": "stdout",
     "output_type": "stream",
     "text": [
      "1179arning Progress : 100.00 % \n",
      "Test Accuracy = 0.9550847457627119\n",
      "- Learning Progress : 99.70 % \r"
     ]
    },
    {
     "name": "stderr",
     "output_type": "stream",
     "text": [
      "\r",
      "1181it [38:46:13, 85.60s/it]"
     ]
    },
    {
     "name": "stdout",
     "output_type": "stream",
     "text": [
      "1180arning Progress : 100.00 % \n",
      "Test Accuracy = 0.9551227773073666\n",
      "- Learning Progress : 99.90 % \r"
     ]
    },
    {
     "name": "stderr",
     "output_type": "stream",
     "text": [
      "\r",
      "1182it [38:47:42, 86.33s/it]"
     ]
    },
    {
     "name": "stdout",
     "output_type": "stream",
     "text": [
      "1181arning Progress : 100.00 % \n",
      "Test Accuracy = 0.955160744500846\n",
      "- Learning Progress : 99.90 % \r"
     ]
    },
    {
     "name": "stderr",
     "output_type": "stream",
     "text": [
      "\r",
      "1183it [38:49:12, 87.61s/it]"
     ]
    },
    {
     "name": "stdout",
     "output_type": "stream",
     "text": [
      "1182arning Progress : 100.00 % \n",
      "Test Accuracy = 0.9551986475063398\n",
      "- Learning Progress : 99.90 % \r"
     ]
    },
    {
     "name": "stderr",
     "output_type": "stream",
     "text": [
      "\r",
      "1184it [38:50:41, 87.87s/it]"
     ]
    },
    {
     "name": "stdout",
     "output_type": "stream",
     "text": [
      "1183arning Progress : 100.00 % \n",
      "Test Accuracy = 0.9552364864864865\n",
      "- Learning Progress : 99.90 % \r"
     ]
    },
    {
     "name": "stderr",
     "output_type": "stream",
     "text": [
      "\r",
      "1185it [38:52:10, 88.35s/it]"
     ]
    },
    {
     "name": "stdout",
     "output_type": "stream",
     "text": [
      "1184arning Progress : 100.00 % \n",
      "Test Accuracy = 0.9552742616033755\n",
      "- Learning Progress : 99.90 % \r"
     ]
    },
    {
     "name": "stderr",
     "output_type": "stream",
     "text": [
      "\r",
      "1186it [38:53:35, 87.43s/it]"
     ]
    },
    {
     "name": "stdout",
     "output_type": "stream",
     "text": [
      "1185arning Progress : 100.00 % \n",
      "Test Accuracy = 0.9553119730185498\n",
      "- Learning Progress : 99.90 % \r"
     ]
    },
    {
     "name": "stderr",
     "output_type": "stream",
     "text": [
      "\r",
      "1187it [38:54:59, 86.38s/it]"
     ]
    },
    {
     "name": "stdout",
     "output_type": "stream",
     "text": [
      "1186arning Progress : 100.00 % \n",
      "Test Accuracy = 0.9553496208930076\n",
      "- Learning Progress : 99.90 % \r"
     ]
    },
    {
     "name": "stderr",
     "output_type": "stream",
     "text": [
      "\r",
      "1188it [38:56:27, 86.87s/it]"
     ]
    },
    {
     "name": "stdout",
     "output_type": "stream",
     "text": [
      "1187arning Progress : 100.00 % \n",
      "Test Accuracy = 0.9553872053872053\n",
      "- Learning Progress : 99.90 % \r"
     ]
    },
    {
     "name": "stderr",
     "output_type": "stream",
     "text": [
      "\r",
      "1189it [38:57:56, 87.40s/it]"
     ]
    },
    {
     "name": "stdout",
     "output_type": "stream",
     "text": [
      "1188arning Progress : 100.00 % \n",
      "Test Accuracy = 0.9554247266610597\n",
      "- Learning Progress : 99.90 % \r"
     ]
    },
    {
     "name": "stderr",
     "output_type": "stream",
     "text": [
      "\r",
      "1190it [38:59:23, 87.20s/it]"
     ]
    },
    {
     "name": "stdout",
     "output_type": "stream",
     "text": [
      "1189arning Progress : 100.00 % \n",
      "Test Accuracy = 0.9554621848739496\n",
      "- Learning Progress : 99.80 % \r"
     ]
    },
    {
     "name": "stderr",
     "output_type": "stream",
     "text": [
      "\r",
      "1191it [39:00:50, 87.22s/it]"
     ]
    },
    {
     "name": "stdout",
     "output_type": "stream",
     "text": [
      "1190arning Progress : 100.00 % \n",
      "Test Accuracy = 0.9554995801847187\n",
      "- Learning Progress : 99.80 % \r"
     ]
    },
    {
     "name": "stderr",
     "output_type": "stream",
     "text": [
      "\r",
      "1192it [39:02:17, 87.27s/it]"
     ]
    },
    {
     "name": "stdout",
     "output_type": "stream",
     "text": [
      "1191arning Progress : 100.00 % \n",
      "Test Accuracy = 0.9555369127516778\n",
      "- Learning Progress : 99.80 % \r"
     ]
    },
    {
     "name": "stderr",
     "output_type": "stream",
     "text": [
      "\r",
      "1193it [39:03:45, 87.51s/it]"
     ]
    },
    {
     "name": "stdout",
     "output_type": "stream",
     "text": [
      "1192arning Progress : 100.00 % \n",
      "Test Accuracy = 0.9555741827326069\n",
      "- Learning Progress : 99.80 % \r"
     ]
    },
    {
     "name": "stderr",
     "output_type": "stream",
     "text": [
      "\r",
      "1194it [39:05:13, 87.62s/it]"
     ]
    },
    {
     "name": "stdout",
     "output_type": "stream",
     "text": [
      "1193arning Progress : 100.00 % \n",
      "Test Accuracy = 0.9556113902847572\n",
      "- Learning Progress : 99.90 % \r"
     ]
    },
    {
     "name": "stderr",
     "output_type": "stream",
     "text": [
      "\r",
      "1195it [39:06:38, 86.69s/it]"
     ]
    },
    {
     "name": "stdout",
     "output_type": "stream",
     "text": [
      "1194arning Progress : 100.00 % \n",
      "Test Accuracy = 0.9556485355648535\n",
      "- Learning Progress : 99.90 % \r"
     ]
    },
    {
     "name": "stderr",
     "output_type": "stream",
     "text": [
      "\r",
      "1196it [39:08:03, 86.39s/it]"
     ]
    },
    {
     "name": "stdout",
     "output_type": "stream",
     "text": [
      "1195arning Progress : 100.00 % \n",
      "Test Accuracy = 0.955685618729097\n",
      "- Learning Progress : 99.90 % \r"
     ]
    },
    {
     "name": "stderr",
     "output_type": "stream",
     "text": [
      "\r",
      "1197it [39:09:29, 86.18s/it]"
     ]
    },
    {
     "name": "stdout",
     "output_type": "stream",
     "text": [
      "1196arning Progress : 100.00 % \n",
      "Test Accuracy = 0.9557226399331662\n",
      "- Learning Progress : 99.90 % \r"
     ]
    },
    {
     "name": "stderr",
     "output_type": "stream",
     "text": [
      "\r",
      "1198it [39:10:55, 86.16s/it]"
     ]
    },
    {
     "name": "stdout",
     "output_type": "stream",
     "text": [
      "1197arning Progress : 100.00 % \n",
      "Test Accuracy = 0.9557595993322203\n",
      "- Learning Progress : 99.90 % \r"
     ]
    },
    {
     "name": "stderr",
     "output_type": "stream",
     "text": [
      "\r",
      "1199it [39:12:19, 85.52s/it]"
     ]
    },
    {
     "name": "stdout",
     "output_type": "stream",
     "text": [
      "1198arning Progress : 100.00 % \n",
      "Test Accuracy = 0.9557964970809008\n",
      "- Learning Progress : 99.90 % \r"
     ]
    },
    {
     "name": "stderr",
     "output_type": "stream",
     "text": [
      "\r",
      "1200it [39:13:47, 86.06s/it]"
     ]
    },
    {
     "name": "stdout",
     "output_type": "stream",
     "text": [
      "1199arning Progress : 100.00 % \n",
      "Test Accuracy = 0.9558333333333333\n",
      "- Learning Progress : 99.70 % \r"
     ]
    },
    {
     "name": "stderr",
     "output_type": "stream",
     "text": [
      "\r",
      "1201it [39:15:13, 86.11s/it]"
     ]
    },
    {
     "name": "stdout",
     "output_type": "stream",
     "text": [
      "1200arning Progress : 100.00 % \n",
      "Test Accuracy = 0.9558701082431307\n",
      "- Learning Progress : 99.80 % \r"
     ]
    },
    {
     "name": "stderr",
     "output_type": "stream",
     "text": [
      "\r",
      "1202it [39:16:38, 85.75s/it]"
     ]
    },
    {
     "name": "stdout",
     "output_type": "stream",
     "text": [
      "1201arning Progress : 100.00 % \n",
      "Test Accuracy = 0.9559068219633944\n",
      "- Learning Progress : 99.90 % \r"
     ]
    },
    {
     "name": "stderr",
     "output_type": "stream",
     "text": [
      "\r",
      "1203it [39:18:04, 85.83s/it]"
     ]
    },
    {
     "name": "stdout",
     "output_type": "stream",
     "text": [
      "1202arning Progress : 100.00 % \n",
      "Test Accuracy = 0.9559434746467166\n",
      "- Learning Progress : 99.90 % \r"
     ]
    },
    {
     "name": "stderr",
     "output_type": "stream",
     "text": [
      "\r",
      "1204it [39:19:30, 85.88s/it]"
     ]
    },
    {
     "name": "stdout",
     "output_type": "stream",
     "text": [
      "1203arning Progress : 100.00 % \n",
      "Test Accuracy = 0.9559800664451827\n",
      "- Learning Progress : 99.90 % \r"
     ]
    },
    {
     "name": "stderr",
     "output_type": "stream",
     "text": [
      "\r",
      "1205it [39:20:57, 86.39s/it]"
     ]
    },
    {
     "name": "stdout",
     "output_type": "stream",
     "text": [
      "1204arning Progress : 100.00 % \n",
      "Test Accuracy = 0.9560165975103735\n",
      "- Learning Progress : 99.80 % \r"
     ]
    },
    {
     "name": "stderr",
     "output_type": "stream",
     "text": [
      "\r",
      "1206it [39:22:26, 87.17s/it]"
     ]
    },
    {
     "name": "stdout",
     "output_type": "stream",
     "text": [
      "1205arning Progress : 100.00 % \n",
      "Test Accuracy = 0.9560530679933665\n",
      "- Learning Progress : 100.00 % \r"
     ]
    },
    {
     "name": "stderr",
     "output_type": "stream",
     "text": [
      "\r",
      "1207it [39:23:55, 87.58s/it]"
     ]
    },
    {
     "name": "stdout",
     "output_type": "stream",
     "text": [
      "1206\n",
      "Test Accuracy = 0.956089478044739\n",
      "- Learning Progress : 99.70 % \r"
     ]
    },
    {
     "name": "stderr",
     "output_type": "stream",
     "text": [
      "\r",
      "1208it [39:25:24, 87.90s/it]"
     ]
    },
    {
     "name": "stdout",
     "output_type": "stream",
     "text": [
      "1207arning Progress : 100.00 % \n",
      "Test Accuracy = 0.9561258278145696\n",
      "- Learning Progress : 99.90 % \r"
     ]
    },
    {
     "name": "stderr",
     "output_type": "stream",
     "text": [
      "\r",
      "1209it [39:26:50, 87.46s/it]"
     ]
    },
    {
     "name": "stdout",
     "output_type": "stream",
     "text": [
      "1208arning Progress : 100.00 % \n",
      "Test Accuracy = 0.9561621174524401\n",
      "- Learning Progress : 99.90 % \r"
     ]
    },
    {
     "name": "stderr",
     "output_type": "stream",
     "text": [
      "\r",
      "1210it [39:28:15, 86.69s/it]"
     ]
    },
    {
     "name": "stdout",
     "output_type": "stream",
     "text": [
      "1209arning Progress : 100.00 % \n",
      "Test Accuracy = 0.956198347107438\n",
      "- Learning Progress : 99.90 % \r"
     ]
    },
    {
     "name": "stderr",
     "output_type": "stream",
     "text": [
      "\r",
      "1211it [39:29:43, 86.99s/it]"
     ]
    },
    {
     "name": "stdout",
     "output_type": "stream",
     "text": [
      "- Learning Progress : 100.00 % \r",
      "1210\n",
      "Test Accuracy = 0.9562345169281585\n"
     ]
    },
    {
     "name": "stderr",
     "output_type": "stream",
     "text": [
      "1213it [39:29:43, 42.74s/it]"
     ]
    },
    {
     "name": "stdout",
     "output_type": "stream",
     "text": [
      "1211\n",
      "1212\n",
      "- Learning Progress : 99.90 % \r"
     ]
    },
    {
     "name": "stderr",
     "output_type": "stream",
     "text": [
      "\r",
      "1214it [39:31:01, 53.41s/it]"
     ]
    },
    {
     "name": "stdout",
     "output_type": "stream",
     "text": [
      "1213arning Progress : 100.00 % \n",
      "Test Accuracy = 0.9546952224052718\n",
      "- Learning Progress : 100.00 % \r"
     ]
    },
    {
     "name": "stderr",
     "output_type": "stream",
     "text": [
      "\r",
      "1215it [39:32:20, 60.94s/it]"
     ]
    },
    {
     "name": "stdout",
     "output_type": "stream",
     "text": [
      "1214\n",
      "Test Accuracy = 0.9547325102880658\n",
      "- Learning Progress : 99.90 % \r"
     ]
    },
    {
     "name": "stderr",
     "output_type": "stream",
     "text": [
      "\r",
      "1216it [39:33:47, 68.75s/it]"
     ]
    },
    {
     "name": "stdout",
     "output_type": "stream",
     "text": [
      "1215arning Progress : 100.00 % \n",
      "Test Accuracy = 0.9547697368421053\n",
      "- Learning Progress : 99.80 % \r"
     ]
    },
    {
     "name": "stderr",
     "output_type": "stream",
     "text": [
      "\r",
      "1217it [39:35:16, 74.93s/it]"
     ]
    },
    {
     "name": "stdout",
     "output_type": "stream",
     "text": [
      "- Learning Progress : 99.90 % \r",
      "- Learning Progress : 100.00 % \r",
      "1216\n",
      "Test Accuracy = 0.9548069022185702\n"
     ]
    },
    {
     "name": "stderr",
     "output_type": "stream",
     "text": [
      "\r",
      "1218it [39:35:16, 52.53s/it]"
     ]
    },
    {
     "name": "stdout",
     "output_type": "stream",
     "text": [
      "1217\n",
      "- Learning Progress : 99.90 % \r"
     ]
    },
    {
     "name": "stderr",
     "output_type": "stream",
     "text": [
      "\r",
      "1219it [39:36:45, 63.22s/it]"
     ]
    },
    {
     "name": "stdout",
     "output_type": "stream",
     "text": [
      "- Learning Progress : 100.00 % \r",
      "1218\n",
      "Test Accuracy = 0.9540607054963085\n"
     ]
    },
    {
     "name": "stderr",
     "output_type": "stream",
     "text": [
      "\r",
      "1220it [39:36:45, 44.32s/it]"
     ]
    },
    {
     "name": "stdout",
     "output_type": "stream",
     "text": [
      "1219\n",
      "- Learning Progress : 99.90 % \r"
     ]
    },
    {
     "name": "stderr",
     "output_type": "stream",
     "text": [
      "\r",
      "1221it [39:38:10, 56.71s/it]"
     ]
    },
    {
     "name": "stdout",
     "output_type": "stream",
     "text": [
      "1220arning Progress : 100.00 % \n",
      "Test Accuracy = 0.9533169533169533\n",
      "- Learning Progress : 99.90 % \r"
     ]
    },
    {
     "name": "stderr",
     "output_type": "stream",
     "text": [
      "\r",
      "1222it [39:39:36, 65.34s/it]"
     ]
    },
    {
     "name": "stdout",
     "output_type": "stream",
     "text": [
      "1221arning Progress : 100.00 % \n",
      "Test Accuracy = 0.953355155482815\n",
      "- Learning Progress : 99.90 % \r"
     ]
    },
    {
     "name": "stderr",
     "output_type": "stream",
     "text": [
      "\r",
      "1223it [39:41:03, 72.02s/it]"
     ]
    },
    {
     "name": "stdout",
     "output_type": "stream",
     "text": [
      "1222arning Progress : 100.00 % \n",
      "Test Accuracy = 0.9533932951757972\n",
      "- Learning Progress : 99.90 % \r"
     ]
    },
    {
     "name": "stderr",
     "output_type": "stream",
     "text": [
      "\r",
      "1224it [39:42:32, 76.82s/it]"
     ]
    },
    {
     "name": "stdout",
     "output_type": "stream",
     "text": [
      "1223arning Progress : 100.00 % \n",
      "Test Accuracy = 0.9534313725490197\n",
      "- Learning Progress : 99.80 % \r"
     ]
    },
    {
     "name": "stderr",
     "output_type": "stream",
     "text": [
      "\r",
      "1225it [39:43:58, 79.77s/it]"
     ]
    },
    {
     "name": "stdout",
     "output_type": "stream",
     "text": [
      "1224arning Progress : 100.00 % \n",
      "Test Accuracy = 0.953469387755102\n",
      "- Learning Progress : 99.80 % \r"
     ]
    },
    {
     "name": "stderr",
     "output_type": "stream",
     "text": [
      "\r",
      "1226it [39:45:29, 82.96s/it]"
     ]
    },
    {
     "name": "stdout",
     "output_type": "stream",
     "text": [
      "- Learning Progress : 99.90 % \r",
      "- Learning Progress : 100.00 % \r",
      "1225\n",
      "Test Accuracy = 0.9535073409461664\n"
     ]
    },
    {
     "name": "stderr",
     "output_type": "stream",
     "text": [
      "\r",
      "1227it [39:45:29, 58.12s/it]"
     ]
    },
    {
     "name": "stdout",
     "output_type": "stream",
     "text": [
      "1226\n",
      "- Learning Progress : 99.70 % \r"
     ]
    },
    {
     "name": "stderr",
     "output_type": "stream",
     "text": [
      "\r",
      "1228it [39:46:57, 67.05s/it]"
     ]
    },
    {
     "name": "stdout",
     "output_type": "stream",
     "text": [
      "1227arning Progress : 100.00 % \n",
      "Test Accuracy = 0.9527687296416938\n",
      "- Learning Progress : 99.70 % \r"
     ]
    },
    {
     "name": "stderr",
     "output_type": "stream",
     "text": [
      "\r",
      "1229it [39:48:11, 69.35s/it]"
     ]
    },
    {
     "name": "stdout",
     "output_type": "stream",
     "text": [
      "1228arning Progress : 100.00 % \n",
      "Test Accuracy = 0.9528071602929211\n",
      "- Learning Progress : 99.90 % \r"
     ]
    },
    {
     "name": "stderr",
     "output_type": "stream",
     "text": [
      "\r",
      "1230it [39:49:25, 70.60s/it]"
     ]
    },
    {
     "name": "stdout",
     "output_type": "stream",
     "text": [
      "- Learning Progress : 100.00 % \r",
      "1229\n",
      "Test Accuracy = 0.9528455284552846\n"
     ]
    },
    {
     "name": "stderr",
     "output_type": "stream",
     "text": [
      "\r",
      "1231it [39:49:25, 49.48s/it]"
     ]
    },
    {
     "name": "stdout",
     "output_type": "stream",
     "text": [
      "1230\n",
      "- Learning Progress : 99.70 % \r"
     ]
    },
    {
     "name": "stderr",
     "output_type": "stream",
     "text": [
      "\r",
      "1232it [39:50:45, 58.50s/it]"
     ]
    },
    {
     "name": "stdout",
     "output_type": "stream",
     "text": [
      "1231arning Progress : 100.00 % \n",
      "Test Accuracy = 0.9521103896103896\n",
      "- Learning Progress : 99.90 % \r"
     ]
    },
    {
     "name": "stderr",
     "output_type": "stream",
     "text": [
      "\r",
      "1233it [39:51:59, 63.22s/it]"
     ]
    },
    {
     "name": "stdout",
     "output_type": "stream",
     "text": [
      "1232arning Progress : 100.00 % \n",
      "Test Accuracy = 0.9521492295214923\n",
      "- Learning Progress : 99.70 % \r"
     ]
    },
    {
     "name": "stderr",
     "output_type": "stream",
     "text": [
      "\r",
      "1234it [39:53:13, 66.47s/it]"
     ]
    },
    {
     "name": "stdout",
     "output_type": "stream",
     "text": [
      "1233arning Progress : 100.00 % \n",
      "Test Accuracy = 0.9521880064829822\n",
      "- Learning Progress : 99.90 % \r"
     ]
    },
    {
     "name": "stderr",
     "output_type": "stream",
     "text": [
      "\r",
      "1235it [39:54:35, 71.12s/it]"
     ]
    },
    {
     "name": "stdout",
     "output_type": "stream",
     "text": [
      "1234arning Progress : 100.00 % \n",
      "Test Accuracy = 0.9522267206477733\n",
      "- Learning Progress : 99.90 % \r"
     ]
    },
    {
     "name": "stderr",
     "output_type": "stream",
     "text": [
      "\r",
      "1236it [39:56:03, 76.22s/it]"
     ]
    },
    {
     "name": "stdout",
     "output_type": "stream",
     "text": [
      "1235arning Progress : 100.00 % \n",
      "Test Accuracy = 0.9522653721682848\n",
      "- Learning Progress : 99.90 % \r"
     ]
    },
    {
     "name": "stderr",
     "output_type": "stream",
     "text": [
      "\r",
      "1237it [39:57:27, 78.61s/it]"
     ]
    },
    {
     "name": "stdout",
     "output_type": "stream",
     "text": [
      "1236arning Progress : 100.00 % \n",
      "Test Accuracy = 0.952303961196443\n",
      "- Learning Progress : 99.80 % \r"
     ]
    },
    {
     "name": "stderr",
     "output_type": "stream",
     "text": [
      "\r",
      "1238it [39:58:56, 81.74s/it]"
     ]
    },
    {
     "name": "stdout",
     "output_type": "stream",
     "text": [
      "1237arning Progress : 100.00 % \n",
      "Test Accuracy = 0.9523424878836834\n",
      "- Learning Progress : 99.90 % \r"
     ]
    },
    {
     "name": "stderr",
     "output_type": "stream",
     "text": [
      "\r",
      "1239it [40:00:21, 82.67s/it]"
     ]
    },
    {
     "name": "stdout",
     "output_type": "stream",
     "text": [
      "1238arning Progress : 100.00 % \n",
      "Test Accuracy = 0.9523809523809523\n",
      "- Learning Progress : 99.80 % \r"
     ]
    },
    {
     "name": "stderr",
     "output_type": "stream",
     "text": [
      "\r",
      "1240it [40:01:49, 84.24s/it]"
     ]
    },
    {
     "name": "stdout",
     "output_type": "stream",
     "text": [
      "1239arning Progress : 100.00 % \n",
      "Test Accuracy = 0.9524193548387097\n",
      "- Learning Progress : 99.90 % \r"
     ]
    },
    {
     "name": "stderr",
     "output_type": "stream",
     "text": [
      "\r",
      "1241it [40:03:16, 85.02s/it]"
     ]
    },
    {
     "name": "stdout",
     "output_type": "stream",
     "text": [
      "1240arning Progress : 100.00 % \n",
      "Test Accuracy = 0.9524576954069299\n",
      "- Learning Progress : 99.90 % \r"
     ]
    },
    {
     "name": "stderr",
     "output_type": "stream",
     "text": [
      "\r",
      "1242it [40:04:44, 85.99s/it]"
     ]
    },
    {
     "name": "stdout",
     "output_type": "stream",
     "text": [
      "1241arning Progress : 100.00 % \n",
      "Test Accuracy = 0.9524959742351047\n",
      "- Learning Progress : 99.90 % \r"
     ]
    },
    {
     "name": "stderr",
     "output_type": "stream",
     "text": [
      "\r",
      "1243it [40:06:12, 86.61s/it]"
     ]
    },
    {
     "name": "stdout",
     "output_type": "stream",
     "text": [
      "1242arning Progress : 100.00 % \n",
      "Test Accuracy = 0.9525341914722446\n",
      "- Learning Progress : 99.90 % \r"
     ]
    },
    {
     "name": "stderr",
     "output_type": "stream",
     "text": [
      "\r",
      "1244it [40:07:39, 86.60s/it]"
     ]
    },
    {
     "name": "stdout",
     "output_type": "stream",
     "text": [
      "1243arning Progress : 100.00 % \n",
      "Test Accuracy = 0.952572347266881\n",
      "- Learning Progress : 99.80 % \r"
     ]
    },
    {
     "name": "stderr",
     "output_type": "stream",
     "text": [
      "\r",
      "1245it [40:08:52, 82.48s/it]"
     ]
    },
    {
     "name": "stdout",
     "output_type": "stream",
     "text": [
      "1244arning Progress : 100.00 % \n",
      "Test Accuracy = 0.9526104417670683\n",
      "- Learning Progress : 100.00 % \r"
     ]
    },
    {
     "name": "stderr",
     "output_type": "stream",
     "text": [
      "\r",
      "1246it [40:10:16, 83.06s/it]"
     ]
    },
    {
     "name": "stdout",
     "output_type": "stream",
     "text": [
      "1245\n",
      "Test Accuracy = 0.9526484751203852\n",
      "- Learning Progress : 99.90 % \r"
     ]
    },
    {
     "name": "stderr",
     "output_type": "stream",
     "text": [
      "\r",
      "1247it [40:11:44, 84.55s/it]"
     ]
    },
    {
     "name": "stdout",
     "output_type": "stream",
     "text": [
      "1246arning Progress : 100.00 % \n",
      "Test Accuracy = 0.9526864474739375\n",
      "- Learning Progress : 100.00 % \r"
     ]
    },
    {
     "name": "stderr",
     "output_type": "stream",
     "text": [
      "\r",
      "1248it [40:13:13, 85.83s/it]"
     ]
    },
    {
     "name": "stdout",
     "output_type": "stream",
     "text": [
      "1247\n",
      "Test Accuracy = 0.9527243589743589\n"
     ]
    },
    {
     "name": "stderr",
     "output_type": "stream",
     "text": [
      "\r",
      "1249it [40:13:13, 60.16s/it]"
     ]
    },
    {
     "name": "stdout",
     "output_type": "stream",
     "text": [
      "1248\n",
      "- Learning Progress : 99.90 % \r"
     ]
    },
    {
     "name": "stderr",
     "output_type": "stream",
     "text": [
      "\r",
      "1250it [40:14:24, 63.30s/it]"
     ]
    },
    {
     "name": "stdout",
     "output_type": "stream",
     "text": [
      "1249arning Progress : 100.00 % \n",
      "Test Accuracy = 0.952\n",
      "- Learning Progress : 99.90 % \r"
     ]
    },
    {
     "name": "stderr",
     "output_type": "stream",
     "text": [
      "\r",
      "1251it [40:15:38, 66.57s/it]"
     ]
    },
    {
     "name": "stdout",
     "output_type": "stream",
     "text": [
      "1250arning Progress : 100.00 % \n",
      "Test Accuracy = 0.9520383693045563\n",
      "- Learning Progress : 99.90 % \r"
     ]
    },
    {
     "name": "stderr",
     "output_type": "stream",
     "text": [
      "\r",
      "1252it [40:17:03, 72.27s/it]"
     ]
    },
    {
     "name": "stdout",
     "output_type": "stream",
     "text": [
      "1251arning Progress : 100.00 % \n",
      "Test Accuracy = 0.952076677316294\n",
      "- Learning Progress : 99.90 % \r"
     ]
    },
    {
     "name": "stderr",
     "output_type": "stream",
     "text": [
      "\r",
      "1253it [40:18:20, 73.61s/it]"
     ]
    },
    {
     "name": "stdout",
     "output_type": "stream",
     "text": [
      "1252arning Progress : 100.00 % \n",
      "Test Accuracy = 0.9521149241819633\n",
      "- Learning Progress : 100.00 % \r"
     ]
    },
    {
     "name": "stderr",
     "output_type": "stream",
     "text": [
      "\r",
      "1254it [40:19:47, 77.44s/it]"
     ]
    },
    {
     "name": "stdout",
     "output_type": "stream",
     "text": [
      "1253\n",
      "Test Accuracy = 0.9521531100478469\n",
      "- Learning Progress : 99.80 % \r"
     ]
    },
    {
     "name": "stderr",
     "output_type": "stream",
     "text": [
      "\r",
      "1255it [40:21:18, 81.48s/it]"
     ]
    },
    {
     "name": "stdout",
     "output_type": "stream",
     "text": [
      "1254arning Progress : 100.00 % \n",
      "Test Accuracy = 0.952191235059761\n",
      "- Learning Progress : 99.70 % \r"
     ]
    },
    {
     "name": "stderr",
     "output_type": "stream",
     "text": [
      "\r",
      "1256it [40:22:38, 81.16s/it]"
     ]
    },
    {
     "name": "stdout",
     "output_type": "stream",
     "text": [
      "1255arning Progress : 100.00 % \n",
      "Test Accuracy = 0.9522292993630573\n",
      "- Learning Progress : 99.90 % \r"
     ]
    },
    {
     "name": "stderr",
     "output_type": "stream",
     "text": [
      "\r",
      "1257it [40:24:02, 81.95s/it]"
     ]
    },
    {
     "name": "stdout",
     "output_type": "stream",
     "text": [
      "- Learning Progress : 100.00 % \r",
      "1256\n",
      "Test Accuracy = 0.9522673031026253\n"
     ]
    },
    {
     "name": "stderr",
     "output_type": "stream",
     "text": [
      "\r",
      "1258it [40:24:02, 57.42s/it]"
     ]
    },
    {
     "name": "stdout",
     "output_type": "stream",
     "text": [
      "1257\n",
      "- Learning Progress : 99.90 % \r"
     ]
    },
    {
     "name": "stderr",
     "output_type": "stream",
     "text": [
      "\r",
      "1259it [40:25:27, 65.85s/it]"
     ]
    },
    {
     "name": "stdout",
     "output_type": "stream",
     "text": [
      "1258arning Progress : 100.00 % \n",
      "Test Accuracy = 0.9515488482922955\n",
      "- Learning Progress : 99.90 % \r"
     ]
    },
    {
     "name": "stderr",
     "output_type": "stream",
     "text": [
      "\r",
      "1260it [40:26:53, 71.69s/it]"
     ]
    },
    {
     "name": "stdout",
     "output_type": "stream",
     "text": [
      "1259arning Progress : 100.00 % \n",
      "Test Accuracy = 0.9515873015873015\n",
      "- Learning Progress : 99.90 % \r"
     ]
    },
    {
     "name": "stderr",
     "output_type": "stream",
     "text": [
      "\r",
      "1261it [40:28:19, 76.11s/it]"
     ]
    },
    {
     "name": "stdout",
     "output_type": "stream",
     "text": [
      "1260arning Progress : 100.00 % \n",
      "Test Accuracy = 0.9516256938937351\n",
      "- Learning Progress : 99.90 % \r"
     ]
    },
    {
     "name": "stderr",
     "output_type": "stream",
     "text": [
      "\r",
      "1262it [40:29:46, 79.20s/it]"
     ]
    },
    {
     "name": "stdout",
     "output_type": "stream",
     "text": [
      "1261arning Progress : 100.00 % \n",
      "Test Accuracy = 0.9516640253565769\n",
      "- Learning Progress : 99.70 % \r"
     ]
    },
    {
     "name": "stderr",
     "output_type": "stream",
     "text": [
      "\r",
      "1263it [40:31:12, 81.48s/it]"
     ]
    },
    {
     "name": "stdout",
     "output_type": "stream",
     "text": [
      "1262arning Progress : 100.00 % \n",
      "Test Accuracy = 0.9517022961203484\n",
      "- Learning Progress : 99.90 % \r"
     ]
    },
    {
     "name": "stderr",
     "output_type": "stream",
     "text": [
      "\r",
      "1264it [40:32:37, 82.51s/it]"
     ]
    },
    {
     "name": "stdout",
     "output_type": "stream",
     "text": [
      "1263arning Progress : 100.00 % \n",
      "Test Accuracy = 0.9517405063291139\n",
      "- Learning Progress : 99.80 % \r"
     ]
    },
    {
     "name": "stderr",
     "output_type": "stream",
     "text": [
      "\r",
      "1265it [40:34:04, 83.87s/it]"
     ]
    },
    {
     "name": "stdout",
     "output_type": "stream",
     "text": [
      "1264arning Progress : 100.00 % \n",
      "Test Accuracy = 0.9517786561264822\n",
      "- Learning Progress : 99.90 % \r"
     ]
    },
    {
     "name": "stderr",
     "output_type": "stream",
     "text": [
      "\r",
      "1266it [40:35:32, 84.96s/it]"
     ]
    },
    {
     "name": "stdout",
     "output_type": "stream",
     "text": [
      "1265arning Progress : 100.00 % \n",
      "Test Accuracy = 0.9518167456556083\n",
      "- Learning Progress : 99.90 % \r"
     ]
    },
    {
     "name": "stderr",
     "output_type": "stream",
     "text": [
      "\r",
      "1267it [40:37:02, 86.38s/it]"
     ]
    },
    {
     "name": "stdout",
     "output_type": "stream",
     "text": [
      "1266arning Progress : 100.00 % \n",
      "Test Accuracy = 0.9518547750591949\n",
      "- Learning Progress : 99.90 % \r"
     ]
    },
    {
     "name": "stderr",
     "output_type": "stream",
     "text": [
      "\r",
      "1268it [40:38:19, 83.76s/it]"
     ]
    },
    {
     "name": "stdout",
     "output_type": "stream",
     "text": [
      "1267arning Progress : 100.00 % \n",
      "Test Accuracy = 0.9518927444794952\n",
      "- Learning Progress : 99.80 % \r"
     ]
    },
    {
     "name": "stderr",
     "output_type": "stream",
     "text": [
      "\r",
      "1269it [40:39:34, 81.07s/it]"
     ]
    },
    {
     "name": "stdout",
     "output_type": "stream",
     "text": [
      "1268arning Progress : 100.00 % \n",
      "Test Accuracy = 0.9519306540583137\n",
      "- Learning Progress : 99.70 % \r"
     ]
    },
    {
     "name": "stderr",
     "output_type": "stream",
     "text": [
      "\r",
      "1270it [40:40:51, 79.84s/it]"
     ]
    },
    {
     "name": "stdout",
     "output_type": "stream",
     "text": [
      "1269arning Progress : 100.00 % \n",
      "Test Accuracy = 0.9519685039370078\n",
      "- Learning Progress : 99.90 % \r"
     ]
    },
    {
     "name": "stderr",
     "output_type": "stream",
     "text": [
      "\r",
      "1271it [40:42:04, 77.86s/it]"
     ]
    },
    {
     "name": "stdout",
     "output_type": "stream",
     "text": [
      "1270arning Progress : 100.00 % \n",
      "Test Accuracy = 0.952006294256491\n",
      "- Learning Progress : 99.70 % \r"
     ]
    },
    {
     "name": "stderr",
     "output_type": "stream",
     "text": [
      "\r",
      "1272it [40:43:17, 76.40s/it]"
     ]
    },
    {
     "name": "stdout",
     "output_type": "stream",
     "text": [
      "1271arning Progress : 100.00 % \n",
      "Test Accuracy = 0.9520440251572327\n",
      "- Learning Progress : 99.80 % \r"
     ]
    },
    {
     "name": "stderr",
     "output_type": "stream",
     "text": [
      "\r",
      "1273it [40:44:44, 79.53s/it]"
     ]
    },
    {
     "name": "stdout",
     "output_type": "stream",
     "text": [
      "1272arning Progress : 100.00 % \n",
      "Test Accuracy = 0.9520816967792616\n",
      "- Learning Progress : 99.80 % \r"
     ]
    },
    {
     "name": "stderr",
     "output_type": "stream",
     "text": [
      "\r",
      "1274it [40:46:11, 81.71s/it]"
     ]
    },
    {
     "name": "stdout",
     "output_type": "stream",
     "text": [
      "1273arning Progress : 100.00 % \n",
      "Test Accuracy = 0.9521193092621664\n",
      "- Learning Progress : 99.80 % \r"
     ]
    },
    {
     "name": "stderr",
     "output_type": "stream",
     "text": [
      "\r",
      "1275it [40:47:37, 83.02s/it]"
     ]
    },
    {
     "name": "stdout",
     "output_type": "stream",
     "text": [
      "1274arning Progress : 100.00 % \n",
      "Test Accuracy = 0.952156862745098\n",
      "- Learning Progress : 99.90 % \r"
     ]
    },
    {
     "name": "stderr",
     "output_type": "stream",
     "text": [
      "\r",
      "1276it [40:49:03, 83.87s/it]"
     ]
    },
    {
     "name": "stdout",
     "output_type": "stream",
     "text": [
      "1275arning Progress : 100.00 % \n",
      "Test Accuracy = 0.9521943573667712\n",
      "- Learning Progress : 99.80 % \r"
     ]
    },
    {
     "name": "stderr",
     "output_type": "stream",
     "text": [
      "\r",
      "1277it [40:50:31, 85.28s/it]"
     ]
    },
    {
     "name": "stdout",
     "output_type": "stream",
     "text": [
      "1276arning Progress : 100.00 % \n",
      "Test Accuracy = 0.9522317932654659\n",
      "- Learning Progress : 99.90 % \r"
     ]
    },
    {
     "name": "stderr",
     "output_type": "stream",
     "text": [
      "\r",
      "1278it [40:51:58, 85.71s/it]"
     ]
    },
    {
     "name": "stdout",
     "output_type": "stream",
     "text": [
      "1277arning Progress : 100.00 % \n",
      "Test Accuracy = 0.9522691705790297\n",
      "- Learning Progress : 99.80 % \r"
     ]
    },
    {
     "name": "stderr",
     "output_type": "stream",
     "text": [
      "\r",
      "1279it [40:53:31, 87.78s/it]"
     ]
    },
    {
     "name": "stdout",
     "output_type": "stream",
     "text": [
      "1278arning Progress : 100.00 % \n",
      "Test Accuracy = 0.9523064894448788\n",
      "- Learning Progress : 99.90 % \r"
     ]
    },
    {
     "name": "stderr",
     "output_type": "stream",
     "text": [
      "\r",
      "1280it [40:54:55, 86.76s/it]"
     ]
    },
    {
     "name": "stdout",
     "output_type": "stream",
     "text": [
      "1279arning Progress : 100.00 % \n",
      "Test Accuracy = 0.95234375\n",
      "- Learning Progress : 99.90 % \r"
     ]
    },
    {
     "name": "stderr",
     "output_type": "stream",
     "text": [
      "\r",
      "1281it [40:56:21, 86.43s/it]"
     ]
    },
    {
     "name": "stdout",
     "output_type": "stream",
     "text": [
      "1280arning Progress : 100.00 % \n",
      "Test Accuracy = 0.9523809523809523\n",
      "- Learning Progress : 99.70 % \r"
     ]
    },
    {
     "name": "stderr",
     "output_type": "stream",
     "text": [
      "\r",
      "1282it [40:57:48, 86.67s/it]"
     ]
    },
    {
     "name": "stdout",
     "output_type": "stream",
     "text": [
      "1281arning Progress : 100.00 % \n",
      "Test Accuracy = 0.9524180967238689\n",
      "- Learning Progress : 99.90 % \r"
     ]
    },
    {
     "name": "stderr",
     "output_type": "stream",
     "text": [
      "\r",
      "1283it [40:59:12, 85.82s/it]"
     ]
    },
    {
     "name": "stdout",
     "output_type": "stream",
     "text": [
      "1282arning Progress : 100.00 % \n",
      "Test Accuracy = 0.9524551831644583\n",
      "- Learning Progress : 99.80 % \r"
     ]
    },
    {
     "name": "stderr",
     "output_type": "stream",
     "text": [
      "\r",
      "1284it [41:00:43, 87.41s/it]"
     ]
    },
    {
     "name": "stdout",
     "output_type": "stream",
     "text": [
      "1283arning Progress : 100.00 % \n",
      "Test Accuracy = 0.9524922118380063\n",
      "- Learning Progress : 99.80 % \r"
     ]
    },
    {
     "name": "stderr",
     "output_type": "stream",
     "text": [
      "\r",
      "1285it [41:02:11, 87.69s/it]"
     ]
    },
    {
     "name": "stdout",
     "output_type": "stream",
     "text": [
      "1284arning Progress : 100.00 % \n",
      "Test Accuracy = 0.9525291828793774\n",
      "- Learning Progress : 99.80 % \r"
     ]
    },
    {
     "name": "stderr",
     "output_type": "stream",
     "text": [
      "\r",
      "1286it [41:03:40, 87.93s/it]"
     ]
    },
    {
     "name": "stdout",
     "output_type": "stream",
     "text": [
      "1285arning Progress : 100.00 % \n",
      "Test Accuracy = 0.9525660964230172\n",
      "- Learning Progress : 99.90 % \r"
     ]
    },
    {
     "name": "stderr",
     "output_type": "stream",
     "text": [
      "\r",
      "1287it [41:05:05, 87.03s/it]"
     ]
    },
    {
     "name": "stdout",
     "output_type": "stream",
     "text": [
      "1286arning Progress : 100.00 % \n",
      "Test Accuracy = 0.9526029526029526\n",
      "- Learning Progress : 99.70 % \r"
     ]
    },
    {
     "name": "stderr",
     "output_type": "stream",
     "text": [
      "\r",
      "1288it [41:06:26, 85.48s/it]"
     ]
    },
    {
     "name": "stdout",
     "output_type": "stream",
     "text": [
      "1287arning Progress : 100.00 % \n",
      "Test Accuracy = 0.952639751552795\n",
      "- Learning Progress : 99.90 % \r"
     ]
    },
    {
     "name": "stderr",
     "output_type": "stream",
     "text": [
      "\r",
      "1289it [41:07:53, 85.71s/it]"
     ]
    },
    {
     "name": "stdout",
     "output_type": "stream",
     "text": [
      "1288arning Progress : 100.00 % \n",
      "Test Accuracy = 0.9526764934057409\n",
      "- Learning Progress : 99.90 % \r"
     ]
    },
    {
     "name": "stderr",
     "output_type": "stream",
     "text": [
      "\r",
      "1290it [41:09:21, 86.39s/it]"
     ]
    },
    {
     "name": "stdout",
     "output_type": "stream",
     "text": [
      "1289arning Progress : 100.00 % \n",
      "Test Accuracy = 0.9527131782945737\n",
      "- Learning Progress : 99.90 % \r"
     ]
    },
    {
     "name": "stderr",
     "output_type": "stream",
     "text": [
      "\r",
      "1291it [41:10:47, 86.35s/it]"
     ]
    },
    {
     "name": "stdout",
     "output_type": "stream",
     "text": [
      "1290arning Progress : 100.00 % \n",
      "Test Accuracy = 0.9527498063516654\n",
      "- Learning Progress : 99.90 % \r"
     ]
    },
    {
     "name": "stderr",
     "output_type": "stream",
     "text": [
      "\r",
      "1292it [41:12:12, 86.08s/it]"
     ]
    },
    {
     "name": "stdout",
     "output_type": "stream",
     "text": [
      "1291arning Progress : 100.00 % \n",
      "Test Accuracy = 0.9527863777089783\n",
      "- Learning Progress : 99.90 % \r"
     ]
    },
    {
     "name": "stderr",
     "output_type": "stream",
     "text": [
      "\r",
      "1293it [41:13:38, 85.88s/it]"
     ]
    },
    {
     "name": "stdout",
     "output_type": "stream",
     "text": [
      "1292arning Progress : 100.00 % \n",
      "Test Accuracy = 0.9528228924980665\n",
      "- Learning Progress : 99.90 % \r"
     ]
    },
    {
     "name": "stderr",
     "output_type": "stream",
     "text": [
      "\r",
      "1294it [41:15:04, 85.89s/it]"
     ]
    },
    {
     "name": "stdout",
     "output_type": "stream",
     "text": [
      "1293arning Progress : 100.00 % \n",
      "Test Accuracy = 0.9528593508500772\n",
      "- Learning Progress : 99.90 % \r"
     ]
    },
    {
     "name": "stderr",
     "output_type": "stream",
     "text": [
      "\r",
      "1295it [41:16:31, 86.37s/it]"
     ]
    },
    {
     "name": "stdout",
     "output_type": "stream",
     "text": [
      "- Learning Progress : 100.00 % \r",
      "1294\n",
      "Test Accuracy = 0.9528957528957529\n"
     ]
    },
    {
     "name": "stderr",
     "output_type": "stream",
     "text": [
      "\r",
      "1296it [41:16:31, 60.53s/it]"
     ]
    },
    {
     "name": "stdout",
     "output_type": "stream",
     "text": [
      "1295\n",
      "- Learning Progress : 99.90 % \r"
     ]
    },
    {
     "name": "stderr",
     "output_type": "stream",
     "text": [
      "\r",
      "1297it [41:17:46, 64.59s/it]"
     ]
    },
    {
     "name": "stdout",
     "output_type": "stream",
     "text": [
      "1296arning Progress : 100.00 % \n",
      "Test Accuracy = 0.9521973785659213\n",
      "- Learning Progress : 99.90 % \r"
     ]
    },
    {
     "name": "stderr",
     "output_type": "stream",
     "text": [
      "\r",
      "1298it [41:19:15, 72.10s/it]"
     ]
    },
    {
     "name": "stdout",
     "output_type": "stream",
     "text": [
      "1297arning Progress : 100.00 % \n",
      "Test Accuracy = 0.9522342064714946\n",
      "- Learning Progress : 99.70 % \r"
     ]
    },
    {
     "name": "stderr",
     "output_type": "stream",
     "text": [
      "\r",
      "1299it [41:20:46, 77.60s/it]"
     ]
    },
    {
     "name": "stdout",
     "output_type": "stream",
     "text": [
      "1298arning Progress : 100.00 % \n",
      "Test Accuracy = 0.9522709776751347\n",
      "- Learning Progress : 99.70 % \r"
     ]
    },
    {
     "name": "stderr",
     "output_type": "stream",
     "text": [
      "\r",
      "1300it [41:22:12, 80.38s/it]"
     ]
    },
    {
     "name": "stdout",
     "output_type": "stream",
     "text": [
      "1299arning Progress : 100.00 % \n",
      "Test Accuracy = 0.9523076923076923\n",
      "- Learning Progress : 99.90 % \r"
     ]
    },
    {
     "name": "stderr",
     "output_type": "stream",
     "text": [
      "\r",
      "1301it [41:23:29, 79.11s/it]"
     ]
    },
    {
     "name": "stdout",
     "output_type": "stream",
     "text": [
      "- Learning Progress : 100.00 % \r",
      "1300\n",
      "Test Accuracy = 0.9523443504996156\n"
     ]
    },
    {
     "name": "stderr",
     "output_type": "stream",
     "text": [
      "\r",
      "1302it [41:23:29, 55.46s/it]"
     ]
    },
    {
     "name": "stdout",
     "output_type": "stream",
     "text": [
      "1301\n",
      "- Learning Progress : 99.90 % \r"
     ]
    },
    {
     "name": "stderr",
     "output_type": "stream",
     "text": [
      "\r",
      "1303it [41:24:54, 64.43s/it]"
     ]
    },
    {
     "name": "stdout",
     "output_type": "stream",
     "text": [
      "1302arning Progress : 100.00 % \n",
      "Test Accuracy = 0.9516500383729855\n",
      "- Learning Progress : 99.80 % \r"
     ]
    },
    {
     "name": "stderr",
     "output_type": "stream",
     "text": [
      "\r",
      "1304it [41:26:21, 71.21s/it]"
     ]
    },
    {
     "name": "stdout",
     "output_type": "stream",
     "text": [
      "1303arning Progress : 100.00 % \n",
      "Test Accuracy = 0.9516871165644172\n",
      "- Learning Progress : 99.90 % \r"
     ]
    },
    {
     "name": "stderr",
     "output_type": "stream",
     "text": [
      "\r",
      "1305it [41:27:53, 77.29s/it]"
     ]
    },
    {
     "name": "stdout",
     "output_type": "stream",
     "text": [
      "- Learning Progress : 100.00 % \r",
      "1304\n",
      "Test Accuracy = 0.9517241379310345\n"
     ]
    },
    {
     "name": "stderr",
     "output_type": "stream",
     "text": [
      "\r",
      "1306it [41:27:54, 54.45s/it]"
     ]
    },
    {
     "name": "stdout",
     "output_type": "stream",
     "text": [
      "1305\n",
      "- Learning Progress : 99.80 % \r"
     ]
    },
    {
     "name": "stderr",
     "output_type": "stream",
     "text": [
      "\r",
      "1307it [41:29:19, 63.60s/it]"
     ]
    },
    {
     "name": "stdout",
     "output_type": "stream",
     "text": [
      "1306arning Progress : 100.00 % \n",
      "Test Accuracy = 0.9510328997704667\n",
      "- Learning Progress : 99.80 % \r"
     ]
    },
    {
     "name": "stderr",
     "output_type": "stream",
     "text": [
      "\r",
      "1308it [41:30:39, 68.59s/it]"
     ]
    },
    {
     "name": "stdout",
     "output_type": "stream",
     "text": [
      "1307arning Progress : 100.00 % \n",
      "Test Accuracy = 0.9510703363914373\n",
      "- Learning Progress : 99.90 % \r"
     ]
    },
    {
     "name": "stderr",
     "output_type": "stream",
     "text": [
      "\r",
      "1309it [41:32:03, 73.16s/it]"
     ]
    },
    {
     "name": "stdout",
     "output_type": "stream",
     "text": [
      "1308arning Progress : 100.00 % \n",
      "Test Accuracy = 0.9511077158135982\n",
      "- Learning Progress : 99.90 % \r"
     ]
    },
    {
     "name": "stderr",
     "output_type": "stream",
     "text": [
      "\r",
      "1310it [41:33:30, 77.46s/it]"
     ]
    },
    {
     "name": "stdout",
     "output_type": "stream",
     "text": [
      "- Learning Progress : 100.00 % \r",
      "1309\n",
      "Test Accuracy = 0.9511450381679389\n"
     ]
    },
    {
     "name": "stderr",
     "output_type": "stream",
     "text": [
      "\r",
      "1311it [41:33:31, 54.29s/it]"
     ]
    },
    {
     "name": "stdout",
     "output_type": "stream",
     "text": [
      "1310\n",
      "- Learning Progress : 99.90 % \r"
     ]
    },
    {
     "name": "stderr",
     "output_type": "stream",
     "text": [
      "\r",
      "1312it [41:34:59, 64.43s/it]"
     ]
    },
    {
     "name": "stdout",
     "output_type": "stream",
     "text": [
      "1311arning Progress : 100.00 % \n",
      "Test Accuracy = 0.9504573170731707\n",
      "- Learning Progress : 99.70 % \r"
     ]
    },
    {
     "name": "stderr",
     "output_type": "stream",
     "text": [
      "\r",
      "1313it [41:36:24, 70.69s/it]"
     ]
    },
    {
     "name": "stdout",
     "output_type": "stream",
     "text": [
      "1312arning Progress : 100.00 % \n",
      "Test Accuracy = 0.9504950495049505\n",
      "- Learning Progress : 99.90 % \r"
     ]
    },
    {
     "name": "stderr",
     "output_type": "stream",
     "text": [
      "\r",
      "1314it [41:37:54, 76.38s/it]"
     ]
    },
    {
     "name": "stdout",
     "output_type": "stream",
     "text": [
      "1313arning Progress : 100.00 % \n",
      "Test Accuracy = 0.9505327245053272\n",
      "- Learning Progress : 99.90 % \r"
     ]
    },
    {
     "name": "stderr",
     "output_type": "stream",
     "text": [
      "\r",
      "1315it [41:39:18, 78.63s/it]"
     ]
    },
    {
     "name": "stdout",
     "output_type": "stream",
     "text": [
      "1314arning Progress : 100.00 % \n",
      "Test Accuracy = 0.9505703422053232\n",
      "- Learning Progress : 99.70 % \r"
     ]
    },
    {
     "name": "stderr",
     "output_type": "stream",
     "text": [
      "\r",
      "1316it [41:40:50, 82.76s/it]"
     ]
    },
    {
     "name": "stdout",
     "output_type": "stream",
     "text": [
      "1315arning Progress : 100.00 % \n",
      "Test Accuracy = 0.9506079027355623\n",
      "- Learning Progress : 99.90 % \r"
     ]
    },
    {
     "name": "stderr",
     "output_type": "stream",
     "text": [
      "\r",
      "1317it [41:42:15, 83.46s/it]"
     ]
    },
    {
     "name": "stdout",
     "output_type": "stream",
     "text": [
      "1316arning Progress : 100.00 % \n",
      "Test Accuracy = 0.9506454062262718\n",
      "- Learning Progress : 99.90 % \r"
     ]
    },
    {
     "name": "stderr",
     "output_type": "stream",
     "text": [
      "\r",
      "1318it [41:43:40, 83.82s/it]"
     ]
    },
    {
     "name": "stdout",
     "output_type": "stream",
     "text": [
      "1317arning Progress : 100.00 % \n",
      "Test Accuracy = 0.9506828528072838\n",
      "- Learning Progress : 99.90 % \r"
     ]
    },
    {
     "name": "stderr",
     "output_type": "stream",
     "text": [
      "\r",
      "1319it [41:44:59, 82.56s/it]"
     ]
    },
    {
     "name": "stdout",
     "output_type": "stream",
     "text": [
      "1318arning Progress : 100.00 % \n",
      "Test Accuracy = 0.9507202426080363\n",
      "- Learning Progress : 99.80 % \r"
     ]
    },
    {
     "name": "stderr",
     "output_type": "stream",
     "text": [
      "\r",
      "1320it [41:46:25, 83.36s/it]"
     ]
    },
    {
     "name": "stdout",
     "output_type": "stream",
     "text": [
      "1319arning Progress : 100.00 % \n",
      "Test Accuracy = 0.9507575757575758\n",
      "- Learning Progress : 99.90 % \r"
     ]
    },
    {
     "name": "stderr",
     "output_type": "stream",
     "text": [
      "\r",
      "1321it [41:47:48, 83.49s/it]"
     ]
    },
    {
     "name": "stdout",
     "output_type": "stream",
     "text": [
      "1320arning Progress : 100.00 % \n",
      "Test Accuracy = 0.9507948523845572\n",
      "- Learning Progress : 99.90 % \r"
     ]
    },
    {
     "name": "stderr",
     "output_type": "stream",
     "text": [
      "\r",
      "1322it [41:49:13, 83.94s/it]"
     ]
    },
    {
     "name": "stdout",
     "output_type": "stream",
     "text": [
      "1321arning Progress : 100.00 % \n",
      "Test Accuracy = 0.9508320726172466\n",
      "- Learning Progress : 99.90 % \r"
     ]
    },
    {
     "name": "stderr",
     "output_type": "stream",
     "text": [
      "\r",
      "1323it [41:50:37, 83.84s/it]"
     ]
    },
    {
     "name": "stdout",
     "output_type": "stream",
     "text": [
      "1322arning Progress : 100.00 % \n",
      "Test Accuracy = 0.9508692365835223\n",
      "- Learning Progress : 99.90 % \r"
     ]
    },
    {
     "name": "stderr",
     "output_type": "stream",
     "text": [
      "\r",
      "1324it [41:52:00, 83.53s/it]"
     ]
    },
    {
     "name": "stdout",
     "output_type": "stream",
     "text": [
      "1323arning Progress : 100.00 % \n",
      "Test Accuracy = 0.9509063444108762\n",
      "- Learning Progress : 99.90 % \r"
     ]
    },
    {
     "name": "stderr",
     "output_type": "stream",
     "text": [
      "\r",
      "1325it [41:53:25, 83.99s/it]"
     ]
    },
    {
     "name": "stdout",
     "output_type": "stream",
     "text": [
      "1324arning Progress : 100.00 % \n",
      "Test Accuracy = 0.9509433962264151\n",
      "- Learning Progress : 99.90 % \r"
     ]
    },
    {
     "name": "stderr",
     "output_type": "stream",
     "text": [
      "\r",
      "1326it [41:54:50, 84.21s/it]"
     ]
    },
    {
     "name": "stdout",
     "output_type": "stream",
     "text": [
      "1325arning Progress : 100.00 % \n",
      "Test Accuracy = 0.9509803921568627\n",
      "- Learning Progress : 99.90 % \r"
     ]
    },
    {
     "name": "stderr",
     "output_type": "stream",
     "text": [
      "\r",
      "1327it [41:56:17, 85.25s/it]"
     ]
    },
    {
     "name": "stdout",
     "output_type": "stream",
     "text": [
      "1326arning Progress : 100.00 % \n",
      "Test Accuracy = 0.9510173323285607\n",
      "- Learning Progress : 99.90 % \r"
     ]
    },
    {
     "name": "stderr",
     "output_type": "stream",
     "text": [
      "\r",
      "1328it [41:57:42, 85.22s/it]"
     ]
    },
    {
     "name": "stdout",
     "output_type": "stream",
     "text": [
      "1327arning Progress : 100.00 % \n",
      "Test Accuracy = 0.9510542168674698\n",
      "- Learning Progress : 99.90 % \r"
     ]
    },
    {
     "name": "stderr",
     "output_type": "stream",
     "text": [
      "\r",
      "1329it [41:59:10, 85.94s/it]"
     ]
    },
    {
     "name": "stdout",
     "output_type": "stream",
     "text": [
      "1328arning Progress : 100.00 % \n",
      "Test Accuracy = 0.9510910458991723\n",
      "- Learning Progress : 99.80 % \r"
     ]
    },
    {
     "name": "stderr",
     "output_type": "stream",
     "text": [
      "\r",
      "1330it [42:00:40, 87.30s/it]"
     ]
    },
    {
     "name": "stdout",
     "output_type": "stream",
     "text": [
      "1329arning Progress : 100.00 % \n",
      "Test Accuracy = 0.9511278195488722\n",
      "- Learning Progress : 99.80 % \r"
     ]
    },
    {
     "name": "stderr",
     "output_type": "stream",
     "text": [
      "\r",
      "1331it [42:02:09, 87.52s/it]"
     ]
    },
    {
     "name": "stdout",
     "output_type": "stream",
     "text": [
      "1330arning Progress : 100.00 % \n",
      "Test Accuracy = 0.9511645379413974\n",
      "- Learning Progress : 99.70 % \r"
     ]
    },
    {
     "name": "stderr",
     "output_type": "stream",
     "text": [
      "\r",
      "1332it [42:03:43, 89.57s/it]"
     ]
    },
    {
     "name": "stdout",
     "output_type": "stream",
     "text": [
      "1331arning Progress : 100.00 % \n",
      "Test Accuracy = 0.9512012012012012\n",
      "- Learning Progress : 99.90 % \r"
     ]
    },
    {
     "name": "stderr",
     "output_type": "stream",
     "text": [
      "\r",
      "1333it [42:05:10, 88.87s/it]"
     ]
    },
    {
     "name": "stdout",
     "output_type": "stream",
     "text": [
      "1332arning Progress : 100.00 % \n",
      "Test Accuracy = 0.9512378094523631\n",
      "- Learning Progress : 99.80 % \r"
     ]
    },
    {
     "name": "stderr",
     "output_type": "stream",
     "text": [
      "\r",
      "1334it [42:06:35, 87.55s/it]"
     ]
    },
    {
     "name": "stdout",
     "output_type": "stream",
     "text": [
      "1333arning Progress : 100.00 % \n",
      "Test Accuracy = 0.9512743628185907\n",
      "- Learning Progress : 99.90 % \r"
     ]
    },
    {
     "name": "stderr",
     "output_type": "stream",
     "text": [
      "\r",
      "1335it [42:08:01, 87.22s/it]"
     ]
    },
    {
     "name": "stdout",
     "output_type": "stream",
     "text": [
      "1334arning Progress : 100.00 % \n",
      "Test Accuracy = 0.951310861423221\n",
      "- Learning Progress : 99.80 % \r"
     ]
    },
    {
     "name": "stderr",
     "output_type": "stream",
     "text": [
      "\r",
      "1336it [42:09:29, 87.38s/it]"
     ]
    },
    {
     "name": "stdout",
     "output_type": "stream",
     "text": [
      "1335arning Progress : 100.00 % \n",
      "Test Accuracy = 0.9513473053892215\n",
      "- Learning Progress : 99.80 % \r"
     ]
    },
    {
     "name": "stderr",
     "output_type": "stream",
     "text": [
      "\r",
      "1337it [42:10:58, 87.88s/it]"
     ]
    },
    {
     "name": "stdout",
     "output_type": "stream",
     "text": [
      "1336arning Progress : 100.00 % \n",
      "Test Accuracy = 0.9513836948391923\n",
      "- Learning Progress : 99.90 % \r"
     ]
    },
    {
     "name": "stderr",
     "output_type": "stream",
     "text": [
      "\r",
      "1338it [42:12:27, 88.35s/it]"
     ]
    },
    {
     "name": "stdout",
     "output_type": "stream",
     "text": [
      "1337arning Progress : 100.00 % \n",
      "Test Accuracy = 0.9514200298953662\n",
      "- Learning Progress : 99.70 % \r"
     ]
    },
    {
     "name": "stderr",
     "output_type": "stream",
     "text": [
      "\r",
      "1339it [42:13:53, 87.46s/it]"
     ]
    },
    {
     "name": "stdout",
     "output_type": "stream",
     "text": [
      "1338arning Progress : 100.00 % \n",
      "Test Accuracy = 0.9514563106796117\n",
      "- Learning Progress : 99.90 % \r"
     ]
    },
    {
     "name": "stderr",
     "output_type": "stream",
     "text": [
      "\r",
      "1340it [42:15:18, 86.88s/it]"
     ]
    },
    {
     "name": "stdout",
     "output_type": "stream",
     "text": [
      "1339arning Progress : 100.00 % \n",
      "Test Accuracy = 0.9514925373134329\n",
      "- Learning Progress : 99.90 % \r"
     ]
    },
    {
     "name": "stderr",
     "output_type": "stream",
     "text": [
      "\r",
      "1341it [42:16:41, 85.71s/it]"
     ]
    },
    {
     "name": "stdout",
     "output_type": "stream",
     "text": [
      "1340arning Progress : 100.00 % \n",
      "Test Accuracy = 0.9515287099179717\n",
      "- Learning Progress : 99.90 % \r"
     ]
    },
    {
     "name": "stderr",
     "output_type": "stream",
     "text": [
      "\r",
      "1342it [42:17:59, 83.42s/it]"
     ]
    },
    {
     "name": "stdout",
     "output_type": "stream",
     "text": [
      "- Learning Progress : 100.00 % \r",
      "1341\n",
      "Test Accuracy = 0.9515648286140089\n"
     ]
    },
    {
     "name": "stderr",
     "output_type": "stream",
     "text": [
      "\r",
      "1343it [42:17:59, 58.47s/it]"
     ]
    },
    {
     "name": "stdout",
     "output_type": "stream",
     "text": [
      "1342\n",
      "- Learning Progress : 99.90 % \r"
     ]
    },
    {
     "name": "stderr",
     "output_type": "stream",
     "text": [
      "\r",
      "1344it [42:19:27, 67.27s/it]"
     ]
    },
    {
     "name": "stdout",
     "output_type": "stream",
     "text": [
      "1343arning Progress : 100.00 % \n",
      "Test Accuracy = 0.9508928571428571\n",
      "- Learning Progress : 99.90 % \r"
     ]
    },
    {
     "name": "stderr",
     "output_type": "stream",
     "text": [
      "\r",
      "1345it [42:20:52, 72.64s/it]"
     ]
    },
    {
     "name": "stdout",
     "output_type": "stream",
     "text": [
      "1344arning Progress : 100.00 % \n",
      "Test Accuracy = 0.9509293680297398\n",
      "- Learning Progress : 99.90 % \r"
     ]
    },
    {
     "name": "stderr",
     "output_type": "stream",
     "text": [
      "\r",
      "1346it [42:22:18, 76.45s/it]"
     ]
    },
    {
     "name": "stdout",
     "output_type": "stream",
     "text": [
      "1345arning Progress : 100.00 % \n",
      "Test Accuracy = 0.950965824665676\n",
      "- Learning Progress : 99.80 % \r"
     ]
    },
    {
     "name": "stderr",
     "output_type": "stream",
     "text": [
      "\r",
      "1347it [42:23:44, 79.48s/it]"
     ]
    },
    {
     "name": "stdout",
     "output_type": "stream",
     "text": [
      "1346arning Progress : 100.00 % \n",
      "Test Accuracy = 0.9510022271714922\n",
      "- Learning Progress : 100.00 % \r"
     ]
    },
    {
     "name": "stderr",
     "output_type": "stream",
     "text": [
      "\r",
      "1348it [42:25:12, 81.87s/it]"
     ]
    },
    {
     "name": "stdout",
     "output_type": "stream",
     "text": [
      "1347\n",
      "Test Accuracy = 0.9510385756676558\n",
      "- Learning Progress : 99.80 % \r"
     ]
    },
    {
     "name": "stderr",
     "output_type": "stream",
     "text": [
      "\r",
      "1349it [42:26:33, 81.73s/it]"
     ]
    },
    {
     "name": "stdout",
     "output_type": "stream",
     "text": [
      "1348arning Progress : 100.00 % \n",
      "Test Accuracy = 0.9510748702742773\n",
      "- Learning Progress : 99.70 % \r"
     ]
    },
    {
     "name": "stderr",
     "output_type": "stream",
     "text": [
      "\r",
      "1350it [42:27:53, 81.22s/it]"
     ]
    },
    {
     "name": "stdout",
     "output_type": "stream",
     "text": [
      "- Learning Progress : 99.80 % \r",
      "- Learning Progress : 99.90 % \r",
      "- Learning Progress : 100.00 % \r",
      "1349\n",
      "Test Accuracy = 0.9511111111111111\n"
     ]
    },
    {
     "name": "stderr",
     "output_type": "stream",
     "text": [
      "\r",
      "1351it [42:27:53, 56.93s/it]"
     ]
    },
    {
     "name": "stdout",
     "output_type": "stream",
     "text": [
      "1350\n",
      "- Learning Progress : 99.70 % \r"
     ]
    },
    {
     "name": "stderr",
     "output_type": "stream",
     "text": [
      "\r",
      "1352it [42:29:16, 64.51s/it]"
     ]
    },
    {
     "name": "stdout",
     "output_type": "stream",
     "text": [
      "1351arning Progress : 100.00 % \n",
      "Test Accuracy = 0.9504437869822485\n",
      "- Learning Progress : 99.80 % \r"
     ]
    },
    {
     "name": "stderr",
     "output_type": "stream",
     "text": [
      "\r",
      "1353it [42:30:42, 71.06s/it]"
     ]
    },
    {
     "name": "stdout",
     "output_type": "stream",
     "text": [
      "1352arning Progress : 100.00 % \n",
      "Test Accuracy = 0.950480413895048\n",
      "- Learning Progress : 99.80 % \r"
     ]
    },
    {
     "name": "stderr",
     "output_type": "stream",
     "text": [
      "\r",
      "1354it [42:32:10, 76.12s/it]"
     ]
    },
    {
     "name": "stdout",
     "output_type": "stream",
     "text": [
      "1353arning Progress : 100.00 % \n",
      "Test Accuracy = 0.9505169867060561\n",
      "- Learning Progress : 99.80 % \r"
     ]
    },
    {
     "name": "stderr",
     "output_type": "stream",
     "text": [
      "\r",
      "1355it [42:33:37, 79.44s/it]"
     ]
    },
    {
     "name": "stdout",
     "output_type": "stream",
     "text": [
      "1354arning Progress : 100.00 % \n",
      "Test Accuracy = 0.9505535055350554\n",
      "- Learning Progress : 99.90 % \r"
     ]
    },
    {
     "name": "stderr",
     "output_type": "stream",
     "text": [
      "\r",
      "1356it [42:35:04, 81.62s/it]"
     ]
    },
    {
     "name": "stdout",
     "output_type": "stream",
     "text": [
      "1355arning Progress : 100.00 % \n",
      "Test Accuracy = 0.950589970501475\n",
      "- Learning Progress : 99.80 % \r"
     ]
    },
    {
     "name": "stderr",
     "output_type": "stream",
     "text": [
      "\r",
      "1357it [42:36:24, 81.19s/it]"
     ]
    },
    {
     "name": "stdout",
     "output_type": "stream",
     "text": [
      "1356arning Progress : 100.00 % \n",
      "Test Accuracy = 0.9506263817243921\n",
      "- Learning Progress : 99.70 % \r"
     ]
    },
    {
     "name": "stderr",
     "output_type": "stream",
     "text": [
      "\r",
      "1358it [42:37:38, 79.13s/it]"
     ]
    },
    {
     "name": "stdout",
     "output_type": "stream",
     "text": [
      "1357arning Progress : 100.00 % \n",
      "Test Accuracy = 0.9506627393225331\n",
      "- Learning Progress : 99.90 % \r"
     ]
    },
    {
     "name": "stderr",
     "output_type": "stream",
     "text": [
      "\r",
      "1359it [42:39:05, 81.28s/it]"
     ]
    },
    {
     "name": "stdout",
     "output_type": "stream",
     "text": [
      "1358arning Progress : 100.00 % \n",
      "Test Accuracy = 0.9506990434142752\n",
      "- Learning Progress : 99.80 % \r"
     ]
    },
    {
     "name": "stderr",
     "output_type": "stream",
     "text": [
      "\r",
      "1360it [42:40:30, 82.56s/it]"
     ]
    },
    {
     "name": "stdout",
     "output_type": "stream",
     "text": [
      "1359arning Progress : 100.00 % \n",
      "Test Accuracy = 0.950735294117647\n",
      "- Learning Progress : 99.70 % \r"
     ]
    },
    {
     "name": "stderr",
     "output_type": "stream",
     "text": [
      "\r",
      "1361it [42:41:54, 82.84s/it]"
     ]
    },
    {
     "name": "stdout",
     "output_type": "stream",
     "text": [
      "1360arning Progress : 100.00 % \n",
      "Test Accuracy = 0.9507714915503307\n",
      "- Learning Progress : 99.90 % \r"
     ]
    },
    {
     "name": "stderr",
     "output_type": "stream",
     "text": [
      "\r",
      "1362it [42:43:21, 84.04s/it]"
     ]
    },
    {
     "name": "stdout",
     "output_type": "stream",
     "text": [
      "1361arning Progress : 100.00 % \n",
      "Test Accuracy = 0.9508076358296622\n",
      "- Learning Progress : 99.70 % \r"
     ]
    },
    {
     "name": "stderr",
     "output_type": "stream",
     "text": [
      "\r",
      "1363it [42:44:50, 85.82s/it]"
     ]
    },
    {
     "name": "stdout",
     "output_type": "stream",
     "text": [
      "1362arning Progress : 100.00 % \n",
      "Test Accuracy = 0.9508437270726339\n",
      "- Learning Progress : 99.90 % \r"
     ]
    },
    {
     "name": "stderr",
     "output_type": "stream",
     "text": [
      "\r",
      "1364it [42:46:18, 86.34s/it]"
     ]
    },
    {
     "name": "stdout",
     "output_type": "stream",
     "text": [
      "1363arning Progress : 100.00 % \n",
      "Test Accuracy = 0.9508797653958945\n",
      "- Learning Progress : 99.90 % \r"
     ]
    },
    {
     "name": "stderr",
     "output_type": "stream",
     "text": [
      "\r",
      "1365it [42:47:49, 87.80s/it]"
     ]
    },
    {
     "name": "stdout",
     "output_type": "stream",
     "text": [
      "1364arning Progress : 100.00 % \n",
      "Test Accuracy = 0.9509157509157509\n",
      "- Learning Progress : 99.70 % \r"
     ]
    },
    {
     "name": "stderr",
     "output_type": "stream",
     "text": [
      "\r",
      "1366it [42:49:16, 87.51s/it]"
     ]
    },
    {
     "name": "stdout",
     "output_type": "stream",
     "text": [
      "1365arning Progress : 100.00 % \n",
      "Test Accuracy = 0.9509516837481699\n",
      "- Learning Progress : 99.90 % \r"
     ]
    },
    {
     "name": "stderr",
     "output_type": "stream",
     "text": [
      "\r",
      "1367it [42:50:44, 87.62s/it]"
     ]
    },
    {
     "name": "stdout",
     "output_type": "stream",
     "text": [
      "1366arning Progress : 100.00 % \n",
      "Test Accuracy = 0.9509875640087784\n",
      "- Learning Progress : 99.90 % \r"
     ]
    },
    {
     "name": "stderr",
     "output_type": "stream",
     "text": [
      "\r",
      "1368it [42:52:10, 87.05s/it]"
     ]
    },
    {
     "name": "stdout",
     "output_type": "stream",
     "text": [
      "1367arning Progress : 100.00 % \n",
      "Test Accuracy = 0.9510233918128655\n",
      "- Learning Progress : 99.90 % \r"
     ]
    },
    {
     "name": "stderr",
     "output_type": "stream",
     "text": [
      "\r",
      "1369it [42:53:37, 87.23s/it]"
     ]
    },
    {
     "name": "stdout",
     "output_type": "stream",
     "text": [
      "1368arning Progress : 100.00 % \n",
      "Test Accuracy = 0.9510591672753835\n",
      "- Learning Progress : 99.90 % \r"
     ]
    },
    {
     "name": "stderr",
     "output_type": "stream",
     "text": [
      "\r",
      "1370it [42:55:04, 86.94s/it]"
     ]
    },
    {
     "name": "stdout",
     "output_type": "stream",
     "text": [
      "1369arning Progress : 100.00 % \n",
      "Test Accuracy = 0.9510948905109489\n",
      "- Learning Progress : 99.80 % \r"
     ]
    },
    {
     "name": "stderr",
     "output_type": "stream",
     "text": [
      "\r",
      "1371it [42:56:31, 87.08s/it]"
     ]
    },
    {
     "name": "stdout",
     "output_type": "stream",
     "text": [
      "1370arning Progress : 100.00 % \n",
      "Test Accuracy = 0.9511305616338439\n",
      "- Learning Progress : 100.00 % \r"
     ]
    },
    {
     "name": "stderr",
     "output_type": "stream",
     "text": [
      "\r",
      "1372it [42:58:02, 88.22s/it]"
     ]
    },
    {
     "name": "stdout",
     "output_type": "stream",
     "text": [
      "1371\n",
      "Test Accuracy = 0.9511661807580175\n",
      "- Learning Progress : 99.80 % \r"
     ]
    },
    {
     "name": "stderr",
     "output_type": "stream",
     "text": [
      "\r",
      "1373it [42:59:30, 88.23s/it]"
     ]
    },
    {
     "name": "stdout",
     "output_type": "stream",
     "text": [
      "1372arning Progress : 100.00 % \n",
      "Test Accuracy = 0.9512017479970867\n",
      "- Learning Progress : 99.70 % \r"
     ]
    },
    {
     "name": "stderr",
     "output_type": "stream",
     "text": [
      "\r",
      "1374it [43:00:49, 85.52s/it]"
     ]
    },
    {
     "name": "stdout",
     "output_type": "stream",
     "text": [
      "- Learning Progress : 99.80 % \r",
      "- Learning Progress : 99.90 % \r",
      "- Learning Progress : 100.00 % \r",
      "1373\n",
      "Test Accuracy = 0.9512372634643377\n"
     ]
    },
    {
     "name": "stderr",
     "output_type": "stream",
     "text": [
      "\r",
      "1375it [43:00:49, 59.92s/it]"
     ]
    },
    {
     "name": "stdout",
     "output_type": "stream",
     "text": [
      "1374\n",
      "- Learning Progress : 99.70 % \r"
     ]
    },
    {
     "name": "stderr",
     "output_type": "stream",
     "text": [
      "\r",
      "1376it [43:02:06, 64.85s/it]"
     ]
    },
    {
     "name": "stdout",
     "output_type": "stream",
     "text": [
      "1375arning Progress : 100.00 % \n",
      "Test Accuracy = 0.9505813953488372\n",
      "- Learning Progress : 99.90 % \r"
     ]
    },
    {
     "name": "stderr",
     "output_type": "stream",
     "text": [
      "\r",
      "1377it [43:03:27, 69.84s/it]"
     ]
    },
    {
     "name": "stdout",
     "output_type": "stream",
     "text": [
      "1376arning Progress : 100.00 % \n",
      "Test Accuracy = 0.9506172839506173\n",
      "- Learning Progress : 99.90 % \r"
     ]
    },
    {
     "name": "stderr",
     "output_type": "stream",
     "text": [
      "\r",
      "1378it [43:04:53, 74.51s/it]"
     ]
    },
    {
     "name": "stdout",
     "output_type": "stream",
     "text": [
      "1377arning Progress : 100.00 % \n",
      "Test Accuracy = 0.9506531204644412\n",
      "- Learning Progress : 99.80 % \r"
     ]
    },
    {
     "name": "stderr",
     "output_type": "stream",
     "text": [
      "\r",
      "1379it [43:06:21, 78.67s/it]"
     ]
    },
    {
     "name": "stdout",
     "output_type": "stream",
     "text": [
      "1378arning Progress : 100.00 % \n",
      "Test Accuracy = 0.9506889050036258\n",
      "- Learning Progress : 99.80 % \r"
     ]
    },
    {
     "name": "stderr",
     "output_type": "stream",
     "text": [
      "\r",
      "1380it [43:07:50, 81.81s/it]"
     ]
    },
    {
     "name": "stdout",
     "output_type": "stream",
     "text": [
      "1379arning Progress : 100.00 % \n",
      "Test Accuracy = 0.9507246376811594\n",
      "- Learning Progress : 99.90 % \r"
     ]
    },
    {
     "name": "stderr",
     "output_type": "stream",
     "text": [
      "\r",
      "1381it [43:09:22, 84.67s/it]"
     ]
    },
    {
     "name": "stdout",
     "output_type": "stream",
     "text": [
      "1380arning Progress : 100.00 % \n",
      "Test Accuracy = 0.9507603186097031\n",
      "- Learning Progress : 99.80 % \r"
     ]
    },
    {
     "name": "stderr",
     "output_type": "stream",
     "text": [
      "\r",
      "1382it [43:10:46, 84.45s/it]"
     ]
    },
    {
     "name": "stdout",
     "output_type": "stream",
     "text": [
      "1381arning Progress : 100.00 % \n",
      "Test Accuracy = 0.9507959479015919\n",
      "- Learning Progress : 99.90 % \r"
     ]
    },
    {
     "name": "stderr",
     "output_type": "stream",
     "text": [
      "\r",
      "1383it [43:12:11, 84.88s/it]"
     ]
    },
    {
     "name": "stdout",
     "output_type": "stream",
     "text": [
      "1382arning Progress : 100.00 % \n",
      "Test Accuracy = 0.9508315256688359\n",
      "- Learning Progress : 21.20 % \r"
     ]
    }
   ],
   "source": [
    "from adv_attack.attack.Attack import *\n",
    "\n",
    "criterion = nn.CrossEntropyLoss()\n",
    "check = adversarial_attack(method='cw', model=model, dataloader=valid_loader, \n",
    "                           device=device, num_classes=2, save_data=True)\n",
    "\n",
    "acc, _ = check.batch_attack()"
   ]
  },
  {
   "cell_type": "code",
   "execution_count": 16,
   "metadata": {},
   "outputs": [
    {
     "data": {
      "text/plain": [
       "0.0"
      ]
     },
     "execution_count": 16,
     "metadata": {},
     "output_type": "execute_result"
    }
   ],
   "source": [
    "acc"
   ]
  },
  {
   "cell_type": "markdown",
   "metadata": {},
   "source": [
    "## BPDA"
   ]
  },
  {
   "cell_type": "markdown",
   "metadata": {},
   "source": [
    "- With defense"
   ]
  },
  {
   "cell_type": "code",
   "execution_count": 10,
   "metadata": {},
   "outputs": [],
   "source": [
    "from advertorch.bpda import BPDAWrapper\n",
    "from advertorch.attacks import LinfPGDAttack"
   ]
  },
  {
   "cell_type": "code",
   "execution_count": 25,
   "metadata": {},
   "outputs": [],
   "source": [
    "# original model\n",
    "device = torch.device(\"cuda\" if torch.cuda.is_available() else \"cpu\")\n",
    "model = KNOWN_MODELS[\"BiT-M-R50x1\"](head_size=180, zero_head=True)\n",
    "model.load_state_dict(torch.load('/home/l/liny/ruofan/phishpedia/siamese/checkpoints/resnetv2_rgb.pth', map_location=device))\n",
    "model.to(device)\n",
    "\n",
    "# BPDA approximation of gradients\n",
    "defense_layer = BPDAWrapper(QuantizeRelu())\n",
    "\n",
    "# replace relu with defenselayer \n",
    "model.body.block1.unit01.relu = defense_layer\n",
    "model.body.block1.unit02.relu = defense_layer\n",
    "model.body.block1.unit03.relu = defense_layer\n",
    "\n",
    "model.body.block2.unit01.relu = defense_layer\n",
    "model.body.block2.unit02.relu = defense_layer\n",
    "model.body.block2.unit03.relu = defense_layer\n",
    "model.body.block2.unit04.relu = defense_layer\n",
    "\n",
    "model.body.block3.unit01.relu = defense_layer\n",
    "model.body.block3.unit02.relu = defense_layer\n",
    "model.body.block3.unit03.relu = defense_layer\n",
    "model.body.block3.unit04.relu = defense_layer\n",
    "model.body.block3.unit05.relu = defense_layer\n",
    "model.body.block3.unit06.relu = defense_layer\n",
    "\n",
    "model.body.block4.unit01.relu = defense_layer\n",
    "model.body.block4.unit02.relu = defense_layer\n",
    "model.body.block4.unit03.relu = defense_layer\n",
    "\n",
    "bpda_adversary = LinfPGDAttack(\n",
    "    model, loss_fn=nn.CrossEntropyLoss(reduction=\"sum\"), eps=0.05,\n",
    "    nb_iter=100, eps_iter=0.005, rand_init=True, clip_min=0.0, clip_max=1.0,\n",
    "    targeted=False)"
   ]
  },
  {
   "cell_type": "code",
   "execution_count": 27,
   "metadata": {},
   "outputs": [
    {
     "name": "stderr",
     "output_type": "stream",
     "text": [
      " 12%|█▎        | 1/8 [21:33<2:30:57, 1293.95s/it]"
     ]
    },
    {
     "name": "stdout",
     "output_type": "stream",
     "text": [
      "0.890625\n"
     ]
    },
    {
     "name": "stderr",
     "output_type": "stream",
     "text": [
      "\r",
      " 25%|██▌       | 2/8 [44:51<2:12:30, 1325.09s/it]"
     ]
    },
    {
     "name": "stdout",
     "output_type": "stream",
     "text": [
      "0.9140625\n"
     ]
    },
    {
     "name": "stderr",
     "output_type": "stream",
     "text": [
      "\r",
      " 38%|███▊      | 3/8 [1:08:51<1:53:17, 1359.44s/it]"
     ]
    },
    {
     "name": "stdout",
     "output_type": "stream",
     "text": [
      "0.9166666666666666\n"
     ]
    },
    {
     "name": "stderr",
     "output_type": "stream",
     "text": [
      "\r",
      " 50%|█████     | 4/8 [1:32:18<1:31:34, 1373.62s/it]"
     ]
    },
    {
     "name": "stdout",
     "output_type": "stream",
     "text": [
      "0.92578125\n"
     ]
    },
    {
     "name": "stderr",
     "output_type": "stream",
     "text": [
      "\r",
      " 62%|██████▎   | 5/8 [1:56:15<1:09:38, 1392.77s/it]"
     ]
    },
    {
     "name": "stdout",
     "output_type": "stream",
     "text": [
      "0.9203125\n"
     ]
    },
    {
     "name": "stderr",
     "output_type": "stream",
     "text": [
      "\r",
      " 75%|███████▌  | 6/8 [2:19:34<46:29, 1394.78s/it]  "
     ]
    },
    {
     "name": "stdout",
     "output_type": "stream",
     "text": [
      "0.921875\n"
     ]
    },
    {
     "name": "stderr",
     "output_type": "stream",
     "text": [
      "\r",
      " 88%|████████▊ | 7/8 [2:43:00<23:17, 1397.87s/it]"
     ]
    },
    {
     "name": "stdout",
     "output_type": "stream",
     "text": [
      "0.9274553571428571\n"
     ]
    },
    {
     "name": "stderr",
     "output_type": "stream",
     "text": [
      "100%|██████████| 8/8 [2:58:41<00:00, 1340.19s/it]"
     ]
    },
    {
     "name": "stdout",
     "output_type": "stream",
     "text": [
      "0.9274924471299094\n"
     ]
    },
    {
     "name": "stderr",
     "output_type": "stream",
     "text": [
      "\n"
     ]
    }
   ],
   "source": [
    "perturb_correct = 0\n",
    "total = 0\n",
    "\n",
    "for cln_data, true_label in tqdm(valid_loader):\n",
    "    cln_data, true_label = cln_data.to(device), true_label.to(device)\n",
    "    bpda_adv = bpda_adversary.perturb(cln_data, true_label)\n",
    "    \n",
    "    logits = model(bpda_adv)\n",
    "    pred_cls = torch.argmax(logits, dim=1)\n",
    "    perturb_correct += torch.sum(torch.eq(pred_cls, true_label)).item()\n",
    "    total += len(true_label)\n",
    "    \n",
    "    print(perturb_correct/total)"
   ]
  },
  {
   "cell_type": "code",
   "execution_count": 28,
   "metadata": {},
   "outputs": [
    {
     "data": {
      "text/plain": [
       "0.9274924471299094"
      ]
     },
     "execution_count": 28,
     "metadata": {},
     "output_type": "execute_result"
    }
   ],
   "source": [
    "perturb_correct/total"
   ]
  },
  {
   "cell_type": "code",
   "execution_count": 24,
   "metadata": {
    "scrolled": false
   },
   "outputs": [
    {
     "data": {
      "text/plain": [
       "0.905337361530715"
      ]
     },
     "execution_count": 24,
     "metadata": {},
     "output_type": "execute_result"
    }
   ],
   "source": [
    "perturb_correct/total"
   ]
  },
  {
   "cell_type": "code",
   "execution_count": 14,
   "metadata": {},
   "outputs": [
    {
     "data": {
      "text/plain": [
       "tensor([203])"
      ]
     },
     "execution_count": 14,
     "metadata": {},
     "output_type": "execute_result"
    }
   ],
   "source": [
    "torch.randint(0, 277, (1,))"
   ]
  },
  {
   "cell_type": "code",
   "execution_count": null,
   "metadata": {},
   "outputs": [],
   "source": []
  }
 ],
 "metadata": {
  "kernelspec": {
   "display_name": "Python 3",
   "language": "python",
   "name": "python3"
  },
  "language_info": {
   "codemirror_mode": {
    "name": "ipython",
    "version": 3
   },
   "file_extension": ".py",
   "mimetype": "text/x-python",
   "name": "python",
   "nbconvert_exporter": "python",
   "pygments_lexer": "ipython3",
   "version": "3.7.7"
  }
 },
 "nbformat": 4,
 "nbformat_minor": 4
}
