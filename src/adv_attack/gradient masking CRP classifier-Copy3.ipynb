{
 "cells": [
  {
   "cell_type": "markdown",
   "metadata": {},
   "source": [
    "## Siamese"
   ]
  },
  {
   "cell_type": "code",
   "execution_count": 1,
   "metadata": {},
   "outputs": [],
   "source": [
    "import os\n",
    "os.chdir('../../src/')"
   ]
  },
  {
   "cell_type": "code",
   "execution_count": 2,
   "metadata": {},
   "outputs": [],
   "source": [
    "import torch\n",
    "import torch.utils.data as data\n",
    "from PIL import Image, ImageOps\n",
    "import pickle\n",
    "import numpy as np\n",
    "from torchvision import transforms\n",
    "import json\n",
    "from credential_classifier.bit_pytorch.dataloader import HybridLoader\n",
    "from credential_classifier.bit_pytorch.models import KNOWN_MODELS\n",
    "from tqdm import tqdm\n",
    "os.environ[\"CUDA_VISIBLE_DEVICES\"]=\"0\""
   ]
  },
  {
   "cell_type": "markdown",
   "metadata": {},
   "source": [
    "- Define dataloader"
   ]
  },
  {
   "cell_type": "code",
   "execution_count": 3,
   "metadata": {},
   "outputs": [],
   "source": [
    "val_set = HybridLoader(img_folder='../datasets/val_merge_imgs',\n",
    "                         annot_path='../datasets/val_merge_coords.txt')\n",
    "\n",
    "valid_loader = torch.utils.data.DataLoader(\n",
    "  val_set, batch_size=1, shuffle=False, pin_memory=True, drop_last=False)"
   ]
  },
  {
   "cell_type": "code",
   "execution_count": 4,
   "metadata": {},
   "outputs": [
    {
     "data": {
      "text/plain": [
       "3731"
      ]
     },
     "execution_count": 4,
     "metadata": {},
     "output_type": "execute_result"
    }
   ],
   "source": [
    "len(valid_loader)"
   ]
  },
  {
   "cell_type": "markdown",
   "metadata": {},
   "source": [
    "- Accuracy function"
   ]
  },
  {
   "cell_type": "code",
   "execution_count": 15,
   "metadata": {
    "scrolled": true
   },
   "outputs": [],
   "source": [
    "def compute_acc(dataloader, model, device):\n",
    "    correct = 0\n",
    "    total = 0\n",
    "\n",
    "    for b, (x, y) in tqdm(enumerate(dataloader)):\n",
    "        with torch.no_grad():\n",
    "            x = x.to(device, non_blocking=True, dtype=torch.float)\n",
    "            y = y.to(device, non_blocking=True)\n",
    "            logits = model(x)\n",
    "            pred_cls = torch.argmax(logits, dim=1)\n",
    "\n",
    "            correct += torch.sum(torch.eq(pred_cls, y)).item()\n",
    "            total += y.shape[0]\n",
    "            \n",
    "    print('Accuracy after changing relu function: {:.2f}'.format(correct/total))    \n",
    "    return correct/total"
   ]
  },
  {
   "cell_type": "markdown",
   "metadata": {},
   "source": [
    "- Load model (original)"
   ]
  },
  {
   "cell_type": "code",
   "execution_count": 5,
   "metadata": {},
   "outputs": [
    {
     "data": {
      "text/plain": [
       "ResNetV2Coord(\n",
       "  (root): Sequential(\n",
       "    (conv): StdConv2d(8, 64, kernel_size=(7, 7), stride=(2, 2), padding=(3, 3), bias=False)\n",
       "    (pad): ConstantPad2d(padding=(1, 1, 1, 1), value=0)\n",
       "    (pool): MaxPool2d(kernel_size=3, stride=2, padding=0, dilation=1, ceil_mode=False)\n",
       "  )\n",
       "  (body): Sequential(\n",
       "    (block1): Sequential(\n",
       "      (unit01): PreActBottleneck(\n",
       "        (gn1): GroupNorm(32, 64, eps=1e-05, affine=True)\n",
       "        (conv1): StdConv2d(64, 64, kernel_size=(1, 1), stride=(1, 1), bias=False)\n",
       "        (gn2): GroupNorm(32, 64, eps=1e-05, affine=True)\n",
       "        (conv2): StdConv2d(64, 64, kernel_size=(3, 3), stride=(1, 1), padding=(1, 1), bias=False)\n",
       "        (gn3): GroupNorm(32, 64, eps=1e-05, affine=True)\n",
       "        (conv3): StdConv2d(64, 256, kernel_size=(1, 1), stride=(1, 1), bias=False)\n",
       "        (relu): ReLU(inplace=True)\n",
       "        (downsample): StdConv2d(64, 256, kernel_size=(1, 1), stride=(1, 1), bias=False)\n",
       "      )\n",
       "      (unit02): PreActBottleneck(\n",
       "        (gn1): GroupNorm(32, 256, eps=1e-05, affine=True)\n",
       "        (conv1): StdConv2d(256, 64, kernel_size=(1, 1), stride=(1, 1), bias=False)\n",
       "        (gn2): GroupNorm(32, 64, eps=1e-05, affine=True)\n",
       "        (conv2): StdConv2d(64, 64, kernel_size=(3, 3), stride=(1, 1), padding=(1, 1), bias=False)\n",
       "        (gn3): GroupNorm(32, 64, eps=1e-05, affine=True)\n",
       "        (conv3): StdConv2d(64, 256, kernel_size=(1, 1), stride=(1, 1), bias=False)\n",
       "        (relu): ReLU(inplace=True)\n",
       "      )\n",
       "      (unit03): PreActBottleneck(\n",
       "        (gn1): GroupNorm(32, 256, eps=1e-05, affine=True)\n",
       "        (conv1): StdConv2d(256, 64, kernel_size=(1, 1), stride=(1, 1), bias=False)\n",
       "        (gn2): GroupNorm(32, 64, eps=1e-05, affine=True)\n",
       "        (conv2): StdConv2d(64, 64, kernel_size=(3, 3), stride=(1, 1), padding=(1, 1), bias=False)\n",
       "        (gn3): GroupNorm(32, 64, eps=1e-05, affine=True)\n",
       "        (conv3): StdConv2d(64, 256, kernel_size=(1, 1), stride=(1, 1), bias=False)\n",
       "        (relu): ReLU(inplace=True)\n",
       "      )\n",
       "    )\n",
       "    (block2): Sequential(\n",
       "      (unit01): PreActBottleneck(\n",
       "        (gn1): GroupNorm(32, 256, eps=1e-05, affine=True)\n",
       "        (conv1): StdConv2d(256, 128, kernel_size=(1, 1), stride=(1, 1), bias=False)\n",
       "        (gn2): GroupNorm(32, 128, eps=1e-05, affine=True)\n",
       "        (conv2): StdConv2d(128, 128, kernel_size=(3, 3), stride=(2, 2), padding=(1, 1), bias=False)\n",
       "        (gn3): GroupNorm(32, 128, eps=1e-05, affine=True)\n",
       "        (conv3): StdConv2d(128, 512, kernel_size=(1, 1), stride=(1, 1), bias=False)\n",
       "        (relu): ReLU(inplace=True)\n",
       "        (downsample): StdConv2d(256, 512, kernel_size=(1, 1), stride=(2, 2), bias=False)\n",
       "      )\n",
       "      (unit02): PreActBottleneck(\n",
       "        (gn1): GroupNorm(32, 512, eps=1e-05, affine=True)\n",
       "        (conv1): StdConv2d(512, 128, kernel_size=(1, 1), stride=(1, 1), bias=False)\n",
       "        (gn2): GroupNorm(32, 128, eps=1e-05, affine=True)\n",
       "        (conv2): StdConv2d(128, 128, kernel_size=(3, 3), stride=(1, 1), padding=(1, 1), bias=False)\n",
       "        (gn3): GroupNorm(32, 128, eps=1e-05, affine=True)\n",
       "        (conv3): StdConv2d(128, 512, kernel_size=(1, 1), stride=(1, 1), bias=False)\n",
       "        (relu): ReLU(inplace=True)\n",
       "      )\n",
       "      (unit03): PreActBottleneck(\n",
       "        (gn1): GroupNorm(32, 512, eps=1e-05, affine=True)\n",
       "        (conv1): StdConv2d(512, 128, kernel_size=(1, 1), stride=(1, 1), bias=False)\n",
       "        (gn2): GroupNorm(32, 128, eps=1e-05, affine=True)\n",
       "        (conv2): StdConv2d(128, 128, kernel_size=(3, 3), stride=(1, 1), padding=(1, 1), bias=False)\n",
       "        (gn3): GroupNorm(32, 128, eps=1e-05, affine=True)\n",
       "        (conv3): StdConv2d(128, 512, kernel_size=(1, 1), stride=(1, 1), bias=False)\n",
       "        (relu): ReLU(inplace=True)\n",
       "      )\n",
       "      (unit04): PreActBottleneck(\n",
       "        (gn1): GroupNorm(32, 512, eps=1e-05, affine=True)\n",
       "        (conv1): StdConv2d(512, 128, kernel_size=(1, 1), stride=(1, 1), bias=False)\n",
       "        (gn2): GroupNorm(32, 128, eps=1e-05, affine=True)\n",
       "        (conv2): StdConv2d(128, 128, kernel_size=(3, 3), stride=(1, 1), padding=(1, 1), bias=False)\n",
       "        (gn3): GroupNorm(32, 128, eps=1e-05, affine=True)\n",
       "        (conv3): StdConv2d(128, 512, kernel_size=(1, 1), stride=(1, 1), bias=False)\n",
       "        (relu): ReLU(inplace=True)\n",
       "      )\n",
       "    )\n",
       "    (block3): Sequential(\n",
       "      (unit01): PreActBottleneck(\n",
       "        (gn1): GroupNorm(32, 512, eps=1e-05, affine=True)\n",
       "        (conv1): StdConv2d(512, 256, kernel_size=(1, 1), stride=(1, 1), bias=False)\n",
       "        (gn2): GroupNorm(32, 256, eps=1e-05, affine=True)\n",
       "        (conv2): StdConv2d(256, 256, kernel_size=(3, 3), stride=(2, 2), padding=(1, 1), bias=False)\n",
       "        (gn3): GroupNorm(32, 256, eps=1e-05, affine=True)\n",
       "        (conv3): StdConv2d(256, 1024, kernel_size=(1, 1), stride=(1, 1), bias=False)\n",
       "        (relu): ReLU(inplace=True)\n",
       "        (downsample): StdConv2d(512, 1024, kernel_size=(1, 1), stride=(2, 2), bias=False)\n",
       "      )\n",
       "      (unit02): PreActBottleneck(\n",
       "        (gn1): GroupNorm(32, 1024, eps=1e-05, affine=True)\n",
       "        (conv1): StdConv2d(1024, 256, kernel_size=(1, 1), stride=(1, 1), bias=False)\n",
       "        (gn2): GroupNorm(32, 256, eps=1e-05, affine=True)\n",
       "        (conv2): StdConv2d(256, 256, kernel_size=(3, 3), stride=(1, 1), padding=(1, 1), bias=False)\n",
       "        (gn3): GroupNorm(32, 256, eps=1e-05, affine=True)\n",
       "        (conv3): StdConv2d(256, 1024, kernel_size=(1, 1), stride=(1, 1), bias=False)\n",
       "        (relu): ReLU(inplace=True)\n",
       "      )\n",
       "      (unit03): PreActBottleneck(\n",
       "        (gn1): GroupNorm(32, 1024, eps=1e-05, affine=True)\n",
       "        (conv1): StdConv2d(1024, 256, kernel_size=(1, 1), stride=(1, 1), bias=False)\n",
       "        (gn2): GroupNorm(32, 256, eps=1e-05, affine=True)\n",
       "        (conv2): StdConv2d(256, 256, kernel_size=(3, 3), stride=(1, 1), padding=(1, 1), bias=False)\n",
       "        (gn3): GroupNorm(32, 256, eps=1e-05, affine=True)\n",
       "        (conv3): StdConv2d(256, 1024, kernel_size=(1, 1), stride=(1, 1), bias=False)\n",
       "        (relu): ReLU(inplace=True)\n",
       "      )\n",
       "      (unit04): PreActBottleneck(\n",
       "        (gn1): GroupNorm(32, 1024, eps=1e-05, affine=True)\n",
       "        (conv1): StdConv2d(1024, 256, kernel_size=(1, 1), stride=(1, 1), bias=False)\n",
       "        (gn2): GroupNorm(32, 256, eps=1e-05, affine=True)\n",
       "        (conv2): StdConv2d(256, 256, kernel_size=(3, 3), stride=(1, 1), padding=(1, 1), bias=False)\n",
       "        (gn3): GroupNorm(32, 256, eps=1e-05, affine=True)\n",
       "        (conv3): StdConv2d(256, 1024, kernel_size=(1, 1), stride=(1, 1), bias=False)\n",
       "        (relu): ReLU(inplace=True)\n",
       "      )\n",
       "      (unit05): PreActBottleneck(\n",
       "        (gn1): GroupNorm(32, 1024, eps=1e-05, affine=True)\n",
       "        (conv1): StdConv2d(1024, 256, kernel_size=(1, 1), stride=(1, 1), bias=False)\n",
       "        (gn2): GroupNorm(32, 256, eps=1e-05, affine=True)\n",
       "        (conv2): StdConv2d(256, 256, kernel_size=(3, 3), stride=(1, 1), padding=(1, 1), bias=False)\n",
       "        (gn3): GroupNorm(32, 256, eps=1e-05, affine=True)\n",
       "        (conv3): StdConv2d(256, 1024, kernel_size=(1, 1), stride=(1, 1), bias=False)\n",
       "        (relu): ReLU(inplace=True)\n",
       "      )\n",
       "      (unit06): PreActBottleneck(\n",
       "        (gn1): GroupNorm(32, 1024, eps=1e-05, affine=True)\n",
       "        (conv1): StdConv2d(1024, 256, kernel_size=(1, 1), stride=(1, 1), bias=False)\n",
       "        (gn2): GroupNorm(32, 256, eps=1e-05, affine=True)\n",
       "        (conv2): StdConv2d(256, 256, kernel_size=(3, 3), stride=(1, 1), padding=(1, 1), bias=False)\n",
       "        (gn3): GroupNorm(32, 256, eps=1e-05, affine=True)\n",
       "        (conv3): StdConv2d(256, 1024, kernel_size=(1, 1), stride=(1, 1), bias=False)\n",
       "        (relu): ReLU(inplace=True)\n",
       "      )\n",
       "    )\n",
       "    (block4): Sequential(\n",
       "      (unit01): PreActBottleneck(\n",
       "        (gn1): GroupNorm(32, 1024, eps=1e-05, affine=True)\n",
       "        (conv1): StdConv2d(1024, 512, kernel_size=(1, 1), stride=(1, 1), bias=False)\n",
       "        (gn2): GroupNorm(32, 512, eps=1e-05, affine=True)\n",
       "        (conv2): StdConv2d(512, 512, kernel_size=(3, 3), stride=(2, 2), padding=(1, 1), bias=False)\n",
       "        (gn3): GroupNorm(32, 512, eps=1e-05, affine=True)\n",
       "        (conv3): StdConv2d(512, 2048, kernel_size=(1, 1), stride=(1, 1), bias=False)\n",
       "        (relu): ReLU(inplace=True)\n",
       "        (downsample): StdConv2d(1024, 2048, kernel_size=(1, 1), stride=(2, 2), bias=False)\n",
       "      )\n",
       "      (unit02): PreActBottleneck(\n",
       "        (gn1): GroupNorm(32, 2048, eps=1e-05, affine=True)\n",
       "        (conv1): StdConv2d(2048, 512, kernel_size=(1, 1), stride=(1, 1), bias=False)\n",
       "        (gn2): GroupNorm(32, 512, eps=1e-05, affine=True)\n",
       "        (conv2): StdConv2d(512, 512, kernel_size=(3, 3), stride=(1, 1), padding=(1, 1), bias=False)\n",
       "        (gn3): GroupNorm(32, 512, eps=1e-05, affine=True)\n",
       "        (conv3): StdConv2d(512, 2048, kernel_size=(1, 1), stride=(1, 1), bias=False)\n",
       "        (relu): ReLU(inplace=True)\n",
       "      )\n",
       "      (unit03): PreActBottleneck(\n",
       "        (gn1): GroupNorm(32, 2048, eps=1e-05, affine=True)\n",
       "        (conv1): StdConv2d(2048, 512, kernel_size=(1, 1), stride=(1, 1), bias=False)\n",
       "        (gn2): GroupNorm(32, 512, eps=1e-05, affine=True)\n",
       "        (conv2): StdConv2d(512, 512, kernel_size=(3, 3), stride=(1, 1), padding=(1, 1), bias=False)\n",
       "        (gn3): GroupNorm(32, 512, eps=1e-05, affine=True)\n",
       "        (conv3): StdConv2d(512, 2048, kernel_size=(1, 1), stride=(1, 1), bias=False)\n",
       "        (relu): ReLU(inplace=True)\n",
       "      )\n",
       "    )\n",
       "  )\n",
       "  (head): Sequential(\n",
       "    (gn): GroupNorm(32, 2048, eps=1e-05, affine=True)\n",
       "    (relu): ReLU(inplace=True)\n",
       "    (avg): AdaptiveAvgPool2d(output_size=1)\n",
       "    (conv): Conv2d(2048, 2, kernel_size=(1, 1), stride=(1, 1))\n",
       "  )\n",
       ")"
      ]
     },
     "execution_count": 5,
     "metadata": {},
     "output_type": "execute_result"
    }
   ],
   "source": [
    "device = torch.device(\"cuda\" if torch.cuda.is_available() else \"cpu\")\n",
    "# Initialize model\n",
    "model = KNOWN_MODELS[\"BiT-M-R50x1V2\"](head_size=2, zero_head=True)\n",
    "\n",
    "# Load weights\n",
    "checkpoint = torch.load('/home/l/liny/ruofan/PhishIntention/src/credential_classifier/output/hybrid/hybrid_lr0.005/BiT-M-R50x1V2_0.005.pth.tar', \n",
    "                        map_location=\"cpu\")[\"model\"]\n",
    "\n",
    "from collections import OrderedDict\n",
    "new_state_dict = OrderedDict()\n",
    "for k, v in checkpoint.items():\n",
    "    name = k[7:] # remove `module.`\n",
    "    new_state_dict[name] = v\n",
    "\n",
    "model.load_state_dict(new_state_dict)\n",
    "\n",
    "model.to(device)\n",
    "model.eval()"
   ]
  },
  {
   "cell_type": "code",
   "execution_count": 16,
   "metadata": {
    "scrolled": true
   },
   "outputs": [
    {
     "name": "stderr",
     "output_type": "stream",
     "text": [
      "3731it [11:43,  5.31it/s]"
     ]
    },
    {
     "name": "stdout",
     "output_type": "stream",
     "text": [
      "Accuracy after changing relu function: 0.95\n"
     ]
    },
    {
     "name": "stderr",
     "output_type": "stream",
     "text": [
      "\n"
     ]
    },
    {
     "data": {
      "text/plain": [
       "0.9471991423210936"
      ]
     },
     "execution_count": 16,
     "metadata": {},
     "output_type": "execute_result"
    }
   ],
   "source": [
    "compute_acc(valid_loader, model, device)"
   ]
  },
  {
   "cell_type": "markdown",
   "metadata": {},
   "source": [
    "## Load model (change activation function)"
   ]
  },
  {
   "cell_type": "code",
   "execution_count": 8,
   "metadata": {},
   "outputs": [],
   "source": [
    "import torch\n",
    "import torch.nn.functional as F\n",
    "from torch import nn"
   ]
  },
  {
   "cell_type": "code",
   "execution_count": 9,
   "metadata": {},
   "outputs": [],
   "source": [
    "class QuantizeRelu(nn.Module):\n",
    "    def __init__(self, step_size = 0.01):\n",
    "        super().__init__()\n",
    "        self.step_size = step_size\n",
    "\n",
    "    def forward(self, x):\n",
    "        mask = torch.ge(x, 0).bool() # mask for positive values\n",
    "        quantize = torch.ones_like(x) * self.step_size\n",
    "        out = torch.mul(torch.floor(torch.div(x, quantize)), self.step_size) # quantize by step_size\n",
    "        out = torch.mul(out, mask) # zero-out negative values\n",
    "        out = torch.abs(out) # remove sign\n",
    "        return out"
   ]
  },
  {
   "cell_type": "code",
   "execution_count": 10,
   "metadata": {},
   "outputs": [
    {
     "data": {
      "text/plain": [
       "ResNetV2Coord(\n",
       "  (root): Sequential(\n",
       "    (conv): StdConv2d(8, 64, kernel_size=(7, 7), stride=(2, 2), padding=(3, 3), bias=False)\n",
       "    (pad): ConstantPad2d(padding=(1, 1, 1, 1), value=0)\n",
       "    (pool): MaxPool2d(kernel_size=3, stride=2, padding=0, dilation=1, ceil_mode=False)\n",
       "  )\n",
       "  (body): Sequential(\n",
       "    (block1): Sequential(\n",
       "      (unit01): PreActBottleneck(\n",
       "        (gn1): GroupNorm(32, 64, eps=1e-05, affine=True)\n",
       "        (conv1): StdConv2d(64, 64, kernel_size=(1, 1), stride=(1, 1), bias=False)\n",
       "        (gn2): GroupNorm(32, 64, eps=1e-05, affine=True)\n",
       "        (conv2): StdConv2d(64, 64, kernel_size=(3, 3), stride=(1, 1), padding=(1, 1), bias=False)\n",
       "        (gn3): GroupNorm(32, 64, eps=1e-05, affine=True)\n",
       "        (conv3): StdConv2d(64, 256, kernel_size=(1, 1), stride=(1, 1), bias=False)\n",
       "        (relu): ReLU(inplace=True)\n",
       "        (downsample): StdConv2d(64, 256, kernel_size=(1, 1), stride=(1, 1), bias=False)\n",
       "      )\n",
       "      (unit02): PreActBottleneck(\n",
       "        (gn1): GroupNorm(32, 256, eps=1e-05, affine=True)\n",
       "        (conv1): StdConv2d(256, 64, kernel_size=(1, 1), stride=(1, 1), bias=False)\n",
       "        (gn2): GroupNorm(32, 64, eps=1e-05, affine=True)\n",
       "        (conv2): StdConv2d(64, 64, kernel_size=(3, 3), stride=(1, 1), padding=(1, 1), bias=False)\n",
       "        (gn3): GroupNorm(32, 64, eps=1e-05, affine=True)\n",
       "        (conv3): StdConv2d(64, 256, kernel_size=(1, 1), stride=(1, 1), bias=False)\n",
       "        (relu): ReLU(inplace=True)\n",
       "      )\n",
       "      (unit03): PreActBottleneck(\n",
       "        (gn1): GroupNorm(32, 256, eps=1e-05, affine=True)\n",
       "        (conv1): StdConv2d(256, 64, kernel_size=(1, 1), stride=(1, 1), bias=False)\n",
       "        (gn2): GroupNorm(32, 64, eps=1e-05, affine=True)\n",
       "        (conv2): StdConv2d(64, 64, kernel_size=(3, 3), stride=(1, 1), padding=(1, 1), bias=False)\n",
       "        (gn3): GroupNorm(32, 64, eps=1e-05, affine=True)\n",
       "        (conv3): StdConv2d(64, 256, kernel_size=(1, 1), stride=(1, 1), bias=False)\n",
       "        (relu): ReLU(inplace=True)\n",
       "      )\n",
       "    )\n",
       "    (block2): Sequential(\n",
       "      (unit01): PreActBottleneck(\n",
       "        (gn1): GroupNorm(32, 256, eps=1e-05, affine=True)\n",
       "        (conv1): StdConv2d(256, 128, kernel_size=(1, 1), stride=(1, 1), bias=False)\n",
       "        (gn2): GroupNorm(32, 128, eps=1e-05, affine=True)\n",
       "        (conv2): StdConv2d(128, 128, kernel_size=(3, 3), stride=(2, 2), padding=(1, 1), bias=False)\n",
       "        (gn3): GroupNorm(32, 128, eps=1e-05, affine=True)\n",
       "        (conv3): StdConv2d(128, 512, kernel_size=(1, 1), stride=(1, 1), bias=False)\n",
       "        (relu): ReLU(inplace=True)\n",
       "        (downsample): StdConv2d(256, 512, kernel_size=(1, 1), stride=(2, 2), bias=False)\n",
       "      )\n",
       "      (unit02): PreActBottleneck(\n",
       "        (gn1): GroupNorm(32, 512, eps=1e-05, affine=True)\n",
       "        (conv1): StdConv2d(512, 128, kernel_size=(1, 1), stride=(1, 1), bias=False)\n",
       "        (gn2): GroupNorm(32, 128, eps=1e-05, affine=True)\n",
       "        (conv2): StdConv2d(128, 128, kernel_size=(3, 3), stride=(1, 1), padding=(1, 1), bias=False)\n",
       "        (gn3): GroupNorm(32, 128, eps=1e-05, affine=True)\n",
       "        (conv3): StdConv2d(128, 512, kernel_size=(1, 1), stride=(1, 1), bias=False)\n",
       "        (relu): ReLU(inplace=True)\n",
       "      )\n",
       "      (unit03): PreActBottleneck(\n",
       "        (gn1): GroupNorm(32, 512, eps=1e-05, affine=True)\n",
       "        (conv1): StdConv2d(512, 128, kernel_size=(1, 1), stride=(1, 1), bias=False)\n",
       "        (gn2): GroupNorm(32, 128, eps=1e-05, affine=True)\n",
       "        (conv2): StdConv2d(128, 128, kernel_size=(3, 3), stride=(1, 1), padding=(1, 1), bias=False)\n",
       "        (gn3): GroupNorm(32, 128, eps=1e-05, affine=True)\n",
       "        (conv3): StdConv2d(128, 512, kernel_size=(1, 1), stride=(1, 1), bias=False)\n",
       "        (relu): ReLU(inplace=True)\n",
       "      )\n",
       "      (unit04): PreActBottleneck(\n",
       "        (gn1): GroupNorm(32, 512, eps=1e-05, affine=True)\n",
       "        (conv1): StdConv2d(512, 128, kernel_size=(1, 1), stride=(1, 1), bias=False)\n",
       "        (gn2): GroupNorm(32, 128, eps=1e-05, affine=True)\n",
       "        (conv2): StdConv2d(128, 128, kernel_size=(3, 3), stride=(1, 1), padding=(1, 1), bias=False)\n",
       "        (gn3): GroupNorm(32, 128, eps=1e-05, affine=True)\n",
       "        (conv3): StdConv2d(128, 512, kernel_size=(1, 1), stride=(1, 1), bias=False)\n",
       "        (relu): ReLU(inplace=True)\n",
       "      )\n",
       "    )\n",
       "    (block3): Sequential(\n",
       "      (unit01): PreActBottleneck(\n",
       "        (gn1): GroupNorm(32, 512, eps=1e-05, affine=True)\n",
       "        (conv1): StdConv2d(512, 256, kernel_size=(1, 1), stride=(1, 1), bias=False)\n",
       "        (gn2): GroupNorm(32, 256, eps=1e-05, affine=True)\n",
       "        (conv2): StdConv2d(256, 256, kernel_size=(3, 3), stride=(2, 2), padding=(1, 1), bias=False)\n",
       "        (gn3): GroupNorm(32, 256, eps=1e-05, affine=True)\n",
       "        (conv3): StdConv2d(256, 1024, kernel_size=(1, 1), stride=(1, 1), bias=False)\n",
       "        (relu): ReLU(inplace=True)\n",
       "        (downsample): StdConv2d(512, 1024, kernel_size=(1, 1), stride=(2, 2), bias=False)\n",
       "      )\n",
       "      (unit02): PreActBottleneck(\n",
       "        (gn1): GroupNorm(32, 1024, eps=1e-05, affine=True)\n",
       "        (conv1): StdConv2d(1024, 256, kernel_size=(1, 1), stride=(1, 1), bias=False)\n",
       "        (gn2): GroupNorm(32, 256, eps=1e-05, affine=True)\n",
       "        (conv2): StdConv2d(256, 256, kernel_size=(3, 3), stride=(1, 1), padding=(1, 1), bias=False)\n",
       "        (gn3): GroupNorm(32, 256, eps=1e-05, affine=True)\n",
       "        (conv3): StdConv2d(256, 1024, kernel_size=(1, 1), stride=(1, 1), bias=False)\n",
       "        (relu): ReLU(inplace=True)\n",
       "      )\n",
       "      (unit03): PreActBottleneck(\n",
       "        (gn1): GroupNorm(32, 1024, eps=1e-05, affine=True)\n",
       "        (conv1): StdConv2d(1024, 256, kernel_size=(1, 1), stride=(1, 1), bias=False)\n",
       "        (gn2): GroupNorm(32, 256, eps=1e-05, affine=True)\n",
       "        (conv2): StdConv2d(256, 256, kernel_size=(3, 3), stride=(1, 1), padding=(1, 1), bias=False)\n",
       "        (gn3): GroupNorm(32, 256, eps=1e-05, affine=True)\n",
       "        (conv3): StdConv2d(256, 1024, kernel_size=(1, 1), stride=(1, 1), bias=False)\n",
       "        (relu): ReLU(inplace=True)\n",
       "      )\n",
       "      (unit04): PreActBottleneck(\n",
       "        (gn1): GroupNorm(32, 1024, eps=1e-05, affine=True)\n",
       "        (conv1): StdConv2d(1024, 256, kernel_size=(1, 1), stride=(1, 1), bias=False)\n",
       "        (gn2): GroupNorm(32, 256, eps=1e-05, affine=True)\n",
       "        (conv2): StdConv2d(256, 256, kernel_size=(3, 3), stride=(1, 1), padding=(1, 1), bias=False)\n",
       "        (gn3): GroupNorm(32, 256, eps=1e-05, affine=True)\n",
       "        (conv3): StdConv2d(256, 1024, kernel_size=(1, 1), stride=(1, 1), bias=False)\n",
       "        (relu): ReLU(inplace=True)\n",
       "      )\n",
       "      (unit05): PreActBottleneck(\n",
       "        (gn1): GroupNorm(32, 1024, eps=1e-05, affine=True)\n",
       "        (conv1): StdConv2d(1024, 256, kernel_size=(1, 1), stride=(1, 1), bias=False)\n",
       "        (gn2): GroupNorm(32, 256, eps=1e-05, affine=True)\n",
       "        (conv2): StdConv2d(256, 256, kernel_size=(3, 3), stride=(1, 1), padding=(1, 1), bias=False)\n",
       "        (gn3): GroupNorm(32, 256, eps=1e-05, affine=True)\n",
       "        (conv3): StdConv2d(256, 1024, kernel_size=(1, 1), stride=(1, 1), bias=False)\n",
       "        (relu): ReLU(inplace=True)\n",
       "      )\n",
       "      (unit06): PreActBottleneck(\n",
       "        (gn1): GroupNorm(32, 1024, eps=1e-05, affine=True)\n",
       "        (conv1): StdConv2d(1024, 256, kernel_size=(1, 1), stride=(1, 1), bias=False)\n",
       "        (gn2): GroupNorm(32, 256, eps=1e-05, affine=True)\n",
       "        (conv2): StdConv2d(256, 256, kernel_size=(3, 3), stride=(1, 1), padding=(1, 1), bias=False)\n",
       "        (gn3): GroupNorm(32, 256, eps=1e-05, affine=True)\n",
       "        (conv3): StdConv2d(256, 1024, kernel_size=(1, 1), stride=(1, 1), bias=False)\n",
       "        (relu): ReLU(inplace=True)\n",
       "      )\n",
       "    )\n",
       "    (block4): Sequential(\n",
       "      (unit01): PreActBottleneck(\n",
       "        (gn1): GroupNorm(32, 1024, eps=1e-05, affine=True)\n",
       "        (conv1): StdConv2d(1024, 512, kernel_size=(1, 1), stride=(1, 1), bias=False)\n",
       "        (gn2): GroupNorm(32, 512, eps=1e-05, affine=True)\n",
       "        (conv2): StdConv2d(512, 512, kernel_size=(3, 3), stride=(2, 2), padding=(1, 1), bias=False)\n",
       "        (gn3): GroupNorm(32, 512, eps=1e-05, affine=True)\n",
       "        (conv3): StdConv2d(512, 2048, kernel_size=(1, 1), stride=(1, 1), bias=False)\n",
       "        (relu): QuantizeRelu()\n",
       "        (downsample): StdConv2d(1024, 2048, kernel_size=(1, 1), stride=(2, 2), bias=False)\n",
       "      )\n",
       "      (unit02): PreActBottleneck(\n",
       "        (gn1): GroupNorm(32, 2048, eps=1e-05, affine=True)\n",
       "        (conv1): StdConv2d(2048, 512, kernel_size=(1, 1), stride=(1, 1), bias=False)\n",
       "        (gn2): GroupNorm(32, 512, eps=1e-05, affine=True)\n",
       "        (conv2): StdConv2d(512, 512, kernel_size=(3, 3), stride=(1, 1), padding=(1, 1), bias=False)\n",
       "        (gn3): GroupNorm(32, 512, eps=1e-05, affine=True)\n",
       "        (conv3): StdConv2d(512, 2048, kernel_size=(1, 1), stride=(1, 1), bias=False)\n",
       "        (relu): QuantizeRelu()\n",
       "      )\n",
       "      (unit03): PreActBottleneck(\n",
       "        (gn1): GroupNorm(32, 2048, eps=1e-05, affine=True)\n",
       "        (conv1): StdConv2d(2048, 512, kernel_size=(1, 1), stride=(1, 1), bias=False)\n",
       "        (gn2): GroupNorm(32, 512, eps=1e-05, affine=True)\n",
       "        (conv2): StdConv2d(512, 512, kernel_size=(3, 3), stride=(1, 1), padding=(1, 1), bias=False)\n",
       "        (gn3): GroupNorm(32, 512, eps=1e-05, affine=True)\n",
       "        (conv3): StdConv2d(512, 2048, kernel_size=(1, 1), stride=(1, 1), bias=False)\n",
       "        (relu): QuantizeRelu()\n",
       "      )\n",
       "    )\n",
       "  )\n",
       "  (head): Sequential(\n",
       "    (gn): GroupNorm(32, 2048, eps=1e-05, affine=True)\n",
       "    (relu): ReLU(inplace=True)\n",
       "    (avg): AdaptiveAvgPool2d(output_size=1)\n",
       "    (conv): Conv2d(2048, 2, kernel_size=(1, 1), stride=(1, 1))\n",
       "  )\n",
       ")"
      ]
     },
     "execution_count": 10,
     "metadata": {},
     "output_type": "execute_result"
    }
   ],
   "source": [
    "device = torch.device(\"cuda\" if torch.cuda.is_available() else \"cpu\")\n",
    "# Initialize model\n",
    "model = KNOWN_MODELS[\"BiT-M-R50x1V2\"](head_size=2, zero_head=True)\n",
    "# Load weights\n",
    "checkpoint = torch.load('/home/l/liny/ruofan/PhishIntention/src/credential_classifier/output/hybrid/hybrid_lr0.005/BiT-M-R50x1V2_0.005.pth.tar', \n",
    "                        map_location=\"cpu\")[\"model\"]\n",
    "\n",
    "from collections import OrderedDict\n",
    "new_state_dict = OrderedDict()\n",
    "for k, v in checkpoint.items():\n",
    "    name = k[7:] # remove `module.`\n",
    "    new_state_dict[name] = v\n",
    "\n",
    "model.load_state_dict(new_state_dict)\n",
    "# replace relu with defenselayer \n",
    "# model.body.block1.unit01.relu = QuantizeRelu()\n",
    "# model.body.block1.unit02.relu = QuantizeRelu()\n",
    "# model.body.block1.unit03.relu = QuantizeRelu()\n",
    "\n",
    "# model.body.block2.unit01.relu = QuantizeRelu()\n",
    "# model.body.block2.unit02.relu = QuantizeRelu()\n",
    "# model.body.block2.unit03.relu = QuantizeRelu()\n",
    "# model.body.block2.unit04.relu = QuantizeRelu()\n",
    "\n",
    "# model.body.block3.unit01.relu = QuantizeRelu()\n",
    "# model.body.block3.unit02.relu = QuantizeRelu()\n",
    "# model.body.block3.unit03.relu = QuantizeRelu()\n",
    "# model.body.block3.unit04.relu = QuantizeRelu()\n",
    "# model.body.block3.unit05.relu = QuantizeRelu()\n",
    "# model.body.block3.unit06.relu = QuantizeRelu()\n",
    "\n",
    "model.body.block4.unit01.relu = QuantizeRelu()\n",
    "model.body.block4.unit02.relu = QuantizeRelu()\n",
    "model.body.block4.unit03.relu = QuantizeRelu()\n",
    "\n",
    "model.to(device)\n",
    "model.eval()"
   ]
  },
  {
   "cell_type": "code",
   "execution_count": 19,
   "metadata": {
    "scrolled": true
   },
   "outputs": [
    {
     "name": "stdout",
     "output_type": "stream",
     "text": [
      "Accuracy after changing relu function: 0.93\n"
     ]
    },
    {
     "data": {
      "text/plain": [
       "0.9345417925478349"
      ]
     },
     "execution_count": 19,
     "metadata": {},
     "output_type": "execute_result"
    }
   ],
   "source": [
    "# compute_acc(valid_loader, model, device)"
   ]
  },
  {
   "cell_type": "markdown",
   "metadata": {},
   "source": [
    "## Attack"
   ]
  },
  {
   "cell_type": "code",
   "execution_count": null,
   "metadata": {
    "scrolled": true
   },
   "outputs": [
    {
     "name": "stdout",
     "output_type": "stream",
     "text": [
      "- Learning Progress : 99.90 % \r"
     ]
    },
    {
     "name": "stderr",
     "output_type": "stream",
     "text": [
      "\r",
      "64it [2:06:54, 82.46s/it]"
     ]
    },
    {
     "name": "stdout",
     "output_type": "stream",
     "text": [
      "63Learning Progress : 100.00 % \n",
      "Test Accuracy = 0.96875\n",
      "- Learning Progress : 99.90 % \r"
     ]
    },
    {
     "name": "stderr",
     "output_type": "stream",
     "text": [
      "\r",
      "65it [2:08:32, 87.27s/it]"
     ]
    },
    {
     "name": "stdout",
     "output_type": "stream",
     "text": [
      "64Learning Progress : 100.00 % \n",
      "Test Accuracy = 0.9692307692307692\n",
      "- Learning Progress : 99.90 % \r"
     ]
    },
    {
     "name": "stderr",
     "output_type": "stream",
     "text": [
      "\r",
      "66it [2:10:33, 97.26s/it]"
     ]
    },
    {
     "name": "stdout",
     "output_type": "stream",
     "text": [
      "65Learning Progress : 100.00 % \n",
      "Test Accuracy = 0.9696969696969697\n",
      "- Learning Progress : 99.90 % \r"
     ]
    },
    {
     "name": "stderr",
     "output_type": "stream",
     "text": [
      "\r",
      "67it [2:12:45, 107.94s/it]"
     ]
    },
    {
     "name": "stdout",
     "output_type": "stream",
     "text": [
      "66Learning Progress : 100.00 % \n",
      "Test Accuracy = 0.9701492537313433\n",
      "- Learning Progress : 99.80 % \r"
     ]
    },
    {
     "name": "stderr",
     "output_type": "stream",
     "text": [
      "\r",
      "68it [2:14:53, 113.93s/it]"
     ]
    },
    {
     "name": "stdout",
     "output_type": "stream",
     "text": [
      "- Learning Progress : 99.90 % \r",
      "- Learning Progress : 100.00 % \r",
      "67\n",
      "Test Accuracy = 0.9705882352941176\n"
     ]
    },
    {
     "name": "stderr",
     "output_type": "stream",
     "text": [
      "\r",
      "69it [2:14:54, 79.84s/it] "
     ]
    },
    {
     "name": "stdout",
     "output_type": "stream",
     "text": [
      "68\n",
      "- Learning Progress : 99.80 % \r"
     ]
    },
    {
     "name": "stderr",
     "output_type": "stream",
     "text": [
      "\r",
      "70it [2:17:05, 95.32s/it]"
     ]
    },
    {
     "name": "stdout",
     "output_type": "stream",
     "text": [
      "69Learning Progress : 100.00 % \n",
      "Test Accuracy = 0.9571428571428572\n",
      "- Learning Progress : 99.90 % \r"
     ]
    },
    {
     "name": "stderr",
     "output_type": "stream",
     "text": [
      "\r",
      "71it [2:19:16, 105.95s/it]"
     ]
    },
    {
     "name": "stdout",
     "output_type": "stream",
     "text": [
      "70Learning Progress : 100.00 % \n",
      "Test Accuracy = 0.9577464788732394\n",
      "- Learning Progress : 99.90 % \r"
     ]
    },
    {
     "name": "stderr",
     "output_type": "stream",
     "text": [
      "\r",
      "73it [2:23:39, 119.23s/it]"
     ]
    },
    {
     "name": "stdout",
     "output_type": "stream",
     "text": [
      "72Learning Progress : 100.00 % \n",
      "Test Accuracy = 0.958904109589041\n",
      "- Learning Progress : 99.80 % \r"
     ]
    },
    {
     "name": "stderr",
     "output_type": "stream",
     "text": [
      "\r",
      "74it [2:25:51, 123.15s/it]"
     ]
    },
    {
     "name": "stdout",
     "output_type": "stream",
     "text": [
      "73Learning Progress : 100.00 % \n",
      "Test Accuracy = 0.9594594594594594\n",
      "- Learning Progress : 100.00 % \r"
     ]
    },
    {
     "name": "stderr",
     "output_type": "stream",
     "text": [
      "\r",
      "75it [2:28:01, 125.03s/it]"
     ]
    },
    {
     "name": "stdout",
     "output_type": "stream",
     "text": [
      "74\n",
      "Test Accuracy = 0.96\n",
      "- Learning Progress : 99.80 % \r"
     ]
    },
    {
     "name": "stderr",
     "output_type": "stream",
     "text": [
      "\r",
      "76it [2:30:14, 127.58s/it]"
     ]
    },
    {
     "name": "stdout",
     "output_type": "stream",
     "text": [
      "75Learning Progress : 100.00 % \n",
      "Test Accuracy = 0.9605263157894737\n",
      "- Learning Progress : 99.90 % \r"
     ]
    },
    {
     "name": "stderr",
     "output_type": "stream",
     "text": [
      "\r",
      "77it [2:32:27, 129.14s/it]"
     ]
    },
    {
     "name": "stdout",
     "output_type": "stream",
     "text": [
      "76Learning Progress : 100.00 % \n",
      "Test Accuracy = 0.961038961038961\n",
      "- Learning Progress : 99.90 % \r"
     ]
    },
    {
     "name": "stderr",
     "output_type": "stream",
     "text": [
      "\r",
      "78it [2:34:39, 129.98s/it]"
     ]
    },
    {
     "name": "stdout",
     "output_type": "stream",
     "text": [
      "77Learning Progress : 100.00 % \n",
      "Test Accuracy = 0.9615384615384616\n",
      "- Learning Progress : 81.70 % \r"
     ]
    },
    {
     "name": "stderr",
     "output_type": "stream",
     "text": [
      "IOPub message rate exceeded.\n",
      "The notebook server will temporarily stop sending output\n",
      "to the client in order to avoid crashing it.\n",
      "To change this limit, set the config variable\n",
      "`--NotebookApp.iopub_msg_rate_limit`.\n",
      "\n",
      "Current values:\n",
      "NotebookApp.iopub_msg_rate_limit=1000.0 (msgs/sec)\n",
      "NotebookApp.rate_limit_window=3.0 (secs)\n",
      "\n"
     ]
    },
    {
     "name": "stdout",
     "output_type": "stream",
     "text": [
      "- Learning Progress : 99.90 % \r"
     ]
    },
    {
     "name": "stderr",
     "output_type": "stream",
     "text": [
      "\r",
      "90it [3:01:06, 131.78s/it]"
     ]
    },
    {
     "name": "stdout",
     "output_type": "stream",
     "text": [
      "89Learning Progress : 100.00 % \n",
      "Test Accuracy = 0.9666666666666667\n",
      "- Learning Progress : 99.80 % \r"
     ]
    },
    {
     "name": "stderr",
     "output_type": "stream",
     "text": [
      "\r",
      "91it [3:03:19, 132.34s/it]"
     ]
    },
    {
     "name": "stdout",
     "output_type": "stream",
     "text": [
      "90Learning Progress : 100.00 % \n",
      "Test Accuracy = 0.967032967032967\n",
      "- Learning Progress : 99.90 % \r"
     ]
    },
    {
     "name": "stderr",
     "output_type": "stream",
     "text": [
      "\r",
      "92it [3:05:32, 132.52s/it]"
     ]
    },
    {
     "name": "stdout",
     "output_type": "stream",
     "text": [
      "91Learning Progress : 100.00 % \n",
      "Test Accuracy = 0.967391304347826\n",
      "- Learning Progress : 99.90 % \r"
     ]
    },
    {
     "name": "stderr",
     "output_type": "stream",
     "text": [
      "\r",
      "93it [3:07:43, 131.94s/it]"
     ]
    },
    {
     "name": "stdout",
     "output_type": "stream",
     "text": [
      "92Learning Progress : 100.00 % \n",
      "Test Accuracy = 0.967741935483871\n",
      "- Learning Progress : 99.80 % \r"
     ]
    },
    {
     "name": "stderr",
     "output_type": "stream",
     "text": [
      "\r",
      "94it [3:09:56, 132.43s/it]"
     ]
    },
    {
     "name": "stdout",
     "output_type": "stream",
     "text": [
      "93Learning Progress : 100.00 % \n",
      "Test Accuracy = 0.9680851063829787\n",
      "- Learning Progress : 99.90 % \r"
     ]
    },
    {
     "name": "stderr",
     "output_type": "stream",
     "text": [
      "\r",
      "95it [3:12:09, 132.43s/it]"
     ]
    },
    {
     "name": "stdout",
     "output_type": "stream",
     "text": [
      "94Learning Progress : 100.00 % \n",
      "Test Accuracy = 0.968421052631579\n",
      "- Learning Progress : 80.60 % \r"
     ]
    },
    {
     "name": "stderr",
     "output_type": "stream",
     "text": [
      "IOPub message rate exceeded.\n",
      "The notebook server will temporarily stop sending output\n",
      "to the client in order to avoid crashing it.\n",
      "To change this limit, set the config variable\n",
      "`--NotebookApp.iopub_msg_rate_limit`.\n",
      "\n",
      "Current values:\n",
      "NotebookApp.iopub_msg_rate_limit=1000.0 (msgs/sec)\n",
      "NotebookApp.rate_limit_window=3.0 (secs)\n",
      "\n"
     ]
    },
    {
     "name": "stdout",
     "output_type": "stream",
     "text": [
      "- Learning Progress : 99.90 % \r"
     ]
    },
    {
     "name": "stderr",
     "output_type": "stream",
     "text": [
      "\r",
      "97it [3:16:35, 132.91s/it]"
     ]
    },
    {
     "name": "stdout",
     "output_type": "stream",
     "text": [
      "96Learning Progress : 100.00 % \n",
      "Test Accuracy = 0.9690721649484536\n",
      "- Learning Progress : 99.90 % \r"
     ]
    },
    {
     "name": "stderr",
     "output_type": "stream",
     "text": [
      "\r",
      "98it [3:18:43, 131.41s/it]"
     ]
    },
    {
     "name": "stdout",
     "output_type": "stream",
     "text": [
      "97Learning Progress : 100.00 % \n",
      "Test Accuracy = 0.9693877551020408\n",
      "- Learning Progress : 99.80 % \r"
     ]
    },
    {
     "name": "stderr",
     "output_type": "stream",
     "text": [
      "\r",
      "99it [3:20:55, 131.68s/it]"
     ]
    },
    {
     "name": "stdout",
     "output_type": "stream",
     "text": [
      "98Learning Progress : 100.00 % \n",
      "Test Accuracy = 0.9696969696969697\n",
      "- Learning Progress : 99.80 % \r"
     ]
    },
    {
     "name": "stderr",
     "output_type": "stream",
     "text": [
      "\r",
      "100it [3:23:09, 132.21s/it]"
     ]
    },
    {
     "name": "stdout",
     "output_type": "stream",
     "text": [
      "99Learning Progress : 100.00 % \n",
      "Test Accuracy = 0.97\n",
      "- Learning Progress : 99.90 % \r"
     ]
    },
    {
     "name": "stderr",
     "output_type": "stream",
     "text": [
      "\r",
      "101it [3:25:20, 132.09s/it]"
     ]
    },
    {
     "name": "stdout",
     "output_type": "stream",
     "text": [
      "100earning Progress : 100.00 % \n",
      "Test Accuracy = 0.9702970297029703\n",
      "- Learning Progress : 99.90 % \r"
     ]
    },
    {
     "name": "stderr",
     "output_type": "stream",
     "text": [
      "\r",
      "102it [3:27:37, 133.28s/it]"
     ]
    },
    {
     "name": "stdout",
     "output_type": "stream",
     "text": [
      "101earning Progress : 100.00 % \n",
      "Test Accuracy = 0.9705882352941176\n",
      "- Learning Progress : 99.90 % \r"
     ]
    },
    {
     "name": "stderr",
     "output_type": "stream",
     "text": [
      "\r",
      "104it [3:31:59, 132.07s/it]"
     ]
    },
    {
     "name": "stdout",
     "output_type": "stream",
     "text": [
      "103earning Progress : 100.00 % \n",
      "Test Accuracy = 0.9711538461538461\n",
      "- Learning Progress : 99.90 % \r"
     ]
    },
    {
     "name": "stderr",
     "output_type": "stream",
     "text": [
      "\r",
      "105it [3:34:12, 132.53s/it]"
     ]
    },
    {
     "name": "stdout",
     "output_type": "stream",
     "text": [
      "104earning Progress : 100.00 % \n",
      "Test Accuracy = 0.9714285714285714\n",
      "- Learning Progress : 99.80 % \r"
     ]
    },
    {
     "name": "stderr",
     "output_type": "stream",
     "text": [
      "\r",
      "106it [3:36:23, 131.99s/it]"
     ]
    },
    {
     "name": "stdout",
     "output_type": "stream",
     "text": [
      "105earning Progress : 100.00 % \n",
      "Test Accuracy = 0.9716981132075472\n",
      "- Learning Progress : 99.80 % \r"
     ]
    },
    {
     "name": "stderr",
     "output_type": "stream",
     "text": [
      "\r",
      "107it [3:38:35, 131.93s/it]"
     ]
    },
    {
     "name": "stdout",
     "output_type": "stream",
     "text": [
      "106earning Progress : 100.00 % \n",
      "Test Accuracy = 0.9719626168224299\n",
      "- Learning Progress : 100.00 % \r"
     ]
    },
    {
     "name": "stderr",
     "output_type": "stream",
     "text": [
      "\r",
      "108it [3:40:48, 132.42s/it]"
     ]
    },
    {
     "name": "stdout",
     "output_type": "stream",
     "text": [
      "107\n",
      "Test Accuracy = 0.9722222222222222\n",
      "- Learning Progress : 99.80 % \r"
     ]
    },
    {
     "name": "stderr",
     "output_type": "stream",
     "text": [
      "\r",
      "109it [3:42:58, 131.46s/it]"
     ]
    },
    {
     "name": "stdout",
     "output_type": "stream",
     "text": [
      "108earning Progress : 100.00 % \n",
      "Test Accuracy = 0.9724770642201835\n",
      "- Learning Progress : 49.80 % \r"
     ]
    },
    {
     "name": "stderr",
     "output_type": "stream",
     "text": [
      "IOPub message rate exceeded.\n",
      "The notebook server will temporarily stop sending output\n",
      "to the client in order to avoid crashing it.\n",
      "To change this limit, set the config variable\n",
      "`--NotebookApp.iopub_msg_rate_limit`.\n",
      "\n",
      "Current values:\n",
      "NotebookApp.iopub_msg_rate_limit=1000.0 (msgs/sec)\n",
      "NotebookApp.rate_limit_window=3.0 (secs)\n",
      "\n"
     ]
    },
    {
     "name": "stdout",
     "output_type": "stream",
     "text": [
      "- Learning Progress : 99.90 % \r"
     ]
    },
    {
     "name": "stderr",
     "output_type": "stream",
     "text": [
      "\r",
      "118it [4:02:33, 129.93s/it]"
     ]
    },
    {
     "name": "stdout",
     "output_type": "stream",
     "text": [
      "117earning Progress : 100.00 % \n",
      "Test Accuracy = 0.9745762711864406\n",
      "- Learning Progress : 99.80 % \r"
     ]
    },
    {
     "name": "stderr",
     "output_type": "stream",
     "text": [
      "\r",
      "119it [4:04:45, 130.74s/it]"
     ]
    },
    {
     "name": "stdout",
     "output_type": "stream",
     "text": [
      "118earning Progress : 100.00 % \n",
      "Test Accuracy = 0.9747899159663865\n",
      "- Learning Progress : 99.80 % \r"
     ]
    },
    {
     "name": "stderr",
     "output_type": "stream",
     "text": [
      "\r",
      "120it [4:06:54, 129.99s/it]"
     ]
    },
    {
     "name": "stdout",
     "output_type": "stream",
     "text": [
      "119earning Progress : 100.00 % \n",
      "Test Accuracy = 0.975\n",
      "- Learning Progress : 99.80 % \r"
     ]
    },
    {
     "name": "stderr",
     "output_type": "stream",
     "text": [
      "\r",
      "121it [4:09:06, 130.81s/it]"
     ]
    },
    {
     "name": "stdout",
     "output_type": "stream",
     "text": [
      "120earning Progress : 100.00 % \n",
      "Test Accuracy = 0.9752066115702479\n",
      "- Learning Progress : 99.80 % \r"
     ]
    },
    {
     "name": "stderr",
     "output_type": "stream",
     "text": [
      "\r",
      "122it [4:11:16, 130.39s/it]"
     ]
    },
    {
     "name": "stdout",
     "output_type": "stream",
     "text": [
      "121earning Progress : 100.00 % \n",
      "Test Accuracy = 0.9754098360655737\n",
      "- Learning Progress : 99.80 % \r"
     ]
    },
    {
     "name": "stderr",
     "output_type": "stream",
     "text": [
      "\r",
      "123it [4:13:27, 130.75s/it]"
     ]
    },
    {
     "name": "stdout",
     "output_type": "stream",
     "text": [
      "122earning Progress : 100.00 % \n",
      "Test Accuracy = 0.975609756097561\n",
      "- Learning Progress : 99.80 % \r"
     ]
    },
    {
     "name": "stderr",
     "output_type": "stream",
     "text": [
      "\r",
      "124it [4:15:36, 130.20s/it]"
     ]
    },
    {
     "name": "stdout",
     "output_type": "stream",
     "text": [
      "- Learning Progress : 99.90 % \r",
      "- Learning Progress : 100.00 % \r",
      "123\n",
      "Test Accuracy = 0.9758064516129032\n"
     ]
    },
    {
     "name": "stderr",
     "output_type": "stream",
     "text": [
      "\r",
      "125it [4:15:36, 91.22s/it] "
     ]
    },
    {
     "name": "stdout",
     "output_type": "stream",
     "text": [
      "124\n",
      "- Learning Progress : 99.90 % \r"
     ]
    },
    {
     "name": "stderr",
     "output_type": "stream",
     "text": [
      "\r",
      "126it [4:17:47, 103.04s/it]"
     ]
    },
    {
     "name": "stdout",
     "output_type": "stream",
     "text": [
      "125earning Progress : 100.00 % \n",
      "Test Accuracy = 0.9682539682539683\n",
      "- Learning Progress : 99.80 % \r"
     ]
    },
    {
     "name": "stderr",
     "output_type": "stream",
     "text": [
      "\r",
      "127it [4:19:59, 111.75s/it]"
     ]
    },
    {
     "name": "stdout",
     "output_type": "stream",
     "text": [
      "126earning Progress : 100.00 % \n",
      "Test Accuracy = 0.968503937007874\n",
      "- Learning Progress : 99.80 % \r"
     ]
    },
    {
     "name": "stderr",
     "output_type": "stream",
     "text": [
      "\r",
      "128it [4:22:10, 117.58s/it]"
     ]
    },
    {
     "name": "stdout",
     "output_type": "stream",
     "text": [
      "127earning Progress : 100.00 % \n",
      "Test Accuracy = 0.96875\n",
      "- Learning Progress : 99.90 % \r"
     ]
    },
    {
     "name": "stderr",
     "output_type": "stream",
     "text": [
      "\r",
      "129it [4:24:22, 121.68s/it]"
     ]
    },
    {
     "name": "stdout",
     "output_type": "stream",
     "text": [
      "128earning Progress : 100.00 % \n",
      "Test Accuracy = 0.9689922480620154\n",
      "- Learning Progress : 99.80 % \r"
     ]
    },
    {
     "name": "stderr",
     "output_type": "stream",
     "text": [
      "\r",
      "130it [4:26:36, 125.50s/it]"
     ]
    },
    {
     "name": "stdout",
     "output_type": "stream",
     "text": [
      "129earning Progress : 100.00 % \n",
      "Test Accuracy = 0.9692307692307692\n",
      "- Learning Progress : 99.80 % \r"
     ]
    },
    {
     "name": "stderr",
     "output_type": "stream",
     "text": [
      "\r",
      "131it [4:28:47, 127.01s/it]"
     ]
    },
    {
     "name": "stdout",
     "output_type": "stream",
     "text": [
      "130earning Progress : 100.00 % \n",
      "Test Accuracy = 0.9694656488549618\n",
      "- Learning Progress : 99.90 % \r"
     ]
    },
    {
     "name": "stderr",
     "output_type": "stream",
     "text": [
      "\r",
      "132it [4:30:55, 127.43s/it]"
     ]
    },
    {
     "name": "stdout",
     "output_type": "stream",
     "text": [
      "131earning Progress : 100.00 % \n",
      "Test Accuracy = 0.9696969696969697\n",
      "- Learning Progress : 99.90 % \r"
     ]
    },
    {
     "name": "stderr",
     "output_type": "stream",
     "text": [
      "\r",
      "133it [4:33:08, 129.20s/it]"
     ]
    },
    {
     "name": "stdout",
     "output_type": "stream",
     "text": [
      "132earning Progress : 100.00 % \n",
      "Test Accuracy = 0.9699248120300752\n",
      "- Learning Progress : 99.80 % \r"
     ]
    },
    {
     "name": "stderr",
     "output_type": "stream",
     "text": [
      "\r",
      "134it [4:35:20, 130.07s/it]"
     ]
    },
    {
     "name": "stdout",
     "output_type": "stream",
     "text": [
      "133earning Progress : 100.00 % \n",
      "Test Accuracy = 0.9701492537313433\n",
      "- Learning Progress : 99.80 % \r"
     ]
    },
    {
     "name": "stderr",
     "output_type": "stream",
     "text": [
      "\r",
      "136it [4:39:45, 131.47s/it]"
     ]
    },
    {
     "name": "stdout",
     "output_type": "stream",
     "text": [
      "135earning Progress : 100.00 % \n",
      "Test Accuracy = 0.9705882352941176\n",
      "- Learning Progress : 99.90 % \r"
     ]
    },
    {
     "name": "stderr",
     "output_type": "stream",
     "text": [
      "\r",
      "137it [4:41:57, 131.49s/it]"
     ]
    },
    {
     "name": "stdout",
     "output_type": "stream",
     "text": [
      "136earning Progress : 100.00 % \n",
      "Test Accuracy = 0.9708029197080292\n",
      "- Learning Progress : 99.90 % \r"
     ]
    },
    {
     "name": "stderr",
     "output_type": "stream",
     "text": [
      "\r",
      "138it [4:44:07, 130.99s/it]"
     ]
    },
    {
     "name": "stdout",
     "output_type": "stream",
     "text": [
      "137earning Progress : 100.00 % \n",
      "Test Accuracy = 0.9710144927536232\n",
      "- Learning Progress : 99.90 % \r"
     ]
    },
    {
     "name": "stderr",
     "output_type": "stream",
     "text": [
      "\r",
      "139it [4:46:21, 131.86s/it]"
     ]
    },
    {
     "name": "stdout",
     "output_type": "stream",
     "text": [
      "138earning Progress : 100.00 % \n",
      "Test Accuracy = 0.9712230215827338\n",
      "- Learning Progress : 99.90 % \r"
     ]
    },
    {
     "name": "stderr",
     "output_type": "stream",
     "text": [
      "\r",
      "140it [4:48:31, 131.53s/it]"
     ]
    },
    {
     "name": "stdout",
     "output_type": "stream",
     "text": [
      "139earning Progress : 100.00 % \n",
      "Test Accuracy = 0.9714285714285714\n",
      "- Learning Progress : 100.00 % \r"
     ]
    },
    {
     "name": "stderr",
     "output_type": "stream",
     "text": [
      "\r",
      "141it [4:50:40, 130.67s/it]"
     ]
    },
    {
     "name": "stdout",
     "output_type": "stream",
     "text": [
      "140\n",
      "Test Accuracy = 0.9716312056737588\n",
      "- Learning Progress : 68.10 % \r"
     ]
    },
    {
     "name": "stderr",
     "output_type": "stream",
     "text": [
      "IOPub message rate exceeded.\n",
      "The notebook server will temporarily stop sending output\n",
      "to the client in order to avoid crashing it.\n",
      "To change this limit, set the config variable\n",
      "`--NotebookApp.iopub_msg_rate_limit`.\n",
      "\n",
      "Current values:\n",
      "NotebookApp.iopub_msg_rate_limit=1000.0 (msgs/sec)\n",
      "NotebookApp.rate_limit_window=3.0 (secs)\n",
      "\n"
     ]
    },
    {
     "name": "stdout",
     "output_type": "stream",
     "text": [
      "- Learning Progress : 99.90 % \r"
     ]
    },
    {
     "name": "stderr",
     "output_type": "stream",
     "text": [
      "\r",
      "151it [5:10:26, 127.33s/it]"
     ]
    },
    {
     "name": "stdout",
     "output_type": "stream",
     "text": [
      "150earning Progress : 100.00 % \n",
      "Test Accuracy = 0.9668874172185431\n",
      "- Learning Progress : 99.80 % \r"
     ]
    },
    {
     "name": "stderr",
     "output_type": "stream",
     "text": [
      "\r",
      "152it [5:12:40, 129.33s/it]"
     ]
    },
    {
     "name": "stdout",
     "output_type": "stream",
     "text": [
      "151earning Progress : 100.00 % \n",
      "Test Accuracy = 0.9671052631578947\n",
      "- Learning Progress : 99.80 % \r"
     ]
    },
    {
     "name": "stderr",
     "output_type": "stream",
     "text": [
      "\r",
      "153it [5:14:50, 129.74s/it]"
     ]
    },
    {
     "name": "stdout",
     "output_type": "stream",
     "text": [
      "152earning Progress : 100.00 % \n",
      "Test Accuracy = 0.9673202614379085\n",
      "- Learning Progress : 99.80 % \r"
     ]
    },
    {
     "name": "stderr",
     "output_type": "stream",
     "text": [
      "\r",
      "154it [5:17:05, 131.07s/it]"
     ]
    },
    {
     "name": "stdout",
     "output_type": "stream",
     "text": [
      "153earning Progress : 100.00 % \n",
      "Test Accuracy = 0.9675324675324676\n",
      "- Learning Progress : 100.00 % \r"
     ]
    },
    {
     "name": "stderr",
     "output_type": "stream",
     "text": [
      "\r",
      "155it [5:19:17, 131.55s/it]"
     ]
    },
    {
     "name": "stdout",
     "output_type": "stream",
     "text": [
      "154\n",
      "Test Accuracy = 0.967741935483871\n",
      "- Learning Progress : 99.90 % \r"
     ]
    },
    {
     "name": "stderr",
     "output_type": "stream",
     "text": [
      "\r",
      "156it [5:21:26, 130.85s/it]"
     ]
    },
    {
     "name": "stdout",
     "output_type": "stream",
     "text": [
      "155earning Progress : 100.00 % \n",
      "Test Accuracy = 0.967948717948718\n",
      "- Learning Progress : 56.10 % \r"
     ]
    },
    {
     "name": "stderr",
     "output_type": "stream",
     "text": [
      "IOPub message rate exceeded.\n",
      "The notebook server will temporarily stop sending output\n",
      "to the client in order to avoid crashing it.\n",
      "To change this limit, set the config variable\n",
      "`--NotebookApp.iopub_msg_rate_limit`.\n",
      "\n",
      "Current values:\n",
      "NotebookApp.iopub_msg_rate_limit=1000.0 (msgs/sec)\n",
      "NotebookApp.rate_limit_window=3.0 (secs)\n",
      "\n"
     ]
    },
    {
     "name": "stdout",
     "output_type": "stream",
     "text": [
      "- Learning Progress : 99.90 % \r"
     ]
    },
    {
     "name": "stderr",
     "output_type": "stream",
     "text": [
      "\r",
      "166it [5:41:21, 131.39s/it]"
     ]
    },
    {
     "name": "stdout",
     "output_type": "stream",
     "text": [
      "165earning Progress : 100.00 % \n",
      "Test Accuracy = 0.963855421686747\n",
      "- Learning Progress : 99.80 % \r"
     ]
    },
    {
     "name": "stderr",
     "output_type": "stream",
     "text": [
      "\r",
      "167it [5:43:34, 131.71s/it]"
     ]
    },
    {
     "name": "stdout",
     "output_type": "stream",
     "text": [
      "166earning Progress : 100.00 % \n",
      "Test Accuracy = 0.9640718562874252\n",
      "- Learning Progress : 99.80 % \r"
     ]
    },
    {
     "name": "stderr",
     "output_type": "stream",
     "text": [
      "\r",
      "168it [5:45:45, 131.68s/it]"
     ]
    },
    {
     "name": "stdout",
     "output_type": "stream",
     "text": [
      "167earning Progress : 100.00 % \n",
      "Test Accuracy = 0.9642857142857143\n",
      "- Learning Progress : 99.80 % \r"
     ]
    },
    {
     "name": "stderr",
     "output_type": "stream",
     "text": [
      "\r",
      "169it [5:47:59, 132.20s/it]"
     ]
    },
    {
     "name": "stdout",
     "output_type": "stream",
     "text": [
      "168earning Progress : 100.00 % \n",
      "Test Accuracy = 0.9644970414201184\n",
      "- Learning Progress : 99.80 % \r"
     ]
    },
    {
     "name": "stderr",
     "output_type": "stream",
     "text": [
      "\r",
      "170it [5:50:09, 131.66s/it]"
     ]
    },
    {
     "name": "stdout",
     "output_type": "stream",
     "text": [
      "169earning Progress : 100.00 % \n",
      "Test Accuracy = 0.9647058823529412\n",
      "- Learning Progress : 99.90 % \r"
     ]
    },
    {
     "name": "stderr",
     "output_type": "stream",
     "text": [
      "\r",
      "171it [5:52:16, 130.33s/it]"
     ]
    },
    {
     "name": "stdout",
     "output_type": "stream",
     "text": [
      "170earning Progress : 100.00 % \n",
      "Test Accuracy = 0.9649122807017544\n",
      "- Learning Progress : 42.60 % \r"
     ]
    },
    {
     "name": "stderr",
     "output_type": "stream",
     "text": [
      "IOPub message rate exceeded.\n",
      "The notebook server will temporarily stop sending output\n",
      "to the client in order to avoid crashing it.\n",
      "To change this limit, set the config variable\n",
      "`--NotebookApp.iopub_msg_rate_limit`.\n",
      "\n",
      "Current values:\n",
      "NotebookApp.iopub_msg_rate_limit=1000.0 (msgs/sec)\n",
      "NotebookApp.rate_limit_window=3.0 (secs)\n",
      "\n"
     ]
    },
    {
     "name": "stdout",
     "output_type": "stream",
     "text": [
      "- Learning Progress : 99.90 % \r"
     ]
    },
    {
     "name": "stderr",
     "output_type": "stream",
     "text": [
      "\r",
      "183it [6:18:30, 131.14s/it]"
     ]
    },
    {
     "name": "stdout",
     "output_type": "stream",
     "text": [
      "182earning Progress : 100.00 % \n",
      "Test Accuracy = 0.9672131147540983\n",
      "- Learning Progress : 99.90 % \r"
     ]
    },
    {
     "name": "stderr",
     "output_type": "stream",
     "text": [
      "\r",
      "184it [6:20:43, 131.65s/it]"
     ]
    },
    {
     "name": "stdout",
     "output_type": "stream",
     "text": [
      "183earning Progress : 100.00 % \n",
      "Test Accuracy = 0.967391304347826\n",
      "- Learning Progress : 99.90 % \r"
     ]
    },
    {
     "name": "stderr",
     "output_type": "stream",
     "text": [
      "\r",
      "185it [6:22:52, 130.79s/it]"
     ]
    },
    {
     "name": "stdout",
     "output_type": "stream",
     "text": [
      "184earning Progress : 100.00 % \n",
      "Test Accuracy = 0.9675675675675676\n",
      "- Learning Progress : 99.80 % \r"
     ]
    },
    {
     "name": "stderr",
     "output_type": "stream",
     "text": [
      "\r",
      "186it [6:25:06, 131.78s/it]"
     ]
    },
    {
     "name": "stdout",
     "output_type": "stream",
     "text": [
      "185earning Progress : 100.00 % \n",
      "Test Accuracy = 0.967741935483871\n",
      "- Learning Progress : 99.80 % \r"
     ]
    },
    {
     "name": "stderr",
     "output_type": "stream",
     "text": [
      "\r",
      "187it [6:27:18, 131.76s/it]"
     ]
    },
    {
     "name": "stdout",
     "output_type": "stream",
     "text": [
      "186earning Progress : 100.00 % \n",
      "Test Accuracy = 0.9679144385026738\n",
      "- Learning Progress : 99.90 % \r"
     ]
    },
    {
     "name": "stderr",
     "output_type": "stream",
     "text": [
      "\r",
      "188it [6:29:28, 131.40s/it]"
     ]
    },
    {
     "name": "stdout",
     "output_type": "stream",
     "text": [
      "187earning Progress : 100.00 % \n",
      "Test Accuracy = 0.9680851063829787\n",
      "- Learning Progress : 67.10 % \r"
     ]
    },
    {
     "name": "stderr",
     "output_type": "stream",
     "text": [
      "IOPub message rate exceeded.\n",
      "The notebook server will temporarily stop sending output\n",
      "to the client in order to avoid crashing it.\n",
      "To change this limit, set the config variable\n",
      "`--NotebookApp.iopub_msg_rate_limit`.\n",
      "\n",
      "Current values:\n",
      "NotebookApp.iopub_msg_rate_limit=1000.0 (msgs/sec)\n",
      "NotebookApp.rate_limit_window=3.0 (secs)\n",
      "\n"
     ]
    },
    {
     "name": "stdout",
     "output_type": "stream",
     "text": [
      "- Learning Progress : 99.80 % \r"
     ]
    },
    {
     "name": "stderr",
     "output_type": "stream",
     "text": [
      "\r",
      "201it [6:57:56, 131.40s/it]"
     ]
    },
    {
     "name": "stdout",
     "output_type": "stream",
     "text": [
      "200earning Progress : 100.00 % \n",
      "Test Accuracy = 0.9701492537313433\n",
      "- Learning Progress : 99.90 % \r"
     ]
    },
    {
     "name": "stderr",
     "output_type": "stream",
     "text": [
      "\r",
      "202it [7:00:08, 131.51s/it]"
     ]
    },
    {
     "name": "stdout",
     "output_type": "stream",
     "text": [
      "201earning Progress : 100.00 % \n",
      "Test Accuracy = 0.9702970297029703\n",
      "- Learning Progress : 99.90 % \r"
     ]
    },
    {
     "name": "stderr",
     "output_type": "stream",
     "text": [
      "\r",
      "203it [7:02:19, 131.34s/it]"
     ]
    },
    {
     "name": "stdout",
     "output_type": "stream",
     "text": [
      "202earning Progress : 100.00 % \n",
      "Test Accuracy = 0.9704433497536946\n",
      "- Learning Progress : 99.90 % \r"
     ]
    },
    {
     "name": "stderr",
     "output_type": "stream",
     "text": [
      "\r",
      "204it [7:04:31, 131.56s/it]"
     ]
    },
    {
     "name": "stdout",
     "output_type": "stream",
     "text": [
      "203earning Progress : 100.00 % \n",
      "Test Accuracy = 0.9705882352941176\n",
      "- Learning Progress : 99.80 % \r"
     ]
    },
    {
     "name": "stderr",
     "output_type": "stream",
     "text": [
      "\r",
      "205it [7:06:43, 131.76s/it]"
     ]
    },
    {
     "name": "stdout",
     "output_type": "stream",
     "text": [
      "204earning Progress : 100.00 % \n",
      "Test Accuracy = 0.9707317073170731\n",
      "- Learning Progress : 99.90 % \r"
     ]
    },
    {
     "name": "stderr",
     "output_type": "stream",
     "text": [
      "\r",
      "206it [7:08:51, 130.63s/it]"
     ]
    },
    {
     "name": "stdout",
     "output_type": "stream",
     "text": [
      "205earning Progress : 100.00 % \n",
      "Test Accuracy = 0.970873786407767\n",
      "- Learning Progress : 44.40 % \r"
     ]
    },
    {
     "name": "stderr",
     "output_type": "stream",
     "text": [
      "IOPub message rate exceeded.\n",
      "The notebook server will temporarily stop sending output\n",
      "to the client in order to avoid crashing it.\n",
      "To change this limit, set the config variable\n",
      "`--NotebookApp.iopub_msg_rate_limit`.\n",
      "\n",
      "Current values:\n",
      "NotebookApp.iopub_msg_rate_limit=1000.0 (msgs/sec)\n",
      "NotebookApp.rate_limit_window=3.0 (secs)\n",
      "\n"
     ]
    },
    {
     "name": "stdout",
     "output_type": "stream",
     "text": [
      "- Learning Progress : 99.90 % \r"
     ]
    },
    {
     "name": "stderr",
     "output_type": "stream",
     "text": [
      "\r",
      "217it [7:32:54, 131.69s/it]"
     ]
    },
    {
     "name": "stdout",
     "output_type": "stream",
     "text": [
      "- Learning Progress : 100.00 % \r",
      "216\n",
      "Test Accuracy = 0.9723502304147466\n"
     ]
    },
    {
     "name": "stderr",
     "output_type": "stream",
     "text": [
      "\r",
      "218it [7:32:54, 92.25s/it] "
     ]
    },
    {
     "name": "stdout",
     "output_type": "stream",
     "text": [
      "217\n",
      "- Learning Progress : 99.90 % \r"
     ]
    },
    {
     "name": "stderr",
     "output_type": "stream",
     "text": [
      "\r",
      "219it [7:35:08, 104.79s/it]"
     ]
    },
    {
     "name": "stdout",
     "output_type": "stream",
     "text": [
      "218earning Progress : 100.00 % \n",
      "Test Accuracy = 0.9680365296803652\n",
      "- Learning Progress : 99.90 % \r"
     ]
    },
    {
     "name": "stderr",
     "output_type": "stream",
     "text": [
      "\r",
      "220it [7:37:16, 111.62s/it]"
     ]
    },
    {
     "name": "stdout",
     "output_type": "stream",
     "text": [
      "219earning Progress : 100.00 % \n",
      "Test Accuracy = 0.9681818181818181\n",
      "- Learning Progress : 100.00 % \r"
     ]
    },
    {
     "name": "stderr",
     "output_type": "stream",
     "text": [
      "\r",
      "221it [7:39:26, 117.20s/it]"
     ]
    },
    {
     "name": "stdout",
     "output_type": "stream",
     "text": [
      "220\n",
      "Test Accuracy = 0.9683257918552036\n",
      "- Learning Progress : 99.80 % \r"
     ]
    },
    {
     "name": "stderr",
     "output_type": "stream",
     "text": [
      "\r",
      "222it [7:41:38, 121.58s/it]"
     ]
    },
    {
     "name": "stdout",
     "output_type": "stream",
     "text": [
      "221earning Progress : 100.00 % \n",
      "Test Accuracy = 0.9684684684684685\n",
      "- Learning Progress : 99.90 % \r"
     ]
    },
    {
     "name": "stderr",
     "output_type": "stream",
     "text": [
      "\r",
      "223it [7:43:52, 125.51s/it]"
     ]
    },
    {
     "name": "stdout",
     "output_type": "stream",
     "text": [
      "222earning Progress : 100.00 % \n",
      "Test Accuracy = 0.968609865470852\n",
      "- Learning Progress : 98.20 % \r"
     ]
    },
    {
     "name": "stderr",
     "output_type": "stream",
     "text": [
      "IOPub message rate exceeded.\n",
      "The notebook server will temporarily stop sending output\n",
      "to the client in order to avoid crashing it.\n",
      "To change this limit, set the config variable\n",
      "`--NotebookApp.iopub_msg_rate_limit`.\n",
      "\n",
      "Current values:\n",
      "NotebookApp.iopub_msg_rate_limit=1000.0 (msgs/sec)\n",
      "NotebookApp.rate_limit_window=3.0 (secs)\n",
      "\n"
     ]
    },
    {
     "name": "stdout",
     "output_type": "stream",
     "text": [
      "- Learning Progress : 99.90 % \r"
     ]
    },
    {
     "name": "stderr",
     "output_type": "stream",
     "text": [
      "\r",
      "236it [8:12:20, 131.47s/it]"
     ]
    },
    {
     "name": "stdout",
     "output_type": "stream",
     "text": [
      "235earning Progress : 100.00 % \n",
      "Test Accuracy = 0.9703389830508474\n",
      "- Learning Progress : 99.80 % \r"
     ]
    },
    {
     "name": "stderr",
     "output_type": "stream",
     "text": [
      "\r",
      "237it [8:14:26, 129.89s/it]"
     ]
    },
    {
     "name": "stdout",
     "output_type": "stream",
     "text": [
      "236earning Progress : 100.00 % \n",
      "Test Accuracy = 0.9704641350210971\n",
      "- Learning Progress : 99.80 % \r"
     ]
    },
    {
     "name": "stderr",
     "output_type": "stream",
     "text": [
      "\r",
      "238it [8:16:38, 130.60s/it]"
     ]
    },
    {
     "name": "stdout",
     "output_type": "stream",
     "text": [
      "237earning Progress : 100.00 % \n",
      "Test Accuracy = 0.9705882352941176\n",
      "- Learning Progress : 99.90 % \r"
     ]
    },
    {
     "name": "stderr",
     "output_type": "stream",
     "text": [
      "\r",
      "239it [8:18:49, 130.62s/it]"
     ]
    },
    {
     "name": "stdout",
     "output_type": "stream",
     "text": [
      "238earning Progress : 100.00 % \n",
      "Test Accuracy = 0.9707112970711297\n",
      "- Learning Progress : 99.90 % \r"
     ]
    },
    {
     "name": "stderr",
     "output_type": "stream",
     "text": [
      "\r",
      "240it [8:21:02, 131.30s/it]"
     ]
    },
    {
     "name": "stdout",
     "output_type": "stream",
     "text": [
      "239earning Progress : 100.00 % \n",
      "Test Accuracy = 0.9708333333333333\n",
      "- Learning Progress : 99.80 % \r"
     ]
    },
    {
     "name": "stderr",
     "output_type": "stream",
     "text": [
      "\r",
      "241it [8:23:16, 132.06s/it]"
     ]
    },
    {
     "name": "stdout",
     "output_type": "stream",
     "text": [
      "240earning Progress : 100.00 % \n",
      "Test Accuracy = 0.970954356846473\n",
      "- Learning Progress : 75.80 % \r"
     ]
    },
    {
     "name": "stderr",
     "output_type": "stream",
     "text": [
      "IOPub message rate exceeded.\n",
      "The notebook server will temporarily stop sending output\n",
      "to the client in order to avoid crashing it.\n",
      "To change this limit, set the config variable\n",
      "`--NotebookApp.iopub_msg_rate_limit`.\n",
      "\n",
      "Current values:\n",
      "NotebookApp.iopub_msg_rate_limit=1000.0 (msgs/sec)\n",
      "NotebookApp.rate_limit_window=3.0 (secs)\n",
      "\n"
     ]
    },
    {
     "name": "stdout",
     "output_type": "stream",
     "text": [
      "- Learning Progress : 99.80 % \r"
     ]
    },
    {
     "name": "stderr",
     "output_type": "stream",
     "text": [
      "\r",
      "251it [8:42:56, 111.19s/it]"
     ]
    },
    {
     "name": "stdout",
     "output_type": "stream",
     "text": [
      "250earning Progress : 100.00 % \n",
      "Test Accuracy = 0.9681274900398407\n",
      "- Learning Progress : 99.80 % \r"
     ]
    },
    {
     "name": "stderr",
     "output_type": "stream",
     "text": [
      "\r",
      "252it [8:45:11, 118.17s/it]"
     ]
    },
    {
     "name": "stdout",
     "output_type": "stream",
     "text": [
      "- Learning Progress : 99.90 % \r",
      "- Learning Progress : 100.00 % \r",
      "251\n",
      "Test Accuracy = 0.9682539682539683\n"
     ]
    },
    {
     "name": "stderr",
     "output_type": "stream",
     "text": [
      "\r",
      "253it [8:45:11, 82.80s/it] "
     ]
    },
    {
     "name": "stdout",
     "output_type": "stream",
     "text": [
      "252\n"
     ]
    },
    {
     "name": "stderr",
     "output_type": "stream",
     "text": [
      "\r",
      "254it [8:45:11, 58.02s/it]"
     ]
    },
    {
     "name": "stdout",
     "output_type": "stream",
     "text": [
      "253\n",
      "- Learning Progress : 99.80 % \r"
     ]
    },
    {
     "name": "stderr",
     "output_type": "stream",
     "text": [
      "\r",
      "255it [8:47:24, 80.50s/it]"
     ]
    },
    {
     "name": "stdout",
     "output_type": "stream",
     "text": [
      "254earning Progress : 100.00 % \n",
      "Test Accuracy = 0.9607843137254902\n",
      "- Learning Progress : 99.90 % \r"
     ]
    },
    {
     "name": "stderr",
     "output_type": "stream",
     "text": [
      "\r",
      "256it [8:49:37, 96.06s/it]"
     ]
    },
    {
     "name": "stdout",
     "output_type": "stream",
     "text": [
      "255earning Progress : 100.00 % \n",
      "Test Accuracy = 0.9609375\n",
      "- Learning Progress : 99.80 % \r"
     ]
    },
    {
     "name": "stderr",
     "output_type": "stream",
     "text": [
      "\r",
      "257it [8:51:45, 105.78s/it]"
     ]
    },
    {
     "name": "stdout",
     "output_type": "stream",
     "text": [
      "256earning Progress : 100.00 % \n",
      "Test Accuracy = 0.9610894941634242\n",
      "- Learning Progress : 99.90 % \r"
     ]
    },
    {
     "name": "stderr",
     "output_type": "stream",
     "text": [
      "\r",
      "258it [8:53:59, 114.32s/it]"
     ]
    },
    {
     "name": "stdout",
     "output_type": "stream",
     "text": [
      "257earning Progress : 100.00 % \n",
      "Test Accuracy = 0.9612403100775194\n",
      "- Learning Progress : 99.80 % \r"
     ]
    },
    {
     "name": "stderr",
     "output_type": "stream",
     "text": [
      "\r",
      "259it [8:56:14, 120.52s/it]"
     ]
    },
    {
     "name": "stdout",
     "output_type": "stream",
     "text": [
      "258earning Progress : 100.00 % \n",
      "Test Accuracy = 0.9613899613899614\n",
      "- Learning Progress : 99.80 % \r"
     ]
    },
    {
     "name": "stderr",
     "output_type": "stream",
     "text": [
      "\r",
      "260it [8:58:24, 123.24s/it]"
     ]
    },
    {
     "name": "stdout",
     "output_type": "stream",
     "text": [
      "259earning Progress : 100.00 % \n",
      "Test Accuracy = 0.9615384615384616\n",
      "- Learning Progress : 99.80 % \r"
     ]
    },
    {
     "name": "stderr",
     "output_type": "stream",
     "text": [
      "\r",
      "261it [9:00:38, 126.51s/it]"
     ]
    },
    {
     "name": "stdout",
     "output_type": "stream",
     "text": [
      "260earning Progress : 100.00 % \n",
      "Test Accuracy = 0.9616858237547893\n",
      "- Learning Progress : 99.80 % \r"
     ]
    },
    {
     "name": "stderr",
     "output_type": "stream",
     "text": [
      "\r",
      "262it [9:02:52, 128.83s/it]"
     ]
    },
    {
     "name": "stdout",
     "output_type": "stream",
     "text": [
      "261earning Progress : 100.00 % \n",
      "Test Accuracy = 0.9618320610687023\n",
      "- Learning Progress : 99.80 % \r"
     ]
    },
    {
     "name": "stderr",
     "output_type": "stream",
     "text": [
      "\r",
      "263it [9:05:07, 130.42s/it]"
     ]
    },
    {
     "name": "stdout",
     "output_type": "stream",
     "text": [
      "262earning Progress : 100.00 % \n",
      "Test Accuracy = 0.9619771863117871\n",
      "- Learning Progress : 99.90 % \r"
     ]
    },
    {
     "name": "stderr",
     "output_type": "stream",
     "text": [
      "\r",
      "264it [9:07:26, 133.14s/it]"
     ]
    },
    {
     "name": "stdout",
     "output_type": "stream",
     "text": [
      "263earning Progress : 100.00 % \n",
      "Test Accuracy = 0.9621212121212122\n",
      "- Learning Progress : 99.90 % \r"
     ]
    },
    {
     "name": "stderr",
     "output_type": "stream",
     "text": [
      "\r",
      "265it [9:09:40, 133.36s/it]"
     ]
    },
    {
     "name": "stdout",
     "output_type": "stream",
     "text": [
      "264earning Progress : 100.00 % \n",
      "Test Accuracy = 0.9622641509433962\n",
      "- Learning Progress : 99.90 % \r"
     ]
    },
    {
     "name": "stderr",
     "output_type": "stream",
     "text": [
      "\r",
      "266it [9:11:55, 133.87s/it]"
     ]
    },
    {
     "name": "stdout",
     "output_type": "stream",
     "text": [
      "265earning Progress : 100.00 % \n",
      "Test Accuracy = 0.9624060150375939\n",
      "- Learning Progress : 99.80 % \r"
     ]
    },
    {
     "name": "stderr",
     "output_type": "stream",
     "text": [
      "\r",
      "267it [9:14:07, 133.26s/it]"
     ]
    },
    {
     "name": "stdout",
     "output_type": "stream",
     "text": [
      "266earning Progress : 100.00 % \n",
      "Test Accuracy = 0.9625468164794008\n",
      "- Learning Progress : 100.00 % \r"
     ]
    },
    {
     "name": "stderr",
     "output_type": "stream",
     "text": [
      "\r",
      "268it [9:16:21, 133.46s/it]"
     ]
    },
    {
     "name": "stdout",
     "output_type": "stream",
     "text": [
      "267\n",
      "Test Accuracy = 0.9626865671641791\n",
      "- Learning Progress : 99.80 % \r"
     ]
    },
    {
     "name": "stderr",
     "output_type": "stream",
     "text": [
      "\r",
      "269it [9:18:38, 134.73s/it]"
     ]
    },
    {
     "name": "stdout",
     "output_type": "stream",
     "text": [
      "268earning Progress : 100.00 % \n",
      "Test Accuracy = 0.9628252788104089\n",
      "- Learning Progress : 99.90 % \r"
     ]
    },
    {
     "name": "stderr",
     "output_type": "stream",
     "text": [
      "\r",
      "270it [9:20:54, 134.97s/it]"
     ]
    },
    {
     "name": "stdout",
     "output_type": "stream",
     "text": [
      "269earning Progress : 100.00 % \n",
      "Test Accuracy = 0.9629629629629629\n",
      "- Learning Progress : 99.80 % \r"
     ]
    },
    {
     "name": "stderr",
     "output_type": "stream",
     "text": [
      "\r",
      "271it [9:23:09, 135.01s/it]"
     ]
    },
    {
     "name": "stdout",
     "output_type": "stream",
     "text": [
      "270earning Progress : 100.00 % \n",
      "Test Accuracy = 0.9630996309963099\n",
      "- Learning Progress : 99.90 % \r"
     ]
    },
    {
     "name": "stderr",
     "output_type": "stream",
     "text": [
      "\r",
      "272it [9:25:24, 135.03s/it]"
     ]
    },
    {
     "name": "stdout",
     "output_type": "stream",
     "text": [
      "271earning Progress : 100.00 % \n",
      "Test Accuracy = 0.9632352941176471\n",
      "- Learning Progress : 99.90 % \r"
     ]
    },
    {
     "name": "stderr",
     "output_type": "stream",
     "text": [
      "\r",
      "273it [9:27:40, 135.36s/it]"
     ]
    },
    {
     "name": "stdout",
     "output_type": "stream",
     "text": [
      "272earning Progress : 100.00 % \n",
      "Test Accuracy = 0.9633699633699634\n",
      "- Learning Progress : 100.00 % \r"
     ]
    },
    {
     "name": "stderr",
     "output_type": "stream",
     "text": [
      "\r",
      "274it [9:29:56, 135.41s/it]"
     ]
    },
    {
     "name": "stdout",
     "output_type": "stream",
     "text": [
      "273\n",
      "Test Accuracy = 0.9635036496350365\n",
      "- Learning Progress : 99.90 % \r"
     ]
    },
    {
     "name": "stderr",
     "output_type": "stream",
     "text": [
      "\r",
      "276it [9:34:18, 133.00s/it]"
     ]
    },
    {
     "name": "stdout",
     "output_type": "stream",
     "text": [
      "275earning Progress : 100.00 % \n",
      "Test Accuracy = 0.9637681159420289\n",
      "- Learning Progress : 99.90 % \r"
     ]
    },
    {
     "name": "stderr",
     "output_type": "stream",
     "text": [
      "\r",
      "277it [9:36:28, 132.14s/it]"
     ]
    },
    {
     "name": "stdout",
     "output_type": "stream",
     "text": [
      "276earning Progress : 100.00 % \n",
      "Test Accuracy = 0.9638989169675091\n",
      "- Learning Progress : 99.90 % \r"
     ]
    },
    {
     "name": "stderr",
     "output_type": "stream",
     "text": [
      "\r",
      "278it [9:38:43, 133.13s/it]"
     ]
    },
    {
     "name": "stdout",
     "output_type": "stream",
     "text": [
      "277earning Progress : 100.00 % \n",
      "Test Accuracy = 0.9640287769784173\n",
      "- Learning Progress : 99.90 % \r"
     ]
    },
    {
     "name": "stderr",
     "output_type": "stream",
     "text": [
      "\r",
      "279it [9:40:55, 132.77s/it]"
     ]
    },
    {
     "name": "stdout",
     "output_type": "stream",
     "text": [
      "- Learning Progress : 100.00 % \r",
      "278\n",
      "Test Accuracy = 0.96415770609319\n"
     ]
    },
    {
     "name": "stderr",
     "output_type": "stream",
     "text": [
      "\r",
      "280it [9:40:56, 93.09s/it] "
     ]
    },
    {
     "name": "stdout",
     "output_type": "stream",
     "text": [
      "279\n"
     ]
    },
    {
     "name": "stderr",
     "output_type": "stream",
     "text": [
      "\r",
      "281it [9:40:56, 65.22s/it]"
     ]
    },
    {
     "name": "stdout",
     "output_type": "stream",
     "text": [
      "280\n",
      "- Learning Progress : 100.00 % \r"
     ]
    },
    {
     "name": "stderr",
     "output_type": "stream",
     "text": [
      "\r",
      "282it [9:43:02, 83.37s/it]"
     ]
    },
    {
     "name": "stdout",
     "output_type": "stream",
     "text": [
      "281\n",
      "Test Accuracy = 0.9574468085106383\n",
      "- Learning Progress : 99.80 % \r"
     ]
    },
    {
     "name": "stderr",
     "output_type": "stream",
     "text": [
      "\r",
      "283it [9:45:13, 97.59s/it]"
     ]
    },
    {
     "name": "stdout",
     "output_type": "stream",
     "text": [
      "282earning Progress : 100.00 % \n",
      "Test Accuracy = 0.9575971731448764\n",
      "- Learning Progress : 69.40 % \r"
     ]
    },
    {
     "name": "stderr",
     "output_type": "stream",
     "text": [
      "IOPub message rate exceeded.\n",
      "The notebook server will temporarily stop sending output\n",
      "to the client in order to avoid crashing it.\n",
      "To change this limit, set the config variable\n",
      "`--NotebookApp.iopub_msg_rate_limit`.\n",
      "\n",
      "Current values:\n",
      "NotebookApp.iopub_msg_rate_limit=1000.0 (msgs/sec)\n",
      "NotebookApp.rate_limit_window=3.0 (secs)\n",
      "\n"
     ]
    },
    {
     "name": "stdout",
     "output_type": "stream",
     "text": [
      "- Learning Progress : 99.90 % \r"
     ]
    },
    {
     "name": "stderr",
     "output_type": "stream",
     "text": [
      "\r",
      "297it [10:13:30, 127.10s/it]"
     ]
    },
    {
     "name": "stdout",
     "output_type": "stream",
     "text": [
      "296earning Progress : 100.00 % \n",
      "Test Accuracy = 0.9562289562289562\n",
      "- Learning Progress : 99.80 % \r"
     ]
    },
    {
     "name": "stderr",
     "output_type": "stream",
     "text": [
      "\r",
      "298it [10:15:43, 129.14s/it]"
     ]
    },
    {
     "name": "stdout",
     "output_type": "stream",
     "text": [
      "297earning Progress : 100.00 % \n",
      "Test Accuracy = 0.9563758389261745\n",
      "- Learning Progress : 99.90 % \r"
     ]
    },
    {
     "name": "stderr",
     "output_type": "stream",
     "text": [
      "\r",
      "299it [10:17:55, 129.81s/it]"
     ]
    },
    {
     "name": "stdout",
     "output_type": "stream",
     "text": [
      "298earning Progress : 100.00 % \n",
      "Test Accuracy = 0.9565217391304348\n",
      "- Learning Progress : 99.90 % \r"
     ]
    },
    {
     "name": "stderr",
     "output_type": "stream",
     "text": [
      "\r",
      "300it [10:20:07, 130.59s/it]"
     ]
    },
    {
     "name": "stdout",
     "output_type": "stream",
     "text": [
      "299earning Progress : 100.00 % \n",
      "Test Accuracy = 0.9566666666666667\n",
      "- Learning Progress : 99.70 % \r"
     ]
    },
    {
     "name": "stderr",
     "output_type": "stream",
     "text": [
      "\r",
      "301it [10:22:16, 129.99s/it]"
     ]
    },
    {
     "name": "stdout",
     "output_type": "stream",
     "text": [
      "300earning Progress : 100.00 % \n",
      "Test Accuracy = 0.9568106312292359\n",
      "- Learning Progress : 99.90 % \r"
     ]
    },
    {
     "name": "stderr",
     "output_type": "stream",
     "text": [
      "\r",
      "302it [10:24:32, 131.90s/it]"
     ]
    },
    {
     "name": "stdout",
     "output_type": "stream",
     "text": [
      "301earning Progress : 100.00 % \n",
      "Test Accuracy = 0.956953642384106\n",
      "- Learning Progress : 44.60 % \r"
     ]
    },
    {
     "name": "stderr",
     "output_type": "stream",
     "text": [
      "IOPub message rate exceeded.\n",
      "The notebook server will temporarily stop sending output\n",
      "to the client in order to avoid crashing it.\n",
      "To change this limit, set the config variable\n",
      "`--NotebookApp.iopub_msg_rate_limit`.\n",
      "\n",
      "Current values:\n",
      "NotebookApp.iopub_msg_rate_limit=1000.0 (msgs/sec)\n",
      "NotebookApp.rate_limit_window=3.0 (secs)\n",
      "\n"
     ]
    },
    {
     "name": "stdout",
     "output_type": "stream",
     "text": [
      "- Learning Progress : 99.80 % \r"
     ]
    },
    {
     "name": "stderr",
     "output_type": "stream",
     "text": [
      "\r",
      "313it [10:48:40, 132.30s/it]"
     ]
    },
    {
     "name": "stdout",
     "output_type": "stream",
     "text": [
      "312earning Progress : 100.00 % \n",
      "Test Accuracy = 0.9584664536741214\n",
      "- Learning Progress : 99.80 % \r"
     ]
    },
    {
     "name": "stderr",
     "output_type": "stream",
     "text": [
      "\r",
      "314it [10:50:51, 131.78s/it]"
     ]
    },
    {
     "name": "stdout",
     "output_type": "stream",
     "text": [
      "313earning Progress : 100.00 % \n",
      "Test Accuracy = 0.9585987261146497\n",
      "- Learning Progress : 99.80 % \r"
     ]
    },
    {
     "name": "stderr",
     "output_type": "stream",
     "text": [
      "\r",
      "315it [10:53:04, 132.42s/it]"
     ]
    },
    {
     "name": "stdout",
     "output_type": "stream",
     "text": [
      "314earning Progress : 100.00 % \n",
      "Test Accuracy = 0.9587301587301588\n",
      "- Learning Progress : 99.80 % \r"
     ]
    },
    {
     "name": "stderr",
     "output_type": "stream",
     "text": [
      "\r",
      "316it [10:55:15, 131.80s/it]"
     ]
    },
    {
     "name": "stdout",
     "output_type": "stream",
     "text": [
      "315earning Progress : 100.00 % \n",
      "Test Accuracy = 0.9588607594936709\n",
      "- Learning Progress : 99.80 % \r"
     ]
    },
    {
     "name": "stderr",
     "output_type": "stream",
     "text": [
      "\r",
      "317it [10:57:27, 132.00s/it]"
     ]
    },
    {
     "name": "stdout",
     "output_type": "stream",
     "text": [
      "316earning Progress : 100.00 % \n",
      "Test Accuracy = 0.9589905362776026\n",
      "- Learning Progress : 99.80 % \r"
     ]
    },
    {
     "name": "stderr",
     "output_type": "stream",
     "text": [
      "\r",
      "318it [10:59:37, 131.28s/it]"
     ]
    },
    {
     "name": "stdout",
     "output_type": "stream",
     "text": [
      "317earning Progress : 100.00 % \n",
      "Test Accuracy = 0.9591194968553459\n",
      "- Learning Progress : 99.90 % \r"
     ]
    },
    {
     "name": "stderr",
     "output_type": "stream",
     "text": [
      "\r",
      "319it [11:01:48, 131.25s/it]"
     ]
    },
    {
     "name": "stdout",
     "output_type": "stream",
     "text": [
      "318earning Progress : 100.00 % \n",
      "Test Accuracy = 0.9592476489028213\n",
      "- Learning Progress : 6.80 % \r"
     ]
    },
    {
     "name": "stderr",
     "output_type": "stream",
     "text": [
      "IOPub message rate exceeded.\n",
      "The notebook server will temporarily stop sending output\n",
      "to the client in order to avoid crashing it.\n",
      "To change this limit, set the config variable\n",
      "`--NotebookApp.iopub_msg_rate_limit`.\n",
      "\n",
      "Current values:\n",
      "NotebookApp.iopub_msg_rate_limit=1000.0 (msgs/sec)\n",
      "NotebookApp.rate_limit_window=3.0 (secs)\n",
      "\n"
     ]
    },
    {
     "name": "stdout",
     "output_type": "stream",
     "text": [
      "- Learning Progress : 99.80 % \r"
     ]
    },
    {
     "name": "stderr",
     "output_type": "stream",
     "text": [
      "\r",
      "332it [11:28:00, 122.41s/it]"
     ]
    },
    {
     "name": "stdout",
     "output_type": "stream",
     "text": [
      "331earning Progress : 100.00 % \n",
      "Test Accuracy = 0.9578313253012049\n",
      "- Learning Progress : 99.90 % \r"
     ]
    },
    {
     "name": "stderr",
     "output_type": "stream",
     "text": [
      "\r",
      "333it [11:30:11, 124.94s/it]"
     ]
    },
    {
     "name": "stdout",
     "output_type": "stream",
     "text": [
      "332earning Progress : 100.00 % \n",
      "Test Accuracy = 0.9579579579579579\n",
      "- Learning Progress : 99.90 % \r"
     ]
    },
    {
     "name": "stderr",
     "output_type": "stream",
     "text": [
      "\r",
      "334it [11:32:25, 127.47s/it]"
     ]
    },
    {
     "name": "stdout",
     "output_type": "stream",
     "text": [
      "333earning Progress : 100.00 % \n",
      "Test Accuracy = 0.9580838323353293\n",
      "- Learning Progress : 99.80 % \r"
     ]
    },
    {
     "name": "stderr",
     "output_type": "stream",
     "text": [
      "\r",
      "335it [11:34:35, 128.19s/it]"
     ]
    },
    {
     "name": "stdout",
     "output_type": "stream",
     "text": [
      "334earning Progress : 100.00 % \n",
      "Test Accuracy = 0.9582089552238806\n",
      "- Learning Progress : 99.80 % \r"
     ]
    },
    {
     "name": "stderr",
     "output_type": "stream",
     "text": [
      "\r",
      "336it [11:36:47, 129.32s/it]"
     ]
    },
    {
     "name": "stdout",
     "output_type": "stream",
     "text": [
      "335earning Progress : 100.00 % \n",
      "Test Accuracy = 0.9583333333333334\n",
      "- Learning Progress : 99.80 % \r"
     ]
    },
    {
     "name": "stderr",
     "output_type": "stream",
     "text": [
      "\r",
      "337it [11:38:53, 128.37s/it]"
     ]
    },
    {
     "name": "stdout",
     "output_type": "stream",
     "text": [
      "336earning Progress : 100.00 % \n",
      "Test Accuracy = 0.9584569732937686\n",
      "- Learning Progress : 85.10 % \r"
     ]
    },
    {
     "name": "stderr",
     "output_type": "stream",
     "text": [
      "IOPub message rate exceeded.\n",
      "The notebook server will temporarily stop sending output\n",
      "to the client in order to avoid crashing it.\n",
      "To change this limit, set the config variable\n",
      "`--NotebookApp.iopub_msg_rate_limit`.\n",
      "\n",
      "Current values:\n",
      "NotebookApp.iopub_msg_rate_limit=1000.0 (msgs/sec)\n",
      "NotebookApp.rate_limit_window=3.0 (secs)\n",
      "\n"
     ]
    },
    {
     "name": "stdout",
     "output_type": "stream",
     "text": [
      "- Learning Progress : 99.80 % \r"
     ]
    },
    {
     "name": "stderr",
     "output_type": "stream",
     "text": [
      "\r",
      "347it [12:00:44, 132.11s/it]"
     ]
    },
    {
     "name": "stdout",
     "output_type": "stream",
     "text": [
      "346earning Progress : 100.00 % \n",
      "Test Accuracy = 0.9596541786743515\n",
      "- Learning Progress : 99.90 % \r"
     ]
    },
    {
     "name": "stderr",
     "output_type": "stream",
     "text": [
      "\r",
      "348it [12:02:57, 132.39s/it]"
     ]
    },
    {
     "name": "stdout",
     "output_type": "stream",
     "text": [
      "347earning Progress : 100.00 % \n",
      "Test Accuracy = 0.9597701149425287\n",
      "- Learning Progress : 99.90 % \r"
     ]
    },
    {
     "name": "stderr",
     "output_type": "stream",
     "text": [
      "\r",
      "349it [12:05:08, 132.13s/it]"
     ]
    },
    {
     "name": "stdout",
     "output_type": "stream",
     "text": [
      "348earning Progress : 100.00 % \n",
      "Test Accuracy = 0.9598853868194842\n",
      "- Learning Progress : 99.80 % \r"
     ]
    },
    {
     "name": "stderr",
     "output_type": "stream",
     "text": [
      "\r",
      "350it [12:07:22, 132.53s/it]"
     ]
    },
    {
     "name": "stdout",
     "output_type": "stream",
     "text": [
      "349earning Progress : 100.00 % \n",
      "Test Accuracy = 0.96\n",
      "- Learning Progress : 99.90 % \r"
     ]
    },
    {
     "name": "stderr",
     "output_type": "stream",
     "text": [
      "\r",
      "351it [12:09:32, 131.89s/it]"
     ]
    },
    {
     "name": "stdout",
     "output_type": "stream",
     "text": [
      "350earning Progress : 100.00 % \n",
      "Test Accuracy = 0.9601139601139601\n",
      "- Learning Progress : 99.90 % \r"
     ]
    },
    {
     "name": "stderr",
     "output_type": "stream",
     "text": [
      "\r",
      "352it [12:11:47, 132.65s/it]"
     ]
    },
    {
     "name": "stdout",
     "output_type": "stream",
     "text": [
      "351earning Progress : 100.00 % \n",
      "Test Accuracy = 0.9602272727272727\n",
      "- Learning Progress : 17.20 % \r"
     ]
    },
    {
     "name": "stderr",
     "output_type": "stream",
     "text": [
      "IOPub message rate exceeded.\n",
      "The notebook server will temporarily stop sending output\n",
      "to the client in order to avoid crashing it.\n",
      "To change this limit, set the config variable\n",
      "`--NotebookApp.iopub_msg_rate_limit`.\n",
      "\n",
      "Current values:\n",
      "NotebookApp.iopub_msg_rate_limit=1000.0 (msgs/sec)\n",
      "NotebookApp.rate_limit_window=3.0 (secs)\n",
      "\n"
     ]
    },
    {
     "name": "stdout",
     "output_type": "stream",
     "text": [
      "- Learning Progress : 99.90 % \r"
     ]
    },
    {
     "name": "stderr",
     "output_type": "stream",
     "text": [
      "\r",
      "365it [12:38:05, 103.62s/it]"
     ]
    },
    {
     "name": "stdout",
     "output_type": "stream",
     "text": [
      "364earning Progress : 100.00 % \n",
      "Test Accuracy = 0.958904109589041\n",
      "- Learning Progress : 99.90 % \r"
     ]
    },
    {
     "name": "stderr",
     "output_type": "stream",
     "text": [
      "\r",
      "366it [12:40:18, 112.48s/it]"
     ]
    },
    {
     "name": "stdout",
     "output_type": "stream",
     "text": [
      "365earning Progress : 100.00 % \n",
      "Test Accuracy = 0.9590163934426229\n",
      "- Learning Progress : 100.00 % \r"
     ]
    },
    {
     "name": "stderr",
     "output_type": "stream",
     "text": [
      "\r",
      "367it [12:42:29, 117.98s/it]"
     ]
    },
    {
     "name": "stdout",
     "output_type": "stream",
     "text": [
      "366\n",
      "Test Accuracy = 0.9591280653950953\n",
      "- Learning Progress : 99.80 % \r"
     ]
    },
    {
     "name": "stderr",
     "output_type": "stream",
     "text": [
      "\r",
      "368it [12:44:39, 121.69s/it]"
     ]
    },
    {
     "name": "stdout",
     "output_type": "stream",
     "text": [
      "367earning Progress : 100.00 % \n",
      "Test Accuracy = 0.9592391304347826\n",
      "- Learning Progress : 99.90 % \r"
     ]
    },
    {
     "name": "stderr",
     "output_type": "stream",
     "text": [
      "\r",
      "369it [12:46:51, 124.50s/it]"
     ]
    },
    {
     "name": "stdout",
     "output_type": "stream",
     "text": [
      "368earning Progress : 100.00 % \n",
      "Test Accuracy = 0.959349593495935\n",
      "- Learning Progress : 99.80 % \r"
     ]
    },
    {
     "name": "stderr",
     "output_type": "stream",
     "text": [
      "\r",
      "370it [12:49:03, 126.96s/it]"
     ]
    },
    {
     "name": "stdout",
     "output_type": "stream",
     "text": [
      "369earning Progress : 100.00 % \n",
      "Test Accuracy = 0.9594594594594594\n",
      "- Learning Progress : 99.90 % \r"
     ]
    },
    {
     "name": "stderr",
     "output_type": "stream",
     "text": [
      "\r",
      "371it [12:51:17, 128.92s/it]"
     ]
    },
    {
     "name": "stdout",
     "output_type": "stream",
     "text": [
      "370earning Progress : 100.00 % \n",
      "Test Accuracy = 0.9595687331536388\n",
      "- Learning Progress : 1.80 % \r"
     ]
    },
    {
     "name": "stderr",
     "output_type": "stream",
     "text": [
      "IOPub message rate exceeded.\n",
      "The notebook server will temporarily stop sending output\n",
      "to the client in order to avoid crashing it.\n",
      "To change this limit, set the config variable\n",
      "`--NotebookApp.iopub_msg_rate_limit`.\n",
      "\n",
      "Current values:\n",
      "NotebookApp.iopub_msg_rate_limit=1000.0 (msgs/sec)\n",
      "NotebookApp.rate_limit_window=3.0 (secs)\n",
      "\n"
     ]
    },
    {
     "name": "stdout",
     "output_type": "stream",
     "text": [
      "- Learning Progress : 99.90 % \r"
     ]
    },
    {
     "name": "stderr",
     "output_type": "stream",
     "text": [
      "\r",
      "383it [13:17:21, 129.84s/it]"
     ]
    },
    {
     "name": "stdout",
     "output_type": "stream",
     "text": [
      "382earning Progress : 100.00 % \n",
      "Test Accuracy = 0.9608355091383812\n",
      "- Learning Progress : 99.90 % \r"
     ]
    },
    {
     "name": "stderr",
     "output_type": "stream",
     "text": [
      "\r",
      "384it [13:19:33, 130.62s/it]"
     ]
    },
    {
     "name": "stdout",
     "output_type": "stream",
     "text": [
      "383earning Progress : 100.00 % \n",
      "Test Accuracy = 0.9609375\n",
      "- Learning Progress : 99.80 % \r"
     ]
    },
    {
     "name": "stderr",
     "output_type": "stream",
     "text": [
      "\r",
      "385it [13:21:44, 130.65s/it]"
     ]
    },
    {
     "name": "stdout",
     "output_type": "stream",
     "text": [
      "384earning Progress : 100.00 % \n",
      "Test Accuracy = 0.961038961038961\n",
      "- Learning Progress : 99.80 % \r"
     ]
    },
    {
     "name": "stderr",
     "output_type": "stream",
     "text": [
      "\r",
      "386it [13:23:52, 129.77s/it]"
     ]
    },
    {
     "name": "stdout",
     "output_type": "stream",
     "text": [
      "385earning Progress : 100.00 % \n",
      "Test Accuracy = 0.961139896373057\n",
      "- Learning Progress : 99.90 % \r"
     ]
    },
    {
     "name": "stderr",
     "output_type": "stream",
     "text": [
      "\r",
      "387it [13:26:02, 129.98s/it]"
     ]
    },
    {
     "name": "stdout",
     "output_type": "stream",
     "text": [
      "386earning Progress : 100.00 % \n",
      "Test Accuracy = 0.9612403100775194\n",
      "- Learning Progress : 99.90 % \r"
     ]
    },
    {
     "name": "stderr",
     "output_type": "stream",
     "text": [
      "\r",
      "388it [13:28:16, 131.27s/it]"
     ]
    },
    {
     "name": "stdout",
     "output_type": "stream",
     "text": [
      "387earning Progress : 100.00 % \n",
      "Test Accuracy = 0.961340206185567\n",
      "- Learning Progress : 96.40 % \r"
     ]
    },
    {
     "name": "stderr",
     "output_type": "stream",
     "text": [
      "IOPub message rate exceeded.\n",
      "The notebook server will temporarily stop sending output\n",
      "to the client in order to avoid crashing it.\n",
      "To change this limit, set the config variable\n",
      "`--NotebookApp.iopub_msg_rate_limit`.\n",
      "\n",
      "Current values:\n",
      "NotebookApp.iopub_msg_rate_limit=1000.0 (msgs/sec)\n",
      "NotebookApp.rate_limit_window=3.0 (secs)\n",
      "\n"
     ]
    },
    {
     "name": "stdout",
     "output_type": "stream",
     "text": [
      "- Learning Progress : 99.80 % \r"
     ]
    },
    {
     "name": "stderr",
     "output_type": "stream",
     "text": [
      "\r",
      "393it [13:39:12, 131.48s/it]"
     ]
    },
    {
     "name": "stdout",
     "output_type": "stream",
     "text": [
      "- Learning Progress : 99.90 % \r",
      "- Learning Progress : 100.00 % \r",
      "392\n",
      "Test Accuracy = 0.9618320610687023\n"
     ]
    },
    {
     "name": "stderr",
     "output_type": "stream",
     "text": [
      "\r",
      "394it [13:39:12, 92.13s/it] "
     ]
    },
    {
     "name": "stdout",
     "output_type": "stream",
     "text": [
      "393\n"
     ]
    },
    {
     "name": "stderr",
     "output_type": "stream",
     "text": [
      "\r",
      "395it [13:39:13, 64.57s/it]"
     ]
    },
    {
     "name": "stdout",
     "output_type": "stream",
     "text": [
      "394\n"
     ]
    },
    {
     "name": "stderr",
     "output_type": "stream",
     "text": [
      "\r",
      "396it [13:39:14, 45.53s/it]"
     ]
    },
    {
     "name": "stdout",
     "output_type": "stream",
     "text": [
      "395\n",
      "- Learning Progress : 99.80 % \r"
     ]
    },
    {
     "name": "stderr",
     "output_type": "stream",
     "text": [
      "\r",
      "397it [13:41:26, 71.59s/it]"
     ]
    },
    {
     "name": "stdout",
     "output_type": "stream",
     "text": [
      "396earning Progress : 100.00 % \n",
      "Test Accuracy = 0.9546599496221663\n",
      "- Learning Progress : 99.90 % \r"
     ]
    },
    {
     "name": "stderr",
     "output_type": "stream",
     "text": [
      "\r",
      "398it [13:43:39, 89.98s/it]"
     ]
    },
    {
     "name": "stdout",
     "output_type": "stream",
     "text": [
      "397earning Progress : 100.00 % \n",
      "Test Accuracy = 0.9547738693467337\n",
      "- Learning Progress : 99.90 % \r"
     ]
    },
    {
     "name": "stderr",
     "output_type": "stream",
     "text": [
      "\r",
      "399it [13:45:49, 102.04s/it]"
     ]
    },
    {
     "name": "stdout",
     "output_type": "stream",
     "text": [
      "398earning Progress : 100.00 % \n",
      "Test Accuracy = 0.9548872180451128\n",
      "- Learning Progress : 99.90 % \r"
     ]
    },
    {
     "name": "stderr",
     "output_type": "stream",
     "text": [
      "\r",
      "400it [13:48:00, 110.55s/it]"
     ]
    },
    {
     "name": "stdout",
     "output_type": "stream",
     "text": [
      "399earning Progress : 100.00 % \n",
      "Test Accuracy = 0.955\n",
      "- Learning Progress : 99.90 % \r"
     ]
    },
    {
     "name": "stderr",
     "output_type": "stream",
     "text": [
      "\r",
      "401it [13:50:14, 117.75s/it]"
     ]
    },
    {
     "name": "stdout",
     "output_type": "stream",
     "text": [
      "400earning Progress : 100.00 % \n",
      "Test Accuracy = 0.9551122194513716\n",
      "- Learning Progress : 99.80 % \r"
     ]
    },
    {
     "name": "stderr",
     "output_type": "stream",
     "text": [
      "\r",
      "402it [13:52:23, 120.91s/it]"
     ]
    },
    {
     "name": "stdout",
     "output_type": "stream",
     "text": [
      "401earning Progress : 100.00 % \n",
      "Test Accuracy = 0.9552238805970149\n",
      "- Learning Progress : 99.90 % \r"
     ]
    },
    {
     "name": "stderr",
     "output_type": "stream",
     "text": [
      "\r",
      "403it [13:54:35, 124.41s/it]"
     ]
    },
    {
     "name": "stdout",
     "output_type": "stream",
     "text": [
      "402earning Progress : 100.00 % \n",
      "Test Accuracy = 0.9553349875930521\n",
      "- Learning Progress : 99.80 % \r"
     ]
    },
    {
     "name": "stderr",
     "output_type": "stream",
     "text": [
      "\r",
      "404it [13:56:45, 126.13s/it]"
     ]
    },
    {
     "name": "stdout",
     "output_type": "stream",
     "text": [
      "403earning Progress : 100.00 % \n",
      "Test Accuracy = 0.9554455445544554\n",
      "- Learning Progress : 99.90 % \r"
     ]
    },
    {
     "name": "stderr",
     "output_type": "stream",
     "text": [
      "\r",
      "405it [13:58:57, 127.80s/it]"
     ]
    },
    {
     "name": "stdout",
     "output_type": "stream",
     "text": [
      "404earning Progress : 100.00 % \n",
      "Test Accuracy = 0.9555555555555556\n",
      "- Learning Progress : 99.90 % \r"
     ]
    },
    {
     "name": "stderr",
     "output_type": "stream",
     "text": [
      "\r",
      "406it [14:01:08, 128.90s/it]"
     ]
    },
    {
     "name": "stdout",
     "output_type": "stream",
     "text": [
      "405earning Progress : 100.00 % \n",
      "Test Accuracy = 0.9556650246305419\n",
      "- Learning Progress : 99.90 % \r"
     ]
    },
    {
     "name": "stderr",
     "output_type": "stream",
     "text": [
      "\r",
      "407it [14:03:22, 130.25s/it]"
     ]
    },
    {
     "name": "stdout",
     "output_type": "stream",
     "text": [
      "406earning Progress : 100.00 % \n",
      "Test Accuracy = 0.9557739557739557\n",
      "- Learning Progress : 99.90 % \r"
     ]
    },
    {
     "name": "stderr",
     "output_type": "stream",
     "text": [
      "\r",
      "408it [14:05:34, 130.77s/it]"
     ]
    },
    {
     "name": "stdout",
     "output_type": "stream",
     "text": [
      "407earning Progress : 100.00 % \n",
      "Test Accuracy = 0.9558823529411765\n",
      "- Learning Progress : 99.90 % \r"
     ]
    },
    {
     "name": "stderr",
     "output_type": "stream",
     "text": [
      "\r",
      "409it [14:07:47, 131.50s/it]"
     ]
    },
    {
     "name": "stdout",
     "output_type": "stream",
     "text": [
      "408earning Progress : 100.00 % \n",
      "Test Accuracy = 0.9559902200488998\n",
      "- Learning Progress : 99.90 % \r"
     ]
    },
    {
     "name": "stderr",
     "output_type": "stream",
     "text": [
      "\r",
      "410it [14:09:56, 130.71s/it]"
     ]
    },
    {
     "name": "stdout",
     "output_type": "stream",
     "text": [
      "409earning Progress : 100.00 % \n",
      "Test Accuracy = 0.9560975609756097\n",
      "- Learning Progress : 99.80 % \r"
     ]
    },
    {
     "name": "stderr",
     "output_type": "stream",
     "text": [
      "\r",
      "411it [14:12:08, 131.12s/it]"
     ]
    },
    {
     "name": "stdout",
     "output_type": "stream",
     "text": [
      "410earning Progress : 100.00 % \n",
      "Test Accuracy = 0.9562043795620438\n",
      "- Learning Progress : 99.90 % \r"
     ]
    },
    {
     "name": "stderr",
     "output_type": "stream",
     "text": [
      "\r",
      "412it [14:14:19, 131.01s/it]"
     ]
    },
    {
     "name": "stdout",
     "output_type": "stream",
     "text": [
      "411earning Progress : 100.00 % \n",
      "Test Accuracy = 0.9563106796116505\n",
      "- Learning Progress : 99.90 % \r"
     ]
    },
    {
     "name": "stderr",
     "output_type": "stream",
     "text": [
      "\r",
      "413it [14:16:32, 131.71s/it]"
     ]
    },
    {
     "name": "stdout",
     "output_type": "stream",
     "text": [
      "412earning Progress : 100.00 % \n",
      "Test Accuracy = 0.9564164648910412\n",
      "- Learning Progress : 99.90 % \r"
     ]
    },
    {
     "name": "stderr",
     "output_type": "stream",
     "text": [
      "\r",
      "414it [14:18:43, 131.43s/it]"
     ]
    },
    {
     "name": "stdout",
     "output_type": "stream",
     "text": [
      "413earning Progress : 100.00 % \n",
      "Test Accuracy = 0.9565217391304348\n",
      "- Learning Progress : 99.90 % \r"
     ]
    },
    {
     "name": "stderr",
     "output_type": "stream",
     "text": [
      "\r",
      "415it [14:20:54, 131.48s/it]"
     ]
    },
    {
     "name": "stdout",
     "output_type": "stream",
     "text": [
      "414earning Progress : 100.00 % \n",
      "Test Accuracy = 0.9566265060240964\n",
      "- Learning Progress : 99.80 % \r"
     ]
    },
    {
     "name": "stderr",
     "output_type": "stream",
     "text": [
      "\r",
      "416it [14:23:07, 131.84s/it]"
     ]
    },
    {
     "name": "stdout",
     "output_type": "stream",
     "text": [
      "415earning Progress : 100.00 % \n",
      "Test Accuracy = 0.9567307692307693\n",
      "- Learning Progress : 99.90 % \r"
     ]
    },
    {
     "name": "stderr",
     "output_type": "stream",
     "text": [
      "\r",
      "417it [14:25:17, 131.40s/it]"
     ]
    },
    {
     "name": "stdout",
     "output_type": "stream",
     "text": [
      "416earning Progress : 100.00 % \n",
      "Test Accuracy = 0.9568345323741008\n",
      "- Learning Progress : 99.90 % \r"
     ]
    },
    {
     "name": "stderr",
     "output_type": "stream",
     "text": [
      "\r",
      "418it [14:27:27, 130.94s/it]"
     ]
    },
    {
     "name": "stdout",
     "output_type": "stream",
     "text": [
      "417earning Progress : 100.00 % \n",
      "Test Accuracy = 0.9569377990430622\n",
      "- Learning Progress : 99.70 % \r"
     ]
    },
    {
     "name": "stderr",
     "output_type": "stream",
     "text": [
      "IOPub message rate exceeded.\n",
      "The notebook server will temporarily stop sending output\n",
      "to the client in order to avoid crashing it.\n",
      "To change this limit, set the config variable\n",
      "`--NotebookApp.iopub_msg_rate_limit`.\n",
      "\n",
      "Current values:\n",
      "NotebookApp.iopub_msg_rate_limit=1000.0 (msgs/sec)\n",
      "NotebookApp.rate_limit_window=3.0 (secs)\n",
      "\n"
     ]
    },
    {
     "name": "stdout",
     "output_type": "stream",
     "text": [
      "- Learning Progress : 99.80 % \r"
     ]
    },
    {
     "name": "stderr",
     "output_type": "stream",
     "text": [
      "\r",
      "432it [14:55:51, 129.50s/it]"
     ]
    },
    {
     "name": "stdout",
     "output_type": "stream",
     "text": [
      "431earning Progress : 100.00 % \n",
      "Test Accuracy = 0.9560185185185185\n",
      "- Learning Progress : 99.90 % \r"
     ]
    },
    {
     "name": "stderr",
     "output_type": "stream",
     "text": [
      "\r",
      "433it [14:58:04, 130.66s/it]"
     ]
    },
    {
     "name": "stdout",
     "output_type": "stream",
     "text": [
      "432earning Progress : 100.00 % \n",
      "Test Accuracy = 0.9561200923787528\n",
      "- Learning Progress : 99.90 % \r"
     ]
    },
    {
     "name": "stderr",
     "output_type": "stream",
     "text": [
      "\r",
      "434it [15:00:19, 131.74s/it]"
     ]
    },
    {
     "name": "stdout",
     "output_type": "stream",
     "text": [
      "433earning Progress : 100.00 % \n",
      "Test Accuracy = 0.956221198156682\n",
      "- Learning Progress : 99.90 % \r"
     ]
    },
    {
     "name": "stderr",
     "output_type": "stream",
     "text": [
      "\r",
      "435it [15:02:30, 131.57s/it]"
     ]
    },
    {
     "name": "stdout",
     "output_type": "stream",
     "text": [
      "434earning Progress : 100.00 % \n",
      "Test Accuracy = 0.9563218390804598\n",
      "- Learning Progress : 99.80 % \r"
     ]
    },
    {
     "name": "stderr",
     "output_type": "stream",
     "text": [
      "\r",
      "436it [15:04:43, 132.08s/it]"
     ]
    },
    {
     "name": "stdout",
     "output_type": "stream",
     "text": [
      "435earning Progress : 100.00 % \n",
      "Test Accuracy = 0.9564220183486238\n",
      "- Learning Progress : 99.90 % \r"
     ]
    },
    {
     "name": "stderr",
     "output_type": "stream",
     "text": [
      "\r",
      "437it [15:06:53, 131.55s/it]"
     ]
    },
    {
     "name": "stdout",
     "output_type": "stream",
     "text": [
      "436earning Progress : 100.00 % \n",
      "Test Accuracy = 0.9565217391304348\n",
      "- Learning Progress : 100.00 % \r"
     ]
    },
    {
     "name": "stderr",
     "output_type": "stream",
     "text": [
      "\r",
      "438it [15:09:04, 131.37s/it]"
     ]
    },
    {
     "name": "stdout",
     "output_type": "stream",
     "text": [
      "437\n",
      "Test Accuracy = 0.95662100456621\n",
      "- Learning Progress : 99.80 % \r"
     ]
    },
    {
     "name": "stderr",
     "output_type": "stream",
     "text": [
      "\r",
      "439it [15:11:12, 130.23s/it]"
     ]
    },
    {
     "name": "stdout",
     "output_type": "stream",
     "text": [
      "438earning Progress : 100.00 % \n",
      "Test Accuracy = 0.9567198177676538\n",
      "- Learning Progress : 99.80 % \r"
     ]
    },
    {
     "name": "stderr",
     "output_type": "stream",
     "text": [
      "\r",
      "440it [15:13:26, 131.32s/it]"
     ]
    },
    {
     "name": "stdout",
     "output_type": "stream",
     "text": [
      "439earning Progress : 100.00 % \n",
      "Test Accuracy = 0.9568181818181818\n",
      "- Learning Progress : 99.90 % \r"
     ]
    },
    {
     "name": "stderr",
     "output_type": "stream",
     "text": [
      "\r",
      "441it [15:15:40, 132.24s/it]"
     ]
    },
    {
     "name": "stdout",
     "output_type": "stream",
     "text": [
      "440earning Progress : 100.00 % \n",
      "Test Accuracy = 0.9569160997732427\n",
      "- Learning Progress : 99.90 % \r"
     ]
    },
    {
     "name": "stderr",
     "output_type": "stream",
     "text": [
      "\r",
      "442it [15:17:45, 130.12s/it]"
     ]
    },
    {
     "name": "stdout",
     "output_type": "stream",
     "text": [
      "441earning Progress : 100.00 % \n",
      "Test Accuracy = 0.9570135746606335\n",
      "- Learning Progress : 99.90 % \r"
     ]
    },
    {
     "name": "stderr",
     "output_type": "stream",
     "text": [
      "\r",
      "443it [15:19:58, 130.87s/it]"
     ]
    },
    {
     "name": "stdout",
     "output_type": "stream",
     "text": [
      "442earning Progress : 100.00 % \n",
      "Test Accuracy = 0.9571106094808126\n",
      "- Learning Progress : 99.90 % \r"
     ]
    },
    {
     "name": "stderr",
     "output_type": "stream",
     "text": [
      "\r",
      "444it [15:22:11, 131.55s/it]"
     ]
    },
    {
     "name": "stdout",
     "output_type": "stream",
     "text": [
      "443earning Progress : 100.00 % \n",
      "Test Accuracy = 0.9572072072072072\n",
      "- Learning Progress : 99.90 % \r"
     ]
    },
    {
     "name": "stderr",
     "output_type": "stream",
     "text": [
      "\r",
      "445it [15:24:24, 131.96s/it]"
     ]
    },
    {
     "name": "stdout",
     "output_type": "stream",
     "text": [
      "444earning Progress : 100.00 % \n",
      "Test Accuracy = 0.9573033707865168\n",
      "- Learning Progress : 99.80 % \r"
     ]
    },
    {
     "name": "stderr",
     "output_type": "stream",
     "text": [
      "\r",
      "446it [15:26:41, 133.48s/it]"
     ]
    },
    {
     "name": "stdout",
     "output_type": "stream",
     "text": [
      "445earning Progress : 100.00 % \n",
      "Test Accuracy = 0.9573991031390134\n",
      "- Learning Progress : 99.80 % \r"
     ]
    },
    {
     "name": "stderr",
     "output_type": "stream",
     "text": [
      "\r",
      "447it [15:28:54, 133.27s/it]"
     ]
    },
    {
     "name": "stdout",
     "output_type": "stream",
     "text": [
      "- Learning Progress : 99.90 % \r",
      "- Learning Progress : 100.00 % \r",
      "446\n",
      "Test Accuracy = 0.9574944071588367\n"
     ]
    },
    {
     "name": "stderr",
     "output_type": "stream",
     "text": [
      "\r",
      "448it [15:28:54, 93.37s/it] "
     ]
    },
    {
     "name": "stdout",
     "output_type": "stream",
     "text": [
      "447\n",
      "- Learning Progress : 99.90 % \r"
     ]
    },
    {
     "name": "stderr",
     "output_type": "stream",
     "text": [
      "\r",
      "449it [15:31:08, 105.70s/it]"
     ]
    },
    {
     "name": "stdout",
     "output_type": "stream",
     "text": [
      "448earning Progress : 100.00 % \n",
      "Test Accuracy = 0.955456570155902\n",
      "- Learning Progress : 100.00 % \r"
     ]
    },
    {
     "name": "stderr",
     "output_type": "stream",
     "text": [
      "\r",
      "450it [15:33:19, 113.24s/it]"
     ]
    },
    {
     "name": "stdout",
     "output_type": "stream",
     "text": [
      "449\n",
      "Test Accuracy = 0.9555555555555556\n"
     ]
    },
    {
     "name": "stderr",
     "output_type": "stream",
     "text": [
      "\r",
      "451it [15:33:20, 79.34s/it] "
     ]
    },
    {
     "name": "stdout",
     "output_type": "stream",
     "text": [
      "450\n",
      "- Learning Progress : 99.90 % \r"
     ]
    },
    {
     "name": "stderr",
     "output_type": "stream",
     "text": [
      "\r",
      "452it [15:35:34, 95.98s/it]"
     ]
    },
    {
     "name": "stdout",
     "output_type": "stream",
     "text": [
      "451earning Progress : 100.00 % \n",
      "Test Accuracy = 0.9535398230088495\n",
      "- Learning Progress : 99.80 % \r"
     ]
    },
    {
     "name": "stderr",
     "output_type": "stream",
     "text": [
      "\r",
      "453it [15:37:47, 106.89s/it]"
     ]
    },
    {
     "name": "stdout",
     "output_type": "stream",
     "text": [
      "452earning Progress : 100.00 % \n",
      "Test Accuracy = 0.9536423841059603\n",
      "- Learning Progress : 99.90 % \r"
     ]
    },
    {
     "name": "stderr",
     "output_type": "stream",
     "text": [
      "\r",
      "454it [15:39:57, 114.01s/it]"
     ]
    },
    {
     "name": "stdout",
     "output_type": "stream",
     "text": [
      "453earning Progress : 100.00 % \n",
      "Test Accuracy = 0.9537444933920705\n",
      "- Learning Progress : 99.90 % \r"
     ]
    },
    {
     "name": "stderr",
     "output_type": "stream",
     "text": [
      "\r",
      "455it [15:42:11, 119.78s/it]"
     ]
    },
    {
     "name": "stdout",
     "output_type": "stream",
     "text": [
      "454earning Progress : 100.00 % \n",
      "Test Accuracy = 0.9538461538461539\n",
      "- Learning Progress : 100.00 % \r"
     ]
    },
    {
     "name": "stderr",
     "output_type": "stream",
     "text": [
      "\r",
      "456it [15:44:23, 123.54s/it]"
     ]
    },
    {
     "name": "stdout",
     "output_type": "stream",
     "text": [
      "455\n",
      "Test Accuracy = 0.9539473684210527\n"
     ]
    },
    {
     "name": "stderr",
     "output_type": "stream",
     "text": [
      "\r",
      "457it [15:44:23, 86.58s/it] "
     ]
    },
    {
     "name": "stdout",
     "output_type": "stream",
     "text": [
      "456\n",
      "- Learning Progress : 99.90 % \r"
     ]
    },
    {
     "name": "stderr",
     "output_type": "stream",
     "text": [
      "\r",
      "458it [15:46:36, 100.41s/it]"
     ]
    },
    {
     "name": "stdout",
     "output_type": "stream",
     "text": [
      "457earning Progress : 100.00 % \n",
      "Test Accuracy = 0.9519650655021834\n",
      "- Learning Progress : 99.90 % \r"
     ]
    },
    {
     "name": "stderr",
     "output_type": "stream",
     "text": [
      "\r",
      "459it [15:48:49, 110.17s/it]"
     ]
    },
    {
     "name": "stdout",
     "output_type": "stream",
     "text": [
      "458earning Progress : 100.00 % \n",
      "Test Accuracy = 0.9520697167755992\n",
      "- Learning Progress : 99.90 % \r"
     ]
    },
    {
     "name": "stderr",
     "output_type": "stream",
     "text": [
      "\r",
      "460it [15:51:02, 117.01s/it]"
     ]
    },
    {
     "name": "stdout",
     "output_type": "stream",
     "text": [
      "459earning Progress : 100.00 % \n",
      "Test Accuracy = 0.9521739130434783\n",
      "- Learning Progress : 99.90 % \r"
     ]
    },
    {
     "name": "stderr",
     "output_type": "stream",
     "text": [
      "\r",
      "461it [15:53:13, 121.41s/it]"
     ]
    },
    {
     "name": "stdout",
     "output_type": "stream",
     "text": [
      "460earning Progress : 100.00 % \n",
      "Test Accuracy = 0.9522776572668112\n",
      "- Learning Progress : 99.80 % \r"
     ]
    },
    {
     "name": "stderr",
     "output_type": "stream",
     "text": [
      "\r",
      "462it [15:55:26, 124.86s/it]"
     ]
    },
    {
     "name": "stdout",
     "output_type": "stream",
     "text": [
      "461earning Progress : 100.00 % \n",
      "Test Accuracy = 0.9523809523809523\n",
      "- Learning Progress : 99.90 % \r"
     ]
    },
    {
     "name": "stderr",
     "output_type": "stream",
     "text": [
      "\r",
      "463it [15:57:37, 126.72s/it]"
     ]
    },
    {
     "name": "stdout",
     "output_type": "stream",
     "text": [
      "462earning Progress : 100.00 % \n",
      "Test Accuracy = 0.9524838012958964\n",
      "- Learning Progress : 99.90 % \r"
     ]
    },
    {
     "name": "stderr",
     "output_type": "stream",
     "text": [
      "\r",
      "464it [15:59:49, 128.14s/it]"
     ]
    },
    {
     "name": "stdout",
     "output_type": "stream",
     "text": [
      "463earning Progress : 100.00 % \n",
      "Test Accuracy = 0.9525862068965517\n",
      "- Learning Progress : 99.80 % \r"
     ]
    },
    {
     "name": "stderr",
     "output_type": "stream",
     "text": [
      "\r",
      "465it [16:02:04, 130.29s/it]"
     ]
    },
    {
     "name": "stdout",
     "output_type": "stream",
     "text": [
      "464earning Progress : 100.00 % \n",
      "Test Accuracy = 0.9526881720430107\n",
      "- Learning Progress : 99.80 % \r"
     ]
    },
    {
     "name": "stderr",
     "output_type": "stream",
     "text": [
      "\r",
      "466it [16:04:17, 131.15s/it]"
     ]
    },
    {
     "name": "stdout",
     "output_type": "stream",
     "text": [
      "465earning Progress : 100.00 % \n",
      "Test Accuracy = 0.9527896995708155\n",
      "- Learning Progress : 99.90 % \r"
     ]
    },
    {
     "name": "stderr",
     "output_type": "stream",
     "text": [
      "\r",
      "467it [16:06:23, 129.63s/it]"
     ]
    },
    {
     "name": "stdout",
     "output_type": "stream",
     "text": [
      "466earning Progress : 100.00 % \n",
      "Test Accuracy = 0.9528907922912205\n",
      "- Learning Progress : 99.90 % \r"
     ]
    },
    {
     "name": "stderr",
     "output_type": "stream",
     "text": [
      "\r",
      "468it [16:08:37, 130.94s/it]"
     ]
    },
    {
     "name": "stdout",
     "output_type": "stream",
     "text": [
      "467earning Progress : 100.00 % \n",
      "Test Accuracy = 0.9529914529914529\n",
      "- Learning Progress : 99.80 % \r"
     ]
    },
    {
     "name": "stderr",
     "output_type": "stream",
     "text": [
      "\r",
      "469it [16:10:50, 131.34s/it]"
     ]
    },
    {
     "name": "stdout",
     "output_type": "stream",
     "text": [
      "468earning Progress : 100.00 % \n",
      "Test Accuracy = 0.9530916844349681\n",
      "- Learning Progress : 99.90 % \r"
     ]
    },
    {
     "name": "stderr",
     "output_type": "stream",
     "text": [
      "\r",
      "470it [16:12:58, 130.31s/it]"
     ]
    },
    {
     "name": "stdout",
     "output_type": "stream",
     "text": [
      "469earning Progress : 100.00 % \n",
      "Test Accuracy = 0.9531914893617022\n",
      "- Learning Progress : 99.80 % \r"
     ]
    },
    {
     "name": "stderr",
     "output_type": "stream",
     "text": [
      "\r",
      "471it [16:15:09, 130.68s/it]"
     ]
    },
    {
     "name": "stdout",
     "output_type": "stream",
     "text": [
      "470earning Progress : 100.00 % \n",
      "Test Accuracy = 0.9532908704883227\n",
      "- Learning Progress : 99.90 % \r"
     ]
    },
    {
     "name": "stderr",
     "output_type": "stream",
     "text": [
      "\r",
      "472it [16:17:21, 130.96s/it]"
     ]
    },
    {
     "name": "stdout",
     "output_type": "stream",
     "text": [
      "471earning Progress : 100.00 % \n",
      "Test Accuracy = 0.9533898305084746\n",
      "- Learning Progress : 99.90 % \r"
     ]
    },
    {
     "name": "stderr",
     "output_type": "stream",
     "text": [
      "\r",
      "473it [16:18:49, 118.24s/it]"
     ]
    },
    {
     "name": "stdout",
     "output_type": "stream",
     "text": [
      "472earning Progress : 100.00 % \n",
      "Test Accuracy = 0.9534883720930233\n",
      "- Learning Progress : 99.90 % \r"
     ]
    },
    {
     "name": "stderr",
     "output_type": "stream",
     "text": [
      "\r",
      "474it [16:20:22, 110.66s/it]"
     ]
    },
    {
     "name": "stdout",
     "output_type": "stream",
     "text": [
      "473earning Progress : 100.00 % \n",
      "Test Accuracy = 0.9535864978902954\n",
      "- Learning Progress : 99.90 % \r"
     ]
    },
    {
     "name": "stderr",
     "output_type": "stream",
     "text": [
      "\r",
      "475it [16:21:55, 105.14s/it]"
     ]
    },
    {
     "name": "stdout",
     "output_type": "stream",
     "text": [
      "474earning Progress : 100.00 % \n",
      "Test Accuracy = 0.9536842105263158\n",
      "- Learning Progress : 99.90 % \r"
     ]
    },
    {
     "name": "stderr",
     "output_type": "stream",
     "text": [
      "\r",
      "476it [16:23:26, 101.01s/it]"
     ]
    },
    {
     "name": "stdout",
     "output_type": "stream",
     "text": [
      "475earning Progress : 100.00 % \n",
      "Test Accuracy = 0.9537815126050421\n",
      "- Learning Progress : 99.80 % \r"
     ]
    },
    {
     "name": "stderr",
     "output_type": "stream",
     "text": [
      "\r",
      "477it [16:24:46, 94.67s/it] "
     ]
    },
    {
     "name": "stdout",
     "output_type": "stream",
     "text": [
      "476earning Progress : 100.00 % \n",
      "Test Accuracy = 0.9538784067085954\n",
      "- Learning Progress : 99.90 % \r"
     ]
    },
    {
     "name": "stderr",
     "output_type": "stream",
     "text": [
      "\r",
      "478it [16:26:19, 94.13s/it]"
     ]
    },
    {
     "name": "stdout",
     "output_type": "stream",
     "text": [
      "477earning Progress : 100.00 % \n",
      "Test Accuracy = 0.9539748953974896\n",
      "- Learning Progress : 99.80 % \r"
     ]
    },
    {
     "name": "stderr",
     "output_type": "stream",
     "text": [
      "\r",
      "479it [16:27:42, 90.82s/it]"
     ]
    },
    {
     "name": "stdout",
     "output_type": "stream",
     "text": [
      "478earning Progress : 100.00 % \n",
      "Test Accuracy = 0.954070981210856\n",
      "- Learning Progress : 100.00 % \r"
     ]
    },
    {
     "name": "stderr",
     "output_type": "stream",
     "text": [
      "\r",
      "480it [16:29:18, 92.48s/it]"
     ]
    },
    {
     "name": "stdout",
     "output_type": "stream",
     "text": [
      "479\n",
      "Test Accuracy = 0.9541666666666667\n",
      "- Learning Progress : 100.00 % \r"
     ]
    },
    {
     "name": "stderr",
     "output_type": "stream",
     "text": [
      "\r",
      "481it [16:30:49, 91.89s/it]"
     ]
    },
    {
     "name": "stdout",
     "output_type": "stream",
     "text": [
      "480\n",
      "Test Accuracy = 0.9542619542619543\n",
      "- Learning Progress : 99.90 % \r"
     ]
    },
    {
     "name": "stderr",
     "output_type": "stream",
     "text": [
      "\r",
      "482it [16:32:26, 93.45s/it]"
     ]
    },
    {
     "name": "stdout",
     "output_type": "stream",
     "text": [
      "481earning Progress : 100.00 % \n",
      "Test Accuracy = 0.9543568464730291\n",
      "- Learning Progress : 99.80 % \r"
     ]
    },
    {
     "name": "stderr",
     "output_type": "stream",
     "text": [
      "\r",
      "483it [16:33:59, 93.37s/it]"
     ]
    },
    {
     "name": "stdout",
     "output_type": "stream",
     "text": [
      "482earning Progress : 100.00 % \n",
      "Test Accuracy = 0.9544513457556936\n",
      "- Learning Progress : 99.90 % \r"
     ]
    },
    {
     "name": "stderr",
     "output_type": "stream",
     "text": [
      "\r",
      "484it [16:35:37, 94.79s/it]"
     ]
    },
    {
     "name": "stdout",
     "output_type": "stream",
     "text": [
      "483earning Progress : 100.00 % \n",
      "Test Accuracy = 0.9545454545454546\n",
      "- Learning Progress : 99.90 % \r"
     ]
    },
    {
     "name": "stderr",
     "output_type": "stream",
     "text": [
      "\r",
      "485it [16:37:12, 94.93s/it]"
     ]
    },
    {
     "name": "stdout",
     "output_type": "stream",
     "text": [
      "484earning Progress : 100.00 % \n",
      "Test Accuracy = 0.954639175257732\n",
      "- Learning Progress : 100.00 % \r"
     ]
    },
    {
     "name": "stderr",
     "output_type": "stream",
     "text": [
      "\r",
      "486it [16:38:46, 94.43s/it]"
     ]
    },
    {
     "name": "stdout",
     "output_type": "stream",
     "text": [
      "485\n",
      "Test Accuracy = 0.9547325102880658\n",
      "- Learning Progress : 99.90 % \r"
     ]
    },
    {
     "name": "stderr",
     "output_type": "stream",
     "text": [
      "\r",
      "487it [16:40:19, 94.28s/it]"
     ]
    },
    {
     "name": "stdout",
     "output_type": "stream",
     "text": [
      "486earning Progress : 100.00 % \n",
      "Test Accuracy = 0.9548254620123203\n",
      "- Learning Progress : 99.90 % \r"
     ]
    },
    {
     "name": "stderr",
     "output_type": "stream",
     "text": [
      "\r",
      "488it [16:41:56, 94.95s/it]"
     ]
    },
    {
     "name": "stdout",
     "output_type": "stream",
     "text": [
      "487earning Progress : 100.00 % \n",
      "Test Accuracy = 0.9549180327868853\n",
      "- Learning Progress : 99.90 % \r"
     ]
    },
    {
     "name": "stderr",
     "output_type": "stream",
     "text": [
      "\r",
      "489it [16:43:35, 96.11s/it]"
     ]
    },
    {
     "name": "stdout",
     "output_type": "stream",
     "text": [
      "488earning Progress : 100.00 % \n",
      "Test Accuracy = 0.9550102249488752\n",
      "- Learning Progress : 99.80 % \r"
     ]
    },
    {
     "name": "stderr",
     "output_type": "stream",
     "text": [
      "\r",
      "490it [16:45:07, 94.86s/it]"
     ]
    },
    {
     "name": "stdout",
     "output_type": "stream",
     "text": [
      "489earning Progress : 100.00 % \n",
      "Test Accuracy = 0.9551020408163265\n",
      "- Learning Progress : 99.80 % \r"
     ]
    },
    {
     "name": "stderr",
     "output_type": "stream",
     "text": [
      "\r",
      "491it [16:46:30, 91.40s/it]"
     ]
    },
    {
     "name": "stdout",
     "output_type": "stream",
     "text": [
      "490earning Progress : 100.00 % \n",
      "Test Accuracy = 0.955193482688391\n",
      "- Learning Progress : 99.90 % \r"
     ]
    },
    {
     "name": "stderr",
     "output_type": "stream",
     "text": [
      "\r",
      "492it [16:48:06, 92.76s/it]"
     ]
    },
    {
     "name": "stdout",
     "output_type": "stream",
     "text": [
      "491earning Progress : 100.00 % \n",
      "Test Accuracy = 0.9552845528455285\n",
      "- Learning Progress : 100.00 % \r"
     ]
    },
    {
     "name": "stderr",
     "output_type": "stream",
     "text": [
      "\r",
      "493it [16:49:39, 92.97s/it]"
     ]
    },
    {
     "name": "stdout",
     "output_type": "stream",
     "text": [
      "492\n",
      "Test Accuracy = 0.9553752535496958\n",
      "- Learning Progress : 99.90 % \r"
     ]
    },
    {
     "name": "stderr",
     "output_type": "stream",
     "text": [
      "\r",
      "494it [16:51:11, 92.41s/it]"
     ]
    },
    {
     "name": "stdout",
     "output_type": "stream",
     "text": [
      "493earning Progress : 100.00 % \n",
      "Test Accuracy = 0.9554655870445344\n",
      "- Learning Progress : 99.70 % \r"
     ]
    },
    {
     "name": "stderr",
     "output_type": "stream",
     "text": [
      "\r",
      "495it [16:52:44, 92.83s/it]"
     ]
    },
    {
     "name": "stdout",
     "output_type": "stream",
     "text": [
      "494earning Progress : 100.00 % \n",
      "Test Accuracy = 0.9555555555555556\n",
      "- Learning Progress : 99.80 % \r"
     ]
    },
    {
     "name": "stderr",
     "output_type": "stream",
     "text": [
      "\r",
      "496it [16:54:16, 92.61s/it]"
     ]
    },
    {
     "name": "stdout",
     "output_type": "stream",
     "text": [
      "495earning Progress : 100.00 % \n",
      "Test Accuracy = 0.9556451612903226\n",
      "- Learning Progress : 99.70 % \r"
     ]
    },
    {
     "name": "stderr",
     "output_type": "stream",
     "text": [
      "\r",
      "497it [16:55:49, 92.44s/it]"
     ]
    },
    {
     "name": "stdout",
     "output_type": "stream",
     "text": [
      "496earning Progress : 100.00 % \n",
      "Test Accuracy = 0.9557344064386318\n",
      "- Learning Progress : 99.90 % \r"
     ]
    },
    {
     "name": "stderr",
     "output_type": "stream",
     "text": [
      "\r",
      "498it [16:57:13, 90.01s/it]"
     ]
    },
    {
     "name": "stdout",
     "output_type": "stream",
     "text": [
      "497earning Progress : 100.00 % \n",
      "Test Accuracy = 0.9558232931726908\n",
      "- Learning Progress : 99.90 % \r"
     ]
    },
    {
     "name": "stderr",
     "output_type": "stream",
     "text": [
      "\r",
      "499it [16:58:45, 90.59s/it]"
     ]
    },
    {
     "name": "stdout",
     "output_type": "stream",
     "text": [
      "498earning Progress : 100.00 % \n",
      "Test Accuracy = 0.9559118236472945\n",
      "- Learning Progress : 99.90 % \r"
     ]
    },
    {
     "name": "stderr",
     "output_type": "stream",
     "text": [
      "\r",
      "500it [17:00:09, 88.76s/it]"
     ]
    },
    {
     "name": "stdout",
     "output_type": "stream",
     "text": [
      "- Learning Progress : 100.00 % \r",
      "499\n",
      "Test Accuracy = 0.956\n"
     ]
    },
    {
     "name": "stderr",
     "output_type": "stream",
     "text": [
      "\r",
      "501it [17:00:10, 62.20s/it]"
     ]
    },
    {
     "name": "stdout",
     "output_type": "stream",
     "text": [
      "500\n",
      "- Learning Progress : 99.80 % \r"
     ]
    },
    {
     "name": "stderr",
     "output_type": "stream",
     "text": [
      "\r",
      "502it [17:01:44, 71.92s/it]"
     ]
    },
    {
     "name": "stdout",
     "output_type": "stream",
     "text": [
      "501earning Progress : 100.00 % \n",
      "Test Accuracy = 0.954183266932271\n",
      "- Learning Progress : 99.80 % \r"
     ]
    },
    {
     "name": "stderr",
     "output_type": "stream",
     "text": [
      "\r",
      "503it [17:03:19, 78.88s/it]"
     ]
    },
    {
     "name": "stdout",
     "output_type": "stream",
     "text": [
      "502earning Progress : 100.00 % \n",
      "Test Accuracy = 0.9542743538767395\n",
      "- Learning Progress : 100.00 % \r"
     ]
    },
    {
     "name": "stderr",
     "output_type": "stream",
     "text": [
      "\r",
      "504it [17:04:47, 81.52s/it]"
     ]
    },
    {
     "name": "stdout",
     "output_type": "stream",
     "text": [
      "503\n",
      "Test Accuracy = 0.9543650793650794\n",
      "- Learning Progress : 100.00 % \r"
     ]
    },
    {
     "name": "stderr",
     "output_type": "stream",
     "text": [
      "\r",
      "505it [17:06:21, 85.21s/it]"
     ]
    },
    {
     "name": "stdout",
     "output_type": "stream",
     "text": [
      "504\n",
      "Test Accuracy = 0.9544554455445544\n",
      "- Learning Progress : 99.80 % \r"
     ]
    },
    {
     "name": "stderr",
     "output_type": "stream",
     "text": [
      "\r",
      "506it [17:07:50, 86.52s/it]"
     ]
    },
    {
     "name": "stdout",
     "output_type": "stream",
     "text": [
      "505earning Progress : 100.00 % \n",
      "Test Accuracy = 0.9545454545454546\n",
      "- Learning Progress : 99.90 % \r"
     ]
    },
    {
     "name": "stderr",
     "output_type": "stream",
     "text": [
      "\r",
      "507it [17:09:17, 86.70s/it]"
     ]
    },
    {
     "name": "stdout",
     "output_type": "stream",
     "text": [
      "506earning Progress : 100.00 % \n",
      "Test Accuracy = 0.9546351084812623\n",
      "- Learning Progress : 99.90 % \r"
     ]
    },
    {
     "name": "stderr",
     "output_type": "stream",
     "text": [
      "\r",
      "508it [17:10:46, 87.38s/it]"
     ]
    },
    {
     "name": "stdout",
     "output_type": "stream",
     "text": [
      "507earning Progress : 100.00 % \n",
      "Test Accuracy = 0.9547244094488189\n",
      "- Learning Progress : 99.70 % \r"
     ]
    },
    {
     "name": "stderr",
     "output_type": "stream",
     "text": [
      "\r",
      "509it [17:12:16, 88.09s/it]"
     ]
    },
    {
     "name": "stdout",
     "output_type": "stream",
     "text": [
      "508earning Progress : 100.00 % \n",
      "Test Accuracy = 0.9548133595284872\n",
      "- Learning Progress : 99.90 % \r"
     ]
    },
    {
     "name": "stderr",
     "output_type": "stream",
     "text": [
      "\r",
      "510it [17:13:44, 88.01s/it]"
     ]
    },
    {
     "name": "stdout",
     "output_type": "stream",
     "text": [
      "- Learning Progress : 100.00 % \r",
      "509\n",
      "Test Accuracy = 0.9549019607843138\n"
     ]
    },
    {
     "name": "stderr",
     "output_type": "stream",
     "text": [
      "\r",
      "511it [17:13:44, 61.67s/it]"
     ]
    },
    {
     "name": "stdout",
     "output_type": "stream",
     "text": [
      "510\n",
      "- Learning Progress : 99.70 % \r"
     ]
    },
    {
     "name": "stderr",
     "output_type": "stream",
     "text": [
      "\r",
      "512it [17:15:05, 67.48s/it]"
     ]
    },
    {
     "name": "stdout",
     "output_type": "stream",
     "text": [
      "511earning Progress : 100.00 % \n",
      "Test Accuracy = 0.953125\n",
      "- Learning Progress : 99.90 % \r"
     ]
    },
    {
     "name": "stderr",
     "output_type": "stream",
     "text": [
      "\r",
      "513it [17:16:32, 73.18s/it]"
     ]
    },
    {
     "name": "stdout",
     "output_type": "stream",
     "text": [
      "512earning Progress : 100.00 % \n",
      "Test Accuracy = 0.9532163742690059\n",
      "- Learning Progress : 99.90 % \r"
     ]
    },
    {
     "name": "stderr",
     "output_type": "stream",
     "text": [
      "\r",
      "514it [17:18:00, 77.61s/it]"
     ]
    },
    {
     "name": "stdout",
     "output_type": "stream",
     "text": [
      "513earning Progress : 100.00 % \n",
      "Test Accuracy = 0.953307392996109\n",
      "- Learning Progress : 99.90 % \r"
     ]
    },
    {
     "name": "stderr",
     "output_type": "stream",
     "text": [
      "\r",
      "515it [17:19:27, 80.53s/it]"
     ]
    },
    {
     "name": "stdout",
     "output_type": "stream",
     "text": [
      "514earning Progress : 100.00 % \n",
      "Test Accuracy = 0.9533980582524272\n",
      "- Learning Progress : 99.80 % \r"
     ]
    },
    {
     "name": "stderr",
     "output_type": "stream",
     "text": [
      "\r",
      "516it [17:20:57, 83.37s/it]"
     ]
    },
    {
     "name": "stdout",
     "output_type": "stream",
     "text": [
      "515earning Progress : 100.00 % \n",
      "Test Accuracy = 0.9534883720930233\n",
      "- Learning Progress : 99.80 % \r"
     ]
    },
    {
     "name": "stderr",
     "output_type": "stream",
     "text": [
      "\r",
      "517it [17:22:25, 84.67s/it]"
     ]
    },
    {
     "name": "stdout",
     "output_type": "stream",
     "text": [
      "516earning Progress : 100.00 % \n",
      "Test Accuracy = 0.9535783365570599\n",
      "- Learning Progress : 99.90 % \r"
     ]
    },
    {
     "name": "stderr",
     "output_type": "stream",
     "text": [
      "\r",
      "518it [17:23:52, 85.44s/it]"
     ]
    },
    {
     "name": "stdout",
     "output_type": "stream",
     "text": [
      "517earning Progress : 100.00 % \n",
      "Test Accuracy = 0.9536679536679536\n",
      "- Learning Progress : 99.80 % \r"
     ]
    },
    {
     "name": "stderr",
     "output_type": "stream",
     "text": [
      "\r",
      "519it [17:25:23, 87.26s/it]"
     ]
    },
    {
     "name": "stdout",
     "output_type": "stream",
     "text": [
      "518earning Progress : 100.00 % \n",
      "Test Accuracy = 0.953757225433526\n",
      "- Learning Progress : 99.80 % \r"
     ]
    },
    {
     "name": "stderr",
     "output_type": "stream",
     "text": [
      "\r",
      "520it [17:26:55, 88.43s/it]"
     ]
    },
    {
     "name": "stdout",
     "output_type": "stream",
     "text": [
      "519earning Progress : 100.00 % \n",
      "Test Accuracy = 0.9538461538461539\n",
      "- Learning Progress : 99.90 % \r"
     ]
    },
    {
     "name": "stderr",
     "output_type": "stream",
     "text": [
      "\r",
      "521it [17:28:26, 89.34s/it]"
     ]
    },
    {
     "name": "stdout",
     "output_type": "stream",
     "text": [
      "520earning Progress : 100.00 % \n",
      "Test Accuracy = 0.9539347408829175\n",
      "- Learning Progress : 99.80 % \r"
     ]
    },
    {
     "name": "stderr",
     "output_type": "stream",
     "text": [
      "\r",
      "522it [17:29:56, 89.55s/it]"
     ]
    },
    {
     "name": "stdout",
     "output_type": "stream",
     "text": [
      "521earning Progress : 100.00 % \n",
      "Test Accuracy = 0.9540229885057471\n",
      "- Learning Progress : 99.90 % \r"
     ]
    },
    {
     "name": "stderr",
     "output_type": "stream",
     "text": [
      "\r",
      "523it [17:31:27, 89.83s/it]"
     ]
    },
    {
     "name": "stdout",
     "output_type": "stream",
     "text": [
      "522earning Progress : 100.00 % \n",
      "Test Accuracy = 0.9541108986615678\n",
      "- Learning Progress : 99.70 % \r"
     ]
    },
    {
     "name": "stderr",
     "output_type": "stream",
     "text": [
      "\r",
      "524it [17:33:01, 91.09s/it]"
     ]
    },
    {
     "name": "stdout",
     "output_type": "stream",
     "text": [
      "523earning Progress : 100.00 % \n",
      "Test Accuracy = 0.9541984732824428\n",
      "- Learning Progress : 100.00 % \r"
     ]
    },
    {
     "name": "stderr",
     "output_type": "stream",
     "text": [
      "\r",
      "525it [17:34:31, 90.87s/it]"
     ]
    },
    {
     "name": "stdout",
     "output_type": "stream",
     "text": [
      "524\n",
      "Test Accuracy = 0.9542857142857143\n",
      "- Learning Progress : 99.80 % \r"
     ]
    },
    {
     "name": "stderr",
     "output_type": "stream",
     "text": [
      "\r",
      "526it [17:35:56, 89.13s/it]"
     ]
    },
    {
     "name": "stdout",
     "output_type": "stream",
     "text": [
      "525earning Progress : 100.00 % \n",
      "Test Accuracy = 0.9543726235741445\n",
      "- Learning Progress : 99.80 % \r"
     ]
    },
    {
     "name": "stderr",
     "output_type": "stream",
     "text": [
      "\r",
      "527it [17:37:24, 88.74s/it]"
     ]
    },
    {
     "name": "stdout",
     "output_type": "stream",
     "text": [
      "526earning Progress : 100.00 % \n",
      "Test Accuracy = 0.9544592030360531\n",
      "- Learning Progress : 99.70 % \r"
     ]
    },
    {
     "name": "stderr",
     "output_type": "stream",
     "text": [
      "\r",
      "528it [17:38:52, 88.69s/it]"
     ]
    },
    {
     "name": "stdout",
     "output_type": "stream",
     "text": [
      "527earning Progress : 100.00 % \n",
      "Test Accuracy = 0.9545454545454546\n",
      "- Learning Progress : 99.90 % \r"
     ]
    },
    {
     "name": "stderr",
     "output_type": "stream",
     "text": [
      "\r",
      "529it [17:40:20, 88.48s/it]"
     ]
    },
    {
     "name": "stdout",
     "output_type": "stream",
     "text": [
      "528earning Progress : 100.00 % \n",
      "Test Accuracy = 0.9546313799621928\n",
      "- Learning Progress : 99.70 % \r"
     ]
    },
    {
     "name": "stderr",
     "output_type": "stream",
     "text": [
      "\r",
      "530it [17:41:48, 88.16s/it]"
     ]
    },
    {
     "name": "stdout",
     "output_type": "stream",
     "text": [
      "529earning Progress : 100.00 % \n",
      "Test Accuracy = 0.9547169811320755\n",
      "- Learning Progress : 99.90 % \r"
     ]
    },
    {
     "name": "stderr",
     "output_type": "stream",
     "text": [
      "\r",
      "531it [17:43:19, 88.94s/it]"
     ]
    },
    {
     "name": "stdout",
     "output_type": "stream",
     "text": [
      "530earning Progress : 100.00 % \n",
      "Test Accuracy = 0.9548022598870056\n",
      "- Learning Progress : 99.90 % \r"
     ]
    },
    {
     "name": "stderr",
     "output_type": "stream",
     "text": [
      "\r",
      "532it [17:44:51, 90.07s/it]"
     ]
    },
    {
     "name": "stdout",
     "output_type": "stream",
     "text": [
      "531earning Progress : 100.00 % \n",
      "Test Accuracy = 0.9548872180451128\n",
      "- Learning Progress : 100.00 % \r"
     ]
    },
    {
     "name": "stderr",
     "output_type": "stream",
     "text": [
      "\r",
      "533it [17:46:21, 90.05s/it]"
     ]
    },
    {
     "name": "stdout",
     "output_type": "stream",
     "text": [
      "532\n",
      "Test Accuracy = 0.9549718574108818\n",
      "- Learning Progress : 99.80 % \r"
     ]
    },
    {
     "name": "stderr",
     "output_type": "stream",
     "text": [
      "\r",
      "534it [17:48:00, 92.57s/it]"
     ]
    },
    {
     "name": "stdout",
     "output_type": "stream",
     "text": [
      "- Learning Progress : 99.90 % \r",
      "- Learning Progress : 100.00 % \r",
      "533\n",
      "Test Accuracy = 0.9550561797752809\n"
     ]
    },
    {
     "name": "stderr",
     "output_type": "stream",
     "text": [
      "\r",
      "535it [17:48:00, 64.87s/it]"
     ]
    },
    {
     "name": "stdout",
     "output_type": "stream",
     "text": [
      "534\n",
      "- Learning Progress : 99.80 % \r"
     ]
    },
    {
     "name": "stderr",
     "output_type": "stream",
     "text": [
      "\r",
      "536it [17:49:37, 74.48s/it]"
     ]
    },
    {
     "name": "stdout",
     "output_type": "stream",
     "text": [
      "535earning Progress : 100.00 % \n",
      "Test Accuracy = 0.9533582089552238\n",
      "- Learning Progress : 99.80 % \r"
     ]
    },
    {
     "name": "stderr",
     "output_type": "stream",
     "text": [
      "\r",
      "537it [17:51:11, 80.43s/it]"
     ]
    },
    {
     "name": "stdout",
     "output_type": "stream",
     "text": [
      "536earning Progress : 100.00 % \n",
      "Test Accuracy = 0.9534450651769087\n",
      "- Learning Progress : 99.90 % \r"
     ]
    },
    {
     "name": "stderr",
     "output_type": "stream",
     "text": [
      "\r",
      "538it [17:52:39, 82.75s/it]"
     ]
    },
    {
     "name": "stdout",
     "output_type": "stream",
     "text": [
      "537earning Progress : 100.00 % \n",
      "Test Accuracy = 0.9535315985130112\n",
      "- Learning Progress : 99.90 % \r"
     ]
    },
    {
     "name": "stderr",
     "output_type": "stream",
     "text": [
      "\r",
      "539it [17:54:09, 84.70s/it]"
     ]
    },
    {
     "name": "stdout",
     "output_type": "stream",
     "text": [
      "538earning Progress : 100.00 % \n",
      "Test Accuracy = 0.9536178107606679\n",
      "- Learning Progress : 99.90 % \r"
     ]
    },
    {
     "name": "stderr",
     "output_type": "stream",
     "text": [
      "\r",
      "540it [17:55:37, 85.94s/it]"
     ]
    },
    {
     "name": "stdout",
     "output_type": "stream",
     "text": [
      "539earning Progress : 100.00 % \n",
      "Test Accuracy = 0.9537037037037037\n",
      "- Learning Progress : 99.90 % \r"
     ]
    },
    {
     "name": "stderr",
     "output_type": "stream",
     "text": [
      "\r",
      "541it [17:57:09, 87.74s/it]"
     ]
    },
    {
     "name": "stdout",
     "output_type": "stream",
     "text": [
      "540earning Progress : 100.00 % \n",
      "Test Accuracy = 0.9537892791127541\n",
      "- Learning Progress : 100.00 % \r"
     ]
    },
    {
     "name": "stderr",
     "output_type": "stream",
     "text": [
      "\r",
      "542it [17:58:41, 88.84s/it]"
     ]
    },
    {
     "name": "stdout",
     "output_type": "stream",
     "text": [
      "541\n",
      "Test Accuracy = 0.9538745387453874\n",
      "- Learning Progress : 99.90 % \r"
     ]
    },
    {
     "name": "stderr",
     "output_type": "stream",
     "text": [
      "\r",
      "543it [18:00:09, 88.76s/it]"
     ]
    },
    {
     "name": "stdout",
     "output_type": "stream",
     "text": [
      "542earning Progress : 100.00 % \n",
      "Test Accuracy = 0.9539594843462247\n",
      "- Learning Progress : 99.90 % \r"
     ]
    },
    {
     "name": "stderr",
     "output_type": "stream",
     "text": [
      "\r",
      "544it [18:01:41, 89.65s/it]"
     ]
    },
    {
     "name": "stdout",
     "output_type": "stream",
     "text": [
      "- Learning Progress : 100.00 % \r",
      "543\n",
      "Test Accuracy = 0.9540441176470589\n"
     ]
    },
    {
     "name": "stderr",
     "output_type": "stream",
     "text": [
      "\r",
      "545it [18:01:41, 62.82s/it]"
     ]
    },
    {
     "name": "stdout",
     "output_type": "stream",
     "text": [
      "544\n",
      "- Learning Progress : 99.90 % \r"
     ]
    },
    {
     "name": "stderr",
     "output_type": "stream",
     "text": [
      "\r",
      "546it [18:03:10, 70.65s/it]"
     ]
    },
    {
     "name": "stdout",
     "output_type": "stream",
     "text": [
      "545earning Progress : 100.00 % \n",
      "Test Accuracy = 0.9523809523809523\n",
      "- Learning Progress : 99.80 % \r"
     ]
    },
    {
     "name": "stderr",
     "output_type": "stream",
     "text": [
      "\r",
      "547it [18:04:39, 76.17s/it]"
     ]
    },
    {
     "name": "stdout",
     "output_type": "stream",
     "text": [
      "546earning Progress : 100.00 % \n",
      "Test Accuracy = 0.9524680073126143\n",
      "- Learning Progress : 99.80 % \r"
     ]
    },
    {
     "name": "stderr",
     "output_type": "stream",
     "text": [
      "\r",
      "548it [18:06:08, 79.97s/it]"
     ]
    },
    {
     "name": "stdout",
     "output_type": "stream",
     "text": [
      "547earning Progress : 100.00 % \n",
      "Test Accuracy = 0.9525547445255474\n",
      "- Learning Progress : 99.80 % \r"
     ]
    },
    {
     "name": "stderr",
     "output_type": "stream",
     "text": [
      "\r",
      "549it [18:07:39, 83.39s/it]"
     ]
    },
    {
     "name": "stdout",
     "output_type": "stream",
     "text": [
      "548earning Progress : 100.00 % \n",
      "Test Accuracy = 0.9526411657559198\n",
      "- Learning Progress : 99.90 % \r"
     ]
    },
    {
     "name": "stderr",
     "output_type": "stream",
     "text": [
      "\r",
      "550it [18:09:07, 84.60s/it]"
     ]
    },
    {
     "name": "stdout",
     "output_type": "stream",
     "text": [
      "549earning Progress : 100.00 % \n",
      "Test Accuracy = 0.9527272727272728\n",
      "- Learning Progress : 99.90 % \r"
     ]
    },
    {
     "name": "stderr",
     "output_type": "stream",
     "text": [
      "\r",
      "551it [18:10:38, 86.56s/it]"
     ]
    },
    {
     "name": "stdout",
     "output_type": "stream",
     "text": [
      "550earning Progress : 100.00 % \n",
      "Test Accuracy = 0.9528130671506352\n",
      "- Learning Progress : 99.90 % \r"
     ]
    },
    {
     "name": "stderr",
     "output_type": "stream",
     "text": [
      "\r",
      "552it [18:12:09, 87.83s/it]"
     ]
    },
    {
     "name": "stdout",
     "output_type": "stream",
     "text": [
      "551earning Progress : 100.00 % \n",
      "Test Accuracy = 0.9528985507246377\n",
      "- Learning Progress : 99.70 % \r"
     ]
    },
    {
     "name": "stderr",
     "output_type": "stream",
     "text": [
      "\r",
      "553it [18:13:39, 88.67s/it]"
     ]
    },
    {
     "name": "stdout",
     "output_type": "stream",
     "text": [
      "552earning Progress : 100.00 % \n",
      "Test Accuracy = 0.9529837251356239\n",
      "- Learning Progress : 99.90 % \r"
     ]
    },
    {
     "name": "stderr",
     "output_type": "stream",
     "text": [
      "\r",
      "554it [18:15:08, 88.78s/it]"
     ]
    },
    {
     "name": "stdout",
     "output_type": "stream",
     "text": [
      "553earning Progress : 100.00 % \n",
      "Test Accuracy = 0.9530685920577617\n",
      "- Learning Progress : 99.90 % \r"
     ]
    },
    {
     "name": "stderr",
     "output_type": "stream",
     "text": [
      "\r",
      "555it [18:16:39, 89.41s/it]"
     ]
    },
    {
     "name": "stdout",
     "output_type": "stream",
     "text": [
      "554earning Progress : 100.00 % \n",
      "Test Accuracy = 0.9531531531531532\n",
      "- Learning Progress : 99.90 % \r"
     ]
    },
    {
     "name": "stderr",
     "output_type": "stream",
     "text": [
      "\r",
      "556it [18:18:08, 89.24s/it]"
     ]
    },
    {
     "name": "stdout",
     "output_type": "stream",
     "text": [
      "555earning Progress : 100.00 % \n",
      "Test Accuracy = 0.9532374100719424\n",
      "- Learning Progress : 99.70 % \r"
     ]
    },
    {
     "name": "stderr",
     "output_type": "stream",
     "text": [
      "\r",
      "557it [18:19:37, 89.15s/it]"
     ]
    },
    {
     "name": "stdout",
     "output_type": "stream",
     "text": [
      "556earning Progress : 100.00 % \n",
      "Test Accuracy = 0.9533213644524237\n",
      "- Learning Progress : 99.90 % \r"
     ]
    },
    {
     "name": "stderr",
     "output_type": "stream",
     "text": [
      "\r",
      "558it [18:21:07, 89.37s/it]"
     ]
    },
    {
     "name": "stdout",
     "output_type": "stream",
     "text": [
      "557earning Progress : 100.00 % \n",
      "Test Accuracy = 0.953405017921147\n",
      "- Learning Progress : 99.90 % \r"
     ]
    },
    {
     "name": "stderr",
     "output_type": "stream",
     "text": [
      "\r",
      "559it [18:22:35, 89.08s/it]"
     ]
    },
    {
     "name": "stdout",
     "output_type": "stream",
     "text": [
      "558earning Progress : 100.00 % \n",
      "Test Accuracy = 0.9534883720930233\n",
      "- Learning Progress : 99.90 % \r"
     ]
    },
    {
     "name": "stderr",
     "output_type": "stream",
     "text": [
      "\r",
      "560it [18:24:03, 88.67s/it]"
     ]
    },
    {
     "name": "stdout",
     "output_type": "stream",
     "text": [
      "559earning Progress : 100.00 % \n",
      "Test Accuracy = 0.9535714285714286\n",
      "- Learning Progress : 99.70 % \r"
     ]
    },
    {
     "name": "stderr",
     "output_type": "stream",
     "text": [
      "\r",
      "561it [18:25:31, 88.40s/it]"
     ]
    },
    {
     "name": "stdout",
     "output_type": "stream",
     "text": [
      "560earning Progress : 100.00 % \n",
      "Test Accuracy = 0.9536541889483066\n",
      "- Learning Progress : 99.90 % \r"
     ]
    },
    {
     "name": "stderr",
     "output_type": "stream",
     "text": [
      "\r",
      "562it [18:26:59, 88.44s/it]"
     ]
    },
    {
     "name": "stdout",
     "output_type": "stream",
     "text": [
      "561earning Progress : 100.00 % \n",
      "Test Accuracy = 0.9537366548042705\n",
      "- Learning Progress : 99.90 % \r"
     ]
    },
    {
     "name": "stderr",
     "output_type": "stream",
     "text": [
      "\r",
      "563it [18:28:27, 88.06s/it]"
     ]
    },
    {
     "name": "stdout",
     "output_type": "stream",
     "text": [
      "562earning Progress : 100.00 % \n",
      "Test Accuracy = 0.9538188277087034\n",
      "- Learning Progress : 99.80 % \r"
     ]
    },
    {
     "name": "stderr",
     "output_type": "stream",
     "text": [
      "\r",
      "564it [18:29:57, 88.69s/it]"
     ]
    },
    {
     "name": "stdout",
     "output_type": "stream",
     "text": [
      "563earning Progress : 100.00 % \n",
      "Test Accuracy = 0.9539007092198581\n",
      "- Learning Progress : 99.90 % \r"
     ]
    },
    {
     "name": "stderr",
     "output_type": "stream",
     "text": [
      "\r",
      "565it [18:31:28, 89.42s/it]"
     ]
    },
    {
     "name": "stdout",
     "output_type": "stream",
     "text": [
      "564earning Progress : 100.00 % \n",
      "Test Accuracy = 0.9539823008849557\n",
      "- Learning Progress : 99.90 % \r"
     ]
    },
    {
     "name": "stderr",
     "output_type": "stream",
     "text": [
      "\r",
      "566it [18:32:47, 86.17s/it]"
     ]
    },
    {
     "name": "stdout",
     "output_type": "stream",
     "text": [
      "565earning Progress : 100.00 % \n",
      "Test Accuracy = 0.9540636042402827\n",
      "- Learning Progress : 100.00 % \r"
     ]
    },
    {
     "name": "stderr",
     "output_type": "stream",
     "text": [
      "\r",
      "567it [18:34:09, 85.13s/it]"
     ]
    },
    {
     "name": "stdout",
     "output_type": "stream",
     "text": [
      "566\n",
      "Test Accuracy = 0.9541446208112875\n",
      "- Learning Progress : 99.90 % \r"
     ]
    },
    {
     "name": "stderr",
     "output_type": "stream",
     "text": [
      "\r",
      "568it [18:35:35, 85.30s/it]"
     ]
    },
    {
     "name": "stdout",
     "output_type": "stream",
     "text": [
      "567earning Progress : 100.00 % \n",
      "Test Accuracy = 0.954225352112676\n",
      "- Learning Progress : 99.80 % \r"
     ]
    },
    {
     "name": "stderr",
     "output_type": "stream",
     "text": [
      "\r",
      "569it [18:37:02, 85.68s/it]"
     ]
    },
    {
     "name": "stdout",
     "output_type": "stream",
     "text": [
      "- Learning Progress : 99.90 % \r",
      "- Learning Progress : 100.00 % \r",
      "568\n",
      "Test Accuracy = 0.9543057996485061\n"
     ]
    },
    {
     "name": "stderr",
     "output_type": "stream",
     "text": [
      "\r",
      "570it [18:37:02, 60.05s/it]"
     ]
    },
    {
     "name": "stdout",
     "output_type": "stream",
     "text": [
      "569\n",
      "- Learning Progress : 99.80 % \r"
     ]
    },
    {
     "name": "stderr",
     "output_type": "stream",
     "text": [
      "\r",
      "571it [18:38:30, 68.49s/it]"
     ]
    },
    {
     "name": "stdout",
     "output_type": "stream",
     "text": [
      "570earning Progress : 100.00 % \n",
      "Test Accuracy = 0.9527145359019265\n",
      "- Learning Progress : 99.90 % \r"
     ]
    },
    {
     "name": "stderr",
     "output_type": "stream",
     "text": [
      "\r",
      "572it [18:39:59, 74.80s/it]"
     ]
    },
    {
     "name": "stdout",
     "output_type": "stream",
     "text": [
      "571earning Progress : 100.00 % \n",
      "Test Accuracy = 0.9527972027972028\n",
      "- Learning Progress : 99.80 % \r"
     ]
    },
    {
     "name": "stderr",
     "output_type": "stream",
     "text": [
      "\r",
      "573it [18:41:30, 79.51s/it]"
     ]
    },
    {
     "name": "stdout",
     "output_type": "stream",
     "text": [
      "572earning Progress : 100.00 % \n",
      "Test Accuracy = 0.9528795811518325\n",
      "- Learning Progress : 100.00 % \r"
     ]
    },
    {
     "name": "stderr",
     "output_type": "stream",
     "text": [
      "\r",
      "574it [18:42:59, 82.23s/it]"
     ]
    },
    {
     "name": "stdout",
     "output_type": "stream",
     "text": [
      "573\n",
      "Test Accuracy = 0.9529616724738676\n",
      "- Learning Progress : 99.90 % \r"
     ]
    },
    {
     "name": "stderr",
     "output_type": "stream",
     "text": [
      "\r",
      "575it [18:44:25, 83.65s/it]"
     ]
    },
    {
     "name": "stdout",
     "output_type": "stream",
     "text": [
      "574earning Progress : 100.00 % \n",
      "Test Accuracy = 0.9530434782608695\n",
      "- Learning Progress : 99.90 % \r"
     ]
    },
    {
     "name": "stderr",
     "output_type": "stream",
     "text": [
      "\r",
      "576it [18:45:53, 84.75s/it]"
     ]
    },
    {
     "name": "stdout",
     "output_type": "stream",
     "text": [
      "575earning Progress : 100.00 % \n",
      "Test Accuracy = 0.953125\n",
      "- Learning Progress : 99.70 % \r"
     ]
    },
    {
     "name": "stderr",
     "output_type": "stream",
     "text": [
      "\r",
      "577it [18:47:23, 86.34s/it]"
     ]
    },
    {
     "name": "stdout",
     "output_type": "stream",
     "text": [
      "576earning Progress : 100.00 % \n",
      "Test Accuracy = 0.9532062391681109\n",
      "- Learning Progress : 100.00 % \r"
     ]
    },
    {
     "name": "stderr",
     "output_type": "stream",
     "text": [
      "\r",
      "578it [18:48:51, 86.77s/it]"
     ]
    },
    {
     "name": "stdout",
     "output_type": "stream",
     "text": [
      "577\n",
      "Test Accuracy = 0.9532871972318339\n",
      "- Learning Progress : 100.00 % \r"
     ]
    },
    {
     "name": "stderr",
     "output_type": "stream",
     "text": [
      "\r",
      "579it [18:50:24, 88.82s/it]"
     ]
    },
    {
     "name": "stdout",
     "output_type": "stream",
     "text": [
      "578\n",
      "Test Accuracy = 0.9533678756476683\n",
      "- Learning Progress : 100.00 % \r"
     ]
    },
    {
     "name": "stderr",
     "output_type": "stream",
     "text": [
      "\r",
      "580it [18:51:52, 88.64s/it]"
     ]
    },
    {
     "name": "stdout",
     "output_type": "stream",
     "text": [
      "579\n",
      "Test Accuracy = 0.9534482758620689\n",
      "- Learning Progress : 99.80 % \r"
     ]
    },
    {
     "name": "stderr",
     "output_type": "stream",
     "text": [
      "\r",
      "581it [18:53:17, 87.49s/it]"
     ]
    },
    {
     "name": "stdout",
     "output_type": "stream",
     "text": [
      "580earning Progress : 100.00 % \n",
      "Test Accuracy = 0.9535283993115319\n",
      "- Learning Progress : 99.90 % \r"
     ]
    },
    {
     "name": "stderr",
     "output_type": "stream",
     "text": [
      "\r",
      "582it [18:54:41, 86.48s/it]"
     ]
    },
    {
     "name": "stdout",
     "output_type": "stream",
     "text": [
      "581earning Progress : 100.00 % \n",
      "Test Accuracy = 0.9536082474226805\n",
      "- Learning Progress : 99.80 % \r"
     ]
    },
    {
     "name": "stderr",
     "output_type": "stream",
     "text": [
      "\r",
      "583it [18:56:12, 87.77s/it]"
     ]
    },
    {
     "name": "stdout",
     "output_type": "stream",
     "text": [
      "582earning Progress : 100.00 % \n",
      "Test Accuracy = 0.9536878216123499\n",
      "- Learning Progress : 99.80 % \r"
     ]
    },
    {
     "name": "stderr",
     "output_type": "stream",
     "text": [
      "\r",
      "584it [18:57:42, 88.28s/it]"
     ]
    },
    {
     "name": "stdout",
     "output_type": "stream",
     "text": [
      "583earning Progress : 100.00 % \n",
      "Test Accuracy = 0.9537671232876712\n",
      "- Learning Progress : 99.80 % \r"
     ]
    },
    {
     "name": "stderr",
     "output_type": "stream",
     "text": [
      "\r",
      "585it [18:59:09, 88.14s/it]"
     ]
    },
    {
     "name": "stdout",
     "output_type": "stream",
     "text": [
      "584earning Progress : 100.00 % \n",
      "Test Accuracy = 0.9538461538461539\n",
      "- Learning Progress : 99.90 % \r"
     ]
    },
    {
     "name": "stderr",
     "output_type": "stream",
     "text": [
      "\r",
      "586it [19:00:38, 88.38s/it]"
     ]
    },
    {
     "name": "stdout",
     "output_type": "stream",
     "text": [
      "- Learning Progress : 100.00 % \r",
      "585\n",
      "Test Accuracy = 0.9539249146757679\n"
     ]
    },
    {
     "name": "stderr",
     "output_type": "stream",
     "text": [
      "\r",
      "587it [19:00:40, 62.36s/it]"
     ]
    },
    {
     "name": "stdout",
     "output_type": "stream",
     "text": [
      "586\n",
      "- Learning Progress : 99.90 % \r"
     ]
    },
    {
     "name": "stderr",
     "output_type": "stream",
     "text": [
      "\r",
      "588it [19:02:08, 70.17s/it]"
     ]
    },
    {
     "name": "stdout",
     "output_type": "stream",
     "text": [
      "587earning Progress : 100.00 % \n",
      "Test Accuracy = 0.9523809523809523\n",
      "- Learning Progress : 99.90 % \r"
     ]
    },
    {
     "name": "stderr",
     "output_type": "stream",
     "text": [
      "\r",
      "589it [19:03:27, 72.67s/it]"
     ]
    },
    {
     "name": "stdout",
     "output_type": "stream",
     "text": [
      "588earning Progress : 100.00 % \n",
      "Test Accuracy = 0.9524617996604414\n",
      "- Learning Progress : 100.00 % \r"
     ]
    },
    {
     "name": "stderr",
     "output_type": "stream",
     "text": [
      "\r",
      "590it [19:04:51, 76.01s/it]"
     ]
    },
    {
     "name": "stdout",
     "output_type": "stream",
     "text": [
      "589\n",
      "Test Accuracy = 0.9525423728813559\n",
      "- Learning Progress : 99.80 % \r"
     ]
    },
    {
     "name": "stderr",
     "output_type": "stream",
     "text": [
      "\r",
      "591it [19:06:23, 80.80s/it]"
     ]
    },
    {
     "name": "stdout",
     "output_type": "stream",
     "text": [
      "590earning Progress : 100.00 % \n",
      "Test Accuracy = 0.9526226734348562\n",
      "- Learning Progress : 99.70 % \r"
     ]
    },
    {
     "name": "stderr",
     "output_type": "stream",
     "text": [
      "\r",
      "592it [19:07:59, 85.31s/it]"
     ]
    },
    {
     "name": "stdout",
     "output_type": "stream",
     "text": [
      "591earning Progress : 100.00 % \n",
      "Test Accuracy = 0.9527027027027027\n",
      "- Learning Progress : 99.80 % \r"
     ]
    },
    {
     "name": "stderr",
     "output_type": "stream",
     "text": [
      "\r",
      "593it [19:09:29, 86.73s/it]"
     ]
    },
    {
     "name": "stdout",
     "output_type": "stream",
     "text": [
      "592earning Progress : 100.00 % \n",
      "Test Accuracy = 0.9527824620573356\n",
      "- Learning Progress : 99.80 % \r"
     ]
    },
    {
     "name": "stderr",
     "output_type": "stream",
     "text": [
      "\r",
      "594it [19:11:02, 88.62s/it]"
     ]
    },
    {
     "name": "stdout",
     "output_type": "stream",
     "text": [
      "593earning Progress : 100.00 % \n",
      "Test Accuracy = 0.9528619528619529\n",
      "- Learning Progress : 100.00 % \r"
     ]
    },
    {
     "name": "stderr",
     "output_type": "stream",
     "text": [
      "\r",
      "595it [19:12:33, 89.55s/it]"
     ]
    },
    {
     "name": "stdout",
     "output_type": "stream",
     "text": [
      "594\n",
      "Test Accuracy = 0.9529411764705882\n",
      "- Learning Progress : 99.90 % \r"
     ]
    },
    {
     "name": "stderr",
     "output_type": "stream",
     "text": [
      "\r",
      "596it [19:14:03, 89.53s/it]"
     ]
    },
    {
     "name": "stdout",
     "output_type": "stream",
     "text": [
      "595earning Progress : 100.00 % \n",
      "Test Accuracy = 0.9530201342281879\n",
      "- Learning Progress : 99.90 % \r"
     ]
    },
    {
     "name": "stderr",
     "output_type": "stream",
     "text": [
      "\r",
      "597it [19:15:29, 88.52s/it]"
     ]
    },
    {
     "name": "stdout",
     "output_type": "stream",
     "text": [
      "596earning Progress : 100.00 % \n",
      "Test Accuracy = 0.9530988274706867\n",
      "- Learning Progress : 99.90 % \r"
     ]
    },
    {
     "name": "stderr",
     "output_type": "stream",
     "text": [
      "\r",
      "598it [19:16:58, 88.60s/it]"
     ]
    },
    {
     "name": "stdout",
     "output_type": "stream",
     "text": [
      "597earning Progress : 100.00 % \n",
      "Test Accuracy = 0.9531772575250836\n",
      "- Learning Progress : 100.00 % \r"
     ]
    },
    {
     "name": "stderr",
     "output_type": "stream",
     "text": [
      "\r",
      "599it [19:18:28, 89.10s/it]"
     ]
    },
    {
     "name": "stdout",
     "output_type": "stream",
     "text": [
      "598\n",
      "Test Accuracy = 0.9532554257095158\n",
      "- Learning Progress : 99.80 % \r"
     ]
    },
    {
     "name": "stderr",
     "output_type": "stream",
     "text": [
      "\r",
      "600it [19:19:58, 89.24s/it]"
     ]
    },
    {
     "name": "stdout",
     "output_type": "stream",
     "text": [
      "599earning Progress : 100.00 % \n",
      "Test Accuracy = 0.9533333333333334\n",
      "- Learning Progress : 99.80 % \r"
     ]
    },
    {
     "name": "stderr",
     "output_type": "stream",
     "text": [
      "\r",
      "601it [19:21:26, 89.12s/it]"
     ]
    },
    {
     "name": "stdout",
     "output_type": "stream",
     "text": [
      "600earning Progress : 100.00 % \n",
      "Test Accuracy = 0.9534109816971714\n",
      "- Learning Progress : 99.70 % \r"
     ]
    },
    {
     "name": "stderr",
     "output_type": "stream",
     "text": [
      "\r",
      "602it [19:22:55, 89.07s/it]"
     ]
    },
    {
     "name": "stdout",
     "output_type": "stream",
     "text": [
      "601earning Progress : 100.00 % \n",
      "Test Accuracy = 0.9534883720930233\n",
      "- Learning Progress : 99.90 % \r"
     ]
    },
    {
     "name": "stderr",
     "output_type": "stream",
     "text": [
      "\r",
      "603it [19:24:23, 88.75s/it]"
     ]
    },
    {
     "name": "stdout",
     "output_type": "stream",
     "text": [
      "602earning Progress : 100.00 % \n",
      "Test Accuracy = 0.9535655058043118\n",
      "- Learning Progress : 99.80 % \r"
     ]
    },
    {
     "name": "stderr",
     "output_type": "stream",
     "text": [
      "\r",
      "604it [19:25:54, 89.44s/it]"
     ]
    },
    {
     "name": "stdout",
     "output_type": "stream",
     "text": [
      "603earning Progress : 100.00 % \n",
      "Test Accuracy = 0.9536423841059603\n",
      "- Learning Progress : 99.80 % \r"
     ]
    },
    {
     "name": "stderr",
     "output_type": "stream",
     "text": [
      "\r",
      "605it [19:27:31, 91.70s/it]"
     ]
    },
    {
     "name": "stdout",
     "output_type": "stream",
     "text": [
      "604earning Progress : 100.00 % \n",
      "Test Accuracy = 0.9537190082644628\n",
      "- Learning Progress : 99.80 % \r"
     ]
    },
    {
     "name": "stderr",
     "output_type": "stream",
     "text": [
      "\r",
      "606it [19:29:01, 91.05s/it]"
     ]
    },
    {
     "name": "stdout",
     "output_type": "stream",
     "text": [
      "605earning Progress : 100.00 % \n",
      "Test Accuracy = 0.9537953795379538\n",
      "- Learning Progress : 99.70 % \r"
     ]
    },
    {
     "name": "stderr",
     "output_type": "stream",
     "text": [
      "\r",
      "607it [19:30:29, 90.07s/it]"
     ]
    },
    {
     "name": "stdout",
     "output_type": "stream",
     "text": [
      "606earning Progress : 100.00 % \n",
      "Test Accuracy = 0.9538714991762768\n",
      "- Learning Progress : 100.00 % \r"
     ]
    },
    {
     "name": "stderr",
     "output_type": "stream",
     "text": [
      "\r",
      "608it [19:31:47, 86.53s/it]"
     ]
    },
    {
     "name": "stdout",
     "output_type": "stream",
     "text": [
      "607\n",
      "Test Accuracy = 0.9539473684210527\n",
      "- Learning Progress : 99.90 % \r"
     ]
    },
    {
     "name": "stderr",
     "output_type": "stream",
     "text": [
      "\r",
      "609it [19:33:30, 91.55s/it]"
     ]
    },
    {
     "name": "stdout",
     "output_type": "stream",
     "text": [
      "608earning Progress : 100.00 % \n",
      "Test Accuracy = 0.9540229885057471\n",
      "- Learning Progress : 99.90 % \r"
     ]
    },
    {
     "name": "stderr",
     "output_type": "stream",
     "text": [
      "\r",
      "610it [19:34:57, 90.14s/it]"
     ]
    },
    {
     "name": "stdout",
     "output_type": "stream",
     "text": [
      "609earning Progress : 100.00 % \n",
      "Test Accuracy = 0.9540983606557377\n",
      "- Learning Progress : 100.00 % \r"
     ]
    },
    {
     "name": "stderr",
     "output_type": "stream",
     "text": [
      "\r",
      "611it [19:36:36, 92.68s/it]"
     ]
    },
    {
     "name": "stdout",
     "output_type": "stream",
     "text": [
      "610\n",
      "Test Accuracy = 0.9541734860883797\n",
      "- Learning Progress : 99.90 % \r"
     ]
    },
    {
     "name": "stderr",
     "output_type": "stream",
     "text": [
      "\r",
      "612it [19:38:01, 90.39s/it]"
     ]
    },
    {
     "name": "stdout",
     "output_type": "stream",
     "text": [
      "611earning Progress : 100.00 % \n",
      "Test Accuracy = 0.954248366013072\n",
      "- Learning Progress : 99.80 % \r"
     ]
    },
    {
     "name": "stderr",
     "output_type": "stream",
     "text": [
      "\r",
      "613it [19:39:31, 90.38s/it]"
     ]
    },
    {
     "name": "stdout",
     "output_type": "stream",
     "text": [
      "612earning Progress : 100.00 % \n",
      "Test Accuracy = 0.9543230016313213\n",
      "- Learning Progress : 99.90 % \r"
     ]
    },
    {
     "name": "stderr",
     "output_type": "stream",
     "text": [
      "\r",
      "614it [19:41:02, 90.52s/it]"
     ]
    },
    {
     "name": "stdout",
     "output_type": "stream",
     "text": [
      "613earning Progress : 100.00 % \n",
      "Test Accuracy = 0.9543973941368078\n",
      "- Learning Progress : 99.70 % \r"
     ]
    },
    {
     "name": "stderr",
     "output_type": "stream",
     "text": [
      "\r",
      "615it [19:42:31, 90.05s/it]"
     ]
    },
    {
     "name": "stdout",
     "output_type": "stream",
     "text": [
      "- Learning Progress : 99.80 % \r",
      "- Learning Progress : 99.90 % \r",
      "- Learning Progress : 100.00 % \r",
      "614\n",
      "Test Accuracy = 0.9544715447154472\n"
     ]
    },
    {
     "name": "stderr",
     "output_type": "stream",
     "text": [
      "\r",
      "616it [19:42:31, 63.10s/it]"
     ]
    },
    {
     "name": "stdout",
     "output_type": "stream",
     "text": [
      "615\n",
      "- Learning Progress : 99.90 % \r"
     ]
    },
    {
     "name": "stderr",
     "output_type": "stream",
     "text": [
      "\r",
      "617it [19:43:58, 70.29s/it]"
     ]
    },
    {
     "name": "stdout",
     "output_type": "stream",
     "text": [
      "616earning Progress : 100.00 % \n",
      "Test Accuracy = 0.9529983792544571\n",
      "- Learning Progress : 99.80 % \r"
     ]
    },
    {
     "name": "stderr",
     "output_type": "stream",
     "text": [
      "\r",
      "618it [19:45:25, 75.31s/it]"
     ]
    },
    {
     "name": "stdout",
     "output_type": "stream",
     "text": [
      "617earning Progress : 100.00 % \n",
      "Test Accuracy = 0.9530744336569579\n",
      "- Learning Progress : 99.90 % \r"
     ]
    },
    {
     "name": "stderr",
     "output_type": "stream",
     "text": [
      "\r",
      "619it [19:46:52, 78.81s/it]"
     ]
    },
    {
     "name": "stdout",
     "output_type": "stream",
     "text": [
      "618earning Progress : 100.00 % \n",
      "Test Accuracy = 0.9531502423263328\n",
      "- Learning Progress : 99.80 % \r"
     ]
    },
    {
     "name": "stderr",
     "output_type": "stream",
     "text": [
      "\r",
      "620it [19:48:18, 81.02s/it]"
     ]
    },
    {
     "name": "stdout",
     "output_type": "stream",
     "text": [
      "619earning Progress : 100.00 % \n",
      "Test Accuracy = 0.9532258064516129\n",
      "- Learning Progress : 99.80 % \r"
     ]
    },
    {
     "name": "stderr",
     "output_type": "stream",
     "text": [
      "\r",
      "621it [19:49:51, 84.36s/it]"
     ]
    },
    {
     "name": "stdout",
     "output_type": "stream",
     "text": [
      "620earning Progress : 100.00 % \n",
      "Test Accuracy = 0.9533011272141707\n",
      "621earning Progress : 100.00 % \n",
      "Test Accuracy = 0.9533762057877814\n"
     ]
    },
    {
     "name": "stderr",
     "output_type": "stream",
     "text": [
      "\r",
      "622it [19:51:21, 86.19s/it]"
     ]
    },
    {
     "name": "stdout",
     "output_type": "stream",
     "text": [
      "- Learning Progress : 99.80 % \r"
     ]
    },
    {
     "name": "stderr",
     "output_type": "stream",
     "text": [
      "\r",
      "623it [19:52:49, 86.60s/it]"
     ]
    },
    {
     "name": "stdout",
     "output_type": "stream",
     "text": [
      "622earning Progress : 100.00 % \n",
      "Test Accuracy = 0.9534510433386838\n",
      "- Learning Progress : 99.90 % \r"
     ]
    },
    {
     "name": "stderr",
     "output_type": "stream",
     "text": [
      "\r",
      "624it [19:54:16, 86.87s/it]"
     ]
    },
    {
     "name": "stdout",
     "output_type": "stream",
     "text": [
      "623earning Progress : 100.00 % \n",
      "Test Accuracy = 0.9535256410256411\n",
      "- Learning Progress : 99.60 % \r"
     ]
    },
    {
     "name": "stderr",
     "output_type": "stream",
     "text": [
      "\r",
      "625it [19:55:34, 84.10s/it]"
     ]
    },
    {
     "name": "stdout",
     "output_type": "stream",
     "text": [
      "624earning Progress : 100.00 % \n",
      "Test Accuracy = 0.9536\n",
      "- Learning Progress : 99.90 % \r"
     ]
    },
    {
     "name": "stderr",
     "output_type": "stream",
     "text": [
      "\r",
      "626it [19:57:07, 86.95s/it]"
     ]
    },
    {
     "name": "stdout",
     "output_type": "stream",
     "text": [
      "625earning Progress : 100.00 % \n",
      "Test Accuracy = 0.9536741214057508\n",
      "- Learning Progress : 100.00 % \r"
     ]
    },
    {
     "name": "stderr",
     "output_type": "stream",
     "text": [
      "\r",
      "627it [19:58:41, 88.99s/it]"
     ]
    },
    {
     "name": "stdout",
     "output_type": "stream",
     "text": [
      "626\n",
      "Test Accuracy = 0.9537480063795853\n",
      "- Learning Progress : 100.00 % \r"
     ]
    },
    {
     "name": "stderr",
     "output_type": "stream",
     "text": [
      "\r",
      "628it [20:00:19, 91.80s/it]"
     ]
    },
    {
     "name": "stdout",
     "output_type": "stream",
     "text": [
      "627\n",
      "Test Accuracy = 0.9538216560509554\n",
      "- Learning Progress : 99.80 % \r"
     ]
    },
    {
     "name": "stderr",
     "output_type": "stream",
     "text": [
      "\r",
      "629it [20:01:54, 92.61s/it]"
     ]
    },
    {
     "name": "stdout",
     "output_type": "stream",
     "text": [
      "628earning Progress : 100.00 % \n",
      "Test Accuracy = 0.9538950715421304\n",
      "- Learning Progress : 99.90 % \r"
     ]
    },
    {
     "name": "stderr",
     "output_type": "stream",
     "text": [
      "\r",
      "630it [20:03:23, 91.47s/it]"
     ]
    },
    {
     "name": "stdout",
     "output_type": "stream",
     "text": [
      "629earning Progress : 100.00 % \n",
      "Test Accuracy = 0.953968253968254\n",
      "- Learning Progress : 99.90 % \r"
     ]
    },
    {
     "name": "stderr",
     "output_type": "stream",
     "text": [
      "\r",
      "631it [20:04:52, 90.90s/it]"
     ]
    },
    {
     "name": "stdout",
     "output_type": "stream",
     "text": [
      "630earning Progress : 100.00 % \n",
      "Test Accuracy = 0.9540412044374009\n",
      "- Learning Progress : 99.80 % \r"
     ]
    },
    {
     "name": "stderr",
     "output_type": "stream",
     "text": [
      "\r",
      "632it [20:06:22, 90.58s/it]"
     ]
    },
    {
     "name": "stdout",
     "output_type": "stream",
     "text": [
      "631earning Progress : 100.00 % \n",
      "Test Accuracy = 0.9541139240506329\n",
      "- Learning Progress : 99.80 % \r"
     ]
    },
    {
     "name": "stderr",
     "output_type": "stream",
     "text": [
      "\r",
      "633it [20:07:51, 90.09s/it]"
     ]
    },
    {
     "name": "stdout",
     "output_type": "stream",
     "text": [
      "632earning Progress : 100.00 % \n",
      "Test Accuracy = 0.9541864139020537\n",
      "- Learning Progress : 99.90 % \r"
     ]
    },
    {
     "name": "stderr",
     "output_type": "stream",
     "text": [
      "\r",
      "634it [20:09:20, 89.63s/it]"
     ]
    },
    {
     "name": "stdout",
     "output_type": "stream",
     "text": [
      "633earning Progress : 100.00 % \n",
      "Test Accuracy = 0.9542586750788643\n",
      "- Learning Progress : 99.90 % \r"
     ]
    },
    {
     "name": "stderr",
     "output_type": "stream",
     "text": [
      "\r",
      "635it [20:10:48, 89.17s/it]"
     ]
    },
    {
     "name": "stdout",
     "output_type": "stream",
     "text": [
      "634earning Progress : 100.00 % \n",
      "Test Accuracy = 0.9543307086614173\n",
      "- Learning Progress : 99.90 % \r"
     ]
    },
    {
     "name": "stderr",
     "output_type": "stream",
     "text": [
      "\r",
      "636it [20:12:08, 86.48s/it]"
     ]
    },
    {
     "name": "stdout",
     "output_type": "stream",
     "text": [
      "635earning Progress : 100.00 % \n",
      "Test Accuracy = 0.9544025157232704\n",
      "- Learning Progress : 99.90 % \r"
     ]
    },
    {
     "name": "stderr",
     "output_type": "stream",
     "text": [
      "\r",
      "637it [20:13:37, 87.30s/it]"
     ]
    },
    {
     "name": "stdout",
     "output_type": "stream",
     "text": [
      "636earning Progress : 100.00 % \n",
      "Test Accuracy = 0.9544740973312402\n",
      "- Learning Progress : 99.80 % \r"
     ]
    },
    {
     "name": "stderr",
     "output_type": "stream",
     "text": [
      "\r",
      "638it [20:15:06, 87.65s/it]"
     ]
    },
    {
     "name": "stdout",
     "output_type": "stream",
     "text": [
      "637earning Progress : 100.00 % \n",
      "Test Accuracy = 0.9545454545454546\n",
      "- Learning Progress : 100.00 % \r"
     ]
    },
    {
     "name": "stderr",
     "output_type": "stream",
     "text": [
      "\r",
      "639it [20:16:38, 88.95s/it]"
     ]
    },
    {
     "name": "stdout",
     "output_type": "stream",
     "text": [
      "638\n",
      "Test Accuracy = 0.9546165884194053\n",
      "- Learning Progress : 99.80 % \r"
     ]
    },
    {
     "name": "stderr",
     "output_type": "stream",
     "text": [
      "\r",
      "640it [20:18:04, 88.10s/it]"
     ]
    },
    {
     "name": "stdout",
     "output_type": "stream",
     "text": [
      "639earning Progress : 100.00 % \n",
      "Test Accuracy = 0.9546875\n",
      "- Learning Progress : 99.90 % \r"
     ]
    },
    {
     "name": "stderr",
     "output_type": "stream",
     "text": [
      "\r",
      "641it [20:19:22, 85.09s/it]"
     ]
    },
    {
     "name": "stdout",
     "output_type": "stream",
     "text": [
      "640earning Progress : 100.00 % \n",
      "Test Accuracy = 0.9547581903276131\n",
      "- Learning Progress : 99.80 % \r"
     ]
    },
    {
     "name": "stderr",
     "output_type": "stream",
     "text": [
      "\r",
      "642it [20:20:56, 87.82s/it]"
     ]
    },
    {
     "name": "stdout",
     "output_type": "stream",
     "text": [
      "641earning Progress : 100.00 % \n",
      "Test Accuracy = 0.9548286604361371\n",
      "- Learning Progress : 99.90 % \r"
     ]
    },
    {
     "name": "stderr",
     "output_type": "stream",
     "text": [
      "\r",
      "643it [20:22:25, 88.22s/it]"
     ]
    },
    {
     "name": "stdout",
     "output_type": "stream",
     "text": [
      "642earning Progress : 100.00 % \n",
      "Test Accuracy = 0.9548989113530326\n",
      "- Learning Progress : 99.80 % \r"
     ]
    },
    {
     "name": "stderr",
     "output_type": "stream",
     "text": [
      "\r",
      "644it [20:23:52, 87.74s/it]"
     ]
    },
    {
     "name": "stdout",
     "output_type": "stream",
     "text": [
      "643earning Progress : 100.00 % \n",
      "Test Accuracy = 0.9549689440993789\n",
      "- Learning Progress : 99.70 % \r"
     ]
    },
    {
     "name": "stderr",
     "output_type": "stream",
     "text": [
      "\r",
      "645it [20:25:29, 90.49s/it]"
     ]
    },
    {
     "name": "stdout",
     "output_type": "stream",
     "text": [
      "644earning Progress : 100.00 % \n",
      "Test Accuracy = 0.9550387596899225\n",
      "- Learning Progress : 100.00 % \r"
     ]
    },
    {
     "name": "stderr",
     "output_type": "stream",
     "text": [
      "\r",
      "646it [20:26:59, 90.32s/it]"
     ]
    },
    {
     "name": "stdout",
     "output_type": "stream",
     "text": [
      "645\n",
      "Test Accuracy = 0.955108359133127\n",
      "- Learning Progress : 99.90 % \r"
     ]
    },
    {
     "name": "stderr",
     "output_type": "stream",
     "text": [
      "\r",
      "647it [20:28:29, 90.49s/it]"
     ]
    },
    {
     "name": "stdout",
     "output_type": "stream",
     "text": [
      "646earning Progress : 100.00 % \n",
      "Test Accuracy = 0.955177743431221\n",
      "- Learning Progress : 99.90 % \r"
     ]
    },
    {
     "name": "stderr",
     "output_type": "stream",
     "text": [
      "\r",
      "648it [20:29:59, 90.12s/it]"
     ]
    },
    {
     "name": "stdout",
     "output_type": "stream",
     "text": [
      "647earning Progress : 100.00 % \n",
      "Test Accuracy = 0.9552469135802469\n",
      "- Learning Progress : 99.90 % \r"
     ]
    },
    {
     "name": "stderr",
     "output_type": "stream",
     "text": [
      "\r",
      "649it [20:31:28, 89.76s/it]"
     ]
    },
    {
     "name": "stdout",
     "output_type": "stream",
     "text": [
      "648earning Progress : 100.00 % \n",
      "Test Accuracy = 0.9553158705701078\n",
      "- Learning Progress : 99.90 % \r"
     ]
    },
    {
     "name": "stderr",
     "output_type": "stream",
     "text": [
      "\r",
      "650it [20:32:55, 88.95s/it]"
     ]
    },
    {
     "name": "stdout",
     "output_type": "stream",
     "text": [
      "649earning Progress : 100.00 % \n",
      "Test Accuracy = 0.9553846153846154\n",
      "- Learning Progress : 99.90 % \r"
     ]
    },
    {
     "name": "stderr",
     "output_type": "stream",
     "text": [
      "\r",
      "651it [20:34:28, 90.30s/it]"
     ]
    },
    {
     "name": "stdout",
     "output_type": "stream",
     "text": [
      "- Learning Progress : 100.00 % \r",
      "650\n",
      "Test Accuracy = 0.9554531490015361\n"
     ]
    },
    {
     "name": "stderr",
     "output_type": "stream",
     "text": [
      "\r",
      "652it [20:34:28, 63.29s/it]"
     ]
    },
    {
     "name": "stdout",
     "output_type": "stream",
     "text": [
      "651\n",
      "- Learning Progress : 99.90 % \r"
     ]
    },
    {
     "name": "stderr",
     "output_type": "stream",
     "text": [
      "\r",
      "653it [20:36:02, 72.32s/it]"
     ]
    },
    {
     "name": "stdout",
     "output_type": "stream",
     "text": [
      "652earning Progress : 100.00 % \n",
      "Test Accuracy = 0.9540581929555896\n",
      "- Learning Progress : 99.80 % \r"
     ]
    },
    {
     "name": "stderr",
     "output_type": "stream",
     "text": [
      "\r",
      "654it [20:37:30, 77.21s/it]"
     ]
    },
    {
     "name": "stdout",
     "output_type": "stream",
     "text": [
      "653earning Progress : 100.00 % \n",
      "Test Accuracy = 0.9541284403669725\n",
      "- Learning Progress : 100.00 % \r"
     ]
    },
    {
     "name": "stderr",
     "output_type": "stream",
     "text": [
      "\r",
      "655it [20:38:56, 79.81s/it]"
     ]
    },
    {
     "name": "stdout",
     "output_type": "stream",
     "text": [
      "654\n",
      "Test Accuracy = 0.9541984732824428\n",
      "- Learning Progress : 99.90 % \r"
     ]
    },
    {
     "name": "stderr",
     "output_type": "stream",
     "text": [
      "\r",
      "656it [20:40:27, 83.09s/it]"
     ]
    },
    {
     "name": "stdout",
     "output_type": "stream",
     "text": [
      "655earning Progress : 100.00 % \n",
      "Test Accuracy = 0.9542682926829268\n",
      "- Learning Progress : 99.90 % \r"
     ]
    },
    {
     "name": "stderr",
     "output_type": "stream",
     "text": [
      "\r",
      "657it [20:42:01, 86.21s/it]"
     ]
    },
    {
     "name": "stdout",
     "output_type": "stream",
     "text": [
      "656earning Progress : 100.00 % \n",
      "Test Accuracy = 0.954337899543379\n",
      "- Learning Progress : 99.80 % \r"
     ]
    },
    {
     "name": "stderr",
     "output_type": "stream",
     "text": [
      "\r",
      "658it [20:43:33, 88.05s/it]"
     ]
    },
    {
     "name": "stdout",
     "output_type": "stream",
     "text": [
      "657earning Progress : 100.00 % \n",
      "Test Accuracy = 0.9544072948328267\n",
      "- Learning Progress : 100.00 % \r"
     ]
    },
    {
     "name": "stderr",
     "output_type": "stream",
     "text": [
      "\r",
      "659it [20:45:04, 89.03s/it]"
     ]
    },
    {
     "name": "stdout",
     "output_type": "stream",
     "text": [
      "658\n",
      "Test Accuracy = 0.9544764795144158\n",
      "- Learning Progress : 99.80 % \r"
     ]
    },
    {
     "name": "stderr",
     "output_type": "stream",
     "text": [
      "\r",
      "660it [20:46:33, 89.02s/it]"
     ]
    },
    {
     "name": "stdout",
     "output_type": "stream",
     "text": [
      "659earning Progress : 100.00 % \n",
      "Test Accuracy = 0.9545454545454546\n",
      "- Learning Progress : 99.90 % \r"
     ]
    },
    {
     "name": "stderr",
     "output_type": "stream",
     "text": [
      "\r",
      "661it [20:48:05, 89.99s/it]"
     ]
    },
    {
     "name": "stdout",
     "output_type": "stream",
     "text": [
      "660earning Progress : 100.00 % \n",
      "Test Accuracy = 0.9546142208774584\n",
      "- Learning Progress : 99.90 % \r"
     ]
    },
    {
     "name": "stderr",
     "output_type": "stream",
     "text": [
      "\r",
      "662it [20:49:36, 90.14s/it]"
     ]
    },
    {
     "name": "stdout",
     "output_type": "stream",
     "text": [
      "- Learning Progress : 100.00 % \r",
      "661\n",
      "Test Accuracy = 0.9546827794561934\n"
     ]
    },
    {
     "name": "stderr",
     "output_type": "stream",
     "text": [
      "\r",
      "663it [20:49:36, 63.16s/it]"
     ]
    },
    {
     "name": "stdout",
     "output_type": "stream",
     "text": [
      "662\n",
      "- Learning Progress : 99.90 % \r"
     ]
    },
    {
     "name": "stderr",
     "output_type": "stream",
     "text": [
      "\r",
      "664it [20:51:04, 70.66s/it]"
     ]
    },
    {
     "name": "stdout",
     "output_type": "stream",
     "text": [
      "663earning Progress : 100.00 % \n",
      "Test Accuracy = 0.9533132530120482\n",
      "- Learning Progress : 99.80 % \r"
     ]
    },
    {
     "name": "stderr",
     "output_type": "stream",
     "text": [
      "\r",
      "665it [20:52:32, 75.88s/it]"
     ]
    },
    {
     "name": "stdout",
     "output_type": "stream",
     "text": [
      "664earning Progress : 100.00 % \n",
      "Test Accuracy = 0.9533834586466166\n",
      "- Learning Progress : 99.70 % \r"
     ]
    },
    {
     "name": "stderr",
     "output_type": "stream",
     "text": [
      "\r",
      "666it [20:54:01, 79.62s/it]"
     ]
    },
    {
     "name": "stdout",
     "output_type": "stream",
     "text": [
      "665earning Progress : 100.00 % \n",
      "Test Accuracy = 0.9534534534534534\n",
      "- Learning Progress : 99.90 % \r"
     ]
    },
    {
     "name": "stderr",
     "output_type": "stream",
     "text": [
      "\r",
      "667it [20:55:28, 81.98s/it]"
     ]
    },
    {
     "name": "stdout",
     "output_type": "stream",
     "text": [
      "666earning Progress : 100.00 % \n",
      "Test Accuracy = 0.9535232383808095\n",
      "- Learning Progress : 99.70 % \r"
     ]
    },
    {
     "name": "stderr",
     "output_type": "stream",
     "text": [
      "\r",
      "668it [20:56:47, 81.16s/it]"
     ]
    },
    {
     "name": "stdout",
     "output_type": "stream",
     "text": [
      "667earning Progress : 100.00 % \n",
      "Test Accuracy = 0.9535928143712575\n",
      "- Learning Progress : 99.80 % \r"
     ]
    },
    {
     "name": "stderr",
     "output_type": "stream",
     "text": [
      "\r",
      "669it [20:58:15, 83.13s/it]"
     ]
    },
    {
     "name": "stdout",
     "output_type": "stream",
     "text": [
      "668earning Progress : 100.00 % \n",
      "Test Accuracy = 0.953662182361734\n",
      "- Learning Progress : 99.90 % \r"
     ]
    },
    {
     "name": "stderr",
     "output_type": "stream",
     "text": [
      "\r",
      "670it [20:59:41, 83.93s/it]"
     ]
    },
    {
     "name": "stdout",
     "output_type": "stream",
     "text": [
      "669earning Progress : 100.00 % \n",
      "Test Accuracy = 0.9537313432835821\n",
      "- Learning Progress : 99.80 % \r"
     ]
    },
    {
     "name": "stderr",
     "output_type": "stream",
     "text": [
      "\r",
      "671it [21:01:08, 84.91s/it]"
     ]
    },
    {
     "name": "stdout",
     "output_type": "stream",
     "text": [
      "670earning Progress : 100.00 % \n",
      "Test Accuracy = 0.9538002980625931\n",
      "- Learning Progress : 99.80 % \r"
     ]
    },
    {
     "name": "stderr",
     "output_type": "stream",
     "text": [
      "\r",
      "672it [21:02:36, 85.82s/it]"
     ]
    },
    {
     "name": "stdout",
     "output_type": "stream",
     "text": [
      "671earning Progress : 100.00 % \n",
      "Test Accuracy = 0.9538690476190477\n",
      "- Learning Progress : 99.70 % \r"
     ]
    },
    {
     "name": "stderr",
     "output_type": "stream",
     "text": [
      "\r",
      "673it [21:04:04, 86.45s/it]"
     ]
    },
    {
     "name": "stdout",
     "output_type": "stream",
     "text": [
      "672earning Progress : 100.00 % \n",
      "Test Accuracy = 0.9539375928677564\n",
      "- Learning Progress : 99.90 % \r"
     ]
    },
    {
     "name": "stderr",
     "output_type": "stream",
     "text": [
      "\r",
      "674it [21:05:38, 88.74s/it]"
     ]
    },
    {
     "name": "stdout",
     "output_type": "stream",
     "text": [
      "673earning Progress : 100.00 % \n",
      "Test Accuracy = 0.9540059347181009\n",
      "- Learning Progress : 99.90 % \r"
     ]
    },
    {
     "name": "stderr",
     "output_type": "stream",
     "text": [
      "\r",
      "675it [21:07:09, 89.52s/it]"
     ]
    },
    {
     "name": "stdout",
     "output_type": "stream",
     "text": [
      "674earning Progress : 100.00 % \n",
      "Test Accuracy = 0.9540740740740741\n",
      "- Learning Progress : 99.90 % \r"
     ]
    },
    {
     "name": "stderr",
     "output_type": "stream",
     "text": [
      "\r",
      "676it [21:08:39, 89.46s/it]"
     ]
    },
    {
     "name": "stdout",
     "output_type": "stream",
     "text": [
      "675earning Progress : 100.00 % \n",
      "Test Accuracy = 0.9541420118343196\n",
      "- Learning Progress : 99.90 % \r"
     ]
    },
    {
     "name": "stderr",
     "output_type": "stream",
     "text": [
      "\r",
      "677it [21:10:09, 89.71s/it]"
     ]
    },
    {
     "name": "stdout",
     "output_type": "stream",
     "text": [
      "676earning Progress : 100.00 % \n",
      "Test Accuracy = 0.9542097488921714\n",
      "- Learning Progress : 99.90 % \r"
     ]
    },
    {
     "name": "stderr",
     "output_type": "stream",
     "text": [
      "\r",
      "678it [21:11:34, 88.15s/it]"
     ]
    },
    {
     "name": "stdout",
     "output_type": "stream",
     "text": [
      "677earning Progress : 100.00 % \n",
      "Test Accuracy = 0.9542772861356932\n",
      "- Learning Progress : 99.90 % \r"
     ]
    },
    {
     "name": "stderr",
     "output_type": "stream",
     "text": [
      "\r",
      "679it [21:13:01, 87.82s/it]"
     ]
    },
    {
     "name": "stdout",
     "output_type": "stream",
     "text": [
      "678earning Progress : 100.00 % \n",
      "Test Accuracy = 0.9543446244477173\n",
      "- Learning Progress : 99.70 % \r"
     ]
    },
    {
     "name": "stderr",
     "output_type": "stream",
     "text": [
      "\r",
      "680it [21:14:29, 87.99s/it]"
     ]
    },
    {
     "name": "stdout",
     "output_type": "stream",
     "text": [
      "679earning Progress : 100.00 % \n",
      "Test Accuracy = 0.9544117647058824\n",
      "- Learning Progress : 100.00 % \r"
     ]
    },
    {
     "name": "stderr",
     "output_type": "stream",
     "text": [
      "\r",
      "681it [21:15:59, 88.52s/it]"
     ]
    },
    {
     "name": "stdout",
     "output_type": "stream",
     "text": [
      "680\n",
      "Test Accuracy = 0.9544787077826725\n",
      "- Learning Progress : 100.00 % \r"
     ]
    },
    {
     "name": "stderr",
     "output_type": "stream",
     "text": [
      "\r",
      "682it [21:17:28, 88.59s/it]"
     ]
    },
    {
     "name": "stdout",
     "output_type": "stream",
     "text": [
      "681\n",
      "Test Accuracy = 0.9545454545454546\n",
      "- Learning Progress : 99.80 % \r"
     ]
    },
    {
     "name": "stderr",
     "output_type": "stream",
     "text": [
      "\r",
      "683it [21:19:00, 89.86s/it]"
     ]
    },
    {
     "name": "stdout",
     "output_type": "stream",
     "text": [
      "682earning Progress : 100.00 % \n",
      "Test Accuracy = 0.9546120058565154\n",
      "- Learning Progress : 99.80 % \r"
     ]
    },
    {
     "name": "stderr",
     "output_type": "stream",
     "text": [
      "\r",
      "684it [21:20:31, 90.13s/it]"
     ]
    },
    {
     "name": "stdout",
     "output_type": "stream",
     "text": [
      "683earning Progress : 100.00 % \n",
      "Test Accuracy = 0.9546783625730995\n",
      "- Learning Progress : 99.80 % \r"
     ]
    },
    {
     "name": "stderr",
     "output_type": "stream",
     "text": [
      "\r",
      "685it [21:22:03, 90.80s/it]"
     ]
    },
    {
     "name": "stdout",
     "output_type": "stream",
     "text": [
      "684earning Progress : 100.00 % \n",
      "Test Accuracy = 0.9547445255474453\n",
      "- Learning Progress : 99.90 % \r"
     ]
    },
    {
     "name": "stderr",
     "output_type": "stream",
     "text": [
      "\r",
      "686it [21:23:28, 89.07s/it]"
     ]
    },
    {
     "name": "stdout",
     "output_type": "stream",
     "text": [
      "685earning Progress : 100.00 % \n",
      "Test Accuracy = 0.9548104956268222\n",
      "- Learning Progress : 99.90 % \r"
     ]
    },
    {
     "name": "stderr",
     "output_type": "stream",
     "text": [
      "\r",
      "687it [21:24:52, 87.34s/it]"
     ]
    },
    {
     "name": "stdout",
     "output_type": "stream",
     "text": [
      "686earning Progress : 100.00 % \n",
      "Test Accuracy = 0.9548762736535662\n",
      "- Learning Progress : 99.90 % \r"
     ]
    },
    {
     "name": "stderr",
     "output_type": "stream",
     "text": [
      "\r",
      "688it [21:26:17, 86.66s/it]"
     ]
    },
    {
     "name": "stdout",
     "output_type": "stream",
     "text": [
      "687earning Progress : 100.00 % \n",
      "Test Accuracy = 0.9549418604651163\n",
      "- Learning Progress : 99.80 % \r"
     ]
    },
    {
     "name": "stderr",
     "output_type": "stream",
     "text": [
      "\r",
      "689it [21:27:47, 87.65s/it]"
     ]
    },
    {
     "name": "stdout",
     "output_type": "stream",
     "text": [
      "688earning Progress : 100.00 % \n",
      "Test Accuracy = 0.9550072568940493\n",
      "- Learning Progress : 99.90 % \r"
     ]
    },
    {
     "name": "stderr",
     "output_type": "stream",
     "text": [
      "\r",
      "690it [21:29:15, 87.91s/it]"
     ]
    },
    {
     "name": "stdout",
     "output_type": "stream",
     "text": [
      "689earning Progress : 100.00 % \n",
      "Test Accuracy = 0.9550724637681159\n",
      "- Learning Progress : 99.90 % \r"
     ]
    },
    {
     "name": "stderr",
     "output_type": "stream",
     "text": [
      "\r",
      "691it [21:30:45, 88.45s/it]"
     ]
    },
    {
     "name": "stdout",
     "output_type": "stream",
     "text": [
      "690earning Progress : 100.00 % \n",
      "Test Accuracy = 0.9551374819102749\n",
      "- Learning Progress : 99.90 % \r"
     ]
    },
    {
     "name": "stderr",
     "output_type": "stream",
     "text": [
      "\r",
      "692it [21:32:07, 86.52s/it]"
     ]
    },
    {
     "name": "stdout",
     "output_type": "stream",
     "text": [
      "691earning Progress : 100.00 % \n",
      "Test Accuracy = 0.9552023121387283\n",
      "- Learning Progress : 99.80 % \r"
     ]
    },
    {
     "name": "stderr",
     "output_type": "stream",
     "text": [
      "\r",
      "693it [21:33:35, 86.83s/it]"
     ]
    },
    {
     "name": "stdout",
     "output_type": "stream",
     "text": [
      "692earning Progress : 100.00 % \n",
      "Test Accuracy = 0.9552669552669553\n",
      "- Learning Progress : 99.90 % \r"
     ]
    },
    {
     "name": "stderr",
     "output_type": "stream",
     "text": [
      "\r",
      "694it [21:35:04, 87.67s/it]"
     ]
    },
    {
     "name": "stdout",
     "output_type": "stream",
     "text": [
      "693earning Progress : 100.00 % \n",
      "Test Accuracy = 0.9553314121037464\n",
      "- Learning Progress : 99.80 % \r"
     ]
    },
    {
     "name": "stderr",
     "output_type": "stream",
     "text": [
      "\r",
      "695it [21:36:35, 88.63s/it]"
     ]
    },
    {
     "name": "stdout",
     "output_type": "stream",
     "text": [
      "694earning Progress : 100.00 % \n",
      "Test Accuracy = 0.9553956834532374\n",
      "- Learning Progress : 99.80 % \r"
     ]
    },
    {
     "name": "stderr",
     "output_type": "stream",
     "text": [
      "\r",
      "696it [21:38:05, 88.94s/it]"
     ]
    },
    {
     "name": "stdout",
     "output_type": "stream",
     "text": [
      "695earning Progress : 100.00 % \n",
      "Test Accuracy = 0.9554597701149425\n",
      "- Learning Progress : 99.80 % \r"
     ]
    },
    {
     "name": "stderr",
     "output_type": "stream",
     "text": [
      "\r",
      "697it [21:39:37, 89.96s/it]"
     ]
    },
    {
     "name": "stdout",
     "output_type": "stream",
     "text": [
      "696earning Progress : 100.00 % \n",
      "Test Accuracy = 0.9555236728837877\n",
      "- Learning Progress : 100.00 % \r"
     ]
    },
    {
     "name": "stderr",
     "output_type": "stream",
     "text": [
      "\r",
      "698it [21:41:08, 90.18s/it]"
     ]
    },
    {
     "name": "stdout",
     "output_type": "stream",
     "text": [
      "697\n",
      "Test Accuracy = 0.9555873925501432\n",
      "- Learning Progress : 99.70 % \r"
     ]
    },
    {
     "name": "stderr",
     "output_type": "stream",
     "text": [
      "\r",
      "699it [21:42:35, 89.39s/it]"
     ]
    },
    {
     "name": "stdout",
     "output_type": "stream",
     "text": [
      "698earning Progress : 100.00 % \n",
      "Test Accuracy = 0.9556509298998569\n",
      "- Learning Progress : 100.00 % \r"
     ]
    },
    {
     "name": "stderr",
     "output_type": "stream",
     "text": [
      "\r",
      "700it [21:44:03, 88.85s/it]"
     ]
    },
    {
     "name": "stdout",
     "output_type": "stream",
     "text": [
      "699\n",
      "Test Accuracy = 0.9557142857142857\n",
      "- Learning Progress : 100.00 % \r"
     ]
    },
    {
     "name": "stderr",
     "output_type": "stream",
     "text": [
      "\r",
      "701it [21:45:42, 92.03s/it]"
     ]
    },
    {
     "name": "stdout",
     "output_type": "stream",
     "text": [
      "700\n",
      "Test Accuracy = 0.9557774607703281\n",
      "- Learning Progress : 99.70 % \r"
     ]
    },
    {
     "name": "stderr",
     "output_type": "stream",
     "text": [
      "\r",
      "702it [21:47:09, 90.30s/it]"
     ]
    },
    {
     "name": "stdout",
     "output_type": "stream",
     "text": [
      "701earning Progress : 100.00 % \n",
      "Test Accuracy = 0.9558404558404558\n",
      "- Learning Progress : 99.70 % \r"
     ]
    },
    {
     "name": "stderr",
     "output_type": "stream",
     "text": [
      "\r",
      "703it [21:48:27, 86.64s/it]"
     ]
    },
    {
     "name": "stdout",
     "output_type": "stream",
     "text": [
      "702earning Progress : 100.00 % \n",
      "Test Accuracy = 0.9559032716927454\n",
      "- Learning Progress : 100.00 % \r"
     ]
    },
    {
     "name": "stderr",
     "output_type": "stream",
     "text": [
      "\r",
      "704it [21:49:54, 86.83s/it]"
     ]
    },
    {
     "name": "stdout",
     "output_type": "stream",
     "text": [
      "703\n",
      "Test Accuracy = 0.9559659090909091\n",
      "- Learning Progress : 99.90 % \r"
     ]
    },
    {
     "name": "stderr",
     "output_type": "stream",
     "text": [
      "\r",
      "705it [21:51:20, 86.43s/it]"
     ]
    },
    {
     "name": "stdout",
     "output_type": "stream",
     "text": [
      "704earning Progress : 100.00 % \n",
      "Test Accuracy = 0.9560283687943263\n",
      "- Learning Progress : 99.90 % \r"
     ]
    },
    {
     "name": "stderr",
     "output_type": "stream",
     "text": [
      "\r",
      "706it [21:52:43, 85.67s/it]"
     ]
    },
    {
     "name": "stdout",
     "output_type": "stream",
     "text": [
      "705earning Progress : 100.00 % \n",
      "Test Accuracy = 0.9560906515580736\n",
      "- Learning Progress : 99.90 % \r"
     ]
    },
    {
     "name": "stderr",
     "output_type": "stream",
     "text": [
      "\r",
      "707it [21:54:11, 86.19s/it]"
     ]
    },
    {
     "name": "stdout",
     "output_type": "stream",
     "text": [
      "706earning Progress : 100.00 % \n",
      "Test Accuracy = 0.9561527581329562\n",
      "- Learning Progress : 99.70 % \r"
     ]
    },
    {
     "name": "stderr",
     "output_type": "stream",
     "text": [
      "\r",
      "708it [21:55:45, 88.49s/it]"
     ]
    },
    {
     "name": "stdout",
     "output_type": "stream",
     "text": [
      "707earning Progress : 100.00 % \n",
      "Test Accuracy = 0.9562146892655368\n",
      "- Learning Progress : 100.00 % \r"
     ]
    },
    {
     "name": "stderr",
     "output_type": "stream",
     "text": [
      "\r",
      "709it [21:57:15, 89.08s/it]"
     ]
    },
    {
     "name": "stdout",
     "output_type": "stream",
     "text": [
      "708\n",
      "Test Accuracy = 0.9562764456981664\n",
      "- Learning Progress : 99.90 % \r"
     ]
    },
    {
     "name": "stderr",
     "output_type": "stream",
     "text": [
      "\r",
      "710it [21:58:37, 87.06s/it]"
     ]
    },
    {
     "name": "stdout",
     "output_type": "stream",
     "text": [
      "709earning Progress : 100.00 % \n",
      "Test Accuracy = 0.956338028169014\n",
      "- Learning Progress : 99.90 % \r"
     ]
    },
    {
     "name": "stderr",
     "output_type": "stream",
     "text": [
      "\r",
      "711it [21:59:57, 84.73s/it]"
     ]
    },
    {
     "name": "stdout",
     "output_type": "stream",
     "text": [
      "710earning Progress : 100.00 % \n",
      "Test Accuracy = 0.9563994374120957\n",
      "- Learning Progress : 99.80 % \r"
     ]
    },
    {
     "name": "stderr",
     "output_type": "stream",
     "text": [
      "\r",
      "712it [22:01:23, 85.07s/it]"
     ]
    },
    {
     "name": "stdout",
     "output_type": "stream",
     "text": [
      "- Learning Progress : 99.90 % \r",
      "- Learning Progress : 100.00 % \r",
      "711\n",
      "Test Accuracy = 0.9564606741573034\n"
     ]
    },
    {
     "name": "stderr",
     "output_type": "stream",
     "text": [
      "\r",
      "713it [22:01:23, 59.63s/it]"
     ]
    },
    {
     "name": "stdout",
     "output_type": "stream",
     "text": [
      "712\n",
      "- Learning Progress : 99.70 % \r"
     ]
    },
    {
     "name": "stderr",
     "output_type": "stream",
     "text": [
      "\r",
      "714it [22:02:54, 69.14s/it]"
     ]
    },
    {
     "name": "stdout",
     "output_type": "stream",
     "text": [
      "713earning Progress : 100.00 % \n",
      "Test Accuracy = 0.9551820728291317\n",
      "- Learning Progress : 99.70 % \r"
     ]
    },
    {
     "name": "stderr",
     "output_type": "stream",
     "text": [
      "\r",
      "715it [22:04:21, 74.50s/it]"
     ]
    },
    {
     "name": "stdout",
     "output_type": "stream",
     "text": [
      "714earning Progress : 100.00 % \n",
      "Test Accuracy = 0.9552447552447553\n",
      "- Learning Progress : 99.80 % \r"
     ]
    },
    {
     "name": "stderr",
     "output_type": "stream",
     "text": [
      "\r",
      "716it [22:05:49, 78.33s/it]"
     ]
    },
    {
     "name": "stdout",
     "output_type": "stream",
     "text": [
      "715earning Progress : 100.00 % \n",
      "Test Accuracy = 0.9553072625698324\n",
      "- Learning Progress : 99.70 % \r"
     ]
    },
    {
     "name": "stderr",
     "output_type": "stream",
     "text": [
      "\r",
      "717it [22:07:16, 81.17s/it]"
     ]
    },
    {
     "name": "stdout",
     "output_type": "stream",
     "text": [
      "716earning Progress : 100.00 % \n",
      "Test Accuracy = 0.9553695955369595\n",
      "- Learning Progress : 99.80 % \r"
     ]
    },
    {
     "name": "stderr",
     "output_type": "stream",
     "text": [
      "\r",
      "718it [22:08:41, 82.28s/it]"
     ]
    },
    {
     "name": "stdout",
     "output_type": "stream",
     "text": [
      "717earning Progress : 100.00 % \n",
      "Test Accuracy = 0.9554317548746518\n",
      "- Learning Progress : 99.90 % \r"
     ]
    },
    {
     "name": "stderr",
     "output_type": "stream",
     "text": [
      "\r",
      "719it [22:10:11, 84.57s/it]"
     ]
    },
    {
     "name": "stdout",
     "output_type": "stream",
     "text": [
      "718earning Progress : 100.00 % \n",
      "Test Accuracy = 0.9554937413073713\n",
      "- Learning Progress : 99.90 % \r"
     ]
    },
    {
     "name": "stderr",
     "output_type": "stream",
     "text": [
      "\r",
      "720it [22:11:40, 85.97s/it]"
     ]
    },
    {
     "name": "stdout",
     "output_type": "stream",
     "text": [
      "719earning Progress : 100.00 % \n",
      "Test Accuracy = 0.9555555555555556\n",
      "- Learning Progress : 99.90 % \r"
     ]
    },
    {
     "name": "stderr",
     "output_type": "stream",
     "text": [
      "\r",
      "721it [22:13:08, 86.39s/it]"
     ]
    },
    {
     "name": "stdout",
     "output_type": "stream",
     "text": [
      "720earning Progress : 100.00 % \n",
      "Test Accuracy = 0.955617198335645\n",
      "- Learning Progress : 99.90 % \r"
     ]
    },
    {
     "name": "stderr",
     "output_type": "stream",
     "text": [
      "\r",
      "722it [22:14:36, 86.99s/it]"
     ]
    },
    {
     "name": "stdout",
     "output_type": "stream",
     "text": [
      "721earning Progress : 100.00 % \n",
      "Test Accuracy = 0.9556786703601108\n",
      "- Learning Progress : 99.90 % \r"
     ]
    },
    {
     "name": "stderr",
     "output_type": "stream",
     "text": [
      "\r",
      "723it [22:15:59, 85.62s/it]"
     ]
    },
    {
     "name": "stdout",
     "output_type": "stream",
     "text": [
      "- Learning Progress : 100.00 % \r",
      "722\n",
      "Test Accuracy = 0.9557399723374828\n"
     ]
    },
    {
     "name": "stderr",
     "output_type": "stream",
     "text": [
      "\r",
      "724it [22:15:59, 60.02s/it]"
     ]
    },
    {
     "name": "stdout",
     "output_type": "stream",
     "text": [
      "723\n",
      "- Learning Progress : 99.80 % \r"
     ]
    },
    {
     "name": "stderr",
     "output_type": "stream",
     "text": [
      "\r",
      "725it [22:17:31, 69.67s/it]"
     ]
    },
    {
     "name": "stdout",
     "output_type": "stream",
     "text": [
      "724earning Progress : 100.00 % \n",
      "Test Accuracy = 0.9544827586206897\n",
      "- Learning Progress : 99.90 % \r"
     ]
    },
    {
     "name": "stderr",
     "output_type": "stream",
     "text": [
      "\r",
      "726it [22:18:56, 74.26s/it]"
     ]
    },
    {
     "name": "stdout",
     "output_type": "stream",
     "text": [
      "725earning Progress : 100.00 % \n",
      "Test Accuracy = 0.9545454545454546\n",
      "- Learning Progress : 99.90 % \r"
     ]
    },
    {
     "name": "stderr",
     "output_type": "stream",
     "text": [
      "\r",
      "727it [22:20:27, 79.34s/it]"
     ]
    },
    {
     "name": "stdout",
     "output_type": "stream",
     "text": [
      "726earning Progress : 100.00 % \n",
      "Test Accuracy = 0.9546079779917469\n",
      "- Learning Progress : 99.80 % \r"
     ]
    },
    {
     "name": "stderr",
     "output_type": "stream",
     "text": [
      "\r",
      "728it [22:22:00, 83.51s/it]"
     ]
    },
    {
     "name": "stdout",
     "output_type": "stream",
     "text": [
      "727earning Progress : 100.00 % \n",
      "Test Accuracy = 0.9546703296703297\n",
      "- Learning Progress : 99.90 % \r"
     ]
    },
    {
     "name": "stderr",
     "output_type": "stream",
     "text": [
      "\r",
      "729it [22:23:28, 84.89s/it]"
     ]
    },
    {
     "name": "stdout",
     "output_type": "stream",
     "text": [
      "728earning Progress : 100.00 % \n",
      "Test Accuracy = 0.9547325102880658\n",
      "- Learning Progress : 99.90 % \r"
     ]
    },
    {
     "name": "stderr",
     "output_type": "stream",
     "text": [
      "\r",
      "730it [22:24:53, 84.80s/it]"
     ]
    },
    {
     "name": "stdout",
     "output_type": "stream",
     "text": [
      "729earning Progress : 100.00 % \n",
      "Test Accuracy = 0.9547945205479452\n",
      "- Learning Progress : 99.90 % \r"
     ]
    },
    {
     "name": "stderr",
     "output_type": "stream",
     "text": [
      "\r",
      "731it [22:26:20, 85.48s/it]"
     ]
    },
    {
     "name": "stdout",
     "output_type": "stream",
     "text": [
      "730earning Progress : 100.00 % \n",
      "Test Accuracy = 0.9548563611491108\n",
      "- Learning Progress : 99.80 % \r"
     ]
    },
    {
     "name": "stderr",
     "output_type": "stream",
     "text": [
      "\r",
      "732it [22:27:52, 87.40s/it]"
     ]
    },
    {
     "name": "stdout",
     "output_type": "stream",
     "text": [
      "731earning Progress : 100.00 % \n",
      "Test Accuracy = 0.9549180327868853\n",
      "- Learning Progress : 100.00 % \r"
     ]
    },
    {
     "name": "stderr",
     "output_type": "stream",
     "text": [
      "\r",
      "733it [22:29:20, 87.57s/it]"
     ]
    },
    {
     "name": "stdout",
     "output_type": "stream",
     "text": [
      "732\n",
      "Test Accuracy = 0.9549795361527967\n"
     ]
    },
    {
     "name": "stderr",
     "output_type": "stream",
     "text": [
      "\r",
      "734it [22:29:20, 61.38s/it]"
     ]
    },
    {
     "name": "stdout",
     "output_type": "stream",
     "text": [
      "733\n",
      "- Learning Progress : 99.90 % \r"
     ]
    },
    {
     "name": "stderr",
     "output_type": "stream",
     "text": [
      "\r",
      "735it [22:30:48, 69.19s/it]"
     ]
    },
    {
     "name": "stdout",
     "output_type": "stream",
     "text": [
      "734earning Progress : 100.00 % \n",
      "Test Accuracy = 0.9537414965986395\n",
      "- Learning Progress : 18.30 % \r"
     ]
    }
   ],
   "source": [
    "from adv_attack.attack.Attack import *\n",
    "\n",
    "criterion = nn.CrossEntropyLoss()\n",
    "check = adversarial_attack(method='cw', model=model, dataloader=valid_loader, \n",
    "                           device=device, num_classes=2, save_data=True)\n",
    "\n",
    "acc, _ = check.batch_attack()"
   ]
  },
  {
   "cell_type": "code",
   "execution_count": 12,
   "metadata": {},
   "outputs": [
    {
     "data": {
      "text/plain": [
       "0.9471991423210936"
      ]
     },
     "execution_count": 12,
     "metadata": {},
     "output_type": "execute_result"
    }
   ],
   "source": [
    "acc"
   ]
  },
  {
   "cell_type": "markdown",
   "metadata": {},
   "source": [
    "## BPDA"
   ]
  },
  {
   "cell_type": "markdown",
   "metadata": {},
   "source": [
    "- With defense"
   ]
  },
  {
   "cell_type": "code",
   "execution_count": 10,
   "metadata": {},
   "outputs": [],
   "source": [
    "from advertorch.bpda import BPDAWrapper\n",
    "from advertorch.attacks import LinfPGDAttack"
   ]
  },
  {
   "cell_type": "code",
   "execution_count": 25,
   "metadata": {},
   "outputs": [],
   "source": [
    "# original model\n",
    "device = torch.device(\"cuda\" if torch.cuda.is_available() else \"cpu\")\n",
    "model = KNOWN_MODELS[\"BiT-M-R50x1\"](head_size=180, zero_head=True)\n",
    "model.load_state_dict(torch.load('/home/l/liny/ruofan/phishpedia/siamese/checkpoints/resnetv2_rgb.pth', map_location=device))\n",
    "model.to(device)\n",
    "\n",
    "# BPDA approximation of gradients\n",
    "defense_layer = BPDAWrapper(QuantizeRelu())\n",
    "\n",
    "# replace relu with defenselayer \n",
    "model.body.block1.unit01.relu = defense_layer\n",
    "model.body.block1.unit02.relu = defense_layer\n",
    "model.body.block1.unit03.relu = defense_layer\n",
    "\n",
    "model.body.block2.unit01.relu = defense_layer\n",
    "model.body.block2.unit02.relu = defense_layer\n",
    "model.body.block2.unit03.relu = defense_layer\n",
    "model.body.block2.unit04.relu = defense_layer\n",
    "\n",
    "model.body.block3.unit01.relu = defense_layer\n",
    "model.body.block3.unit02.relu = defense_layer\n",
    "model.body.block3.unit03.relu = defense_layer\n",
    "model.body.block3.unit04.relu = defense_layer\n",
    "model.body.block3.unit05.relu = defense_layer\n",
    "model.body.block3.unit06.relu = defense_layer\n",
    "\n",
    "model.body.block4.unit01.relu = defense_layer\n",
    "model.body.block4.unit02.relu = defense_layer\n",
    "model.body.block4.unit03.relu = defense_layer\n",
    "\n",
    "bpda_adversary = LinfPGDAttack(\n",
    "    model, loss_fn=nn.CrossEntropyLoss(reduction=\"sum\"), eps=0.05,\n",
    "    nb_iter=100, eps_iter=0.005, rand_init=True, clip_min=0.0, clip_max=1.0,\n",
    "    targeted=False)"
   ]
  },
  {
   "cell_type": "code",
   "execution_count": 27,
   "metadata": {},
   "outputs": [
    {
     "name": "stderr",
     "output_type": "stream",
     "text": [
      " 12%|█▎        | 1/8 [21:33<2:30:57, 1293.95s/it]"
     ]
    },
    {
     "name": "stdout",
     "output_type": "stream",
     "text": [
      "0.890625\n"
     ]
    },
    {
     "name": "stderr",
     "output_type": "stream",
     "text": [
      "\r",
      " 25%|██▌       | 2/8 [44:51<2:12:30, 1325.09s/it]"
     ]
    },
    {
     "name": "stdout",
     "output_type": "stream",
     "text": [
      "0.9140625\n"
     ]
    },
    {
     "name": "stderr",
     "output_type": "stream",
     "text": [
      "\r",
      " 38%|███▊      | 3/8 [1:08:51<1:53:17, 1359.44s/it]"
     ]
    },
    {
     "name": "stdout",
     "output_type": "stream",
     "text": [
      "0.9166666666666666\n"
     ]
    },
    {
     "name": "stderr",
     "output_type": "stream",
     "text": [
      "\r",
      " 50%|█████     | 4/8 [1:32:18<1:31:34, 1373.62s/it]"
     ]
    },
    {
     "name": "stdout",
     "output_type": "stream",
     "text": [
      "0.92578125\n"
     ]
    },
    {
     "name": "stderr",
     "output_type": "stream",
     "text": [
      "\r",
      " 62%|██████▎   | 5/8 [1:56:15<1:09:38, 1392.77s/it]"
     ]
    },
    {
     "name": "stdout",
     "output_type": "stream",
     "text": [
      "0.9203125\n"
     ]
    },
    {
     "name": "stderr",
     "output_type": "stream",
     "text": [
      "\r",
      " 75%|███████▌  | 6/8 [2:19:34<46:29, 1394.78s/it]  "
     ]
    },
    {
     "name": "stdout",
     "output_type": "stream",
     "text": [
      "0.921875\n"
     ]
    },
    {
     "name": "stderr",
     "output_type": "stream",
     "text": [
      "\r",
      " 88%|████████▊ | 7/8 [2:43:00<23:17, 1397.87s/it]"
     ]
    },
    {
     "name": "stdout",
     "output_type": "stream",
     "text": [
      "0.9274553571428571\n"
     ]
    },
    {
     "name": "stderr",
     "output_type": "stream",
     "text": [
      "100%|██████████| 8/8 [2:58:41<00:00, 1340.19s/it]"
     ]
    },
    {
     "name": "stdout",
     "output_type": "stream",
     "text": [
      "0.9274924471299094\n"
     ]
    },
    {
     "name": "stderr",
     "output_type": "stream",
     "text": [
      "\n"
     ]
    }
   ],
   "source": [
    "perturb_correct = 0\n",
    "total = 0\n",
    "\n",
    "for cln_data, true_label in tqdm(valid_loader):\n",
    "    cln_data, true_label = cln_data.to(device), true_label.to(device)\n",
    "    bpda_adv = bpda_adversary.perturb(cln_data, true_label)\n",
    "    \n",
    "    logits = model(bpda_adv)\n",
    "    pred_cls = torch.argmax(logits, dim=1)\n",
    "    perturb_correct += torch.sum(torch.eq(pred_cls, true_label)).item()\n",
    "    total += len(true_label)\n",
    "    \n",
    "    print(perturb_correct/total)"
   ]
  },
  {
   "cell_type": "code",
   "execution_count": 28,
   "metadata": {},
   "outputs": [
    {
     "data": {
      "text/plain": [
       "0.9274924471299094"
      ]
     },
     "execution_count": 28,
     "metadata": {},
     "output_type": "execute_result"
    }
   ],
   "source": [
    "perturb_correct/total"
   ]
  },
  {
   "cell_type": "code",
   "execution_count": 24,
   "metadata": {
    "scrolled": false
   },
   "outputs": [
    {
     "data": {
      "text/plain": [
       "0.905337361530715"
      ]
     },
     "execution_count": 24,
     "metadata": {},
     "output_type": "execute_result"
    }
   ],
   "source": [
    "perturb_correct/total"
   ]
  },
  {
   "cell_type": "code",
   "execution_count": 14,
   "metadata": {},
   "outputs": [
    {
     "data": {
      "text/plain": [
       "tensor([203])"
      ]
     },
     "execution_count": 14,
     "metadata": {},
     "output_type": "execute_result"
    }
   ],
   "source": [
    "torch.randint(0, 277, (1,))"
   ]
  },
  {
   "cell_type": "code",
   "execution_count": null,
   "metadata": {},
   "outputs": [],
   "source": []
  }
 ],
 "metadata": {
  "kernelspec": {
   "display_name": "Python 3",
   "language": "python",
   "name": "python3"
  },
  "language_info": {
   "codemirror_mode": {
    "name": "ipython",
    "version": 3
   },
   "file_extension": ".py",
   "mimetype": "text/x-python",
   "name": "python",
   "nbconvert_exporter": "python",
   "pygments_lexer": "ipython3",
   "version": "3.7.7"
  }
 },
 "nbformat": 4,
 "nbformat_minor": 4
}
