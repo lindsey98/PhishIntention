{
 "cells": [
  {
   "cell_type": "code",
   "execution_count": 38,
   "metadata": {},
   "outputs": [],
   "source": [
    "from detectron2.config import get_cfg\n",
    "import detectron2.data.transforms as T\n",
    "from detectron2_1.datasets import *\n",
    "from detectron2.data import build_detection_test_loader\n",
    "from tqdm import tqdm\n",
    "import json"
   ]
  },
  {
   "cell_type": "code",
   "execution_count": 3,
   "metadata": {},
   "outputs": [],
   "source": [
    "# Modify config\n",
    "cfg = get_cfg()\n",
    "cfg.merge_from_file('configs/faster_rcnn_web_lr0.001.yaml')\n",
    "cfg = cfg.clone()  # cfg can be modified by model\n",
    "\n",
    "\n",
    "aug = T.ResizeShortestEdge(\n",
    "    [cfg.INPUT.MIN_SIZE_TEST, cfg.INPUT.MIN_SIZE_TEST], cfg.INPUT.MAX_SIZE_TEST\n",
    ")\n",
    "input_format = cfg.INPUT.FORMAT"
   ]
  },
  {
   "cell_type": "code",
   "execution_count": 9,
   "metadata": {},
   "outputs": [],
   "source": [
    "# Init dataloader on test dataset\n",
    "dataset_mapper = WebMapper(cfg, is_train=False)\n",
    "data_loader = build_detection_test_loader(\n",
    "    cfg, cfg.DATASETS.TEST[0], mapper=dataset_mapper\n",
    ")"
   ]
  },
  {
   "cell_type": "code",
   "execution_count": 58,
   "metadata": {},
   "outputs": [],
   "source": [
    "category_dict = [{\"id\": 1, \"name\":\"logo\"},\n",
    "                 {\"id\": 2, \"name\":\"input\"},\n",
    "                 {\"id\": 3, \"name\":\"button\"},\n",
    "                 {\"id\": 4, \"name\":\"label\"},\n",
    "                 {\"id\": 5, \"name\":\"block\"}]\n",
    "\n",
    "datadict = {\"images\":[], \"annotations\":[], \"categories\": category_dict}"
   ]
  },
  {
   "cell_type": "code",
   "execution_count": 59,
   "metadata": {},
   "outputs": [
    {
     "name": "stderr",
     "output_type": "stream",
     "text": [
      "901it [01:50,  8.19it/s]\n"
     ]
    }
   ],
   "source": [
    "\n",
    "\n",
    "for i, batch in tqdm(enumerate(data_loader)):\n",
    "    instances = batch[0][\"instances\"]\n",
    "    gt_boxes = instances.gt_boxes\n",
    "    gt_classes = instances.gt_classes\n",
    "        \n",
    "    imgpath = batch[0][\"file_name\"].split('/')[-1]\n",
    "    img_height, img_width = batch[0][\"height\"], batch[0][\"width\"]\n",
    "    image_id = batch[0][\"image_id\"]\n",
    "    \n",
    "    image = {\n",
    "        \"file_name\": imgpath,\n",
    "        \"height\": img_height,\n",
    "        \"width\": img_width,\n",
    "        \"id\": image_id,\n",
    "    }\n",
    "\n",
    "    datadict[\"images\"].append(image)\n",
    "        \n",
    "    for k, box in enumerate(gt_boxes.tensor.numpy()):\n",
    "        x1, y1, x2, y2 = list(map(int, box))\n",
    "        width = max(0, x2 - x1)\n",
    "        height = max(0, y2 - y1)\n",
    "\n",
    "        # find corresponding category id\n",
    "        category_id = int(gt_classes.numpy()[k]) + 1\n",
    "        id_annot = len(datadict[\"annotations\"]) + 1 #id field must start with 1\n",
    "\n",
    "        ann = {\n",
    "            \"area\": width * height,\n",
    "            \"image_id\": image_id,\n",
    "            \"bbox\": [x1, y1, width, height],\n",
    "            \"category_id\": category_id,\n",
    "            \"id\": id_annot, # id for box, need to be continuous\n",
    "            \"iscrowd\": 0\n",
    "            }\n",
    "\n",
    "        datadict[\"annotations\"].append(ann)\n",
    "    \n"
   ]
  },
  {
   "cell_type": "code",
   "execution_count": 60,
   "metadata": {},
   "outputs": [],
   "source": [
    "with open('../../datasets/val_coco_transform.json', 'wt', encoding='UTF-8') as f:\n",
    "    json.dump(datadict, f)"
   ]
  },
  {
   "cell_type": "code",
   "execution_count": null,
   "metadata": {},
   "outputs": [],
   "source": []
  }
 ],
 "metadata": {
  "kernelspec": {
   "display_name": "Python 3",
   "language": "python",
   "name": "python3"
  },
  "language_info": {
   "codemirror_mode": {
    "name": "ipython",
    "version": 3
   },
   "file_extension": ".py",
   "mimetype": "text/x-python",
   "name": "python",
   "nbconvert_exporter": "python",
   "pygments_lexer": "ipython3",
   "version": "3.7.7"
  }
 },
 "nbformat": 4,
 "nbformat_minor": 4
}
