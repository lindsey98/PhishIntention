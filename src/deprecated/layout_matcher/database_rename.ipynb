{
 "cells": [
  {
   "cell_type": "code",
   "execution_count": 1,
   "metadata": {},
   "outputs": [],
   "source": [
    "import os\n",
    "import shutil"
   ]
  },
  {
   "cell_type": "code",
   "execution_count": 7,
   "metadata": {},
   "outputs": [],
   "source": [
    "for brand in os.listdir('layout_reference/'):\n",
    "    ct = 0\n",
    "    for file in os.listdir(os.path.join('layout_reference', brand)):\n",
    "        if file.startswith('.'):\n",
    "            try:\n",
    "                shutil.rmtree(os.path.join('layout_reference', brand, file))\n",
    "            except:\n",
    "                os.unlink(os.path.join('layout_reference', brand, file))\n",
    "                continue\n",
    "        os.rename(os.path.join('layout_reference', brand, file), \n",
    "                  os.path.join('layout_reference', brand, str(ct)+'.'+file.split('.')[-1]))\n",
    "        ct += 1"
   ]
  },
  {
   "cell_type": "code",
   "execution_count": null,
   "metadata": {},
   "outputs": [],
   "source": []
  }
 ],
 "metadata": {
  "kernelspec": {
   "display_name": "Python 3",
   "language": "python",
   "name": "python3"
  },
  "language_info": {
   "codemirror_mode": {
    "name": "ipython",
    "version": 3
   },
   "file_extension": ".py",
   "mimetype": "text/x-python",
   "name": "python",
   "nbconvert_exporter": "python",
   "pygments_lexer": "ipython3",
   "version": "3.7.7"
  }
 },
 "nbformat": 4,
 "nbformat_minor": 4
}
