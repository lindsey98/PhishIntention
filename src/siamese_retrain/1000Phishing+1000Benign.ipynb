{
 "cells": [
  {
   "cell_type": "code",
   "execution_count": 1,
   "id": "2a13f936",
   "metadata": {},
   "outputs": [],
   "source": [
    "import os\n",
    "os.chdir('../../')"
   ]
  },
  {
   "cell_type": "code",
   "execution_count": 2,
   "id": "5e8125d8",
   "metadata": {},
   "outputs": [],
   "source": [
    "from src.siamese import *\n",
    "from tqdm import tqdm\n",
    "import matplotlib.pyplot as plt\n",
    "from PIL import Image"
   ]
  },
  {
   "cell_type": "code",
   "execution_count": 3,
   "id": "0ac78c72",
   "metadata": {},
   "outputs": [
    {
     "name": "stdout",
     "output_type": "stream",
     "text": [
      "using cuda.\n"
     ]
    },
    {
     "name": "stderr",
     "output_type": "stream",
     "text": [
      "  0%|          | 0/277 [00:00<?, ?it/s]/home/l/liny/anaconda3/envs/automl/lib/python3.7/site-packages/torch/nn/functional.py:3385: UserWarning: Default grid_sample and affine_grid behavior has changed to align_corners=False since 1.3.0. Please specify align_corners=True if the old behavior is desired. See the documentation of grid_sample for details.\n",
      "  warnings.warn(\"Default grid_sample and affine_grid behavior has changed \"\n",
      "  1%|▏         | 4/277 [00:06<06:43,  1.48s/it]/home/l/liny/anaconda3/envs/automl/lib/python3.7/site-packages/PIL/Image.py:963: UserWarning: Palette images with Transparency expressed in bytes should be converted to RGBA images\n",
      "  \"Palette images with Transparency expressed in bytes should be \"\n",
      "100%|██████████| 277/277 [06:57<00:00,  1.51s/it]\n"
     ]
    }
   ],
   "source": [
    "pedia_model, ocr_model, logo_feat_list, file_name_list = phishpedia_config_OCR(num_classes=277,\n",
    "                                                weights_path='./src/OCR/output/targetlist_lr0.01/bit.pth.tar',\n",
    "                                                ocr_weights_path='./src/OCR/demo.pth.tar',\n",
    "                                                targetlist_path='./src/phishpedia/expand_targetlist/')\n"
   ]
  },
  {
   "cell_type": "code",
   "execution_count": 4,
   "id": "013b6a6d",
   "metadata": {},
   "outputs": [
    {
     "data": {
      "text/plain": [
       "(3053, 2560)"
      ]
     },
     "execution_count": 4,
     "metadata": {},
     "output_type": "execute_result"
    }
   ],
   "source": [
    "logo_feat_list.shape"
   ]
  },
  {
   "cell_type": "code",
   "execution_count": 7,
   "id": "c7cef2bd",
   "metadata": {
    "code_folding": [],
    "scrolled": true
   },
   "outputs": [
    {
     "name": "stderr",
     "output_type": "stream",
     "text": [
      "  0%|          | 0/1000 [00:00<?, ?it/s]/home/l/liny/anaconda3/envs/automl/lib/python3.7/site-packages/torch/nn/functional.py:3385: UserWarning: Default grid_sample and affine_grid behavior has changed to align_corners=False since 1.3.0. Please specify align_corners=True if the old behavior is desired. See the documentation of grid_sample for details.\n",
      "  warnings.warn(\"Default grid_sample and affine_grid behavior has changed \"\n",
      "  6%|▌         | 55/1000 [00:43<06:25,  2.45it/s]/home/l/liny/anaconda3/envs/automl/lib/python3.7/site-packages/PIL/Image.py:963: UserWarning: Palette images with Transparency expressed in bytes should be converted to RGBA images\n",
      "  \"Palette images with Transparency expressed in bytes should be \"\n",
      "100%|██████████| 1000/1000 [08:02<00:00,  2.07it/s]\n"
     ]
    }
   ],
   "source": [
    "\n",
    "domain_map_path = 'src/phishpedia/domain_map.pkl'\n",
    "ct_benign = 0\n",
    "ct_phish = 0\n",
    "\n",
    "\n",
    "# for path in tqdm(os.listdir('/home/l/liny/ruofan/phishpedia/benchmark/Sampled_phish1000/')):\n",
    "for path in tqdm(os.listdir('/home/l/liny/ruofan/phishpedia/benchmark/Sample_benign1000/')):\n",
    "        \n",
    "    url = '' # dummy value, not important\n",
    "#     img_path = '/home/l/liny/ruofan/phishpedia/benchmark/Sampled_phish1000/' + path + '/shot.png'\n",
    "#     annot = [x.strip().split(',') for x in open('/home/l/liny/ruofan/phishpedia/benchmark/phish1000_coord.txt').readlines()]\n",
    "    img_path = '/home/l/liny/ruofan/phishpedia/benchmark/Sample_benign1000/' + path + '/shot.png'\n",
    "    annot = [x.strip().split(',') for x in open('/home/l/liny/ruofan/phishpedia/benchmark/benign1000_coord.txt').readlines()]\n",
    "\n",
    "\n",
    "    # read labelled \n",
    "    for c in annot:\n",
    "        if c[0] == path:\n",
    "            x1, y1, x2, y2 = map(float, c[1:])\n",
    "            break\n",
    "    pred_boxes = np.asarray([[x1, y1, x2, y2]])\n",
    "    pred_classes = np.asarray([0.])\n",
    "    \n",
    "    # get predicted targeted brand\n",
    "    pred_target, _, _ = phishpedia_classifier_OCR(pred_classes=pred_classes, pred_boxes=pred_boxes, \n",
    "                                                domain_map_path=domain_map_path,\n",
    "                                                model=pedia_model, \n",
    "                                                ocr_model=ocr_model,\n",
    "                                                logo_feat_list=logo_feat_list, \n",
    "                                                file_name_list=file_name_list,\n",
    "                                                url=url,\n",
    "                                                shot_path=img_path,\n",
    "                                                ts=0.83)\n",
    "\n",
    "    if pred_target is not None:\n",
    "        ct_benign += 1  # if test on benign, look at this\n",
    "        if brand_converter(pred_target) == brand_converter(path.split('+')[0]):\n",
    "            ct_phish += 1 # if test on phish, look at this"
   ]
  },
  {
   "cell_type": "code",
   "execution_count": 8,
   "id": "98cf99b1",
   "metadata": {},
   "outputs": [
    {
     "name": "stdout",
     "output_type": "stream",
     "text": [
      "2 / 1000\n"
     ]
    }
   ],
   "source": [
    "# print(ct_phish, '/', len(os.listdir('/home/l/liny/ruofan/phishpedia/benchmark/Sampled_phish1000/')))\n",
    "print(ct_benign, '/', len(os.listdir('/home/l/liny/ruofan/phishpedia/benchmark/Sample_benign1000/')))"
   ]
  },
  {
   "cell_type": "code",
   "execution_count": null,
   "id": "83a88fb9",
   "metadata": {},
   "outputs": [],
   "source": []
  }
 ],
 "metadata": {
  "kernelspec": {
   "display_name": "Python 3",
   "language": "python",
   "name": "python3"
  },
  "language_info": {
   "codemirror_mode": {
    "name": "ipython",
    "version": 3
   },
   "file_extension": ".py",
   "mimetype": "text/x-python",
   "name": "python",
   "nbconvert_exporter": "python",
   "pygments_lexer": "ipython3",
   "version": "3.7.10"
  },
  "latex_envs": {
   "LaTeX_envs_menu_present": true,
   "autoclose": false,
   "autocomplete": true,
   "bibliofile": "biblio.bib",
   "cite_by": "apalike",
   "current_citInitial": 1,
   "eqLabelWithNumbers": true,
   "eqNumInitial": 1,
   "hotkeys": {
    "equation": "Ctrl-E",
    "itemize": "Ctrl-I"
   },
   "labels_anchors": false,
   "latex_user_defs": false,
   "report_style_numbering": false,
   "user_envs_cfg": false
  },
  "toc": {
   "base_numbering": 1,
   "nav_menu": {},
   "number_sections": true,
   "sideBar": true,
   "skip_h1_title": false,
   "title_cell": "Table of Contents",
   "title_sidebar": "Contents",
   "toc_cell": false,
   "toc_position": {},
   "toc_section_display": true,
   "toc_window_display": false
  },
  "varInspector": {
   "cols": {
    "lenName": 16,
    "lenType": 16,
    "lenVar": 40
   },
   "kernels_config": {
    "python": {
     "delete_cmd_postfix": "",
     "delete_cmd_prefix": "del ",
     "library": "var_list.py",
     "varRefreshCmd": "print(var_dic_list())"
    },
    "r": {
     "delete_cmd_postfix": ") ",
     "delete_cmd_prefix": "rm(",
     "library": "var_list.r",
     "varRefreshCmd": "cat(var_dic_list()) "
    }
   },
   "types_to_exclude": [
    "module",
    "function",
    "builtin_function_or_method",
    "instance",
    "_Feature"
   ],
   "window_display": false
  }
 },
 "nbformat": 4,
 "nbformat_minor": 5
}
